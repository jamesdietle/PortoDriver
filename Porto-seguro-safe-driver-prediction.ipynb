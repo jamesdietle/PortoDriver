{
 "cells": [
  {
   "cell_type": "markdown",
   "metadata": {},
   "source": [
    "# Safe Driver prediction\n",
    "In this competition, you’re challenged to build a model that predicts the probability that a driver will initiate an auto insurance claim in the next year\n",
    "\n",
    "By \n",
    "- James Dietle @jamesdietle\n",
    "- Devan Govender @dgovender\n",
    "\n",
    "Source:\n",
    "https://github.com/jamesdietle/PortoDriver\n",
    "\n",
    "Referances:\n",
    "- Who we are borrowing from Jeremy Howard's Rossman\n",
    "- https://www.kaggle.com/c/porto-seguro-safe-driver-prediction"
   ]
  },
  {
   "cell_type": "markdown",
   "metadata": {},
   "source": [
    "## Next Steps\n",
    "1. Implement predictions on the test set.\n",
    "2. Validate accuracy"
   ]
  },
  {
   "cell_type": "markdown",
   "metadata": {},
   "source": [
    "# 1. Dependencies\n",
    "Things that we need to function or that are just nice\n",
    "    \n",
    "    - import functions \n",
    "    - correct paths and folders\n",
    "    - cell noises"
   ]
  },
  {
   "cell_type": "code",
   "execution_count": 1,
   "metadata": {},
   "outputs": [],
   "source": [
    "# Put these at the top of every notebook, to get automatic reloading and inline plotting\n",
    "%reload_ext autoreload\n",
    "%autoreload 2\n",
    "%matplotlib inline"
   ]
  },
  {
   "cell_type": "code",
   "execution_count": 2,
   "metadata": {},
   "outputs": [
    {
     "data": {
      "text/html": [
       "<style>audio{display:none}</style>"
      ],
      "text/plain": [
       "<IPython.core.display.HTML object>"
      ]
     },
     "metadata": {},
     "output_type": "display_data"
    }
   ],
   "source": [
    "# Gives times for each block \n",
    "get_ipython().magic('load_ext cellevents')\n",
    "\n",
    "# Set up paths on computer\n",
    "path = '/home/jd/data/PortoDriver/'\n",
    "\n",
    "## Import up sound alert dependencies; I really like sounds\n",
    "from IPython.display import Audio, display\n",
    "\n",
    "def allDone():\n",
    "    #display(Audio(url='https://sound.peal.io/ps/audios/000/000/537/original/woo_vu_luvub_dub_dub.wav', autoplay=True))\n",
    "    display(Audio(url='http://starmen.net/mother2/soundfx/eb_win.wav', autoplay=True))\n",
    "    \n",
    "def RunningEpochs():\n",
    "    #display(Audio(url='https://sound.peal.io/ps/audios/000/000/537/original/woo_vu_luvub_dub_dub.wav', autoplay=True))\n",
    "    display(Audio(url='http://starmen.net/mother2/soundfx/enterbattle.wav', autoplay=True))"
   ]
  },
  {
   "cell_type": "code",
   "execution_count": 3,
   "metadata": {},
   "outputs": [
    {
     "name": "stdout",
     "output_type": "stream",
     "text": [
      "time: 656 ms\n"
     ]
    }
   ],
   "source": [
    "from fastai.imports import *\n",
    "from fastai.torch_imports import *\n",
    "from fastai.structured import *\n",
    "from fastai.dataset import *\n",
    "from fastai.column_data import *\n",
    "np.set_printoptions(threshold=50, edgeitems=20)\n",
    "\n",
    "from sklearn_pandas import DataFrameMapper\n",
    "from sklearn.preprocessing import LabelEncoder, Imputer, StandardScaler\n",
    "import operator\n"
   ]
  },
  {
   "cell_type": "code",
   "execution_count": 4,
   "metadata": {},
   "outputs": [
    {
     "data": {
      "text/plain": [
       "(<torch.cuda.device at 0x7fe890615a20>, None, 0)"
      ]
     },
     "execution_count": 4,
     "metadata": {},
     "output_type": "execute_result"
    },
    {
     "name": "stdout",
     "output_type": "stream",
     "text": [
      "time: 12.1 ms\n"
     ]
    }
   ],
   "source": [
    "#Running on GPU1\n",
    "torch.cuda.device(0),torch.cuda.set_device(0),torch.cuda.current_device()"
   ]
  },
  {
   "cell_type": "markdown",
   "metadata": {},
   "source": [
    "# 2. Functions\n",
    "Functions being run by the program"
   ]
  },
  {
   "cell_type": "markdown",
   "metadata": {},
   "source": [
    "Might want to go look at this one\n",
    "http://neuroplausible.com/gini"
   ]
  },
  {
   "cell_type": "code",
   "execution_count": 5,
   "metadata": {},
   "outputs": [
    {
     "name": "stdout",
     "output_type": "stream",
     "text": [
      "time: 2.35 ms\n"
     ]
    }
   ],
   "source": [
    "def inv_y(a): return np.exp(a)\n",
    "\n",
    "def exp_rmspe(y_pred, targ):\n",
    "    targ = inv_y(targ)\n",
    "    pct_var = (targ - inv_y(y_pred))/targ\n",
    "    return math.sqrt((pct_var**2).mean())"
   ]
  },
  {
   "cell_type": "code",
   "execution_count": 6,
   "metadata": {},
   "outputs": [
    {
     "name": "stdout",
     "output_type": "stream",
     "text": [
      "time: 7.3 ms\n"
     ]
    }
   ],
   "source": [
    "# Borrowed from \n",
    "# http://www.pythonexample.com/code/gini%20coefficient%20metric/\n",
    "def gini_normalized(y_pred, targ):\n",
    "  return gini(y_pred, targ) / gini(y_pred, y_pred)\n",
    "\n",
    "def gini(actual, pred, cmpcol = 0, sortcol = 1):\n",
    "  assert( len(actual) == len(pred) )\n",
    "  all = np.asarray(np.c_[ actual, pred, np.arange(len(actual)) ], dtype=np.float)\n",
    "  all = all[ np.lexsort((all[:,2], -1*all[:,1])) ]\n",
    "  totalLosses = all[:,0].sum()\n",
    "  giniSum = all[:,0].cumsum().sum() / totalLosses\n",
    "  giniSum -= (len(actual) + 1) / 2.\n",
    "  return giniSum / len(actual)"
   ]
  },
  {
   "cell_type": "code",
   "execution_count": 7,
   "metadata": {},
   "outputs": [
    {
     "name": "stdout",
     "output_type": "stream",
     "text": [
      "time: 2.82 ms\n"
     ]
    }
   ],
   "source": [
    "#\n",
    "from sklearn.metrics import roc_auc_score\n",
    "\n",
    "inv_log = lambda x : np.exp(x)\n",
    "\n",
    "def gini_metric(preds, targs):\n",
    "    preds = inv_log(preds)\n",
    "    auc = roc_auc_score(y_true=targs, y_score=preds)\n",
    "    return 2 * auc - 1"
   ]
  },
  {
   "cell_type": "markdown",
   "metadata": {},
   "source": [
    "# 3. Load in data\n",
    "Loads the data we are working with into the program\n",
    "- Data set provided\n",
    "- Other unique datasets that would help"
   ]
  },
  {
   "cell_type": "markdown",
   "metadata": {},
   "source": [
    "We are training to target"
   ]
  },
  {
   "cell_type": "code",
   "execution_count": 8,
   "metadata": {},
   "outputs": [
    {
     "name": "stdout",
     "output_type": "stream",
     "text": [
      "time: 7.83 s\n"
     ]
    }
   ],
   "source": [
    "samplesub = pd.read_csv(f'{path}sample_submission.csv', low_memory=False)\n",
    "test = pd.read_csv(f'{path}test.csv', low_memory=False)\n",
    "train = pd.read_csv(f'{path}train.csv', low_memory=False)"
   ]
  },
  {
   "cell_type": "code",
   "execution_count": 9,
   "metadata": {},
   "outputs": [
    {
     "name": "stdout",
     "output_type": "stream",
     "text": [
      "time: 955 µs\n"
     ]
    }
   ],
   "source": [
    "# Sample size to speed everything up\n",
    "size = 3000\n",
    "#test = test[:size]\n",
    "#train = train [:size]"
   ]
  },
  {
   "cell_type": "code",
   "execution_count": 10,
   "metadata": {},
   "outputs": [
    {
     "data": {
      "text/html": [
       "<div>\n",
       "<style scoped>\n",
       "    .dataframe tbody tr th:only-of-type {\n",
       "        vertical-align: middle;\n",
       "    }\n",
       "\n",
       "    .dataframe tbody tr th {\n",
       "        vertical-align: top;\n",
       "    }\n",
       "\n",
       "    .dataframe thead th {\n",
       "        text-align: right;\n",
       "    }\n",
       "</style>\n",
       "<table border=\"1\" class=\"dataframe\">\n",
       "  <thead>\n",
       "    <tr style=\"text-align: right;\">\n",
       "      <th></th>\n",
       "      <th>id</th>\n",
       "      <th>target</th>\n",
       "    </tr>\n",
       "  </thead>\n",
       "  <tbody>\n",
       "    <tr>\n",
       "      <th>0</th>\n",
       "      <td>0</td>\n",
       "      <td>0.0364</td>\n",
       "    </tr>\n",
       "    <tr>\n",
       "      <th>1</th>\n",
       "      <td>1</td>\n",
       "      <td>0.0364</td>\n",
       "    </tr>\n",
       "    <tr>\n",
       "      <th>2</th>\n",
       "      <td>2</td>\n",
       "      <td>0.0364</td>\n",
       "    </tr>\n",
       "    <tr>\n",
       "      <th>3</th>\n",
       "      <td>3</td>\n",
       "      <td>0.0364</td>\n",
       "    </tr>\n",
       "    <tr>\n",
       "      <th>4</th>\n",
       "      <td>4</td>\n",
       "      <td>0.0364</td>\n",
       "    </tr>\n",
       "  </tbody>\n",
       "</table>\n",
       "</div>"
      ],
      "text/plain": [
       "   id  target\n",
       "0   0  0.0364\n",
       "1   1  0.0364\n",
       "2   2  0.0364\n",
       "3   3  0.0364\n",
       "4   4  0.0364"
      ]
     },
     "execution_count": 10,
     "metadata": {},
     "output_type": "execute_result"
    },
    {
     "name": "stdout",
     "output_type": "stream",
     "text": [
      "time: 6.18 ms\n"
     ]
    }
   ],
   "source": [
    "samplesub[:5]"
   ]
  },
  {
   "cell_type": "code",
   "execution_count": 11,
   "metadata": {},
   "outputs": [
    {
     "data": {
      "text/plain": [
       "Index(['id', 'ps_ind_01', 'ps_ind_02_cat', 'ps_ind_03', 'ps_ind_04_cat',\n",
       "       'ps_ind_05_cat', 'ps_ind_06_bin', 'ps_ind_07_bin', 'ps_ind_08_bin',\n",
       "       'ps_ind_09_bin', 'ps_ind_10_bin', 'ps_ind_11_bin', 'ps_ind_12_bin',\n",
       "       'ps_ind_13_bin', 'ps_ind_14', 'ps_ind_15', 'ps_ind_16_bin',\n",
       "       'ps_ind_17_bin', 'ps_ind_18_bin', 'ps_reg_01', 'ps_reg_02', 'ps_reg_03',\n",
       "       'ps_car_01_cat', 'ps_car_02_cat', 'ps_car_03_cat', 'ps_car_04_cat',\n",
       "       'ps_car_05_cat', 'ps_car_06_cat', 'ps_car_07_cat', 'ps_car_08_cat',\n",
       "       'ps_car_09_cat', 'ps_car_10_cat', 'ps_car_11_cat', 'ps_car_11',\n",
       "       'ps_car_12', 'ps_car_13', 'ps_car_14', 'ps_car_15', 'ps_calc_01',\n",
       "       'ps_calc_02', 'ps_calc_03', 'ps_calc_04', 'ps_calc_05', 'ps_calc_06',\n",
       "       'ps_calc_07', 'ps_calc_08', 'ps_calc_09', 'ps_calc_10', 'ps_calc_11',\n",
       "       'ps_calc_12', 'ps_calc_13', 'ps_calc_14', 'ps_calc_15_bin',\n",
       "       'ps_calc_16_bin', 'ps_calc_17_bin', 'ps_calc_18_bin', 'ps_calc_19_bin',\n",
       "       'ps_calc_20_bin'],\n",
       "      dtype='object')"
      ]
     },
     "execution_count": 11,
     "metadata": {},
     "output_type": "execute_result"
    },
    {
     "name": "stdout",
     "output_type": "stream",
     "text": [
      "time: 2.44 ms\n"
     ]
    }
   ],
   "source": [
    "test[:5].columns"
   ]
  },
  {
   "cell_type": "markdown",
   "metadata": {},
   "source": [
    "# 4. Manipulate Data\n",
    "Prepares the data for training, determines features\n",
    "- Cuts into sets\n",
    "- Determines features\n",
    "- Augments data\n",
    "\t1. More data\n",
    "\t2. Data augmentation\n",
    "\t3. Generalize wel with architectures\n",
    "\t4. Add regularization\n",
    "    5. Reduce architecture complexity"
   ]
  },
  {
   "cell_type": "markdown",
   "metadata": {},
   "source": [
    "# 5. Prepare Model\n",
    "Sets up the model\n",
    "    - choose optimizer\n",
    "    - choose format\n",
    "    - choose loss function"
   ]
  },
  {
   "cell_type": "markdown",
   "metadata": {},
   "source": [
    "In the train and test data, features that belong to similar groupings are tagged as such in the feature names (e.g., ind, reg, car, calc). In addition, feature names include the postfix bin to indicate binary features and cat to indicate categorical features. Features without these designations are either continuous or ordinal. Values of -1 indicate that the feature was missing from the observation. The target columns signifies whether or not a claim was filed for that policy holder."
   ]
  },
  {
   "cell_type": "code",
   "execution_count": 12,
   "metadata": {},
   "outputs": [
    {
     "name": "stdout",
     "output_type": "stream",
     "text": [
      "time: 910 µs\n"
     ]
    }
   ],
   "source": [
    "## Move training set over\n",
    "joined = train\n",
    "joined_test = test"
   ]
  },
  {
   "cell_type": "code",
   "execution_count": 13,
   "metadata": {},
   "outputs": [
    {
     "name": "stdout",
     "output_type": "stream",
     "text": [
      "time: 632 µs\n"
     ]
    }
   ],
   "source": [
    "# Adding the validation set to the training set\n",
    "#joined=joined.append(test)"
   ]
  },
  {
   "cell_type": "code",
   "execution_count": 14,
   "metadata": {},
   "outputs": [
    {
     "name": "stdout",
     "output_type": "stream",
     "text": [
      "time: 927 µs\n"
     ]
    }
   ],
   "source": [
    "## Just changed all of this no idea if it helps\n",
    "## This works, but appears to break later\n",
    "#joined=joined.replace(-1, np.NaN)\n",
    "\n",
    "##\n",
    "#joined=joined.fillna(0)"
   ]
  },
  {
   "cell_type": "code",
   "execution_count": 15,
   "metadata": {},
   "outputs": [
    {
     "name": "stdout",
     "output_type": "stream",
     "text": [
      "time: 61.4 ms\n"
     ]
    }
   ],
   "source": [
    "# Should this be changed?\n",
    "joined.target=joined.target.replace(0, .0001)\n",
    "joined.target=joined.target.replace(1, .9999)\n",
    "joined_test['target']=0"
   ]
  },
  {
   "cell_type": "code",
   "execution_count": 16,
   "metadata": {},
   "outputs": [
    {
     "name": "stdout",
     "output_type": "stream",
     "text": [
      "time: 1.36 s\n"
     ]
    }
   ],
   "source": [
    "joined.to_feather(f'{path}joined')\n",
    "joined_test.to_feather(f'{path}joined_test')"
   ]
  },
  {
   "cell_type": "markdown",
   "metadata": {},
   "source": [
    "## Create Features"
   ]
  },
  {
   "cell_type": "code",
   "execution_count": 17,
   "metadata": {},
   "outputs": [
    {
     "name": "stdout",
     "output_type": "stream",
     "text": [
      "time: 223 ms\n"
     ]
    }
   ],
   "source": [
    "joined = pd.read_feather(f'{path}joined')\n",
    "joined_test = pd.read_feather(f'{path}joined_test')"
   ]
  },
  {
   "cell_type": "code",
   "execution_count": 18,
   "metadata": {},
   "outputs": [
    {
     "data": {
      "text/plain": [
       "595212"
      ]
     },
     "execution_count": 18,
     "metadata": {},
     "output_type": "execute_result"
    },
    {
     "name": "stdout",
     "output_type": "stream",
     "text": [
      "time: 6.63 ms\n"
     ]
    }
   ],
   "source": [
    "cat_vars = [\n",
    "    #'id', \n",
    "    'ps_ind_02_cat', \n",
    "       'ps_ind_04_cat', 'ps_ind_05_cat','ps_ind_06_bin', 'ps_ind_07_bin',\n",
    "       'ps_ind_08_bin', 'ps_ind_09_bin', 'ps_ind_10_bin', 'ps_ind_11_bin',\n",
    "       'ps_ind_12_bin', 'ps_ind_13_bin', \n",
    "       'ps_ind_16_bin', 'ps_ind_17_bin', 'ps_ind_18_bin', 'ps_car_01_cat', 'ps_car_02_cat',\n",
    "       'ps_car_03_cat', 'ps_car_04_cat', 'ps_car_05_cat', 'ps_car_06_cat',\n",
    "       'ps_car_07_cat', 'ps_car_08_cat', 'ps_car_09_cat', 'ps_car_10_cat',\n",
    "       'ps_car_11_cat',\n",
    "        'ps_calc_15_bin', 'ps_calc_16_bin', 'ps_calc_17_bin', 'ps_calc_18_bin',\n",
    "    'ps_calc_19_bin', 'ps_calc_20_bin'\n",
    "  # ]# Contin variables\n",
    "        'ps_car_11', 'ps_car_12', 'ps_ind_14', 'ps_ind_15','ps_ind_01','ps_ind_03','ps_reg_01',\n",
    "        'ps_reg_02', 'ps_car_15', 'ps_calc_01', 'ps_calc_02', 'ps_calc_03', \n",
    "        'ps_calc_04', 'ps_calc_05', 'ps_calc_06', 'ps_calc_07', 'ps_calc_08', 'ps_calc_09', 'ps_calc_10',\n",
    "        'ps_calc_11', 'ps_calc_12', 'ps_calc_13', 'ps_calc_14']\n",
    "\n",
    "#contin_vars = ['ps_car_11', 'ps_car_12', 'ps_car_13','ps_ind_14', 'ps_ind_15','ps_ind_01','ps_ind_03','ps_reg_01','ps_reg_02', 'ps_reg_03', 'ps_car_14',\n",
    "#       'ps_car_15', 'ps_calc_01', 'ps_calc_02', 'ps_calc_03', 'ps_calc_04',\n",
    "#       'ps_calc_05', 'ps_calc_06', 'ps_calc_07', 'ps_calc_08', 'ps_calc_09',\n",
    " #      'ps_calc_10', 'ps_calc_11', 'ps_calc_12', 'ps_calc_13', 'ps_calc_14']\n",
    "\n",
    "contin_vars = ['ps_reg_03', 'ps_car_13', 'ps_car_14']\n",
    "\n",
    "n = len(joined); n"
   ]
  },
  {
   "cell_type": "code",
   "execution_count": 19,
   "metadata": {},
   "outputs": [
    {
     "data": {
      "text/plain": [
       "list"
      ]
     },
     "execution_count": 19,
     "metadata": {},
     "output_type": "execute_result"
    },
    {
     "name": "stdout",
     "output_type": "stream",
     "text": [
      "time: 1.73 ms\n"
     ]
    }
   ],
   "source": [
    "type(cat_vars)"
   ]
  },
  {
   "cell_type": "code",
   "execution_count": 20,
   "metadata": {},
   "outputs": [
    {
     "name": "stdout",
     "output_type": "stream",
     "text": [
      "time: 996 µs\n"
     ]
    }
   ],
   "source": [
    "samp_size = n\n",
    "joined_samp = joined\n",
    "joined_samp_test = joined_test"
   ]
  },
  {
   "cell_type": "code",
   "execution_count": 21,
   "metadata": {},
   "outputs": [
    {
     "name": "stdout",
     "output_type": "stream",
     "text": [
      "time: 3.52 s\n"
     ]
    }
   ],
   "source": [
    "for v in cat_vars: \n",
    "    joined[v] = joined[v].astype('category').cat.as_ordered()\n",
    "    joined_test[v] = joined_test[v].astype('category').cat.as_ordered()\n",
    "for v in contin_vars: \n",
    "    joined[v] = joined[v].astype('float32')\n",
    "    joined_test[v] = joined_test[v].astype('float32')\n",
    "dep = 'target'\n",
    "\n",
    "joined = joined[cat_vars+contin_vars+[dep,'id']]\n",
    "joined_test = joined_test[cat_vars+contin_vars+[dep,'id']]"
   ]
  },
  {
   "cell_type": "code",
   "execution_count": 22,
   "metadata": {},
   "outputs": [
    {
     "name": "stdout",
     "output_type": "stream",
     "text": [
      "time: 44.9 ms\n"
     ]
    }
   ],
   "source": [
    "joined_samp = joined.set_index('id')\n",
    "joined_samp_test = joined_test.set_index('id')\n",
    "#??joined.set_index"
   ]
  },
  {
   "cell_type": "code",
   "execution_count": 23,
   "metadata": {},
   "outputs": [
    {
     "name": "stdout",
     "output_type": "stream",
     "text": [
      "time: 3.66 s\n"
     ]
    }
   ],
   "source": [
    "df, y, nas, mapper = proc_df(joined_samp, 'target', do_scale=True)\n",
    "yl = y"
   ]
  },
  {
   "cell_type": "code",
   "execution_count": 24,
   "metadata": {},
   "outputs": [
    {
     "name": "stdout",
     "output_type": "stream",
     "text": [
      "time: 5.41 s\n"
     ]
    }
   ],
   "source": [
    "df_test, _, nas, mapper = proc_df(joined_samp_test, 'target', do_scale=True, #skip_flds=['id'],\n",
    "                                  mapper=mapper, na_dict=nas)"
   ]
  },
  {
   "cell_type": "code",
   "execution_count": 25,
   "metadata": {},
   "outputs": [
    {
     "data": {
      "text/plain": [
       "{}"
      ]
     },
     "execution_count": 25,
     "metadata": {},
     "output_type": "execute_result"
    },
    {
     "name": "stdout",
     "output_type": "stream",
     "text": [
      "time: 1.9 ms\n"
     ]
    }
   ],
   "source": [
    "nas"
   ]
  },
  {
   "cell_type": "code",
   "execution_count": 26,
   "metadata": {},
   "outputs": [
    {
     "data": {
      "text/plain": [
       "DataFrameMapper(default=False, df_out=False,\n",
       "        features=[(['ps_car_11'], StandardScaler(copy=True, with_mean=True, with_std=True)), (['ps_car_12'], StandardScaler(copy=True, with_mean=True, with_std=True)), (['ps_car_13'], StandardScaler(copy=True, with_mean=True, with_std=True)), (['ps_ind_14'], StandardScaler(copy=True, with_mean=True, with_st...n=True, with_std=True)), (['ps_calc_14'], StandardScaler(copy=True, with_mean=True, with_std=True))],\n",
       "        input_df=False, sparse=False)"
      ]
     },
     "execution_count": 26,
     "metadata": {},
     "output_type": "execute_result"
    },
    {
     "name": "stdout",
     "output_type": "stream",
     "text": [
      "time: 3.16 ms\n"
     ]
    }
   ],
   "source": [
    "mapper"
   ]
  },
  {
   "cell_type": "code",
   "execution_count": 27,
   "metadata": {},
   "outputs": [
    {
     "data": {
      "text/plain": [
       "595212"
      ]
     },
     "execution_count": 27,
     "metadata": {},
     "output_type": "execute_result"
    },
    {
     "name": "stdout",
     "output_type": "stream",
     "text": [
      "time: 1.87 ms\n"
     ]
    }
   ],
   "source": [
    "len(joined)"
   ]
  },
  {
   "cell_type": "code",
   "execution_count": 28,
   "metadata": {},
   "outputs": [
    {
     "data": {
      "text/plain": [
       "125"
      ]
     },
     "execution_count": 28,
     "metadata": {},
     "output_type": "execute_result"
    },
    {
     "name": "stdout",
     "output_type": "stream",
     "text": [
      "time: 1.86 ms\n"
     ]
    }
   ],
   "source": [
    "df.index[50]"
   ]
  },
  {
   "cell_type": "code",
   "execution_count": 29,
   "metadata": {},
   "outputs": [
    {
     "data": {
      "text/plain": [
       "(595212, 178563)"
      ]
     },
     "execution_count": 29,
     "metadata": {},
     "output_type": "execute_result"
    },
    {
     "name": "stdout",
     "output_type": "stream",
     "text": [
      "time: 168 ms\n"
     ]
    }
   ],
   "source": [
    "# makes a 30% validation size\n",
    "val_idx_list=train['id'].tolist()\n",
    "len(val_idx_list)\n",
    "val_idx = random.sample(val_idx_list, int(len(val_idx_list)*.3))\n",
    "len(val_idx_list), len(val_idx)"
   ]
  },
  {
   "cell_type": "code",
   "execution_count": 30,
   "metadata": {},
   "outputs": [
    {
     "name": "stdout",
     "output_type": "stream",
     "text": [
      "time: 80.8 ms\n"
     ]
    }
   ],
   "source": [
    "val_idx.sort()"
   ]
  },
  {
   "cell_type": "code",
   "execution_count": 31,
   "metadata": {},
   "outputs": [
    {
     "data": {
      "text/plain": [
       "(178563, 178563)"
      ]
     },
     "execution_count": 31,
     "metadata": {},
     "output_type": "execute_result"
    },
    {
     "name": "stdout",
     "output_type": "stream",
     "text": [
      "time: 82.7 ms\n"
     ]
    }
   ],
   "source": [
    "## Get the index for something inside the list\n",
    "val_target=train.target[train['id'].isin(val_idx)].tolist()\n",
    "val_idx=train.index[train['id'].isin(val_idx)].tolist()\n",
    "len(val_idx), len(val_target)"
   ]
  },
  {
   "cell_type": "markdown",
   "metadata": {},
   "source": [
    "# 6. Runs the training\n",
    "Run it the training! Save the weights! \n",
    "- Make the predictions\n"
   ]
  },
  {
   "cell_type": "code",
   "execution_count": 32,
   "metadata": {},
   "outputs": [
    {
     "name": "stdout",
     "output_type": "stream",
     "text": [
      "time: 934 ms\n"
     ]
    }
   ],
   "source": [
    "md = ColumnarModelData.from_data_frame(path, val_idx, df, yl, cat_flds=cat_vars, bs=512, \n",
    "                                       test_df=df_test)"
   ]
  },
  {
   "cell_type": "code",
   "execution_count": 33,
   "metadata": {},
   "outputs": [
    {
     "name": "stdout",
     "output_type": "stream",
     "text": [
      "time: 2.37 ms\n"
     ]
    }
   ],
   "source": [
    "max_log_y = np.max(yl)\n",
    "\n",
    "# 1.2 doesn't make sense\n",
    "#y_range = (0, max_log_y*1.2)\n",
    "#y_range = (0, max_log_y*1)\n",
    "y_range = (0, 1)"
   ]
  },
  {
   "cell_type": "code",
   "execution_count": 34,
   "metadata": {},
   "outputs": [
    {
     "data": {
      "text/plain": [
       "(0.99990000000000001, (0, 1))"
      ]
     },
     "execution_count": 34,
     "metadata": {},
     "output_type": "execute_result"
    },
    {
     "name": "stdout",
     "output_type": "stream",
     "text": [
      "time: 1.85 ms\n"
     ]
    }
   ],
   "source": [
    "max_log_y,y_range"
   ]
  },
  {
   "cell_type": "code",
   "execution_count": 35,
   "metadata": {},
   "outputs": [
    {
     "name": "stdout",
     "output_type": "stream",
     "text": [
      "time: 3.34 ms\n"
     ]
    }
   ],
   "source": [
    "#cat_sz = {c: len(joined_samp[c].cat.categories)+1 for c in cat_vars}\n",
    "cat_sz = {c: len(joined[c].cat.categories)+1 for c in cat_vars}\n",
    "emb_szs = [(c, min(50, (c+1)//2)) for _,c in cat_sz.items()]"
   ]
  },
  {
   "cell_type": "code",
   "execution_count": 36,
   "metadata": {},
   "outputs": [
    {
     "name": "stdout",
     "output_type": "stream",
     "text": [
      "time: 2min 13s\n"
     ]
    },
    {
     "data": {
      "text/html": [
       "\n",
       "                <audio controls=\"controls\" autoplay=\"autoplay\">\n",
       "                    <source src=\"data:audio/wav;base64,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\" type=\"audio/wav\" />\n",
       "                    Your browser does not support the audio element.\n",
       "                </audio>\n",
       "              "
      ],
      "text/plain": [
       "<IPython.lib.display.Audio object>"
      ]
     },
     "metadata": {},
     "output_type": "display_data"
    },
    {
     "data": {
      "text/html": [
       "<style>audio{display:none}</style>"
      ],
      "text/plain": [
       "<IPython.core.display.HTML object>"
      ]
     },
     "metadata": {},
     "output_type": "display_data"
    }
   ],
   "source": [
    "m = md.get_learner(emb_szs, len(df.columns)-len(cat_vars),\n",
    "                   0.04, 1, [1000,500], [0.01,0.1], y_range=y_range)\n",
    "                    #0.04, 1, [1000,500], [0.001,0.01], y_range=y_range)\n",
    "lr = 1e-3"
   ]
  },
  {
   "cell_type": "code",
   "execution_count": 37,
   "metadata": {},
   "outputs": [
    {
     "data": {
      "text/html": [
       "\n",
       "                <audio controls=\"controls\" autoplay=\"autoplay\">\n",
       "                    <source src=\"http://starmen.net/mother2/soundfx/enterbattle.wav\" type=\"audio/x-wav\" />\n",
       "                    Your browser does not support the audio element.\n",
       "                </audio>\n",
       "              "
      ],
      "text/plain": [
       "<IPython.lib.display.Audio object>"
      ]
     },
     "metadata": {},
     "output_type": "display_data"
    },
    {
     "name": "stdout",
     "output_type": "stream",
     "text": [
      "time: 3.39 ms\n"
     ]
    }
   ],
   "source": [
    "RunningEpochs()"
   ]
  },
  {
   "cell_type": "code",
   "execution_count": 38,
   "metadata": {},
   "outputs": [
    {
     "data": {
      "application/vnd.jupyter.widget-view+json": {
       "model_id": "6fb46757993845f6a8cf4a30ed8e416e",
       "version_major": 2,
       "version_minor": 0
      },
      "text/html": [
       "<p>Failed to display Jupyter Widget of type <code>HBox</code>.</p>\n",
       "<p>\n",
       "  If you're reading this message in the Jupyter Notebook or JupyterLab Notebook, it may mean\n",
       "  that the widgets JavaScript is still loading. If this message persists, it\n",
       "  likely means that the widgets JavaScript library is either not installed or\n",
       "  not enabled. See the <a href=\"https://ipywidgets.readthedocs.io/en/stable/user_install.html\">Jupyter\n",
       "  Widgets Documentation</a> for setup instructions.\n",
       "</p>\n",
       "<p>\n",
       "  If you're reading this message in another frontend (for example, a static\n",
       "  rendering on GitHub or <a href=\"https://nbviewer.jupyter.org/\">NBViewer</a>),\n",
       "  it may mean that your frontend doesn't currently support widgets.\n",
       "</p>\n"
      ],
      "text/plain": [
       "HBox(children=(IntProgress(value=0, description='Epoch', max=1), HTML(value='')))"
      ]
     },
     "metadata": {},
     "output_type": "display_data"
    },
    {
     "name": "stdout",
     "output_type": "stream",
     "text": [
      "[ 0.       0.03764  0.03598]                                  \n",
      "\n",
      "time: 10 s\n"
     ]
    }
   ],
   "source": [
    "m.lr_find()"
   ]
  },
  {
   "cell_type": "code",
   "execution_count": null,
   "metadata": {},
   "outputs": [
    {
     "data": {
      "image/png": "[encoded data removed]",
      "text/plain": [
       "<matplotlib.figure.Figure at 0x7fe83b371390>"
      ]
     },
     "metadata": {},
     "output_type": "display_data"
    },
    {
     "name": "stdout",
     "output_type": "stream",
     "text": [
      "time: 329 ms\n"
     ]
    }
   ],
   "source": [
    "m.sched.plot(100)"
   ]
  },
  {
   "cell_type": "code",
   "execution_count": null,
   "metadata": {},
   "outputs": [
    {
     "data": {
      "application/vnd.jupyter.widget-view+json": {
       "model_id": "de7c7fefb80a43b0aad9490614e32e0a",
       "version_major": 2,
       "version_minor": 0
      },
      "text/html": [
       "<p>Failed to display Jupyter Widget of type <code>HBox</code>.</p>\n",
       "<p>\n",
       "  If you're reading this message in the Jupyter Notebook or JupyterLab Notebook, it may mean\n",
       "  that the widgets JavaScript is still loading. If this message persists, it\n",
       "  likely means that the widgets JavaScript library is either not installed or\n",
       "  not enabled. See the <a href=\"https://ipywidgets.readthedocs.io/en/stable/user_install.html\">Jupyter\n",
       "  Widgets Documentation</a> for setup instructions.\n",
       "</p>\n",
       "<p>\n",
       "  If you're reading this message in another frontend (for example, a static\n",
       "  rendering on GitHub or <a href=\"https://nbviewer.jupyter.org/\">NBViewer</a>),\n",
       "  it may mean that your frontend doesn't currently support widgets.\n",
       "</p>\n"
      ],
      "text/plain": [
       "HBox(children=(IntProgress(value=0, description='Epoch', max=12), HTML(value='')))"
      ]
     },
     "metadata": {},
     "output_type": "display_data"
    },
    {
     "name": "stdout",
     "output_type": "stream",
     "text": [
      "[ 0.       0.03643  0.03597  0.00948]                         \n",
      "  4%|▍         | 32/814 [00:01<00:28, 27.15it/s, loss=0.0375]"
     ]
    }
   ],
   "source": [
    "m.fit(lr, 4, metrics=[gini_normalized], cycle_len=3)"
   ]
  },
  {
   "cell_type": "code",
   "execution_count": null,
   "metadata": {},
   "outputs": [],
   "source": [
    "m.lr_find()"
   ]
  },
  {
   "cell_type": "code",
   "execution_count": null,
   "metadata": {},
   "outputs": [],
   "source": [
    "m.sched.plot(100)"
   ]
  },
  {
   "cell_type": "code",
   "execution_count": null,
   "metadata": {},
   "outputs": [],
   "source": [
    "allDone()"
   ]
  },
  {
   "cell_type": "code",
   "execution_count": null,
   "metadata": {},
   "outputs": [],
   "source": [
    "lr=1e-3"
   ]
  },
  {
   "cell_type": "code",
   "execution_count": null,
   "metadata": {},
   "outputs": [],
   "source": [
    "m.fit(lr, 4, metrics=[gini_normalized], cycle_len=3, cycle_mult=2)"
   ]
  },
  {
   "cell_type": "markdown",
   "metadata": {},
   "source": [
    "## Predictions"
   ]
  },
  {
   "cell_type": "code",
   "execution_count": null,
   "metadata": {},
   "outputs": [],
   "source": [
    "m.save('val0')"
   ]
  },
  {
   "cell_type": "code",
   "execution_count": null,
   "metadata": {},
   "outputs": [],
   "source": [
    "m.load('val0')"
   ]
  },
  {
   "cell_type": "code",
   "execution_count": null,
   "metadata": {},
   "outputs": [],
   "source": [
    "x,y=m.predict_with_targs()"
   ]
  },
  {
   "cell_type": "code",
   "execution_count": null,
   "metadata": {},
   "outputs": [],
   "source": [
    "print(x)\n",
    "print(y)"
   ]
  },
  {
   "cell_type": "code",
   "execution_count": null,
   "metadata": {},
   "outputs": [],
   "source": [
    "exp_rmspe(x,y)"
   ]
  },
  {
   "cell_type": "code",
   "execution_count": null,
   "metadata": {},
   "outputs": [],
   "source": [
    "pred_test=m.predict(True)"
   ]
  },
  {
   "cell_type": "code",
   "execution_count": null,
   "metadata": {},
   "outputs": [],
   "source": [
    "joined_test['pred_target']=pred_test"
   ]
  },
  {
   "cell_type": "code",
   "execution_count": null,
   "metadata": {},
   "outputs": [],
   "source": [
    "predictions=m.predict()"
   ]
  },
  {
   "cell_type": "markdown",
   "metadata": {},
   "source": [
    "# 7. Analyze Results\n",
    "Are they what are expected? \n",
    "- Graph the results\n",
    "- What are the most important features\n",
    "- What do tough predictions look like? Easy predictions?"
   ]
  },
  {
   "cell_type": "code",
   "execution_count": null,
   "metadata": {},
   "outputs": [],
   "source": [
    "check=joined_test[['id', 'target','pred_target']]\n",
    "check[5:10]"
   ]
  },
  {
   "cell_type": "code",
   "execution_count": null,
   "metadata": {},
   "outputs": [],
   "source": [
    "predictions.max(), predictions.min()"
   ]
  },
  {
   "cell_type": "code",
   "execution_count": null,
   "metadata": {},
   "outputs": [],
   "source": [
    "predictions[:5]"
   ]
  },
  {
   "cell_type": "code",
   "execution_count": null,
   "metadata": {},
   "outputs": [],
   "source": [
    "# Clips them down to something more reasonable\n",
    "predictions[predictions > .999] = .999\n",
    "predictions[predictions < .0001] = .0001"
   ]
  },
  {
   "cell_type": "code",
   "execution_count": null,
   "metadata": {},
   "outputs": [],
   "source": [
    "allDone()"
   ]
  },
  {
   "cell_type": "code",
   "execution_count": null,
   "metadata": {},
   "outputs": [],
   "source": [
    "predictions=predictions.tolist()"
   ]
  },
  {
   "cell_type": "code",
   "execution_count": null,
   "metadata": {},
   "outputs": [],
   "source": [
    "predictions = [item[0] for item in predictions]"
   ]
  },
  {
   "cell_type": "code",
   "execution_count": null,
   "metadata": {},
   "outputs": [],
   "source": [
    "# If nothing changes these should all be the same number\n",
    "len(val_idx), len(predictions), len(val_target)"
   ]
  },
  {
   "cell_type": "code",
   "execution_count": null,
   "metadata": {},
   "outputs": [],
   "source": [
    "## Validation set predicted target... I see I am very far off.\n",
    "submission = pd.DataFrame({'id': val_idx, 'pred_target': predictions, 'target': val_target})"
   ]
  },
  {
   "cell_type": "code",
   "execution_count": null,
   "metadata": {},
   "outputs": [],
   "source": [
    "# Grab 5 largest\n",
    "submission.nlargest(5, 'pred_target')"
   ]
  },
  {
   "cell_type": "code",
   "execution_count": null,
   "metadata": {},
   "outputs": [],
   "source": [
    "#Grab the 5 smallest \n",
    "submission.nsmallest(5, 'pred_target')"
   ]
  },
  {
   "cell_type": "code",
   "execution_count": null,
   "metadata": {},
   "outputs": [],
   "source": [
    "## Looks at the ones equal to target 1; These should be high\n",
    "submission.loc[submission['target'] == .9999][:5]"
   ]
  },
  {
   "cell_type": "code",
   "execution_count": null,
   "metadata": {},
   "outputs": [],
   "source": [
    "## Looks at the ones equal to target 0; These should be low\n",
    "submission.loc[submission['target'] == 0.0001][:5]"
   ]
  },
  {
   "cell_type": "markdown",
   "metadata": {},
   "source": [
    "# 8. Submit!\n",
    "- Get it put into a submitable template\n",
    "- Save results"
   ]
  },
  {
   "cell_type": "code",
   "execution_count": null,
   "metadata": {},
   "outputs": [],
   "source": [
    "## Sets up the \n",
    "submission = pd.DataFrame({'id': joined_test.id, 'target': joined_test.pred_target})\n",
    "# Shows 5 to ensure formatting is correct\n",
    "submission[:10]"
   ]
  },
  {
   "cell_type": "code",
   "execution_count": null,
   "metadata": {},
   "outputs": [],
   "source": [
    "# Makes the submission name out of folders\n",
    "path2 = path +'submits/'\n",
    "## labels submissions in order\n",
    "numFiles=len(os.listdir(path2))\n",
    "subm_name = 'submission'+str(numFiles)+'.csv.gz'"
   ]
  },
  {
   "cell_type": "code",
   "execution_count": null,
   "metadata": {},
   "outputs": [],
   "source": [
    "## prints it out to downloaded\n",
    "submission.to_csv((path2+subm_name), index=False, compression='gzip')\n",
    "print ('http://localhost:8888/view/data/PortoDriver/submits/'+subm_name)"
   ]
  },
  {
   "cell_type": "code",
   "execution_count": null,
   "metadata": {},
   "outputs": [],
   "source": []
  }
 ],
 "metadata": {
  "kernelspec": {
   "display_name": "Python 3",
   "language": "python",
   "name": "python3"
  },
  "language_info": {
   "codemirror_mode": {
    "name": "ipython",
    "version": 3
   },
   "file_extension": ".py",
   "mimetype": "text/x-python",
   "name": "python",
   "nbconvert_exporter": "python",
   "pygments_lexer": "ipython3",
   "version": "3.6.3"
  }
 },
 "nbformat": 4,
 "nbformat_minor": 2
}
