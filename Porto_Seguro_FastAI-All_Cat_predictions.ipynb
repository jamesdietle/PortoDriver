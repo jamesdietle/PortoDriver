{
 "cells": [
  {
   "cell_type": "markdown",
   "metadata": {},
   "source": [
    "In this implementation:\n",
    "- Missing values are treated as a separate category i.e. we do not replace missing values with NaN.\n",
    "- Use 99:1 train to validation set ratio.\n",
    "- Change for Demo\n"
   ]
  },
  {
   "cell_type": "code",
   "execution_count": 1,
   "metadata": {
    "ExecuteTime": {
     "end_time": "2017-11-28T23:59:56.233453Z",
     "start_time": "2017-11-28T23:59:56.081052Z"
    }
   },
   "outputs": [],
   "source": [
    "%matplotlib inline\n",
    "%reload_ext autoreload\n",
    "%autoreload 2"
   ]
  },
  {
   "cell_type": "code",
   "execution_count": 2,
   "metadata": {
    "ExecuteTime": {
     "end_time": "2017-11-28T23:59:56.869431Z",
     "start_time": "2017-11-28T23:59:56.234553Z"
    }
   },
   "outputs": [],
   "source": [
    "from fastai.structured import *\n",
    "from fastai.column_data import *"
   ]
  },
  {
   "cell_type": "code",
   "execution_count": 3,
   "metadata": {
    "ExecuteTime": {
     "end_time": "2017-11-28T23:59:56.882690Z",
     "start_time": "2017-11-28T23:59:56.870673Z"
    }
   },
   "outputs": [],
   "source": [
    "# Set printing options. \n",
    "# These options determine the way floating point numbers, arrays and\n",
    "# other NumPy objects are displayed.\n",
    "np.set_printoptions(threshold=50, edgeitems=20)"
   ]
  },
  {
   "cell_type": "markdown",
   "metadata": {},
   "source": [
    "### Set data path"
   ]
  },
  {
   "cell_type": "code",
   "execution_count": 4,
   "metadata": {
    "ExecuteTime": {
     "end_time": "2017-11-28T23:59:56.895410Z",
     "start_time": "2017-11-28T23:59:56.883822Z"
    }
   },
   "outputs": [],
   "source": [
    "#PATH = 'data/porto-seguro/'\n",
    "PATH = '/home/jd/data/PortoDriver/'"
   ]
  },
  {
   "cell_type": "markdown",
   "metadata": {},
   "source": [
    "### Read csv data into dataframe"
   ]
  },
  {
   "cell_type": "code",
   "execution_count": 5,
   "metadata": {
    "ExecuteTime": {
     "end_time": "2017-11-29T00:00:02.426337Z",
     "start_time": "2017-11-28T23:59:56.896535Z"
    }
   },
   "outputs": [],
   "source": [
    "train_data_df = pd.read_csv(f'{PATH}train.csv')\n",
    "test_data_df = pd.read_csv(f'{PATH}test.csv')\n",
    "\n",
    "# I need differant Path\n",
    "#train_data_df = pd.read_csv(f'{PATH}train/train.csv')\n",
    "#test_data_df = pd.read_csv(f'{PATH}test/test.csv')"
   ]
  },
  {
   "cell_type": "code",
   "execution_count": 6,
   "metadata": {
    "ExecuteTime": {
     "end_time": "2017-11-29T00:00:02.440693Z",
     "start_time": "2017-11-29T00:00:02.427472Z"
    }
   },
   "outputs": [],
   "source": [
    "# test_data need target\n",
    "test_data_df['target']=0"
   ]
  },
  {
   "cell_type": "markdown",
   "metadata": {},
   "source": [
    "### List of column names"
   ]
  },
  {
   "cell_type": "code",
   "execution_count": 7,
   "metadata": {
    "ExecuteTime": {
     "end_time": "2017-11-29T00:00:02.453920Z",
     "start_time": "2017-11-29T00:00:02.441831Z"
    }
   },
   "outputs": [],
   "source": [
    "all_var = [var for var in train_data_df.columns]"
   ]
  },
  {
   "cell_type": "code",
   "execution_count": 8,
   "metadata": {
    "ExecuteTime": {
     "end_time": "2017-11-29T00:00:02.468895Z",
     "start_time": "2017-11-29T00:00:02.454927Z"
    }
   },
   "outputs": [
    {
     "data": {
      "text/plain": [
       "['id',\n",
       " 'target',\n",
       " 'ps_ind_01',\n",
       " 'ps_ind_02_cat',\n",
       " 'ps_ind_03',\n",
       " 'ps_ind_04_cat',\n",
       " 'ps_ind_05_cat',\n",
       " 'ps_ind_06_bin',\n",
       " 'ps_ind_07_bin',\n",
       " 'ps_ind_08_bin',\n",
       " 'ps_ind_09_bin',\n",
       " 'ps_ind_10_bin',\n",
       " 'ps_ind_11_bin',\n",
       " 'ps_ind_12_bin',\n",
       " 'ps_ind_13_bin',\n",
       " 'ps_ind_14',\n",
       " 'ps_ind_15',\n",
       " 'ps_ind_16_bin',\n",
       " 'ps_ind_17_bin',\n",
       " 'ps_ind_18_bin',\n",
       " 'ps_reg_01',\n",
       " 'ps_reg_02',\n",
       " 'ps_reg_03',\n",
       " 'ps_car_01_cat',\n",
       " 'ps_car_02_cat',\n",
       " 'ps_car_03_cat',\n",
       " 'ps_car_04_cat',\n",
       " 'ps_car_05_cat',\n",
       " 'ps_car_06_cat',\n",
       " 'ps_car_07_cat',\n",
       " 'ps_car_08_cat',\n",
       " 'ps_car_09_cat',\n",
       " 'ps_car_10_cat',\n",
       " 'ps_car_11_cat',\n",
       " 'ps_car_11',\n",
       " 'ps_car_12',\n",
       " 'ps_car_13',\n",
       " 'ps_car_14',\n",
       " 'ps_car_15',\n",
       " 'ps_calc_01',\n",
       " 'ps_calc_02',\n",
       " 'ps_calc_03',\n",
       " 'ps_calc_04',\n",
       " 'ps_calc_05',\n",
       " 'ps_calc_06',\n",
       " 'ps_calc_07',\n",
       " 'ps_calc_08',\n",
       " 'ps_calc_09',\n",
       " 'ps_calc_10',\n",
       " 'ps_calc_11',\n",
       " 'ps_calc_12',\n",
       " 'ps_calc_13',\n",
       " 'ps_calc_14',\n",
       " 'ps_calc_15_bin',\n",
       " 'ps_calc_16_bin',\n",
       " 'ps_calc_17_bin',\n",
       " 'ps_calc_18_bin',\n",
       " 'ps_calc_19_bin',\n",
       " 'ps_calc_20_bin']"
      ]
     },
     "execution_count": 8,
     "metadata": {},
     "output_type": "execute_result"
    }
   ],
   "source": [
    "all_var"
   ]
  },
  {
   "cell_type": "markdown",
   "metadata": {},
   "source": [
    "### Create list of categorical and continuous variables"
   ]
  },
  {
   "cell_type": "code",
   "execution_count": 9,
   "metadata": {
    "ExecuteTime": {
     "end_time": "2017-11-29T00:00:02.484346Z",
     "start_time": "2017-11-29T00:00:02.470134Z"
    }
   },
   "outputs": [
    {
     "data": {
      "text/plain": [
       "['ps_ind_02_cat',\n",
       " 'ps_ind_04_cat',\n",
       " 'ps_ind_05_cat',\n",
       " 'ps_car_01_cat',\n",
       " 'ps_car_02_cat',\n",
       " 'ps_car_03_cat',\n",
       " 'ps_car_04_cat',\n",
       " 'ps_car_05_cat',\n",
       " 'ps_car_06_cat',\n",
       " 'ps_car_07_cat',\n",
       " 'ps_car_08_cat',\n",
       " 'ps_car_09_cat',\n",
       " 'ps_car_10_cat',\n",
       " 'ps_car_11_cat',\n",
       " 'ps_ind_06_bin',\n",
       " 'ps_ind_07_bin',\n",
       " 'ps_ind_08_bin',\n",
       " 'ps_ind_09_bin',\n",
       " 'ps_ind_10_bin',\n",
       " 'ps_ind_11_bin',\n",
       " 'ps_ind_12_bin',\n",
       " 'ps_ind_13_bin',\n",
       " 'ps_ind_16_bin',\n",
       " 'ps_ind_17_bin',\n",
       " 'ps_ind_18_bin',\n",
       " 'ps_calc_15_bin',\n",
       " 'ps_calc_16_bin',\n",
       " 'ps_calc_17_bin',\n",
       " 'ps_calc_18_bin',\n",
       " 'ps_calc_19_bin',\n",
       " 'ps_calc_20_bin']"
      ]
     },
     "execution_count": 9,
     "metadata": {},
     "output_type": "execute_result"
    }
   ],
   "source": [
    "cat_vars = [var for var in train_data_df.columns if var.endswith('cat')]\n",
    "bin_vars = [var for var in train_data_df.columns if var.endswith('bin')]\n",
    "ind_vars = ['ps_ind_01', 'ps_ind_03','ps_ind_14', 'ps_ind_15']\n",
    "cat_vars = cat_vars + bin_vars #+ ind_vars\n",
    "cat_vars"
   ]
  },
  {
   "cell_type": "code",
   "execution_count": 10,
   "metadata": {
    "ExecuteTime": {
     "end_time": "2017-11-29T00:00:02.498158Z",
     "start_time": "2017-11-29T00:00:02.485453Z"
    }
   },
   "outputs": [
    {
     "data": {
      "text/plain": [
       "['id',\n",
       " 'target',\n",
       " 'ps_ind_01',\n",
       " 'ps_ind_03',\n",
       " 'ps_ind_14',\n",
       " 'ps_ind_15',\n",
       " 'ps_reg_01',\n",
       " 'ps_reg_02',\n",
       " 'ps_reg_03',\n",
       " 'ps_car_11',\n",
       " 'ps_car_12',\n",
       " 'ps_car_13',\n",
       " 'ps_car_14',\n",
       " 'ps_car_15',\n",
       " 'ps_calc_01',\n",
       " 'ps_calc_02',\n",
       " 'ps_calc_03',\n",
       " 'ps_calc_04',\n",
       " 'ps_calc_05',\n",
       " 'ps_calc_06',\n",
       " 'ps_calc_07',\n",
       " 'ps_calc_08',\n",
       " 'ps_calc_09',\n",
       " 'ps_calc_10',\n",
       " 'ps_calc_11',\n",
       " 'ps_calc_12',\n",
       " 'ps_calc_13',\n",
       " 'ps_calc_14']"
      ]
     },
     "execution_count": 10,
     "metadata": {},
     "output_type": "execute_result"
    }
   ],
   "source": [
    "cont_vars = [var for var in train_data_df.columns if var not in cat_vars]\n",
    "cont_vars"
   ]
  },
  {
   "cell_type": "code",
   "execution_count": 11,
   "metadata": {
    "ExecuteTime": {
     "end_time": "2017-11-29T00:00:05.047063Z",
     "start_time": "2017-11-29T00:00:02.499291Z"
    }
   },
   "outputs": [],
   "source": [
    "for var in cat_vars: \n",
    "    train_data_df[var] = train_data_df[var].astype('category').cat.as_ordered()\n",
    "    test_data_df[var] = test_data_df[var].astype('category').cat.as_ordered()"
   ]
  },
  {
   "cell_type": "code",
   "execution_count": 12,
   "metadata": {
    "ExecuteTime": {
     "end_time": "2017-11-29T00:00:05.504265Z",
     "start_time": "2017-11-29T00:00:05.048356Z"
    }
   },
   "outputs": [],
   "source": [
    "for var in cont_vars:\n",
    "    train_data_df[var] = train_data_df[var].astype('float32')\n",
    "    test_data_df[var] = test_data_df[var].astype('float32')"
   ]
  },
  {
   "cell_type": "code",
   "execution_count": 13,
   "metadata": {
    "ExecuteTime": {
     "end_time": "2017-11-29T00:00:05.517713Z",
     "start_time": "2017-11-29T00:00:05.505498Z"
    }
   },
   "outputs": [
    {
     "data": {
      "text/plain": [
       "'target'"
      ]
     },
     "execution_count": 13,
     "metadata": {},
     "output_type": "execute_result"
    }
   ],
   "source": [
    "cont_vars[1]"
   ]
  },
  {
   "cell_type": "code",
   "execution_count": 14,
   "metadata": {
    "ExecuteTime": {
     "end_time": "2017-11-29T00:00:05.530210Z",
     "start_time": "2017-11-29T00:00:05.518705Z"
    }
   },
   "outputs": [],
   "source": [
    "del cont_vars[1]"
   ]
  },
  {
   "cell_type": "code",
   "execution_count": 15,
   "metadata": {
    "ExecuteTime": {
     "end_time": "2017-11-29T00:00:05.987021Z",
     "start_time": "2017-11-29T00:00:05.531296Z"
    },
    "scrolled": true
   },
   "outputs": [
    {
     "name": "stdout",
     "output_type": "stream",
     "text": [
      "<class 'pandas.core.frame.DataFrame'>\n",
      "RangeIndex: 595212 entries, 0 to 595211\n",
      "Data columns (total 59 columns):\n",
      "id                595212 non-null float32\n",
      "target            595212 non-null float32\n",
      "ps_ind_01         595212 non-null float32\n",
      "ps_ind_02_cat     595212 non-null category\n",
      "ps_ind_03         595212 non-null float32\n",
      "ps_ind_04_cat     595212 non-null category\n",
      "ps_ind_05_cat     595212 non-null category\n",
      "ps_ind_06_bin     595212 non-null category\n",
      "ps_ind_07_bin     595212 non-null category\n",
      "ps_ind_08_bin     595212 non-null category\n",
      "ps_ind_09_bin     595212 non-null category\n",
      "ps_ind_10_bin     595212 non-null category\n",
      "ps_ind_11_bin     595212 non-null category\n",
      "ps_ind_12_bin     595212 non-null category\n",
      "ps_ind_13_bin     595212 non-null category\n",
      "ps_ind_14         595212 non-null float32\n",
      "ps_ind_15         595212 non-null float32\n",
      "ps_ind_16_bin     595212 non-null category\n",
      "ps_ind_17_bin     595212 non-null category\n",
      "ps_ind_18_bin     595212 non-null category\n",
      "ps_reg_01         595212 non-null float32\n",
      "ps_reg_02         595212 non-null float32\n",
      "ps_reg_03         595212 non-null float32\n",
      "ps_car_01_cat     595212 non-null category\n",
      "ps_car_02_cat     595212 non-null category\n",
      "ps_car_03_cat     595212 non-null category\n",
      "ps_car_04_cat     595212 non-null category\n",
      "ps_car_05_cat     595212 non-null category\n",
      "ps_car_06_cat     595212 non-null category\n",
      "ps_car_07_cat     595212 non-null category\n",
      "ps_car_08_cat     595212 non-null category\n",
      "ps_car_09_cat     595212 non-null category\n",
      "ps_car_10_cat     595212 non-null category\n",
      "ps_car_11_cat     595212 non-null category\n",
      "ps_car_11         595212 non-null float32\n",
      "ps_car_12         595212 non-null float32\n",
      "ps_car_13         595212 non-null float32\n",
      "ps_car_14         595212 non-null float32\n",
      "ps_car_15         595212 non-null float32\n",
      "ps_calc_01        595212 non-null float32\n",
      "ps_calc_02        595212 non-null float32\n",
      "ps_calc_03        595212 non-null float32\n",
      "ps_calc_04        595212 non-null float32\n",
      "ps_calc_05        595212 non-null float32\n",
      "ps_calc_06        595212 non-null float32\n",
      "ps_calc_07        595212 non-null float32\n",
      "ps_calc_08        595212 non-null float32\n",
      "ps_calc_09        595212 non-null float32\n",
      "ps_calc_10        595212 non-null float32\n",
      "ps_calc_11        595212 non-null float32\n",
      "ps_calc_12        595212 non-null float32\n",
      "ps_calc_13        595212 non-null float32\n",
      "ps_calc_14        595212 non-null float32\n",
      "ps_calc_15_bin    595212 non-null category\n",
      "ps_calc_16_bin    595212 non-null category\n",
      "ps_calc_17_bin    595212 non-null category\n",
      "ps_calc_18_bin    595212 non-null category\n",
      "ps_calc_19_bin    595212 non-null category\n",
      "ps_calc_20_bin    595212 non-null category\n",
      "dtypes: category(31), float32(28)\n",
      "memory usage: 81.2 MB\n"
     ]
    }
   ],
   "source": [
    "train_data_df.info()"
   ]
  },
  {
   "cell_type": "markdown",
   "metadata": {},
   "source": [
    "### Display training data sample"
   ]
  },
  {
   "cell_type": "code",
   "execution_count": 16,
   "metadata": {
    "ExecuteTime": {
     "end_time": "2017-11-29T00:00:06.018367Z",
     "start_time": "2017-11-29T00:00:05.988145Z"
    }
   },
   "outputs": [
    {
     "data": {
      "text/html": [
       "<div>\n",
       "<style scoped>\n",
       "    .dataframe tbody tr th:only-of-type {\n",
       "        vertical-align: middle;\n",
       "    }\n",
       "\n",
       "    .dataframe tbody tr th {\n",
       "        vertical-align: top;\n",
       "    }\n",
       "\n",
       "    .dataframe thead th {\n",
       "        text-align: right;\n",
       "    }\n",
       "</style>\n",
       "<table border=\"1\" class=\"dataframe\">\n",
       "  <thead>\n",
       "    <tr style=\"text-align: right;\">\n",
       "      <th></th>\n",
       "      <th>id</th>\n",
       "      <th>target</th>\n",
       "      <th>ps_ind_01</th>\n",
       "      <th>ps_ind_02_cat</th>\n",
       "      <th>ps_ind_03</th>\n",
       "      <th>ps_ind_04_cat</th>\n",
       "      <th>ps_ind_05_cat</th>\n",
       "      <th>ps_ind_06_bin</th>\n",
       "      <th>ps_ind_07_bin</th>\n",
       "      <th>ps_ind_08_bin</th>\n",
       "      <th>...</th>\n",
       "      <th>ps_calc_11</th>\n",
       "      <th>ps_calc_12</th>\n",
       "      <th>ps_calc_13</th>\n",
       "      <th>ps_calc_14</th>\n",
       "      <th>ps_calc_15_bin</th>\n",
       "      <th>ps_calc_16_bin</th>\n",
       "      <th>ps_calc_17_bin</th>\n",
       "      <th>ps_calc_18_bin</th>\n",
       "      <th>ps_calc_19_bin</th>\n",
       "      <th>ps_calc_20_bin</th>\n",
       "    </tr>\n",
       "  </thead>\n",
       "  <tbody>\n",
       "    <tr>\n",
       "      <th>0</th>\n",
       "      <td>7.0</td>\n",
       "      <td>0.0</td>\n",
       "      <td>2.0</td>\n",
       "      <td>2</td>\n",
       "      <td>5.0</td>\n",
       "      <td>1</td>\n",
       "      <td>0</td>\n",
       "      <td>0</td>\n",
       "      <td>1</td>\n",
       "      <td>0</td>\n",
       "      <td>...</td>\n",
       "      <td>9.0</td>\n",
       "      <td>1.0</td>\n",
       "      <td>5.0</td>\n",
       "      <td>8.0</td>\n",
       "      <td>0</td>\n",
       "      <td>1</td>\n",
       "      <td>1</td>\n",
       "      <td>0</td>\n",
       "      <td>0</td>\n",
       "      <td>1</td>\n",
       "    </tr>\n",
       "    <tr>\n",
       "      <th>1</th>\n",
       "      <td>9.0</td>\n",
       "      <td>0.0</td>\n",
       "      <td>1.0</td>\n",
       "      <td>1</td>\n",
       "      <td>7.0</td>\n",
       "      <td>0</td>\n",
       "      <td>0</td>\n",
       "      <td>0</td>\n",
       "      <td>0</td>\n",
       "      <td>1</td>\n",
       "      <td>...</td>\n",
       "      <td>3.0</td>\n",
       "      <td>1.0</td>\n",
       "      <td>1.0</td>\n",
       "      <td>9.0</td>\n",
       "      <td>0</td>\n",
       "      <td>1</td>\n",
       "      <td>1</td>\n",
       "      <td>0</td>\n",
       "      <td>1</td>\n",
       "      <td>0</td>\n",
       "    </tr>\n",
       "    <tr>\n",
       "      <th>2</th>\n",
       "      <td>13.0</td>\n",
       "      <td>0.0</td>\n",
       "      <td>5.0</td>\n",
       "      <td>4</td>\n",
       "      <td>9.0</td>\n",
       "      <td>1</td>\n",
       "      <td>0</td>\n",
       "      <td>0</td>\n",
       "      <td>0</td>\n",
       "      <td>1</td>\n",
       "      <td>...</td>\n",
       "      <td>4.0</td>\n",
       "      <td>2.0</td>\n",
       "      <td>7.0</td>\n",
       "      <td>7.0</td>\n",
       "      <td>0</td>\n",
       "      <td>1</td>\n",
       "      <td>1</td>\n",
       "      <td>0</td>\n",
       "      <td>1</td>\n",
       "      <td>0</td>\n",
       "    </tr>\n",
       "    <tr>\n",
       "      <th>3</th>\n",
       "      <td>16.0</td>\n",
       "      <td>0.0</td>\n",
       "      <td>0.0</td>\n",
       "      <td>1</td>\n",
       "      <td>2.0</td>\n",
       "      <td>0</td>\n",
       "      <td>0</td>\n",
       "      <td>1</td>\n",
       "      <td>0</td>\n",
       "      <td>0</td>\n",
       "      <td>...</td>\n",
       "      <td>2.0</td>\n",
       "      <td>2.0</td>\n",
       "      <td>4.0</td>\n",
       "      <td>9.0</td>\n",
       "      <td>0</td>\n",
       "      <td>0</td>\n",
       "      <td>0</td>\n",
       "      <td>0</td>\n",
       "      <td>0</td>\n",
       "      <td>0</td>\n",
       "    </tr>\n",
       "    <tr>\n",
       "      <th>4</th>\n",
       "      <td>17.0</td>\n",
       "      <td>0.0</td>\n",
       "      <td>0.0</td>\n",
       "      <td>2</td>\n",
       "      <td>0.0</td>\n",
       "      <td>1</td>\n",
       "      <td>0</td>\n",
       "      <td>1</td>\n",
       "      <td>0</td>\n",
       "      <td>0</td>\n",
       "      <td>...</td>\n",
       "      <td>3.0</td>\n",
       "      <td>1.0</td>\n",
       "      <td>1.0</td>\n",
       "      <td>3.0</td>\n",
       "      <td>0</td>\n",
       "      <td>0</td>\n",
       "      <td>0</td>\n",
       "      <td>1</td>\n",
       "      <td>1</td>\n",
       "      <td>0</td>\n",
       "    </tr>\n",
       "  </tbody>\n",
       "</table>\n",
       "<p>5 rows × 59 columns</p>\n",
       "</div>"
      ],
      "text/plain": [
       "     id  target  ps_ind_01 ps_ind_02_cat  ps_ind_03 ps_ind_04_cat  \\\n",
       "0   7.0     0.0        2.0             2        5.0             1   \n",
       "1   9.0     0.0        1.0             1        7.0             0   \n",
       "2  13.0     0.0        5.0             4        9.0             1   \n",
       "3  16.0     0.0        0.0             1        2.0             0   \n",
       "4  17.0     0.0        0.0             2        0.0             1   \n",
       "\n",
       "  ps_ind_05_cat ps_ind_06_bin ps_ind_07_bin ps_ind_08_bin      ...        \\\n",
       "0             0             0             1             0      ...         \n",
       "1             0             0             0             1      ...         \n",
       "2             0             0             0             1      ...         \n",
       "3             0             1             0             0      ...         \n",
       "4             0             1             0             0      ...         \n",
       "\n",
       "  ps_calc_11 ps_calc_12 ps_calc_13 ps_calc_14 ps_calc_15_bin  ps_calc_16_bin  \\\n",
       "0        9.0        1.0        5.0        8.0              0               1   \n",
       "1        3.0        1.0        1.0        9.0              0               1   \n",
       "2        4.0        2.0        7.0        7.0              0               1   \n",
       "3        2.0        2.0        4.0        9.0              0               0   \n",
       "4        3.0        1.0        1.0        3.0              0               0   \n",
       "\n",
       "   ps_calc_17_bin ps_calc_18_bin ps_calc_19_bin ps_calc_20_bin  \n",
       "0               1              0              0              1  \n",
       "1               1              0              1              0  \n",
       "2               1              0              1              0  \n",
       "3               0              0              0              0  \n",
       "4               0              1              1              0  \n",
       "\n",
       "[5 rows x 59 columns]"
      ]
     },
     "execution_count": 16,
     "metadata": {},
     "output_type": "execute_result"
    }
   ],
   "source": [
    "train_data_df.head()"
   ]
  },
  {
   "cell_type": "markdown",
   "metadata": {},
   "source": [
    "### Display test data sample"
   ]
  },
  {
   "cell_type": "code",
   "execution_count": 17,
   "metadata": {
    "ExecuteTime": {
     "end_time": "2017-11-29T00:00:06.049242Z",
     "start_time": "2017-11-29T00:00:06.019397Z"
    }
   },
   "outputs": [
    {
     "data": {
      "text/html": [
       "<div>\n",
       "<style scoped>\n",
       "    .dataframe tbody tr th:only-of-type {\n",
       "        vertical-align: middle;\n",
       "    }\n",
       "\n",
       "    .dataframe tbody tr th {\n",
       "        vertical-align: top;\n",
       "    }\n",
       "\n",
       "    .dataframe thead th {\n",
       "        text-align: right;\n",
       "    }\n",
       "</style>\n",
       "<table border=\"1\" class=\"dataframe\">\n",
       "  <thead>\n",
       "    <tr style=\"text-align: right;\">\n",
       "      <th></th>\n",
       "      <th>id</th>\n",
       "      <th>ps_ind_01</th>\n",
       "      <th>ps_ind_02_cat</th>\n",
       "      <th>ps_ind_03</th>\n",
       "      <th>ps_ind_04_cat</th>\n",
       "      <th>ps_ind_05_cat</th>\n",
       "      <th>ps_ind_06_bin</th>\n",
       "      <th>ps_ind_07_bin</th>\n",
       "      <th>ps_ind_08_bin</th>\n",
       "      <th>ps_ind_09_bin</th>\n",
       "      <th>...</th>\n",
       "      <th>ps_calc_12</th>\n",
       "      <th>ps_calc_13</th>\n",
       "      <th>ps_calc_14</th>\n",
       "      <th>ps_calc_15_bin</th>\n",
       "      <th>ps_calc_16_bin</th>\n",
       "      <th>ps_calc_17_bin</th>\n",
       "      <th>ps_calc_18_bin</th>\n",
       "      <th>ps_calc_19_bin</th>\n",
       "      <th>ps_calc_20_bin</th>\n",
       "      <th>target</th>\n",
       "    </tr>\n",
       "  </thead>\n",
       "  <tbody>\n",
       "    <tr>\n",
       "      <th>0</th>\n",
       "      <td>0.0</td>\n",
       "      <td>0.0</td>\n",
       "      <td>1</td>\n",
       "      <td>8.0</td>\n",
       "      <td>1</td>\n",
       "      <td>0</td>\n",
       "      <td>0</td>\n",
       "      <td>1</td>\n",
       "      <td>0</td>\n",
       "      <td>0</td>\n",
       "      <td>...</td>\n",
       "      <td>1.0</td>\n",
       "      <td>1.0</td>\n",
       "      <td>12.0</td>\n",
       "      <td>0</td>\n",
       "      <td>1</td>\n",
       "      <td>1</td>\n",
       "      <td>0</td>\n",
       "      <td>0</td>\n",
       "      <td>1</td>\n",
       "      <td>0.0</td>\n",
       "    </tr>\n",
       "    <tr>\n",
       "      <th>1</th>\n",
       "      <td>1.0</td>\n",
       "      <td>4.0</td>\n",
       "      <td>2</td>\n",
       "      <td>5.0</td>\n",
       "      <td>1</td>\n",
       "      <td>0</td>\n",
       "      <td>0</td>\n",
       "      <td>0</td>\n",
       "      <td>0</td>\n",
       "      <td>1</td>\n",
       "      <td>...</td>\n",
       "      <td>0.0</td>\n",
       "      <td>3.0</td>\n",
       "      <td>10.0</td>\n",
       "      <td>0</td>\n",
       "      <td>0</td>\n",
       "      <td>1</td>\n",
       "      <td>1</td>\n",
       "      <td>0</td>\n",
       "      <td>1</td>\n",
       "      <td>0.0</td>\n",
       "    </tr>\n",
       "    <tr>\n",
       "      <th>2</th>\n",
       "      <td>2.0</td>\n",
       "      <td>5.0</td>\n",
       "      <td>1</td>\n",
       "      <td>3.0</td>\n",
       "      <td>0</td>\n",
       "      <td>0</td>\n",
       "      <td>0</td>\n",
       "      <td>0</td>\n",
       "      <td>0</td>\n",
       "      <td>1</td>\n",
       "      <td>...</td>\n",
       "      <td>0.0</td>\n",
       "      <td>2.0</td>\n",
       "      <td>4.0</td>\n",
       "      <td>0</td>\n",
       "      <td>0</td>\n",
       "      <td>0</td>\n",
       "      <td>0</td>\n",
       "      <td>0</td>\n",
       "      <td>0</td>\n",
       "      <td>0.0</td>\n",
       "    </tr>\n",
       "    <tr>\n",
       "      <th>3</th>\n",
       "      <td>3.0</td>\n",
       "      <td>0.0</td>\n",
       "      <td>1</td>\n",
       "      <td>6.0</td>\n",
       "      <td>0</td>\n",
       "      <td>0</td>\n",
       "      <td>1</td>\n",
       "      <td>0</td>\n",
       "      <td>0</td>\n",
       "      <td>0</td>\n",
       "      <td>...</td>\n",
       "      <td>1.0</td>\n",
       "      <td>0.0</td>\n",
       "      <td>5.0</td>\n",
       "      <td>1</td>\n",
       "      <td>0</td>\n",
       "      <td>1</td>\n",
       "      <td>0</td>\n",
       "      <td>0</td>\n",
       "      <td>0</td>\n",
       "      <td>0.0</td>\n",
       "    </tr>\n",
       "    <tr>\n",
       "      <th>4</th>\n",
       "      <td>4.0</td>\n",
       "      <td>5.0</td>\n",
       "      <td>1</td>\n",
       "      <td>7.0</td>\n",
       "      <td>0</td>\n",
       "      <td>0</td>\n",
       "      <td>0</td>\n",
       "      <td>0</td>\n",
       "      <td>0</td>\n",
       "      <td>1</td>\n",
       "      <td>...</td>\n",
       "      <td>0.0</td>\n",
       "      <td>0.0</td>\n",
       "      <td>4.0</td>\n",
       "      <td>0</td>\n",
       "      <td>1</td>\n",
       "      <td>1</td>\n",
       "      <td>0</td>\n",
       "      <td>0</td>\n",
       "      <td>1</td>\n",
       "      <td>0.0</td>\n",
       "    </tr>\n",
       "  </tbody>\n",
       "</table>\n",
       "<p>5 rows × 59 columns</p>\n",
       "</div>"
      ],
      "text/plain": [
       "    id  ps_ind_01 ps_ind_02_cat  ps_ind_03 ps_ind_04_cat ps_ind_05_cat  \\\n",
       "0  0.0        0.0             1        8.0             1             0   \n",
       "1  1.0        4.0             2        5.0             1             0   \n",
       "2  2.0        5.0             1        3.0             0             0   \n",
       "3  3.0        0.0             1        6.0             0             0   \n",
       "4  4.0        5.0             1        7.0             0             0   \n",
       "\n",
       "  ps_ind_06_bin ps_ind_07_bin ps_ind_08_bin ps_ind_09_bin   ...   ps_calc_12  \\\n",
       "0             0             1             0             0   ...          1.0   \n",
       "1             0             0             0             1   ...          0.0   \n",
       "2             0             0             0             1   ...          0.0   \n",
       "3             1             0             0             0   ...          1.0   \n",
       "4             0             0             0             1   ...          0.0   \n",
       "\n",
       "  ps_calc_13 ps_calc_14 ps_calc_15_bin  ps_calc_16_bin  ps_calc_17_bin  \\\n",
       "0        1.0       12.0              0               1               1   \n",
       "1        3.0       10.0              0               0               1   \n",
       "2        2.0        4.0              0               0               0   \n",
       "3        0.0        5.0              1               0               1   \n",
       "4        0.0        4.0              0               1               1   \n",
       "\n",
       "  ps_calc_18_bin ps_calc_19_bin ps_calc_20_bin  target  \n",
       "0              0              0              1     0.0  \n",
       "1              1              0              1     0.0  \n",
       "2              0              0              0     0.0  \n",
       "3              0              0              0     0.0  \n",
       "4              0              0              1     0.0  \n",
       "\n",
       "[5 rows x 59 columns]"
      ]
     },
     "execution_count": 17,
     "metadata": {},
     "output_type": "execute_result"
    }
   ],
   "source": [
    "test_data_df.head()"
   ]
  },
  {
   "cell_type": "markdown",
   "metadata": {},
   "source": [
    "### Create validation set indices"
   ]
  },
  {
   "cell_type": "code",
   "execution_count": 18,
   "metadata": {
    "ExecuteTime": {
     "end_time": "2017-11-29T00:00:06.113303Z",
     "start_time": "2017-11-29T00:00:06.050326Z"
    }
   },
   "outputs": [],
   "source": [
    "# Tune VAL_PCT hyperparameter\n",
    "# Tune MAX_FOLDS hyperparameter\n",
    "VAL_FRAC = 0.01\n",
    "MAX_FOLDS = 5\n",
    "\n",
    "num_obs = train_data_df.shape[0]\n",
    "\n",
    "cv_dict = {f'ids_fold_{num_fold}': get_cv_idxs(n=num_obs, cv_idx=num_fold, val_pct=VAL_FRAC) for num_fold in range(MAX_FOLDS)}"
   ]
  },
  {
   "cell_type": "code",
   "execution_count": 19,
   "metadata": {
    "ExecuteTime": {
     "end_time": "2017-11-29T00:00:06.127058Z",
     "start_time": "2017-11-29T00:00:06.114431Z"
    }
   },
   "outputs": [
    {
     "data": {
      "text/plain": [
       "5952"
      ]
     },
     "execution_count": 19,
     "metadata": {},
     "output_type": "execute_result"
    }
   ],
   "source": [
    "len(cv_dict['ids_fold_0'])"
   ]
  },
  {
   "cell_type": "markdown",
   "metadata": {},
   "source": [
    "### Set response variable"
   ]
  },
  {
   "cell_type": "code",
   "execution_count": 20,
   "metadata": {
    "ExecuteTime": {
     "end_time": "2017-11-29T00:00:06.139221Z",
     "start_time": "2017-11-29T00:00:06.128041Z"
    }
   },
   "outputs": [],
   "source": [
    "TARGET_VAR = \"target\""
   ]
  },
  {
   "cell_type": "markdown",
   "metadata": {},
   "source": [
    "### Train set, response variable, feature scaling"
   ]
  },
  {
   "cell_type": "code",
   "execution_count": 21,
   "metadata": {
    "ExecuteTime": {
     "end_time": "2017-11-29T00:00:15.045074Z",
     "start_time": "2017-11-29T00:00:06.140385Z"
    }
   },
   "outputs": [],
   "source": [
    "# This function is giving weird numbers to id\n",
    "train, target, nas, mapper = proc_df(df=train_data_df, y_fld=TARGET_VAR, do_scale=True, skip_flds=['id'])\n",
    "\n",
    "# for test\n",
    "test_df, target2, nas2, mapper2 = proc_df(df=test_data_df, y_fld=TARGET_VAR, do_scale=True, skip_flds=['id'],\n",
    "                                  mapper=mapper, na_dict=nas)"
   ]
  },
  {
   "cell_type": "code",
   "execution_count": 22,
   "metadata": {
    "ExecuteTime": {
     "end_time": "2017-11-29T00:00:15.058711Z",
     "start_time": "2017-11-29T00:00:15.046143Z"
    }
   },
   "outputs": [
    {
     "name": "stderr",
     "output_type": "stream",
     "text": [
      "/home/jd/anaconda3/envs/fastai/lib/python3.6/site-packages/ipykernel_launcher.py:2: UserWarning: Pandas doesn't allow columns to be created via a new attribute name - see https://pandas.pydata.org/pandas-docs/stable/indexing.html#attribute-access\n",
      "  \n",
      "/home/jd/anaconda3/envs/fastai/lib/python3.6/site-packages/ipykernel_launcher.py:3: UserWarning: Pandas doesn't allow columns to be created via a new attribute name - see https://pandas.pydata.org/pandas-docs/stable/indexing.html#attribute-access\n",
      "  This is separate from the ipykernel package so we can avoid doing imports until\n"
     ]
    }
   ],
   "source": [
    "# Reset Id doesnt appear to work\n",
    "train.id =train_data_df.id\n",
    "test_df.id=test_data_df.id"
   ]
  },
  {
   "cell_type": "code",
   "execution_count": 23,
   "metadata": {
    "ExecuteTime": {
     "end_time": "2017-11-29T00:00:15.091193Z",
     "start_time": "2017-11-29T00:00:15.060489Z"
    }
   },
   "outputs": [
    {
     "data": {
      "text/plain": [
       "0               7.0\n",
       "1               9.0\n",
       "2              13.0\n",
       "3              16.0\n",
       "4              17.0\n",
       "5              19.0\n",
       "6              20.0\n",
       "7              22.0\n",
       "8              26.0\n",
       "9              28.0\n",
       "10             34.0\n",
       "11             35.0\n",
       "12             36.0\n",
       "13             43.0\n",
       "14             46.0\n",
       "15             48.0\n",
       "16             50.0\n",
       "17             58.0\n",
       "18             61.0\n",
       "19             64.0\n",
       "20             65.0\n",
       "21             66.0\n",
       "22             72.0\n",
       "23             74.0\n",
       "24             77.0\n",
       "25             78.0\n",
       "26             79.0\n",
       "27             80.0\n",
       "28             84.0\n",
       "29             85.0\n",
       "            ...    \n",
       "595182    1487945.0\n",
       "595183    1487951.0\n",
       "595184    1487952.0\n",
       "595185    1487954.0\n",
       "595186    1487957.0\n",
       "595187    1487958.0\n",
       "595188    1487962.0\n",
       "595189    1487963.0\n",
       "595190    1487964.0\n",
       "595191    1487968.0\n",
       "595192    1487973.0\n",
       "595193    1487975.0\n",
       "595194    1487976.0\n",
       "595195    1487980.0\n",
       "595196    1487983.0\n",
       "595197    1487988.0\n",
       "595198    1487990.0\n",
       "595199    1487992.0\n",
       "595200    1487994.0\n",
       "595201    1487996.0\n",
       "595202    1488001.0\n",
       "595203    1488005.0\n",
       "595204    1488008.0\n",
       "595205    1488009.0\n",
       "595206    1488011.0\n",
       "595207    1488013.0\n",
       "595208    1488016.0\n",
       "595209    1488017.0\n",
       "595210    1488021.0\n",
       "595211    1488027.0\n",
       "Name: id, Length: 595212, dtype: float32"
      ]
     },
     "execution_count": 23,
     "metadata": {},
     "output_type": "execute_result"
    }
   ],
   "source": [
    "train.id"
   ]
  },
  {
   "cell_type": "markdown",
   "metadata": {},
   "source": [
    "### Convert categorical values to type `category`"
   ]
  },
  {
   "cell_type": "code",
   "execution_count": 24,
   "metadata": {
    "ExecuteTime": {
     "end_time": "2017-11-29T00:00:15.625622Z",
     "start_time": "2017-11-29T00:00:15.092212Z"
    }
   },
   "outputs": [],
   "source": [
    "for var in cat_vars: \n",
    "    train[var] = train[var].astype('category').cat.as_ordered()\n",
    "    test_df[var] = test_df[var].astype('category').cat.as_ordered()"
   ]
  },
  {
   "cell_type": "markdown",
   "metadata": {},
   "source": [
    "### Convert remaining variables to `float32`"
   ]
  },
  {
   "cell_type": "code",
   "execution_count": 25,
   "metadata": {
    "ExecuteTime": {
     "end_time": "2017-11-29T00:00:15.639734Z",
     "start_time": "2017-11-29T00:00:15.627579Z"
    }
   },
   "outputs": [],
   "source": [
    "del cont_vars[0]"
   ]
  },
  {
   "cell_type": "code",
   "execution_count": 26,
   "metadata": {
    "ExecuteTime": {
     "end_time": "2017-11-29T00:00:16.072475Z",
     "start_time": "2017-11-29T00:00:15.640880Z"
    }
   },
   "outputs": [
    {
     "data": {
      "text/plain": [
       "array([ 0.,  0.,  0.,  0.,  0.,  0.,  0.,  0.,  0.,  1.,  0.,  0.,  0.,  0.,  0.,  0.,  0.,  0.,  0.,  1.,\n",
       "       ...,  0.,  0.,  0.,  0.,  0.,  0.,  0.,  0.,  0.,  0.,  0.,  0.,  0.,  0.,  0.,  0.,  0.,  0.,  0.,  0.], dtype=float32)"
      ]
     },
     "execution_count": 26,
     "metadata": {},
     "output_type": "execute_result"
    }
   ],
   "source": [
    "for var in cont_vars:\n",
    "    train[var] = train[var].astype('float32')\n",
    "    test_df[var] = test_df[var].astype('float32')\n",
    "\n",
    "target.astype('float32')"
   ]
  },
  {
   "cell_type": "code",
   "execution_count": 27,
   "metadata": {
    "ExecuteTime": {
     "end_time": "2017-11-29T00:00:16.508056Z",
     "start_time": "2017-11-29T00:00:16.073568Z"
    }
   },
   "outputs": [
    {
     "name": "stdout",
     "output_type": "stream",
     "text": [
      "<class 'pandas.core.frame.DataFrame'>\n",
      "RangeIndex: 595212 entries, 0 to 595211\n",
      "Data columns (total 57 columns):\n",
      "ps_ind_01         595212 non-null float32\n",
      "ps_ind_02_cat     595212 non-null category\n",
      "ps_ind_03         595212 non-null float32\n",
      "ps_ind_04_cat     595212 non-null category\n",
      "ps_ind_05_cat     595212 non-null category\n",
      "ps_ind_06_bin     595212 non-null category\n",
      "ps_ind_07_bin     595212 non-null category\n",
      "ps_ind_08_bin     595212 non-null category\n",
      "ps_ind_09_bin     595212 non-null category\n",
      "ps_ind_10_bin     595212 non-null category\n",
      "ps_ind_11_bin     595212 non-null category\n",
      "ps_ind_12_bin     595212 non-null category\n",
      "ps_ind_13_bin     595212 non-null category\n",
      "ps_ind_14         595212 non-null float32\n",
      "ps_ind_15         595212 non-null float32\n",
      "ps_ind_16_bin     595212 non-null category\n",
      "ps_ind_17_bin     595212 non-null category\n",
      "ps_ind_18_bin     595212 non-null category\n",
      "ps_reg_01         595212 non-null float32\n",
      "ps_reg_02         595212 non-null float32\n",
      "ps_reg_03         595212 non-null float32\n",
      "ps_car_01_cat     595212 non-null category\n",
      "ps_car_02_cat     595212 non-null category\n",
      "ps_car_03_cat     595212 non-null category\n",
      "ps_car_04_cat     595212 non-null category\n",
      "ps_car_05_cat     595212 non-null category\n",
      "ps_car_06_cat     595212 non-null category\n",
      "ps_car_07_cat     595212 non-null category\n",
      "ps_car_08_cat     595212 non-null category\n",
      "ps_car_09_cat     595212 non-null category\n",
      "ps_car_10_cat     595212 non-null category\n",
      "ps_car_11_cat     595212 non-null category\n",
      "ps_car_11         595212 non-null float32\n",
      "ps_car_12         595212 non-null float32\n",
      "ps_car_13         595212 non-null float32\n",
      "ps_car_14         595212 non-null float32\n",
      "ps_car_15         595212 non-null float32\n",
      "ps_calc_01        595212 non-null float32\n",
      "ps_calc_02        595212 non-null float32\n",
      "ps_calc_03        595212 non-null float32\n",
      "ps_calc_04        595212 non-null float32\n",
      "ps_calc_05        595212 non-null float32\n",
      "ps_calc_06        595212 non-null float32\n",
      "ps_calc_07        595212 non-null float32\n",
      "ps_calc_08        595212 non-null float32\n",
      "ps_calc_09        595212 non-null float32\n",
      "ps_calc_10        595212 non-null float32\n",
      "ps_calc_11        595212 non-null float32\n",
      "ps_calc_12        595212 non-null float32\n",
      "ps_calc_13        595212 non-null float32\n",
      "ps_calc_14        595212 non-null float32\n",
      "ps_calc_15_bin    595212 non-null category\n",
      "ps_calc_16_bin    595212 non-null category\n",
      "ps_calc_17_bin    595212 non-null category\n",
      "ps_calc_18_bin    595212 non-null category\n",
      "ps_calc_19_bin    595212 non-null category\n",
      "ps_calc_20_bin    595212 non-null category\n",
      "dtypes: category(31), float32(26)\n",
      "memory usage: 76.6 MB\n"
     ]
    }
   ],
   "source": [
    "train.info()"
   ]
  },
  {
   "cell_type": "markdown",
   "metadata": {},
   "source": [
    "### Gini metric"
   ]
  },
  {
   "cell_type": "code",
   "execution_count": 28,
   "metadata": {
    "ExecuteTime": {
     "end_time": "2017-11-29T00:00:16.522950Z",
     "start_time": "2017-11-29T00:00:16.509175Z"
    }
   },
   "outputs": [],
   "source": [
    "from sklearn.metrics import roc_auc_score\n",
    "\n",
    "inv_log = lambda x : np.exp(x)\n",
    "\n",
    "def gini_metric(preds, targs):\n",
    "    preds = inv_log(preds)\n",
    "    auc = roc_auc_score(y_true=targs, y_score=preds)\n",
    "    return 2 * auc - 1"
   ]
  },
  {
   "cell_type": "markdown",
   "metadata": {},
   "source": [
    "### Create embeddings"
   ]
  },
  {
   "cell_type": "code",
   "execution_count": 29,
   "metadata": {
    "ExecuteTime": {
     "end_time": "2017-11-29T00:00:16.536021Z",
     "start_time": "2017-11-29T00:00:16.523974Z"
    }
   },
   "outputs": [],
   "source": [
    "cat_sz = [(c, len(train[c].cat.categories) + 1) for c in cat_vars]"
   ]
  },
  {
   "cell_type": "code",
   "execution_count": 30,
   "metadata": {
    "ExecuteTime": {
     "end_time": "2017-11-29T00:00:16.550109Z",
     "start_time": "2017-11-29T00:00:16.537164Z"
    }
   },
   "outputs": [
    {
     "data": {
      "text/plain": [
       "[('ps_ind_02_cat', 6),\n",
       " ('ps_ind_04_cat', 4),\n",
       " ('ps_ind_05_cat', 9),\n",
       " ('ps_car_01_cat', 14),\n",
       " ('ps_car_02_cat', 4),\n",
       " ('ps_car_03_cat', 4),\n",
       " ('ps_car_04_cat', 11),\n",
       " ('ps_car_05_cat', 4),\n",
       " ('ps_car_06_cat', 19),\n",
       " ('ps_car_07_cat', 4),\n",
       " ('ps_car_08_cat', 3),\n",
       " ('ps_car_09_cat', 7),\n",
       " ('ps_car_10_cat', 4),\n",
       " ('ps_car_11_cat', 105),\n",
       " ('ps_ind_06_bin', 3),\n",
       " ('ps_ind_07_bin', 3),\n",
       " ('ps_ind_08_bin', 3),\n",
       " ('ps_ind_09_bin', 3),\n",
       " ('ps_ind_10_bin', 3),\n",
       " ('ps_ind_11_bin', 3),\n",
       " ('ps_ind_12_bin', 3),\n",
       " ('ps_ind_13_bin', 3),\n",
       " ('ps_ind_16_bin', 3),\n",
       " ('ps_ind_17_bin', 3),\n",
       " ('ps_ind_18_bin', 3),\n",
       " ('ps_calc_15_bin', 3),\n",
       " ('ps_calc_16_bin', 3),\n",
       " ('ps_calc_17_bin', 3),\n",
       " ('ps_calc_18_bin', 3),\n",
       " ('ps_calc_19_bin', 3),\n",
       " ('ps_calc_20_bin', 3)]"
      ]
     },
     "execution_count": 30,
     "metadata": {},
     "output_type": "execute_result"
    }
   ],
   "source": [
    "cat_sz"
   ]
  },
  {
   "cell_type": "code",
   "execution_count": 31,
   "metadata": {
    "ExecuteTime": {
     "end_time": "2017-11-29T00:00:16.562768Z",
     "start_time": "2017-11-29T00:00:16.551149Z"
    }
   },
   "outputs": [],
   "source": [
    "emb_szs = [(c, min(100, (c + 1) // 2)) for _, c in cat_sz]"
   ]
  },
  {
   "cell_type": "code",
   "execution_count": 32,
   "metadata": {
    "ExecuteTime": {
     "end_time": "2017-11-29T00:00:16.576697Z",
     "start_time": "2017-11-29T00:00:16.563862Z"
    },
    "scrolled": true
   },
   "outputs": [
    {
     "data": {
      "text/plain": [
       "[(6, 3),\n",
       " (4, 2),\n",
       " (9, 5),\n",
       " (14, 7),\n",
       " (4, 2),\n",
       " (4, 2),\n",
       " (11, 6),\n",
       " (4, 2),\n",
       " (19, 10),\n",
       " (4, 2),\n",
       " (3, 2),\n",
       " (7, 4),\n",
       " (4, 2),\n",
       " (105, 53),\n",
       " (3, 2),\n",
       " (3, 2),\n",
       " (3, 2),\n",
       " (3, 2),\n",
       " (3, 2),\n",
       " (3, 2),\n",
       " (3, 2),\n",
       " (3, 2),\n",
       " (3, 2),\n",
       " (3, 2),\n",
       " (3, 2),\n",
       " (3, 2),\n",
       " (3, 2),\n",
       " (3, 2),\n",
       " (3, 2),\n",
       " (3, 2),\n",
       " (3, 2)]"
      ]
     },
     "execution_count": 32,
     "metadata": {},
     "output_type": "execute_result"
    }
   ],
   "source": [
    "emb_szs"
   ]
  },
  {
   "cell_type": "markdown",
   "metadata": {},
   "source": [
    "### Model Architecture / Hyperparameters"
   ]
  },
  {
   "cell_type": "code",
   "execution_count": 33,
   "metadata": {
    "ExecuteTime": {
     "end_time": "2017-11-29T00:00:16.590017Z",
     "start_time": "2017-11-29T00:00:16.577665Z"
    }
   },
   "outputs": [],
   "source": [
    "layer_1 = 1024\n",
    "layer_2 = 512\n",
    "layer_3 = 256\n",
    "batch_size = 256\n",
    "embed_dropout = 0.01\n",
    "layer_dropout = 0.15"
   ]
  },
  {
   "cell_type": "code",
   "execution_count": 34,
   "metadata": {
    "ExecuteTime": {
     "end_time": "2017-11-29T00:00:16.602724Z",
     "start_time": "2017-11-29T00:00:16.591053Z"
    }
   },
   "outputs": [],
   "source": [
    "# Original\n",
    "# Create model with all category variables\n",
    "#md = ColumnarModelData.from_data_frame(path=PATH, \n",
    "#                                       val_idxs=cv_dict['ids_fold_0'], \n",
    "#                                       df=train, \n",
    "#                                       y=target, \n",
    "#                                       cat_flds=cat_vars, \n",
    "#                                       bs=batch_size)"
   ]
  },
  {
   "cell_type": "code",
   "execution_count": null,
   "metadata": {},
   "outputs": [],
   "source": []
  },
  {
   "cell_type": "code",
   "execution_count": 35,
   "metadata": {
    "ExecuteTime": {
     "end_time": "2017-11-29T00:00:17.946008Z",
     "start_time": "2017-11-29T00:00:16.603739Z"
    }
   },
   "outputs": [],
   "source": [
    "# Create model with a test to allow for predictions\n",
    "md = ColumnarModelData.from_data_frame(path=PATH, \n",
    "                                       val_idxs=cv_dict['ids_fold_0'], \n",
    "                                       df=train, \n",
    "                                       y=target, \n",
    "                                       cat_flds=cat_vars, \n",
    "                                       bs=batch_size,\n",
    "                                       test_df=test_df)"
   ]
  },
  {
   "cell_type": "markdown",
   "metadata": {},
   "source": [
    "### Model learner"
   ]
  },
  {
   "cell_type": "code",
   "execution_count": 36,
   "metadata": {
    "ExecuteTime": {
     "end_time": "2017-11-29T00:00:17.958949Z",
     "start_time": "2017-11-29T00:00:17.947203Z"
    }
   },
   "outputs": [],
   "source": [
    "y_range = (0, 1)"
   ]
  },
  {
   "cell_type": "code",
   "execution_count": 37,
   "metadata": {
    "ExecuteTime": {
     "end_time": "2017-11-29T00:03:45.326031Z",
     "start_time": "2017-11-29T00:00:17.960037Z"
    }
   },
   "outputs": [],
   "source": [
    "# Use all categorical variables\n",
    "m = md.get_learner(emb_szs=emb_szs, \n",
    "                   n_cont=(len(train.columns) - len(cat_vars)),\n",
    "                   emb_drop=embed_dropout, \n",
    "                   out_sz=1, \n",
    "                   szs=[layer_1, layer_2], \n",
    "                   drops=[layer_dropout, layer_dropout], \n",
    "                   y_range=y_range )\n",
    "                #y_range=None )\n"
   ]
  },
  {
   "cell_type": "code",
   "execution_count": 38,
   "metadata": {
    "ExecuteTime": {
     "end_time": "2017-11-29T00:04:04.142041Z",
     "start_time": "2017-11-29T00:03:45.327133Z"
    }
   },
   "outputs": [
    {
     "data": {
      "application/vnd.jupyter.widget-view+json": {
       "model_id": "21a2791115424f578be461e0fb7dcdff",
       "version_major": 2,
       "version_minor": 0
      },
      "text/html": [
       "<p>Failed to display Jupyter Widget of type <code>HBox</code>.</p>\n",
       "<p>\n",
       "  If you're reading this message in the Jupyter Notebook or JupyterLab Notebook, it may mean\n",
       "  that the widgets JavaScript is still loading. If this message persists, it\n",
       "  likely means that the widgets JavaScript library is either not installed or\n",
       "  not enabled. See the <a href=\"https://ipywidgets.readthedocs.io/en/stable/user_install.html\">Jupyter\n",
       "  Widgets Documentation</a> for setup instructions.\n",
       "</p>\n",
       "<p>\n",
       "  If you're reading this message in another frontend (for example, a static\n",
       "  rendering on GitHub or <a href=\"https://nbviewer.jupyter.org/\">NBViewer</a>),\n",
       "  it may mean that your frontend doesn't currently support widgets.\n",
       "</p>\n"
      ],
      "text/plain": [
       "HBox(children=(IntProgress(value=0, description='Epoch', max=1), HTML(value='')))"
      ]
     },
     "metadata": {},
     "output_type": "display_data"
    },
    {
     "name": "stdout",
     "output_type": "stream",
     "text": [
      "[ 0.       0.03539  0.03724]                                     \n",
      "\n"
     ]
    }
   ],
   "source": [
    "m.lr_find()"
   ]
  },
  {
   "cell_type": "code",
   "execution_count": 39,
   "metadata": {
    "ExecuteTime": {
     "end_time": "2017-11-29T00:04:04.489550Z",
     "start_time": "2017-11-29T00:04:04.143076Z"
    }
   },
   "outputs": [
    {
     "data": {
      "image/png": "[encoded data removed]",
      "text/plain": [
       "<matplotlib.figure.Figure at 0x7fced563cc88>"
      ]
     },
     "metadata": {},
     "output_type": "display_data"
    }
   ],
   "source": [
    "m.sched.plot()"
   ]
  },
  {
   "cell_type": "code",
   "execution_count": 40,
   "metadata": {
    "ExecuteTime": {
     "end_time": "2017-11-29T00:04:04.502148Z",
     "start_time": "2017-11-29T00:04:04.490541Z"
    }
   },
   "outputs": [],
   "source": [
    "lr = 0.0001"
   ]
  },
  {
   "cell_type": "code",
   "execution_count": 41,
   "metadata": {
    "ExecuteTime": {
     "end_time": "2017-11-29T00:07:16.694209Z",
     "start_time": "2017-11-29T00:04:04.503266Z"
    }
   },
   "outputs": [
    {
     "data": {
      "application/vnd.jupyter.widget-view+json": {
       "model_id": "7e2bba0d40334d719395df9dc1800b88",
       "version_major": 2,
       "version_minor": 0
      },
      "text/html": [
       "<p>Failed to display Jupyter Widget of type <code>HBox</code>.</p>\n",
       "<p>\n",
       "  If you're reading this message in the Jupyter Notebook or JupyterLab Notebook, it may mean\n",
       "  that the widgets JavaScript is still loading. If this message persists, it\n",
       "  likely means that the widgets JavaScript library is either not installed or\n",
       "  not enabled. See the <a href=\"https://ipywidgets.readthedocs.io/en/stable/user_install.html\">Jupyter\n",
       "  Widgets Documentation</a> for setup instructions.\n",
       "</p>\n",
       "<p>\n",
       "  If you're reading this message in another frontend (for example, a static\n",
       "  rendering on GitHub or <a href=\"https://nbviewer.jupyter.org/\">NBViewer</a>),\n",
       "  it may mean that your frontend doesn't currently support widgets.\n",
       "</p>\n"
      ],
      "text/plain": [
       "HBox(children=(IntProgress(value=0, description='Epoch', max=10), HTML(value='')))"
      ]
     },
     "metadata": {},
     "output_type": "display_data"
    },
    {
     "name": "stdout",
     "output_type": "stream",
     "text": [
      "[ 0.       0.03689  0.03575  0.96276  0.18696]                   \n",
      "[ 1.       0.03507  0.03568  0.96276  0.22363]                   \n",
      "[ 2.       0.03593  0.03568  0.96276  0.25449]                   \n",
      "[ 3.       0.03451  0.03582  0.96276  0.23731]                   \n",
      "[ 4.       0.03509  0.03587  0.96276  0.22229]                   \n",
      "[ 5.       0.0356   0.03561  0.96276  0.25232]                   \n",
      "[ 6.       0.03445  0.03572  0.96276  0.23367]                   \n",
      "[ 7.       0.03446  0.03582  0.96276  0.23263]                   \n",
      "[ 8.       0.03344  0.03581  0.96276  0.23778]                   \n",
      "[ 9.       0.03441  0.03592  0.96276  0.20332]                   \n",
      "\n"
     ]
    }
   ],
   "source": [
    "m.fit(lrs=lr, n_cycle=10, metrics=[accuracy, gini_metric])"
   ]
  },
  {
   "cell_type": "code",
   "execution_count": 42,
   "metadata": {
    "ExecuteTime": {
     "end_time": "2017-11-29T00:14:07.417201Z",
     "start_time": "2017-11-29T00:07:16.695244Z"
    }
   },
   "outputs": [
    {
     "data": {
      "application/vnd.jupyter.widget-view+json": {
       "model_id": "bd6c2023d88f4a95b22cfeeb8d4eead0",
       "version_major": 2,
       "version_minor": 0
      },
      "text/html": [
       "<p>Failed to display Jupyter Widget of type <code>HBox</code>.</p>\n",
       "<p>\n",
       "  If you're reading this message in the Jupyter Notebook or JupyterLab Notebook, it may mean\n",
       "  that the widgets JavaScript is still loading. If this message persists, it\n",
       "  likely means that the widgets JavaScript library is either not installed or\n",
       "  not enabled. See the <a href=\"https://ipywidgets.readthedocs.io/en/stable/user_install.html\">Jupyter\n",
       "  Widgets Documentation</a> for setup instructions.\n",
       "</p>\n",
       "<p>\n",
       "  If you're reading this message in another frontend (for example, a static\n",
       "  rendering on GitHub or <a href=\"https://nbviewer.jupyter.org/\">NBViewer</a>),\n",
       "  it may mean that your frontend doesn't currently support widgets.\n",
       "</p>\n"
      ],
      "text/plain": [
       "HBox(children=(IntProgress(value=0, description='Epoch', max=21), HTML(value='')))"
      ]
     },
     "metadata": {},
     "output_type": "display_data"
    },
    {
     "name": "stdout",
     "output_type": "stream",
     "text": [
      "[ 0.       0.03398  0.03593  0.96276  0.20579]                   \n",
      "[ 1.       0.03418  0.03606  0.96276  0.21035]                   \n",
      "[ 2.       0.03431  0.03608  0.96276  0.22225]                   \n",
      "[ 3.       0.03317  0.03615  0.96276  0.20844]                   \n",
      "[ 4.       0.03387  0.03608  0.96276  0.18685]                   \n",
      "[ 5.       0.03323  0.03627  0.96276  0.19104]                   \n",
      "[ 6.       0.03437  0.03631  0.96276  0.19518]                   \n",
      "[ 7.       0.03335  0.03637  0.96276  0.20034]                   \n",
      "[ 8.       0.03346  0.03642  0.96276  0.19969]                   \n",
      "[ 9.       0.0357   0.03641  0.96276  0.19472]                   \n",
      "[ 10.        0.03376   0.03667   0.96276   0.20102]              \n",
      "[ 11.        0.0339    0.03684   0.96276   0.15924]              \n",
      "[ 12.        0.03442   0.03682   0.96276   0.18221]              \n",
      "[ 13.        0.03414   0.03702   0.96276   0.16909]              \n",
      "[ 14.        0.03338   0.0367    0.96276   0.17872]              \n",
      "[ 15.        0.03354   0.03699   0.96276   0.17415]              \n",
      "[ 16.        0.03376   0.03708   0.96276   0.17068]              \n",
      "[ 17.        0.03426   0.03715   0.96276   0.17461]              \n",
      "[ 18.        0.03364   0.03707   0.96276   0.172  ]              \n",
      "[ 19.        0.03394   0.03706   0.96276   0.17186]              \n",
      "[ 20.        0.03192   0.03709   0.96276   0.17171]              \n",
      "\n"
     ]
    }
   ],
   "source": [
    "m.fit(lrs=lr, n_cycle=3, cycle_len=3, metrics=[accuracy, gini_metric], cycle_mult=2)"
   ]
  },
  {
   "cell_type": "code",
   "execution_count": 43,
   "metadata": {
    "ExecuteTime": {
     "end_time": "2017-11-29T00:14:07.479384Z",
     "start_time": "2017-11-29T00:14:07.419364Z"
    }
   },
   "outputs": [
    {
     "data": {
      "text/plain": [
       "array([[ 0.05171],\n",
       "       [ 0.03971],\n",
       "       [ 0.03639],\n",
       "       [ 0.02431],\n",
       "       [ 0.01119],\n",
       "       [ 0.07818],\n",
       "       [ 0.02799],\n",
       "       [ 0.02744],\n",
       "       [ 0.0505 ],\n",
       "       [ 0.02255],\n",
       "       [ 0.01318],\n",
       "       [ 0.03495],\n",
       "       [ 0.02152],\n",
       "       [ 0.01097],\n",
       "       [ 0.009  ],\n",
       "       [ 0.08269],\n",
       "       [ 0.06356],\n",
       "       [ 0.03074],\n",
       "       [ 0.01458],\n",
       "       [ 0.03196],\n",
       "       ..., \n",
       "       [ 0.00748],\n",
       "       [ 0.01833],\n",
       "       [ 0.00501],\n",
       "       [ 0.0352 ],\n",
       "       [ 0.04361],\n",
       "       [ 0.05328],\n",
       "       [ 0.02082],\n",
       "       [ 0.02406],\n",
       "       [ 0.00948],\n",
       "       [ 0.01405],\n",
       "       [ 0.03202],\n",
       "       [ 0.02846],\n",
       "       [ 0.15857],\n",
       "       [ 0.03228],\n",
       "       [ 0.0444 ],\n",
       "       [ 0.09428],\n",
       "       [ 0.01881],\n",
       "       [ 0.01773],\n",
       "       [ 0.00697],\n",
       "       [ 0.01115]], dtype=float32)"
      ]
     },
     "execution_count": 43,
     "metadata": {},
     "output_type": "execute_result"
    }
   ],
   "source": [
    "# Predictions for the validation set\n",
    "m.predict()"
   ]
  },
  {
   "cell_type": "code",
   "execution_count": 44,
   "metadata": {
    "ExecuteTime": {
     "end_time": "2017-11-29T00:14:07.494145Z",
     "start_time": "2017-11-29T00:14:07.480409Z"
    }
   },
   "outputs": [
    {
     "data": {
      "text/plain": [
       "MixedInputModel (\n",
       "  (embs): ModuleList (\n",
       "    (0): Embedding(6, 3)\n",
       "    (1): Embedding(4, 2)\n",
       "    (2): Embedding(9, 5)\n",
       "    (3): Embedding(14, 7)\n",
       "    (4): Embedding(4, 2)\n",
       "    (5): Embedding(4, 2)\n",
       "    (6): Embedding(11, 6)\n",
       "    (7): Embedding(4, 2)\n",
       "    (8): Embedding(19, 10)\n",
       "    (9): Embedding(4, 2)\n",
       "    (10): Embedding(3, 2)\n",
       "    (11): Embedding(7, 4)\n",
       "    (12): Embedding(4, 2)\n",
       "    (13): Embedding(105, 53)\n",
       "    (14): Embedding(3, 2)\n",
       "    (15): Embedding(3, 2)\n",
       "    (16): Embedding(3, 2)\n",
       "    (17): Embedding(3, 2)\n",
       "    (18): Embedding(3, 2)\n",
       "    (19): Embedding(3, 2)\n",
       "    (20): Embedding(3, 2)\n",
       "    (21): Embedding(3, 2)\n",
       "    (22): Embedding(3, 2)\n",
       "    (23): Embedding(3, 2)\n",
       "    (24): Embedding(3, 2)\n",
       "    (25): Embedding(3, 2)\n",
       "    (26): Embedding(3, 2)\n",
       "    (27): Embedding(3, 2)\n",
       "    (28): Embedding(3, 2)\n",
       "    (29): Embedding(3, 2)\n",
       "    (30): Embedding(3, 2)\n",
       "  )\n",
       "  (lins): ModuleList (\n",
       "    (0): Linear (162 -> 1024)\n",
       "    (1): Linear (1024 -> 512)\n",
       "  )\n",
       "  (bns): ModuleList (\n",
       "    (0): BatchNorm1d(1024, eps=1e-05, momentum=0.1, affine=True)\n",
       "    (1): BatchNorm1d(512, eps=1e-05, momentum=0.1, affine=True)\n",
       "  )\n",
       "  (outp): Linear (512 -> 1)\n",
       "  (emb_drop): Dropout (p = 0.01)\n",
       "  (drops): ModuleList (\n",
       "    (0): Dropout (p = 0.15)\n",
       "    (1): Dropout (p = 0.15)\n",
       "  )\n",
       "  (bn): BatchNorm1d(26, eps=1e-05, momentum=0.1, affine=True)\n",
       ")"
      ]
     },
     "execution_count": 44,
     "metadata": {},
     "output_type": "execute_result"
    }
   ],
   "source": [
    "m"
   ]
  },
  {
   "cell_type": "markdown",
   "metadata": {},
   "source": [
    "## Prediction"
   ]
  },
  {
   "cell_type": "code",
   "execution_count": 45,
   "metadata": {
    "ExecuteTime": {
     "end_time": "2017-11-29T00:14:07.512666Z",
     "start_time": "2017-11-29T00:14:07.496764Z"
    }
   },
   "outputs": [],
   "source": [
    "m.save('val0')"
   ]
  },
  {
   "cell_type": "code",
   "execution_count": 46,
   "metadata": {
    "ExecuteTime": {
     "end_time": "2017-11-29T00:14:07.529517Z",
     "start_time": "2017-11-29T00:14:07.513795Z"
    }
   },
   "outputs": [],
   "source": [
    "m.load('val0')"
   ]
  },
  {
   "cell_type": "code",
   "execution_count": 47,
   "metadata": {
    "ExecuteTime": {
     "end_time": "2017-11-29T00:14:07.587576Z",
     "start_time": "2017-11-29T00:14:07.531456Z"
    }
   },
   "outputs": [],
   "source": [
    "x,y=m.predict_with_targs()"
   ]
  },
  {
   "cell_type": "code",
   "execution_count": 48,
   "metadata": {
    "ExecuteTime": {
     "end_time": "2017-11-29T00:14:07.602231Z",
     "start_time": "2017-11-29T00:14:07.588667Z"
    }
   },
   "outputs": [
    {
     "data": {
      "text/plain": [
       "0.16817640979321014"
      ]
     },
     "execution_count": 48,
     "metadata": {},
     "output_type": "execute_result"
    }
   ],
   "source": [
    "gini_metric(x,y)"
   ]
  },
  {
   "cell_type": "code",
   "execution_count": 49,
   "metadata": {
    "ExecuteTime": {
     "end_time": "2017-11-29T00:14:16.411321Z",
     "start_time": "2017-11-29T00:14:07.603243Z"
    }
   },
   "outputs": [],
   "source": [
    "pred_test=m.predict(True)"
   ]
  },
  {
   "cell_type": "code",
   "execution_count": 50,
   "metadata": {
    "ExecuteTime": {
     "end_time": "2017-11-29T00:14:16.425137Z",
     "start_time": "2017-11-29T00:14:16.412440Z"
    }
   },
   "outputs": [],
   "source": [
    "# add a predictions column to the test_df\n",
    "test_df['pred_target']=pred_test"
   ]
  },
  {
   "cell_type": "code",
   "execution_count": 51,
   "metadata": {
    "ExecuteTime": {
     "end_time": "2017-11-29T00:14:16.439420Z",
     "start_time": "2017-11-29T00:14:16.426228Z"
    }
   },
   "outputs": [
    {
     "data": {
      "text/plain": [
       "0    0.032407\n",
       "1    0.036474\n",
       "2    0.024713\n",
       "3    0.012117\n",
       "4    0.034148\n",
       "Name: pred_target, dtype: float32"
      ]
     },
     "execution_count": 51,
     "metadata": {},
     "output_type": "execute_result"
    }
   ],
   "source": [
    "test_df['pred_target'][:5]"
   ]
  },
  {
   "cell_type": "markdown",
   "metadata": {},
   "source": [
    "## Analyze"
   ]
  },
  {
   "cell_type": "code",
   "execution_count": 52,
   "metadata": {
    "ExecuteTime": {
     "end_time": "2017-11-29T00:14:16.458131Z",
     "start_time": "2017-11-29T00:14:16.440453Z"
    }
   },
   "outputs": [
    {
     "data": {
      "text/plain": [
       "(0.95303863, 0.00058412523)"
      ]
     },
     "execution_count": 52,
     "metadata": {},
     "output_type": "execute_result"
    }
   ],
   "source": [
    "test_df.pred_target.max(), test_df.pred_target.min()"
   ]
  },
  {
   "cell_type": "code",
   "execution_count": 53,
   "metadata": {
    "ExecuteTime": {
     "end_time": "2017-11-29T00:14:16.569755Z",
     "start_time": "2017-11-29T00:14:16.459160Z"
    }
   },
   "outputs": [
    {
     "data": {
      "text/html": [
       "<div>\n",
       "<style scoped>\n",
       "    .dataframe tbody tr th:only-of-type {\n",
       "        vertical-align: middle;\n",
       "    }\n",
       "\n",
       "    .dataframe tbody tr th {\n",
       "        vertical-align: top;\n",
       "    }\n",
       "\n",
       "    .dataframe thead th {\n",
       "        text-align: right;\n",
       "    }\n",
       "</style>\n",
       "<table border=\"1\" class=\"dataframe\">\n",
       "  <thead>\n",
       "    <tr style=\"text-align: right;\">\n",
       "      <th></th>\n",
       "      <th>ps_ind_01</th>\n",
       "      <th>ps_ind_02_cat</th>\n",
       "      <th>ps_ind_03</th>\n",
       "      <th>ps_ind_04_cat</th>\n",
       "      <th>ps_ind_05_cat</th>\n",
       "      <th>ps_ind_06_bin</th>\n",
       "      <th>ps_ind_07_bin</th>\n",
       "      <th>ps_ind_08_bin</th>\n",
       "      <th>ps_ind_09_bin</th>\n",
       "      <th>ps_ind_10_bin</th>\n",
       "      <th>...</th>\n",
       "      <th>ps_calc_12</th>\n",
       "      <th>ps_calc_13</th>\n",
       "      <th>ps_calc_14</th>\n",
       "      <th>ps_calc_15_bin</th>\n",
       "      <th>ps_calc_16_bin</th>\n",
       "      <th>ps_calc_17_bin</th>\n",
       "      <th>ps_calc_18_bin</th>\n",
       "      <th>ps_calc_19_bin</th>\n",
       "      <th>ps_calc_20_bin</th>\n",
       "      <th>pred_target</th>\n",
       "    </tr>\n",
       "  </thead>\n",
       "  <tbody>\n",
       "    <tr>\n",
       "      <th>219621</th>\n",
       "      <td>2.066563</td>\n",
       "      <td>2</td>\n",
       "      <td>0.583978</td>\n",
       "      <td>2</td>\n",
       "      <td>4</td>\n",
       "      <td>1</td>\n",
       "      <td>1</td>\n",
       "      <td>2</td>\n",
       "      <td>1</td>\n",
       "      <td>1</td>\n",
       "      <td>...</td>\n",
       "      <td>0.463923</td>\n",
       "      <td>-1.104669</td>\n",
       "      <td>0.167831</td>\n",
       "      <td>1</td>\n",
       "      <td>2</td>\n",
       "      <td>1</td>\n",
       "      <td>1</td>\n",
       "      <td>1</td>\n",
       "      <td>1</td>\n",
       "      <td>0.953039</td>\n",
       "    </tr>\n",
       "    <tr>\n",
       "      <th>437814</th>\n",
       "      <td>0.050218</td>\n",
       "      <td>1</td>\n",
       "      <td>-1.638327</td>\n",
       "      <td>1</td>\n",
       "      <td>1</td>\n",
       "      <td>1</td>\n",
       "      <td>2</td>\n",
       "      <td>1</td>\n",
       "      <td>1</td>\n",
       "      <td>1</td>\n",
       "      <td>...</td>\n",
       "      <td>0.463923</td>\n",
       "      <td>0.665362</td>\n",
       "      <td>-0.560329</td>\n",
       "      <td>1</td>\n",
       "      <td>2</td>\n",
       "      <td>2</td>\n",
       "      <td>1</td>\n",
       "      <td>1</td>\n",
       "      <td>2</td>\n",
       "      <td>0.934007</td>\n",
       "    </tr>\n",
       "    <tr>\n",
       "      <th>428450</th>\n",
       "      <td>-0.453868</td>\n",
       "      <td>3</td>\n",
       "      <td>-1.638327</td>\n",
       "      <td>2</td>\n",
       "      <td>1</td>\n",
       "      <td>1</td>\n",
       "      <td>2</td>\n",
       "      <td>1</td>\n",
       "      <td>1</td>\n",
       "      <td>1</td>\n",
       "      <td>...</td>\n",
       "      <td>0.463923</td>\n",
       "      <td>-0.514659</td>\n",
       "      <td>1.260071</td>\n",
       "      <td>2</td>\n",
       "      <td>2</td>\n",
       "      <td>1</td>\n",
       "      <td>2</td>\n",
       "      <td>1</td>\n",
       "      <td>1</td>\n",
       "      <td>0.924385</td>\n",
       "    </tr>\n",
       "    <tr>\n",
       "      <th>590211</th>\n",
       "      <td>0.050218</td>\n",
       "      <td>1</td>\n",
       "      <td>-1.638327</td>\n",
       "      <td>1</td>\n",
       "      <td>1</td>\n",
       "      <td>1</td>\n",
       "      <td>1</td>\n",
       "      <td>1</td>\n",
       "      <td>2</td>\n",
       "      <td>1</td>\n",
       "      <td>...</td>\n",
       "      <td>-1.198640</td>\n",
       "      <td>0.075352</td>\n",
       "      <td>-0.560329</td>\n",
       "      <td>1</td>\n",
       "      <td>2</td>\n",
       "      <td>1</td>\n",
       "      <td>1</td>\n",
       "      <td>2</td>\n",
       "      <td>2</td>\n",
       "      <td>0.898887</td>\n",
       "    </tr>\n",
       "    <tr>\n",
       "      <th>137691</th>\n",
       "      <td>0.554304</td>\n",
       "      <td>4</td>\n",
       "      <td>0.213594</td>\n",
       "      <td>2</td>\n",
       "      <td>2</td>\n",
       "      <td>1</td>\n",
       "      <td>1</td>\n",
       "      <td>2</td>\n",
       "      <td>1</td>\n",
       "      <td>1</td>\n",
       "      <td>...</td>\n",
       "      <td>-1.198640</td>\n",
       "      <td>1.255373</td>\n",
       "      <td>0.531911</td>\n",
       "      <td>1</td>\n",
       "      <td>1</td>\n",
       "      <td>2</td>\n",
       "      <td>1</td>\n",
       "      <td>1</td>\n",
       "      <td>1</td>\n",
       "      <td>0.887673</td>\n",
       "    </tr>\n",
       "  </tbody>\n",
       "</table>\n",
       "<p>5 rows × 58 columns</p>\n",
       "</div>"
      ],
      "text/plain": [
       "        ps_ind_01 ps_ind_02_cat  ps_ind_03 ps_ind_04_cat ps_ind_05_cat  \\\n",
       "219621   2.066563             2   0.583978             2             4   \n",
       "437814   0.050218             1  -1.638327             1             1   \n",
       "428450  -0.453868             3  -1.638327             2             1   \n",
       "590211   0.050218             1  -1.638327             1             1   \n",
       "137691   0.554304             4   0.213594             2             2   \n",
       "\n",
       "       ps_ind_06_bin ps_ind_07_bin ps_ind_08_bin ps_ind_09_bin ps_ind_10_bin  \\\n",
       "219621             1             1             2             1             1   \n",
       "437814             1             2             1             1             1   \n",
       "428450             1             2             1             1             1   \n",
       "590211             1             1             1             2             1   \n",
       "137691             1             1             2             1             1   \n",
       "\n",
       "           ...      ps_calc_12 ps_calc_13 ps_calc_14  ps_calc_15_bin  \\\n",
       "219621     ...        0.463923  -1.104669   0.167831               1   \n",
       "437814     ...        0.463923   0.665362  -0.560329               1   \n",
       "428450     ...        0.463923  -0.514659   1.260071               2   \n",
       "590211     ...       -1.198640   0.075352  -0.560329               1   \n",
       "137691     ...       -1.198640   1.255373   0.531911               1   \n",
       "\n",
       "        ps_calc_16_bin ps_calc_17_bin ps_calc_18_bin ps_calc_19_bin  \\\n",
       "219621               2              1              1              1   \n",
       "437814               2              2              1              1   \n",
       "428450               2              1              2              1   \n",
       "590211               2              1              1              2   \n",
       "137691               1              2              1              1   \n",
       "\n",
       "        ps_calc_20_bin  pred_target  \n",
       "219621               1     0.953039  \n",
       "437814               2     0.934007  \n",
       "428450               1     0.924385  \n",
       "590211               2     0.898887  \n",
       "137691               1     0.887673  \n",
       "\n",
       "[5 rows x 58 columns]"
      ]
     },
     "execution_count": 53,
     "metadata": {},
     "output_type": "execute_result"
    }
   ],
   "source": [
    "test_df.nlargest(5, 'pred_target')"
   ]
  },
  {
   "cell_type": "code",
   "execution_count": 54,
   "metadata": {
    "ExecuteTime": {
     "end_time": "2017-11-29T00:14:16.641427Z",
     "start_time": "2017-11-29T00:14:16.570725Z"
    }
   },
   "outputs": [
    {
     "data": {
      "text/html": [
       "<div>\n",
       "<style scoped>\n",
       "    .dataframe tbody tr th:only-of-type {\n",
       "        vertical-align: middle;\n",
       "    }\n",
       "\n",
       "    .dataframe tbody tr th {\n",
       "        vertical-align: top;\n",
       "    }\n",
       "\n",
       "    .dataframe thead th {\n",
       "        text-align: right;\n",
       "    }\n",
       "</style>\n",
       "<table border=\"1\" class=\"dataframe\">\n",
       "  <thead>\n",
       "    <tr style=\"text-align: right;\">\n",
       "      <th></th>\n",
       "      <th>ps_ind_01</th>\n",
       "      <th>ps_ind_02_cat</th>\n",
       "      <th>ps_ind_03</th>\n",
       "      <th>ps_ind_04_cat</th>\n",
       "      <th>ps_ind_05_cat</th>\n",
       "      <th>ps_ind_06_bin</th>\n",
       "      <th>ps_ind_07_bin</th>\n",
       "      <th>ps_ind_08_bin</th>\n",
       "      <th>ps_ind_09_bin</th>\n",
       "      <th>ps_ind_10_bin</th>\n",
       "      <th>...</th>\n",
       "      <th>ps_calc_12</th>\n",
       "      <th>ps_calc_13</th>\n",
       "      <th>ps_calc_14</th>\n",
       "      <th>ps_calc_15_bin</th>\n",
       "      <th>ps_calc_16_bin</th>\n",
       "      <th>ps_calc_17_bin</th>\n",
       "      <th>ps_calc_18_bin</th>\n",
       "      <th>ps_calc_19_bin</th>\n",
       "      <th>ps_calc_20_bin</th>\n",
       "      <th>pred_target</th>\n",
       "    </tr>\n",
       "  </thead>\n",
       "  <tbody>\n",
       "    <tr>\n",
       "      <th>619009</th>\n",
       "      <td>-0.453868</td>\n",
       "      <td>2</td>\n",
       "      <td>-0.897559</td>\n",
       "      <td>2</td>\n",
       "      <td>2</td>\n",
       "      <td>2</td>\n",
       "      <td>1</td>\n",
       "      <td>1</td>\n",
       "      <td>1</td>\n",
       "      <td>1</td>\n",
       "      <td>...</td>\n",
       "      <td>-0.367359</td>\n",
       "      <td>0.665362</td>\n",
       "      <td>0.531911</td>\n",
       "      <td>1</td>\n",
       "      <td>1</td>\n",
       "      <td>2</td>\n",
       "      <td>1</td>\n",
       "      <td>1</td>\n",
       "      <td>1</td>\n",
       "      <td>0.000584</td>\n",
       "    </tr>\n",
       "    <tr>\n",
       "      <th>766528</th>\n",
       "      <td>-0.453868</td>\n",
       "      <td>2</td>\n",
       "      <td>-0.156790</td>\n",
       "      <td>3</td>\n",
       "      <td>2</td>\n",
       "      <td>2</td>\n",
       "      <td>1</td>\n",
       "      <td>1</td>\n",
       "      <td>1</td>\n",
       "      <td>1</td>\n",
       "      <td>...</td>\n",
       "      <td>-0.367359</td>\n",
       "      <td>-0.514659</td>\n",
       "      <td>-0.560329</td>\n",
       "      <td>1</td>\n",
       "      <td>2</td>\n",
       "      <td>2</td>\n",
       "      <td>1</td>\n",
       "      <td>1</td>\n",
       "      <td>1</td>\n",
       "      <td>0.000857</td>\n",
       "    </tr>\n",
       "    <tr>\n",
       "      <th>536964</th>\n",
       "      <td>2.570649</td>\n",
       "      <td>2</td>\n",
       "      <td>-0.527174</td>\n",
       "      <td>3</td>\n",
       "      <td>2</td>\n",
       "      <td>1</td>\n",
       "      <td>1</td>\n",
       "      <td>1</td>\n",
       "      <td>2</td>\n",
       "      <td>1</td>\n",
       "      <td>...</td>\n",
       "      <td>2.126487</td>\n",
       "      <td>-1.104669</td>\n",
       "      <td>0.167831</td>\n",
       "      <td>2</td>\n",
       "      <td>2</td>\n",
       "      <td>1</td>\n",
       "      <td>1</td>\n",
       "      <td>1</td>\n",
       "      <td>1</td>\n",
       "      <td>0.000867</td>\n",
       "    </tr>\n",
       "    <tr>\n",
       "      <th>540078</th>\n",
       "      <td>-0.957955</td>\n",
       "      <td>2</td>\n",
       "      <td>-0.527174</td>\n",
       "      <td>2</td>\n",
       "      <td>2</td>\n",
       "      <td>1</td>\n",
       "      <td>1</td>\n",
       "      <td>1</td>\n",
       "      <td>2</td>\n",
       "      <td>1</td>\n",
       "      <td>...</td>\n",
       "      <td>0.463923</td>\n",
       "      <td>0.075352</td>\n",
       "      <td>2.352311</td>\n",
       "      <td>1</td>\n",
       "      <td>2</td>\n",
       "      <td>1</td>\n",
       "      <td>1</td>\n",
       "      <td>1</td>\n",
       "      <td>1</td>\n",
       "      <td>0.000872</td>\n",
       "    </tr>\n",
       "    <tr>\n",
       "      <th>592040</th>\n",
       "      <td>-0.957955</td>\n",
       "      <td>2</td>\n",
       "      <td>-0.897559</td>\n",
       "      <td>2</td>\n",
       "      <td>2</td>\n",
       "      <td>1</td>\n",
       "      <td>2</td>\n",
       "      <td>1</td>\n",
       "      <td>1</td>\n",
       "      <td>1</td>\n",
       "      <td>...</td>\n",
       "      <td>0.463923</td>\n",
       "      <td>-0.514659</td>\n",
       "      <td>1.624151</td>\n",
       "      <td>1</td>\n",
       "      <td>1</td>\n",
       "      <td>2</td>\n",
       "      <td>1</td>\n",
       "      <td>1</td>\n",
       "      <td>1</td>\n",
       "      <td>0.000912</td>\n",
       "    </tr>\n",
       "  </tbody>\n",
       "</table>\n",
       "<p>5 rows × 58 columns</p>\n",
       "</div>"
      ],
      "text/plain": [
       "        ps_ind_01 ps_ind_02_cat  ps_ind_03 ps_ind_04_cat ps_ind_05_cat  \\\n",
       "619009  -0.453868             2  -0.897559             2             2   \n",
       "766528  -0.453868             2  -0.156790             3             2   \n",
       "536964   2.570649             2  -0.527174             3             2   \n",
       "540078  -0.957955             2  -0.527174             2             2   \n",
       "592040  -0.957955             2  -0.897559             2             2   \n",
       "\n",
       "       ps_ind_06_bin ps_ind_07_bin ps_ind_08_bin ps_ind_09_bin ps_ind_10_bin  \\\n",
       "619009             2             1             1             1             1   \n",
       "766528             2             1             1             1             1   \n",
       "536964             1             1             1             2             1   \n",
       "540078             1             1             1             2             1   \n",
       "592040             1             2             1             1             1   \n",
       "\n",
       "           ...      ps_calc_12 ps_calc_13 ps_calc_14  ps_calc_15_bin  \\\n",
       "619009     ...       -0.367359   0.665362   0.531911               1   \n",
       "766528     ...       -0.367359  -0.514659  -0.560329               1   \n",
       "536964     ...        2.126487  -1.104669   0.167831               2   \n",
       "540078     ...        0.463923   0.075352   2.352311               1   \n",
       "592040     ...        0.463923  -0.514659   1.624151               1   \n",
       "\n",
       "        ps_calc_16_bin ps_calc_17_bin ps_calc_18_bin ps_calc_19_bin  \\\n",
       "619009               1              2              1              1   \n",
       "766528               2              2              1              1   \n",
       "536964               2              1              1              1   \n",
       "540078               2              1              1              1   \n",
       "592040               1              2              1              1   \n",
       "\n",
       "        ps_calc_20_bin  pred_target  \n",
       "619009               1     0.000584  \n",
       "766528               1     0.000857  \n",
       "536964               1     0.000867  \n",
       "540078               1     0.000872  \n",
       "592040               1     0.000912  \n",
       "\n",
       "[5 rows x 58 columns]"
      ]
     },
     "execution_count": 54,
     "metadata": {},
     "output_type": "execute_result"
    }
   ],
   "source": [
    "test_df.nsmallest(5, 'pred_target')"
   ]
  },
  {
   "cell_type": "markdown",
   "metadata": {},
   "source": [
    "## Submission"
   ]
  },
  {
   "cell_type": "code",
   "execution_count": 55,
   "metadata": {
    "ExecuteTime": {
     "end_time": "2017-11-29T00:14:16.664536Z",
     "start_time": "2017-11-29T00:14:16.642378Z"
    }
   },
   "outputs": [
    {
     "data": {
      "text/html": [
       "<div>\n",
       "<style scoped>\n",
       "    .dataframe tbody tr th:only-of-type {\n",
       "        vertical-align: middle;\n",
       "    }\n",
       "\n",
       "    .dataframe tbody tr th {\n",
       "        vertical-align: top;\n",
       "    }\n",
       "\n",
       "    .dataframe thead th {\n",
       "        text-align: right;\n",
       "    }\n",
       "</style>\n",
       "<table border=\"1\" class=\"dataframe\">\n",
       "  <thead>\n",
       "    <tr style=\"text-align: right;\">\n",
       "      <th></th>\n",
       "      <th>id</th>\n",
       "      <th>target</th>\n",
       "    </tr>\n",
       "  </thead>\n",
       "  <tbody>\n",
       "    <tr>\n",
       "      <th>0</th>\n",
       "      <td>0</td>\n",
       "      <td>0.032407</td>\n",
       "    </tr>\n",
       "    <tr>\n",
       "      <th>1</th>\n",
       "      <td>1</td>\n",
       "      <td>0.036474</td>\n",
       "    </tr>\n",
       "    <tr>\n",
       "      <th>2</th>\n",
       "      <td>2</td>\n",
       "      <td>0.024713</td>\n",
       "    </tr>\n",
       "    <tr>\n",
       "      <th>3</th>\n",
       "      <td>3</td>\n",
       "      <td>0.012117</td>\n",
       "    </tr>\n",
       "    <tr>\n",
       "      <th>4</th>\n",
       "      <td>4</td>\n",
       "      <td>0.034148</td>\n",
       "    </tr>\n",
       "    <tr>\n",
       "      <th>5</th>\n",
       "      <td>5</td>\n",
       "      <td>0.139604</td>\n",
       "    </tr>\n",
       "    <tr>\n",
       "      <th>6</th>\n",
       "      <td>6</td>\n",
       "      <td>0.010145</td>\n",
       "    </tr>\n",
       "    <tr>\n",
       "      <th>7</th>\n",
       "      <td>8</td>\n",
       "      <td>0.025084</td>\n",
       "    </tr>\n",
       "    <tr>\n",
       "      <th>8</th>\n",
       "      <td>10</td>\n",
       "      <td>0.029866</td>\n",
       "    </tr>\n",
       "    <tr>\n",
       "      <th>9</th>\n",
       "      <td>11</td>\n",
       "      <td>0.019766</td>\n",
       "    </tr>\n",
       "  </tbody>\n",
       "</table>\n",
       "</div>"
      ],
      "text/plain": [
       "   id    target\n",
       "0   0  0.032407\n",
       "1   1  0.036474\n",
       "2   2  0.024713\n",
       "3   3  0.012117\n",
       "4   4  0.034148\n",
       "5   5  0.139604\n",
       "6   6  0.010145\n",
       "7   8  0.025084\n",
       "8  10  0.029866\n",
       "9  11  0.019766"
      ]
     },
     "execution_count": 55,
     "metadata": {},
     "output_type": "execute_result"
    }
   ],
   "source": [
    "## Sets up the test use\n",
    "submission = pd.DataFrame({'id': test_data_df.id, 'target': test_df.pred_target})\n",
    "submission.id = submission.id.astype(int)\n",
    "# Shows 5 to ensure formatting is correct\n",
    "submission[:10]"
   ]
  },
  {
   "cell_type": "code",
   "execution_count": 56,
   "metadata": {
    "ExecuteTime": {
     "end_time": "2017-11-29T00:14:16.677856Z",
     "start_time": "2017-11-29T00:14:16.665568Z"
    }
   },
   "outputs": [],
   "source": [
    "# Makes the submission name out of folders\n",
    "path3 = PATH +'submits/'\n",
    "## labels submissions in order\n",
    "numFiles=len(os.listdir(path3))\n",
    "subm_name = 'submission'+str(numFiles)+'.csv.gz'"
   ]
  },
  {
   "cell_type": "code",
   "execution_count": 57,
   "metadata": {
    "ExecuteTime": {
     "end_time": "2017-11-29T00:14:23.626236Z",
     "start_time": "2017-11-29T00:14:16.678872Z"
    }
   },
   "outputs": [
    {
     "name": "stdout",
     "output_type": "stream",
     "text": [
      "http://localhost:8888/view/data/PortoDriver/submits/submission26.csv.gz\n"
     ]
    }
   ],
   "source": [
    "## prints it out to downloaded\n",
    "submission.to_csv((path3+subm_name), index=False, compression='gzip')\n",
    "print ('http://localhost:8888/view/data/PortoDriver/submits/'+subm_name)"
   ]
  },
  {
   "cell_type": "code",
   "execution_count": null,
   "metadata": {},
   "outputs": [],
   "source": []
  }
 ],
 "metadata": {
  "kernelspec": {
   "display_name": "Python 3",
   "language": "python",
   "name": "python3"
  },
  "language_info": {
   "codemirror_mode": {
    "name": "ipython",
    "version": 3
   },
   "file_extension": ".py",
   "mimetype": "text/x-python",
   "name": "python",
   "nbconvert_exporter": "python",
   "pygments_lexer": "ipython3",
   "version": "3.6.3"
  },
  "latex_envs": {
   "LaTeX_envs_menu_present": true,
   "autocomplete": true,
   "bibliofile": "biblio.bib",
   "cite_by": "apalike",
   "current_citInitial": 1,
   "eqLabelWithNumbers": true,
   "eqNumInitial": 1,
   "hotkeys": {
    "equation": "Ctrl-E",
    "itemize": "Ctrl-I"
   },
   "labels_anchors": false,
   "latex_user_defs": false,
   "report_style_numbering": false,
   "user_envs_cfg": false
  },
  "notify_time": "10"
 },
 "nbformat": 4,
 "nbformat_minor": 2
}
