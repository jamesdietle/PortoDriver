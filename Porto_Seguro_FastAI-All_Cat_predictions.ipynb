{
 "cells": [
  {
   "cell_type": "markdown",
   "metadata": {},
   "source": [
    "In this implementation:\n",
    "- Missing values are treated as a separate category i.e. we do not replace missing values with NaN.\n",
    "- Use 99:1 train to validation set ratio.\n"
   ]
  },
  {
   "cell_type": "code",
   "execution_count": 1,
   "metadata": {
    "ExecuteTime": {
     "end_time": "2017-11-28T19:58:37.113924Z",
     "start_time": "2017-11-28T19:58:36.959978Z"
    }
   },
   "outputs": [],
   "source": [
    "%matplotlib inline\n",
    "%reload_ext autoreload\n",
    "%autoreload 2"
   ]
  },
  {
   "cell_type": "code",
   "execution_count": 2,
   "metadata": {
    "ExecuteTime": {
     "end_time": "2017-11-28T19:58:37.746991Z",
     "start_time": "2017-11-28T19:58:37.115074Z"
    }
   },
   "outputs": [],
   "source": [
    "from fastai.structured import *\n",
    "from fastai.column_data import *"
   ]
  },
  {
   "cell_type": "code",
   "execution_count": 3,
   "metadata": {
    "ExecuteTime": {
     "end_time": "2017-11-28T19:58:37.760766Z",
     "start_time": "2017-11-28T19:58:37.748205Z"
    }
   },
   "outputs": [],
   "source": [
    "# Set printing options. \n",
    "# These options determine the way floating point numbers, arrays and\n",
    "# other NumPy objects are displayed.\n",
    "np.set_printoptions(threshold=50, edgeitems=20)"
   ]
  },
  {
   "cell_type": "markdown",
   "metadata": {},
   "source": [
    "### Set data path"
   ]
  },
  {
   "cell_type": "code",
   "execution_count": 4,
   "metadata": {
    "ExecuteTime": {
     "end_time": "2017-11-28T19:58:37.773876Z",
     "start_time": "2017-11-28T19:58:37.761799Z"
    }
   },
   "outputs": [],
   "source": [
    "#PATH = 'data/porto-seguro/'\n",
    "PATH = '/home/jd/data/PortoDriver/'"
   ]
  },
  {
   "cell_type": "markdown",
   "metadata": {},
   "source": [
    "### Read csv data into dataframe"
   ]
  },
  {
   "cell_type": "code",
   "execution_count": 5,
   "metadata": {
    "ExecuteTime": {
     "end_time": "2017-11-28T19:58:43.438760Z",
     "start_time": "2017-11-28T19:58:37.774925Z"
    }
   },
   "outputs": [],
   "source": [
    "train_data_df = pd.read_csv(f'{PATH}train.csv')\n",
    "test_data_df = pd.read_csv(f'{PATH}test.csv')\n",
    "\n",
    "# I need differant Path\n",
    "#train_data_df = pd.read_csv(f'{PATH}train/train.csv')\n",
    "#test_data_df = pd.read_csv(f'{PATH}test/test.csv')"
   ]
  },
  {
   "cell_type": "code",
   "execution_count": 6,
   "metadata": {
    "ExecuteTime": {
     "end_time": "2017-11-28T19:58:43.453557Z",
     "start_time": "2017-11-28T19:58:43.439919Z"
    }
   },
   "outputs": [],
   "source": [
    "# test_data need target\n",
    "test_data_df['target']=0"
   ]
  },
  {
   "cell_type": "markdown",
   "metadata": {},
   "source": [
    "### List of column names"
   ]
  },
  {
   "cell_type": "code",
   "execution_count": 7,
   "metadata": {
    "ExecuteTime": {
     "end_time": "2017-11-28T19:58:43.467197Z",
     "start_time": "2017-11-28T19:58:43.454657Z"
    }
   },
   "outputs": [],
   "source": [
    "all_var = [var for var in train_data_df.columns]"
   ]
  },
  {
   "cell_type": "code",
   "execution_count": 8,
   "metadata": {
    "ExecuteTime": {
     "end_time": "2017-11-28T19:58:43.482145Z",
     "start_time": "2017-11-28T19:58:43.468211Z"
    }
   },
   "outputs": [
    {
     "data": {
      "text/plain": [
       "['id',\n",
       " 'target',\n",
       " 'ps_ind_01',\n",
       " 'ps_ind_02_cat',\n",
       " 'ps_ind_03',\n",
       " 'ps_ind_04_cat',\n",
       " 'ps_ind_05_cat',\n",
       " 'ps_ind_06_bin',\n",
       " 'ps_ind_07_bin',\n",
       " 'ps_ind_08_bin',\n",
       " 'ps_ind_09_bin',\n",
       " 'ps_ind_10_bin',\n",
       " 'ps_ind_11_bin',\n",
       " 'ps_ind_12_bin',\n",
       " 'ps_ind_13_bin',\n",
       " 'ps_ind_14',\n",
       " 'ps_ind_15',\n",
       " 'ps_ind_16_bin',\n",
       " 'ps_ind_17_bin',\n",
       " 'ps_ind_18_bin',\n",
       " 'ps_reg_01',\n",
       " 'ps_reg_02',\n",
       " 'ps_reg_03',\n",
       " 'ps_car_01_cat',\n",
       " 'ps_car_02_cat',\n",
       " 'ps_car_03_cat',\n",
       " 'ps_car_04_cat',\n",
       " 'ps_car_05_cat',\n",
       " 'ps_car_06_cat',\n",
       " 'ps_car_07_cat',\n",
       " 'ps_car_08_cat',\n",
       " 'ps_car_09_cat',\n",
       " 'ps_car_10_cat',\n",
       " 'ps_car_11_cat',\n",
       " 'ps_car_11',\n",
       " 'ps_car_12',\n",
       " 'ps_car_13',\n",
       " 'ps_car_14',\n",
       " 'ps_car_15',\n",
       " 'ps_calc_01',\n",
       " 'ps_calc_02',\n",
       " 'ps_calc_03',\n",
       " 'ps_calc_04',\n",
       " 'ps_calc_05',\n",
       " 'ps_calc_06',\n",
       " 'ps_calc_07',\n",
       " 'ps_calc_08',\n",
       " 'ps_calc_09',\n",
       " 'ps_calc_10',\n",
       " 'ps_calc_11',\n",
       " 'ps_calc_12',\n",
       " 'ps_calc_13',\n",
       " 'ps_calc_14',\n",
       " 'ps_calc_15_bin',\n",
       " 'ps_calc_16_bin',\n",
       " 'ps_calc_17_bin',\n",
       " 'ps_calc_18_bin',\n",
       " 'ps_calc_19_bin',\n",
       " 'ps_calc_20_bin']"
      ]
     },
     "execution_count": 8,
     "metadata": {},
     "output_type": "execute_result"
    }
   ],
   "source": [
    "all_var"
   ]
  },
  {
   "cell_type": "markdown",
   "metadata": {},
   "source": [
    "### Create list of categorical and continuous variables"
   ]
  },
  {
   "cell_type": "code",
   "execution_count": 9,
   "metadata": {
    "ExecuteTime": {
     "end_time": "2017-11-28T19:58:43.498199Z",
     "start_time": "2017-11-28T19:58:43.483123Z"
    }
   },
   "outputs": [
    {
     "data": {
      "text/plain": [
       "['ps_ind_02_cat',\n",
       " 'ps_ind_04_cat',\n",
       " 'ps_ind_05_cat',\n",
       " 'ps_car_01_cat',\n",
       " 'ps_car_02_cat',\n",
       " 'ps_car_03_cat',\n",
       " 'ps_car_04_cat',\n",
       " 'ps_car_05_cat',\n",
       " 'ps_car_06_cat',\n",
       " 'ps_car_07_cat',\n",
       " 'ps_car_08_cat',\n",
       " 'ps_car_09_cat',\n",
       " 'ps_car_10_cat',\n",
       " 'ps_car_11_cat',\n",
       " 'ps_ind_06_bin',\n",
       " 'ps_ind_07_bin',\n",
       " 'ps_ind_08_bin',\n",
       " 'ps_ind_09_bin',\n",
       " 'ps_ind_10_bin',\n",
       " 'ps_ind_11_bin',\n",
       " 'ps_ind_12_bin',\n",
       " 'ps_ind_13_bin',\n",
       " 'ps_ind_16_bin',\n",
       " 'ps_ind_17_bin',\n",
       " 'ps_ind_18_bin',\n",
       " 'ps_calc_15_bin',\n",
       " 'ps_calc_16_bin',\n",
       " 'ps_calc_17_bin',\n",
       " 'ps_calc_18_bin',\n",
       " 'ps_calc_19_bin',\n",
       " 'ps_calc_20_bin']"
      ]
     },
     "execution_count": 9,
     "metadata": {},
     "output_type": "execute_result"
    }
   ],
   "source": [
    "cat_vars = [var for var in train_data_df.columns if var.endswith('cat')]\n",
    "bin_vars = [var for var in train_data_df.columns if var.endswith('bin')]\n",
    "ind_vars = ['ps_ind_01', 'ps_ind_03','ps_ind_14', 'ps_ind_15']\n",
    "cat_vars = cat_vars + bin_vars #+ ind_vars\n",
    "cat_vars"
   ]
  },
  {
   "cell_type": "code",
   "execution_count": 10,
   "metadata": {
    "ExecuteTime": {
     "end_time": "2017-11-28T19:58:43.512768Z",
     "start_time": "2017-11-28T19:58:43.499175Z"
    }
   },
   "outputs": [
    {
     "data": {
      "text/plain": [
       "['id',\n",
       " 'target',\n",
       " 'ps_ind_01',\n",
       " 'ps_ind_03',\n",
       " 'ps_ind_14',\n",
       " 'ps_ind_15',\n",
       " 'ps_reg_01',\n",
       " 'ps_reg_02',\n",
       " 'ps_reg_03',\n",
       " 'ps_car_11',\n",
       " 'ps_car_12',\n",
       " 'ps_car_13',\n",
       " 'ps_car_14',\n",
       " 'ps_car_15',\n",
       " 'ps_calc_01',\n",
       " 'ps_calc_02',\n",
       " 'ps_calc_03',\n",
       " 'ps_calc_04',\n",
       " 'ps_calc_05',\n",
       " 'ps_calc_06',\n",
       " 'ps_calc_07',\n",
       " 'ps_calc_08',\n",
       " 'ps_calc_09',\n",
       " 'ps_calc_10',\n",
       " 'ps_calc_11',\n",
       " 'ps_calc_12',\n",
       " 'ps_calc_13',\n",
       " 'ps_calc_14']"
      ]
     },
     "execution_count": 10,
     "metadata": {},
     "output_type": "execute_result"
    }
   ],
   "source": [
    "cont_vars = [var for var in train_data_df.columns if var not in cat_vars]\n",
    "cont_vars"
   ]
  },
  {
   "cell_type": "code",
   "execution_count": 11,
   "metadata": {
    "ExecuteTime": {
     "end_time": "2017-11-28T19:58:46.079984Z",
     "start_time": "2017-11-28T19:58:43.513777Z"
    }
   },
   "outputs": [],
   "source": [
    "for var in cat_vars: \n",
    "    train_data_df[var] = train_data_df[var].astype('category').cat.as_ordered()\n",
    "    test_data_df[var] = test_data_df[var].astype('category').cat.as_ordered()"
   ]
  },
  {
   "cell_type": "code",
   "execution_count": 12,
   "metadata": {
    "ExecuteTime": {
     "end_time": "2017-11-28T19:58:46.541648Z",
     "start_time": "2017-11-28T19:58:46.081082Z"
    }
   },
   "outputs": [],
   "source": [
    "for var in cont_vars:\n",
    "    train_data_df[var] = train_data_df[var].astype('float32')\n",
    "    test_data_df[var] = test_data_df[var].astype('float32')"
   ]
  },
  {
   "cell_type": "code",
   "execution_count": 13,
   "metadata": {
    "ExecuteTime": {
     "end_time": "2017-11-28T19:58:46.555343Z",
     "start_time": "2017-11-28T19:58:46.542867Z"
    }
   },
   "outputs": [],
   "source": [
    "del cont_vars[1]"
   ]
  },
  {
   "cell_type": "code",
   "execution_count": 14,
   "metadata": {
    "ExecuteTime": {
     "end_time": "2017-11-28T19:58:46.569218Z",
     "start_time": "2017-11-28T19:58:46.556293Z"
    }
   },
   "outputs": [
    {
     "data": {
      "text/plain": [
       "['id',\n",
       " 'ps_ind_01',\n",
       " 'ps_ind_03',\n",
       " 'ps_ind_14',\n",
       " 'ps_ind_15',\n",
       " 'ps_reg_01',\n",
       " 'ps_reg_02',\n",
       " 'ps_reg_03',\n",
       " 'ps_car_11',\n",
       " 'ps_car_12',\n",
       " 'ps_car_13',\n",
       " 'ps_car_14',\n",
       " 'ps_car_15',\n",
       " 'ps_calc_01',\n",
       " 'ps_calc_02',\n",
       " 'ps_calc_03',\n",
       " 'ps_calc_04',\n",
       " 'ps_calc_05',\n",
       " 'ps_calc_06',\n",
       " 'ps_calc_07',\n",
       " 'ps_calc_08',\n",
       " 'ps_calc_09',\n",
       " 'ps_calc_10',\n",
       " 'ps_calc_11',\n",
       " 'ps_calc_12',\n",
       " 'ps_calc_13',\n",
       " 'ps_calc_14']"
      ]
     },
     "execution_count": 14,
     "metadata": {},
     "output_type": "execute_result"
    }
   ],
   "source": [
    "cont_vars"
   ]
  },
  {
   "cell_type": "code",
   "execution_count": 15,
   "metadata": {
    "ExecuteTime": {
     "end_time": "2017-11-28T19:58:47.033995Z",
     "start_time": "2017-11-28T19:58:46.570167Z"
    },
    "scrolled": true
   },
   "outputs": [
    {
     "name": "stdout",
     "output_type": "stream",
     "text": [
      "<class 'pandas.core.frame.DataFrame'>\n",
      "RangeIndex: 595212 entries, 0 to 595211\n",
      "Data columns (total 59 columns):\n",
      "id                595212 non-null float32\n",
      "target            595212 non-null float32\n",
      "ps_ind_01         595212 non-null float32\n",
      "ps_ind_02_cat     595212 non-null category\n",
      "ps_ind_03         595212 non-null float32\n",
      "ps_ind_04_cat     595212 non-null category\n",
      "ps_ind_05_cat     595212 non-null category\n",
      "ps_ind_06_bin     595212 non-null category\n",
      "ps_ind_07_bin     595212 non-null category\n",
      "ps_ind_08_bin     595212 non-null category\n",
      "ps_ind_09_bin     595212 non-null category\n",
      "ps_ind_10_bin     595212 non-null category\n",
      "ps_ind_11_bin     595212 non-null category\n",
      "ps_ind_12_bin     595212 non-null category\n",
      "ps_ind_13_bin     595212 non-null category\n",
      "ps_ind_14         595212 non-null float32\n",
      "ps_ind_15         595212 non-null float32\n",
      "ps_ind_16_bin     595212 non-null category\n",
      "ps_ind_17_bin     595212 non-null category\n",
      "ps_ind_18_bin     595212 non-null category\n",
      "ps_reg_01         595212 non-null float32\n",
      "ps_reg_02         595212 non-null float32\n",
      "ps_reg_03         595212 non-null float32\n",
      "ps_car_01_cat     595212 non-null category\n",
      "ps_car_02_cat     595212 non-null category\n",
      "ps_car_03_cat     595212 non-null category\n",
      "ps_car_04_cat     595212 non-null category\n",
      "ps_car_05_cat     595212 non-null category\n",
      "ps_car_06_cat     595212 non-null category\n",
      "ps_car_07_cat     595212 non-null category\n",
      "ps_car_08_cat     595212 non-null category\n",
      "ps_car_09_cat     595212 non-null category\n",
      "ps_car_10_cat     595212 non-null category\n",
      "ps_car_11_cat     595212 non-null category\n",
      "ps_car_11         595212 non-null float32\n",
      "ps_car_12         595212 non-null float32\n",
      "ps_car_13         595212 non-null float32\n",
      "ps_car_14         595212 non-null float32\n",
      "ps_car_15         595212 non-null float32\n",
      "ps_calc_01        595212 non-null float32\n",
      "ps_calc_02        595212 non-null float32\n",
      "ps_calc_03        595212 non-null float32\n",
      "ps_calc_04        595212 non-null float32\n",
      "ps_calc_05        595212 non-null float32\n",
      "ps_calc_06        595212 non-null float32\n",
      "ps_calc_07        595212 non-null float32\n",
      "ps_calc_08        595212 non-null float32\n",
      "ps_calc_09        595212 non-null float32\n",
      "ps_calc_10        595212 non-null float32\n",
      "ps_calc_11        595212 non-null float32\n",
      "ps_calc_12        595212 non-null float32\n",
      "ps_calc_13        595212 non-null float32\n",
      "ps_calc_14        595212 non-null float32\n",
      "ps_calc_15_bin    595212 non-null category\n",
      "ps_calc_16_bin    595212 non-null category\n",
      "ps_calc_17_bin    595212 non-null category\n",
      "ps_calc_18_bin    595212 non-null category\n",
      "ps_calc_19_bin    595212 non-null category\n",
      "ps_calc_20_bin    595212 non-null category\n",
      "dtypes: category(31), float32(28)\n",
      "memory usage: 81.2 MB\n"
     ]
    }
   ],
   "source": [
    "train_data_df.info()"
   ]
  },
  {
   "cell_type": "markdown",
   "metadata": {},
   "source": [
    "### Display training data sample"
   ]
  },
  {
   "cell_type": "code",
   "execution_count": 16,
   "metadata": {
    "ExecuteTime": {
     "end_time": "2017-11-28T19:58:47.066047Z",
     "start_time": "2017-11-28T19:58:47.035115Z"
    }
   },
   "outputs": [
    {
     "data": {
      "text/html": [
       "<div>\n",
       "<style scoped>\n",
       "    .dataframe tbody tr th:only-of-type {\n",
       "        vertical-align: middle;\n",
       "    }\n",
       "\n",
       "    .dataframe tbody tr th {\n",
       "        vertical-align: top;\n",
       "    }\n",
       "\n",
       "    .dataframe thead th {\n",
       "        text-align: right;\n",
       "    }\n",
       "</style>\n",
       "<table border=\"1\" class=\"dataframe\">\n",
       "  <thead>\n",
       "    <tr style=\"text-align: right;\">\n",
       "      <th></th>\n",
       "      <th>id</th>\n",
       "      <th>target</th>\n",
       "      <th>ps_ind_01</th>\n",
       "      <th>ps_ind_02_cat</th>\n",
       "      <th>ps_ind_03</th>\n",
       "      <th>ps_ind_04_cat</th>\n",
       "      <th>ps_ind_05_cat</th>\n",
       "      <th>ps_ind_06_bin</th>\n",
       "      <th>ps_ind_07_bin</th>\n",
       "      <th>ps_ind_08_bin</th>\n",
       "      <th>...</th>\n",
       "      <th>ps_calc_11</th>\n",
       "      <th>ps_calc_12</th>\n",
       "      <th>ps_calc_13</th>\n",
       "      <th>ps_calc_14</th>\n",
       "      <th>ps_calc_15_bin</th>\n",
       "      <th>ps_calc_16_bin</th>\n",
       "      <th>ps_calc_17_bin</th>\n",
       "      <th>ps_calc_18_bin</th>\n",
       "      <th>ps_calc_19_bin</th>\n",
       "      <th>ps_calc_20_bin</th>\n",
       "    </tr>\n",
       "  </thead>\n",
       "  <tbody>\n",
       "    <tr>\n",
       "      <th>0</th>\n",
       "      <td>7.0</td>\n",
       "      <td>0.0</td>\n",
       "      <td>2.0</td>\n",
       "      <td>2</td>\n",
       "      <td>5.0</td>\n",
       "      <td>1</td>\n",
       "      <td>0</td>\n",
       "      <td>0</td>\n",
       "      <td>1</td>\n",
       "      <td>0</td>\n",
       "      <td>...</td>\n",
       "      <td>9.0</td>\n",
       "      <td>1.0</td>\n",
       "      <td>5.0</td>\n",
       "      <td>8.0</td>\n",
       "      <td>0</td>\n",
       "      <td>1</td>\n",
       "      <td>1</td>\n",
       "      <td>0</td>\n",
       "      <td>0</td>\n",
       "      <td>1</td>\n",
       "    </tr>\n",
       "    <tr>\n",
       "      <th>1</th>\n",
       "      <td>9.0</td>\n",
       "      <td>0.0</td>\n",
       "      <td>1.0</td>\n",
       "      <td>1</td>\n",
       "      <td>7.0</td>\n",
       "      <td>0</td>\n",
       "      <td>0</td>\n",
       "      <td>0</td>\n",
       "      <td>0</td>\n",
       "      <td>1</td>\n",
       "      <td>...</td>\n",
       "      <td>3.0</td>\n",
       "      <td>1.0</td>\n",
       "      <td>1.0</td>\n",
       "      <td>9.0</td>\n",
       "      <td>0</td>\n",
       "      <td>1</td>\n",
       "      <td>1</td>\n",
       "      <td>0</td>\n",
       "      <td>1</td>\n",
       "      <td>0</td>\n",
       "    </tr>\n",
       "    <tr>\n",
       "      <th>2</th>\n",
       "      <td>13.0</td>\n",
       "      <td>0.0</td>\n",
       "      <td>5.0</td>\n",
       "      <td>4</td>\n",
       "      <td>9.0</td>\n",
       "      <td>1</td>\n",
       "      <td>0</td>\n",
       "      <td>0</td>\n",
       "      <td>0</td>\n",
       "      <td>1</td>\n",
       "      <td>...</td>\n",
       "      <td>4.0</td>\n",
       "      <td>2.0</td>\n",
       "      <td>7.0</td>\n",
       "      <td>7.0</td>\n",
       "      <td>0</td>\n",
       "      <td>1</td>\n",
       "      <td>1</td>\n",
       "      <td>0</td>\n",
       "      <td>1</td>\n",
       "      <td>0</td>\n",
       "    </tr>\n",
       "    <tr>\n",
       "      <th>3</th>\n",
       "      <td>16.0</td>\n",
       "      <td>0.0</td>\n",
       "      <td>0.0</td>\n",
       "      <td>1</td>\n",
       "      <td>2.0</td>\n",
       "      <td>0</td>\n",
       "      <td>0</td>\n",
       "      <td>1</td>\n",
       "      <td>0</td>\n",
       "      <td>0</td>\n",
       "      <td>...</td>\n",
       "      <td>2.0</td>\n",
       "      <td>2.0</td>\n",
       "      <td>4.0</td>\n",
       "      <td>9.0</td>\n",
       "      <td>0</td>\n",
       "      <td>0</td>\n",
       "      <td>0</td>\n",
       "      <td>0</td>\n",
       "      <td>0</td>\n",
       "      <td>0</td>\n",
       "    </tr>\n",
       "    <tr>\n",
       "      <th>4</th>\n",
       "      <td>17.0</td>\n",
       "      <td>0.0</td>\n",
       "      <td>0.0</td>\n",
       "      <td>2</td>\n",
       "      <td>0.0</td>\n",
       "      <td>1</td>\n",
       "      <td>0</td>\n",
       "      <td>1</td>\n",
       "      <td>0</td>\n",
       "      <td>0</td>\n",
       "      <td>...</td>\n",
       "      <td>3.0</td>\n",
       "      <td>1.0</td>\n",
       "      <td>1.0</td>\n",
       "      <td>3.0</td>\n",
       "      <td>0</td>\n",
       "      <td>0</td>\n",
       "      <td>0</td>\n",
       "      <td>1</td>\n",
       "      <td>1</td>\n",
       "      <td>0</td>\n",
       "    </tr>\n",
       "  </tbody>\n",
       "</table>\n",
       "<p>5 rows × 59 columns</p>\n",
       "</div>"
      ],
      "text/plain": [
       "     id  target  ps_ind_01 ps_ind_02_cat  ps_ind_03 ps_ind_04_cat  \\\n",
       "0   7.0     0.0        2.0             2        5.0             1   \n",
       "1   9.0     0.0        1.0             1        7.0             0   \n",
       "2  13.0     0.0        5.0             4        9.0             1   \n",
       "3  16.0     0.0        0.0             1        2.0             0   \n",
       "4  17.0     0.0        0.0             2        0.0             1   \n",
       "\n",
       "  ps_ind_05_cat ps_ind_06_bin ps_ind_07_bin ps_ind_08_bin      ...        \\\n",
       "0             0             0             1             0      ...         \n",
       "1             0             0             0             1      ...         \n",
       "2             0             0             0             1      ...         \n",
       "3             0             1             0             0      ...         \n",
       "4             0             1             0             0      ...         \n",
       "\n",
       "  ps_calc_11 ps_calc_12 ps_calc_13 ps_calc_14 ps_calc_15_bin  ps_calc_16_bin  \\\n",
       "0        9.0        1.0        5.0        8.0              0               1   \n",
       "1        3.0        1.0        1.0        9.0              0               1   \n",
       "2        4.0        2.0        7.0        7.0              0               1   \n",
       "3        2.0        2.0        4.0        9.0              0               0   \n",
       "4        3.0        1.0        1.0        3.0              0               0   \n",
       "\n",
       "   ps_calc_17_bin ps_calc_18_bin ps_calc_19_bin ps_calc_20_bin  \n",
       "0               1              0              0              1  \n",
       "1               1              0              1              0  \n",
       "2               1              0              1              0  \n",
       "3               0              0              0              0  \n",
       "4               0              1              1              0  \n",
       "\n",
       "[5 rows x 59 columns]"
      ]
     },
     "execution_count": 16,
     "metadata": {},
     "output_type": "execute_result"
    }
   ],
   "source": [
    "train_data_df.head()"
   ]
  },
  {
   "cell_type": "markdown",
   "metadata": {},
   "source": [
    "### Display test data sample"
   ]
  },
  {
   "cell_type": "code",
   "execution_count": 17,
   "metadata": {
    "ExecuteTime": {
     "end_time": "2017-11-28T19:58:47.097785Z",
     "start_time": "2017-11-28T19:58:47.067078Z"
    }
   },
   "outputs": [
    {
     "data": {
      "text/html": [
       "<div>\n",
       "<style scoped>\n",
       "    .dataframe tbody tr th:only-of-type {\n",
       "        vertical-align: middle;\n",
       "    }\n",
       "\n",
       "    .dataframe tbody tr th {\n",
       "        vertical-align: top;\n",
       "    }\n",
       "\n",
       "    .dataframe thead th {\n",
       "        text-align: right;\n",
       "    }\n",
       "</style>\n",
       "<table border=\"1\" class=\"dataframe\">\n",
       "  <thead>\n",
       "    <tr style=\"text-align: right;\">\n",
       "      <th></th>\n",
       "      <th>id</th>\n",
       "      <th>ps_ind_01</th>\n",
       "      <th>ps_ind_02_cat</th>\n",
       "      <th>ps_ind_03</th>\n",
       "      <th>ps_ind_04_cat</th>\n",
       "      <th>ps_ind_05_cat</th>\n",
       "      <th>ps_ind_06_bin</th>\n",
       "      <th>ps_ind_07_bin</th>\n",
       "      <th>ps_ind_08_bin</th>\n",
       "      <th>ps_ind_09_bin</th>\n",
       "      <th>...</th>\n",
       "      <th>ps_calc_12</th>\n",
       "      <th>ps_calc_13</th>\n",
       "      <th>ps_calc_14</th>\n",
       "      <th>ps_calc_15_bin</th>\n",
       "      <th>ps_calc_16_bin</th>\n",
       "      <th>ps_calc_17_bin</th>\n",
       "      <th>ps_calc_18_bin</th>\n",
       "      <th>ps_calc_19_bin</th>\n",
       "      <th>ps_calc_20_bin</th>\n",
       "      <th>target</th>\n",
       "    </tr>\n",
       "  </thead>\n",
       "  <tbody>\n",
       "    <tr>\n",
       "      <th>0</th>\n",
       "      <td>0.0</td>\n",
       "      <td>0.0</td>\n",
       "      <td>1</td>\n",
       "      <td>8.0</td>\n",
       "      <td>1</td>\n",
       "      <td>0</td>\n",
       "      <td>0</td>\n",
       "      <td>1</td>\n",
       "      <td>0</td>\n",
       "      <td>0</td>\n",
       "      <td>...</td>\n",
       "      <td>1.0</td>\n",
       "      <td>1.0</td>\n",
       "      <td>12.0</td>\n",
       "      <td>0</td>\n",
       "      <td>1</td>\n",
       "      <td>1</td>\n",
       "      <td>0</td>\n",
       "      <td>0</td>\n",
       "      <td>1</td>\n",
       "      <td>0.0</td>\n",
       "    </tr>\n",
       "    <tr>\n",
       "      <th>1</th>\n",
       "      <td>1.0</td>\n",
       "      <td>4.0</td>\n",
       "      <td>2</td>\n",
       "      <td>5.0</td>\n",
       "      <td>1</td>\n",
       "      <td>0</td>\n",
       "      <td>0</td>\n",
       "      <td>0</td>\n",
       "      <td>0</td>\n",
       "      <td>1</td>\n",
       "      <td>...</td>\n",
       "      <td>0.0</td>\n",
       "      <td>3.0</td>\n",
       "      <td>10.0</td>\n",
       "      <td>0</td>\n",
       "      <td>0</td>\n",
       "      <td>1</td>\n",
       "      <td>1</td>\n",
       "      <td>0</td>\n",
       "      <td>1</td>\n",
       "      <td>0.0</td>\n",
       "    </tr>\n",
       "    <tr>\n",
       "      <th>2</th>\n",
       "      <td>2.0</td>\n",
       "      <td>5.0</td>\n",
       "      <td>1</td>\n",
       "      <td>3.0</td>\n",
       "      <td>0</td>\n",
       "      <td>0</td>\n",
       "      <td>0</td>\n",
       "      <td>0</td>\n",
       "      <td>0</td>\n",
       "      <td>1</td>\n",
       "      <td>...</td>\n",
       "      <td>0.0</td>\n",
       "      <td>2.0</td>\n",
       "      <td>4.0</td>\n",
       "      <td>0</td>\n",
       "      <td>0</td>\n",
       "      <td>0</td>\n",
       "      <td>0</td>\n",
       "      <td>0</td>\n",
       "      <td>0</td>\n",
       "      <td>0.0</td>\n",
       "    </tr>\n",
       "    <tr>\n",
       "      <th>3</th>\n",
       "      <td>3.0</td>\n",
       "      <td>0.0</td>\n",
       "      <td>1</td>\n",
       "      <td>6.0</td>\n",
       "      <td>0</td>\n",
       "      <td>0</td>\n",
       "      <td>1</td>\n",
       "      <td>0</td>\n",
       "      <td>0</td>\n",
       "      <td>0</td>\n",
       "      <td>...</td>\n",
       "      <td>1.0</td>\n",
       "      <td>0.0</td>\n",
       "      <td>5.0</td>\n",
       "      <td>1</td>\n",
       "      <td>0</td>\n",
       "      <td>1</td>\n",
       "      <td>0</td>\n",
       "      <td>0</td>\n",
       "      <td>0</td>\n",
       "      <td>0.0</td>\n",
       "    </tr>\n",
       "    <tr>\n",
       "      <th>4</th>\n",
       "      <td>4.0</td>\n",
       "      <td>5.0</td>\n",
       "      <td>1</td>\n",
       "      <td>7.0</td>\n",
       "      <td>0</td>\n",
       "      <td>0</td>\n",
       "      <td>0</td>\n",
       "      <td>0</td>\n",
       "      <td>0</td>\n",
       "      <td>1</td>\n",
       "      <td>...</td>\n",
       "      <td>0.0</td>\n",
       "      <td>0.0</td>\n",
       "      <td>4.0</td>\n",
       "      <td>0</td>\n",
       "      <td>1</td>\n",
       "      <td>1</td>\n",
       "      <td>0</td>\n",
       "      <td>0</td>\n",
       "      <td>1</td>\n",
       "      <td>0.0</td>\n",
       "    </tr>\n",
       "  </tbody>\n",
       "</table>\n",
       "<p>5 rows × 59 columns</p>\n",
       "</div>"
      ],
      "text/plain": [
       "    id  ps_ind_01 ps_ind_02_cat  ps_ind_03 ps_ind_04_cat ps_ind_05_cat  \\\n",
       "0  0.0        0.0             1        8.0             1             0   \n",
       "1  1.0        4.0             2        5.0             1             0   \n",
       "2  2.0        5.0             1        3.0             0             0   \n",
       "3  3.0        0.0             1        6.0             0             0   \n",
       "4  4.0        5.0             1        7.0             0             0   \n",
       "\n",
       "  ps_ind_06_bin ps_ind_07_bin ps_ind_08_bin ps_ind_09_bin   ...   ps_calc_12  \\\n",
       "0             0             1             0             0   ...          1.0   \n",
       "1             0             0             0             1   ...          0.0   \n",
       "2             0             0             0             1   ...          0.0   \n",
       "3             1             0             0             0   ...          1.0   \n",
       "4             0             0             0             1   ...          0.0   \n",
       "\n",
       "  ps_calc_13 ps_calc_14 ps_calc_15_bin  ps_calc_16_bin  ps_calc_17_bin  \\\n",
       "0        1.0       12.0              0               1               1   \n",
       "1        3.0       10.0              0               0               1   \n",
       "2        2.0        4.0              0               0               0   \n",
       "3        0.0        5.0              1               0               1   \n",
       "4        0.0        4.0              0               1               1   \n",
       "\n",
       "  ps_calc_18_bin ps_calc_19_bin ps_calc_20_bin  target  \n",
       "0              0              0              1     0.0  \n",
       "1              1              0              1     0.0  \n",
       "2              0              0              0     0.0  \n",
       "3              0              0              0     0.0  \n",
       "4              0              0              1     0.0  \n",
       "\n",
       "[5 rows x 59 columns]"
      ]
     },
     "execution_count": 17,
     "metadata": {},
     "output_type": "execute_result"
    }
   ],
   "source": [
    "test_data_df.head()"
   ]
  },
  {
   "cell_type": "markdown",
   "metadata": {},
   "source": [
    "### Create validation set indices"
   ]
  },
  {
   "cell_type": "code",
   "execution_count": 18,
   "metadata": {
    "ExecuteTime": {
     "end_time": "2017-11-28T19:58:47.161091Z",
     "start_time": "2017-11-28T19:58:47.098865Z"
    }
   },
   "outputs": [],
   "source": [
    "# Tune VAL_PCT hyperparameter\n",
    "# Tune MAX_FOLDS hyperparameter\n",
    "VAL_FRAC = 0.01\n",
    "MAX_FOLDS = 5\n",
    "\n",
    "num_obs = train_data_df.shape[0]\n",
    "\n",
    "cv_dict = {f'ids_fold_{num_fold}': get_cv_idxs(n=num_obs, cv_idx=num_fold, val_pct=VAL_FRAC) for num_fold in range(MAX_FOLDS)}"
   ]
  },
  {
   "cell_type": "code",
   "execution_count": 19,
   "metadata": {
    "ExecuteTime": {
     "end_time": "2017-11-28T19:58:47.175133Z",
     "start_time": "2017-11-28T19:58:47.162229Z"
    }
   },
   "outputs": [
    {
     "data": {
      "text/plain": [
       "5952"
      ]
     },
     "execution_count": 19,
     "metadata": {},
     "output_type": "execute_result"
    }
   ],
   "source": [
    "len(cv_dict['ids_fold_0'])"
   ]
  },
  {
   "cell_type": "markdown",
   "metadata": {},
   "source": [
    "### Set response variable"
   ]
  },
  {
   "cell_type": "code",
   "execution_count": 20,
   "metadata": {
    "ExecuteTime": {
     "end_time": "2017-11-28T19:58:47.188043Z",
     "start_time": "2017-11-28T19:58:47.176083Z"
    }
   },
   "outputs": [],
   "source": [
    "TARGET_VAR = \"target\""
   ]
  },
  {
   "cell_type": "markdown",
   "metadata": {},
   "source": [
    "### Train set, response variable, feature scaling"
   ]
  },
  {
   "cell_type": "code",
   "execution_count": 21,
   "metadata": {
    "ExecuteTime": {
     "end_time": "2017-11-28T19:58:56.365415Z",
     "start_time": "2017-11-28T19:58:47.189076Z"
    }
   },
   "outputs": [],
   "source": [
    "train, target, nas, mapper = proc_df(df=train_data_df, y_fld=TARGET_VAR, do_scale=True)\n",
    "\n",
    "# for test\n",
    "test_df, target2, nas2, mapper2 = proc_df(df=test_data_df, y_fld=TARGET_VAR, do_scale=True, #skip_flds=['id'],\n",
    "                                  mapper=mapper, na_dict=nas)"
   ]
  },
  {
   "cell_type": "markdown",
   "metadata": {},
   "source": [
    "### Convert categorical values to type `category`"
   ]
  },
  {
   "cell_type": "code",
   "execution_count": 22,
   "metadata": {
    "ExecuteTime": {
     "end_time": "2017-11-28T19:58:56.901634Z",
     "start_time": "2017-11-28T19:58:56.366524Z"
    }
   },
   "outputs": [],
   "source": [
    "for var in cat_vars: \n",
    "    train[var] = train[var].astype('category').cat.as_ordered()\n",
    "    test_df[var] = test_df[var].astype('category').cat.as_ordered()"
   ]
  },
  {
   "cell_type": "markdown",
   "metadata": {},
   "source": [
    "### Convert remaining variables to `float32`"
   ]
  },
  {
   "cell_type": "code",
   "execution_count": 23,
   "metadata": {
    "ExecuteTime": {
     "end_time": "2017-11-28T19:58:57.328985Z",
     "start_time": "2017-11-28T19:58:56.902846Z"
    }
   },
   "outputs": [
    {
     "data": {
      "text/plain": [
       "array([ 0.,  0.,  0.,  0.,  0.,  0.,  0.,  0.,  0.,  1.,  0.,  0.,  0.,  0.,  0.,  0.,  0.,  0.,  0.,  1.,\n",
       "       ...,  0.,  0.,  0.,  0.,  0.,  0.,  0.,  0.,  0.,  0.,  0.,  0.,  0.,  0.,  0.,  0.,  0.,  0.,  0.,  0.], dtype=float32)"
      ]
     },
     "execution_count": 23,
     "metadata": {},
     "output_type": "execute_result"
    }
   ],
   "source": [
    "for var in cont_vars:\n",
    "    train[var] = train[var].astype('float32')\n",
    "    test_df[var] = test_df[var].astype('float32')\n",
    "\n",
    "target.astype('float32')"
   ]
  },
  {
   "cell_type": "code",
   "execution_count": 24,
   "metadata": {
    "ExecuteTime": {
     "end_time": "2017-11-28T19:58:57.770521Z",
     "start_time": "2017-11-28T19:58:57.330183Z"
    }
   },
   "outputs": [
    {
     "name": "stdout",
     "output_type": "stream",
     "text": [
      "<class 'pandas.core.frame.DataFrame'>\n",
      "RangeIndex: 595212 entries, 0 to 595211\n",
      "Data columns (total 58 columns):\n",
      "id                595212 non-null float32\n",
      "ps_ind_01         595212 non-null float32\n",
      "ps_ind_02_cat     595212 non-null category\n",
      "ps_ind_03         595212 non-null float32\n",
      "ps_ind_04_cat     595212 non-null category\n",
      "ps_ind_05_cat     595212 non-null category\n",
      "ps_ind_06_bin     595212 non-null category\n",
      "ps_ind_07_bin     595212 non-null category\n",
      "ps_ind_08_bin     595212 non-null category\n",
      "ps_ind_09_bin     595212 non-null category\n",
      "ps_ind_10_bin     595212 non-null category\n",
      "ps_ind_11_bin     595212 non-null category\n",
      "ps_ind_12_bin     595212 non-null category\n",
      "ps_ind_13_bin     595212 non-null category\n",
      "ps_ind_14         595212 non-null float32\n",
      "ps_ind_15         595212 non-null float32\n",
      "ps_ind_16_bin     595212 non-null category\n",
      "ps_ind_17_bin     595212 non-null category\n",
      "ps_ind_18_bin     595212 non-null category\n",
      "ps_reg_01         595212 non-null float32\n",
      "ps_reg_02         595212 non-null float32\n",
      "ps_reg_03         595212 non-null float32\n",
      "ps_car_01_cat     595212 non-null category\n",
      "ps_car_02_cat     595212 non-null category\n",
      "ps_car_03_cat     595212 non-null category\n",
      "ps_car_04_cat     595212 non-null category\n",
      "ps_car_05_cat     595212 non-null category\n",
      "ps_car_06_cat     595212 non-null category\n",
      "ps_car_07_cat     595212 non-null category\n",
      "ps_car_08_cat     595212 non-null category\n",
      "ps_car_09_cat     595212 non-null category\n",
      "ps_car_10_cat     595212 non-null category\n",
      "ps_car_11_cat     595212 non-null category\n",
      "ps_car_11         595212 non-null float32\n",
      "ps_car_12         595212 non-null float32\n",
      "ps_car_13         595212 non-null float32\n",
      "ps_car_14         595212 non-null float32\n",
      "ps_car_15         595212 non-null float32\n",
      "ps_calc_01        595212 non-null float32\n",
      "ps_calc_02        595212 non-null float32\n",
      "ps_calc_03        595212 non-null float32\n",
      "ps_calc_04        595212 non-null float32\n",
      "ps_calc_05        595212 non-null float32\n",
      "ps_calc_06        595212 non-null float32\n",
      "ps_calc_07        595212 non-null float32\n",
      "ps_calc_08        595212 non-null float32\n",
      "ps_calc_09        595212 non-null float32\n",
      "ps_calc_10        595212 non-null float32\n",
      "ps_calc_11        595212 non-null float32\n",
      "ps_calc_12        595212 non-null float32\n",
      "ps_calc_13        595212 non-null float32\n",
      "ps_calc_14        595212 non-null float32\n",
      "ps_calc_15_bin    595212 non-null category\n",
      "ps_calc_16_bin    595212 non-null category\n",
      "ps_calc_17_bin    595212 non-null category\n",
      "ps_calc_18_bin    595212 non-null category\n",
      "ps_calc_19_bin    595212 non-null category\n",
      "ps_calc_20_bin    595212 non-null category\n",
      "dtypes: category(31), float32(27)\n",
      "memory usage: 78.9 MB\n"
     ]
    }
   ],
   "source": [
    "train.info()"
   ]
  },
  {
   "cell_type": "markdown",
   "metadata": {},
   "source": [
    "### Gini metric"
   ]
  },
  {
   "cell_type": "code",
   "execution_count": 25,
   "metadata": {
    "ExecuteTime": {
     "end_time": "2017-11-28T19:58:57.785830Z",
     "start_time": "2017-11-28T19:58:57.771680Z"
    }
   },
   "outputs": [],
   "source": [
    "from sklearn.metrics import roc_auc_score\n",
    "\n",
    "inv_log = lambda x : np.exp(x)\n",
    "\n",
    "def gini_metric(preds, targs):\n",
    "    preds = inv_log(preds)\n",
    "    auc = roc_auc_score(y_true=targs, y_score=preds)\n",
    "    return 2 * auc - 1"
   ]
  },
  {
   "cell_type": "markdown",
   "metadata": {},
   "source": [
    "### Create embeddings"
   ]
  },
  {
   "cell_type": "code",
   "execution_count": 26,
   "metadata": {
    "ExecuteTime": {
     "end_time": "2017-11-28T19:58:57.799386Z",
     "start_time": "2017-11-28T19:58:57.786840Z"
    }
   },
   "outputs": [],
   "source": [
    "cat_sz = [(c, len(train[c].cat.categories) + 1) for c in cat_vars]"
   ]
  },
  {
   "cell_type": "code",
   "execution_count": 27,
   "metadata": {
    "ExecuteTime": {
     "end_time": "2017-11-28T19:58:57.813725Z",
     "start_time": "2017-11-28T19:58:57.800411Z"
    }
   },
   "outputs": [
    {
     "data": {
      "text/plain": [
       "[('ps_ind_02_cat', 6),\n",
       " ('ps_ind_04_cat', 4),\n",
       " ('ps_ind_05_cat', 9),\n",
       " ('ps_car_01_cat', 14),\n",
       " ('ps_car_02_cat', 4),\n",
       " ('ps_car_03_cat', 4),\n",
       " ('ps_car_04_cat', 11),\n",
       " ('ps_car_05_cat', 4),\n",
       " ('ps_car_06_cat', 19),\n",
       " ('ps_car_07_cat', 4),\n",
       " ('ps_car_08_cat', 3),\n",
       " ('ps_car_09_cat', 7),\n",
       " ('ps_car_10_cat', 4),\n",
       " ('ps_car_11_cat', 105),\n",
       " ('ps_ind_06_bin', 3),\n",
       " ('ps_ind_07_bin', 3),\n",
       " ('ps_ind_08_bin', 3),\n",
       " ('ps_ind_09_bin', 3),\n",
       " ('ps_ind_10_bin', 3),\n",
       " ('ps_ind_11_bin', 3),\n",
       " ('ps_ind_12_bin', 3),\n",
       " ('ps_ind_13_bin', 3),\n",
       " ('ps_ind_16_bin', 3),\n",
       " ('ps_ind_17_bin', 3),\n",
       " ('ps_ind_18_bin', 3),\n",
       " ('ps_calc_15_bin', 3),\n",
       " ('ps_calc_16_bin', 3),\n",
       " ('ps_calc_17_bin', 3),\n",
       " ('ps_calc_18_bin', 3),\n",
       " ('ps_calc_19_bin', 3),\n",
       " ('ps_calc_20_bin', 3)]"
      ]
     },
     "execution_count": 27,
     "metadata": {},
     "output_type": "execute_result"
    }
   ],
   "source": [
    "cat_sz"
   ]
  },
  {
   "cell_type": "code",
   "execution_count": 28,
   "metadata": {
    "ExecuteTime": {
     "end_time": "2017-11-28T19:58:57.826867Z",
     "start_time": "2017-11-28T19:58:57.814668Z"
    }
   },
   "outputs": [],
   "source": [
    "emb_szs = [(c, min(100, (c + 1) // 2)) for _, c in cat_sz]"
   ]
  },
  {
   "cell_type": "code",
   "execution_count": 29,
   "metadata": {
    "ExecuteTime": {
     "end_time": "2017-11-28T19:58:57.841639Z",
     "start_time": "2017-11-28T19:58:57.827917Z"
    },
    "scrolled": true
   },
   "outputs": [
    {
     "data": {
      "text/plain": [
       "[(6, 3),\n",
       " (4, 2),\n",
       " (9, 5),\n",
       " (14, 7),\n",
       " (4, 2),\n",
       " (4, 2),\n",
       " (11, 6),\n",
       " (4, 2),\n",
       " (19, 10),\n",
       " (4, 2),\n",
       " (3, 2),\n",
       " (7, 4),\n",
       " (4, 2),\n",
       " (105, 53),\n",
       " (3, 2),\n",
       " (3, 2),\n",
       " (3, 2),\n",
       " (3, 2),\n",
       " (3, 2),\n",
       " (3, 2),\n",
       " (3, 2),\n",
       " (3, 2),\n",
       " (3, 2),\n",
       " (3, 2),\n",
       " (3, 2),\n",
       " (3, 2),\n",
       " (3, 2),\n",
       " (3, 2),\n",
       " (3, 2),\n",
       " (3, 2),\n",
       " (3, 2)]"
      ]
     },
     "execution_count": 29,
     "metadata": {},
     "output_type": "execute_result"
    }
   ],
   "source": [
    "emb_szs"
   ]
  },
  {
   "cell_type": "markdown",
   "metadata": {},
   "source": [
    "### Model Architecture / Hyperparameters"
   ]
  },
  {
   "cell_type": "code",
   "execution_count": 30,
   "metadata": {
    "ExecuteTime": {
     "end_time": "2017-11-28T19:58:57.855019Z",
     "start_time": "2017-11-28T19:58:57.842611Z"
    }
   },
   "outputs": [],
   "source": [
    "layer_1 = 1024\n",
    "layer_2 = 512\n",
    "layer_3 = 256\n",
    "batch_size = 256\n",
    "embed_dropout = 0.01\n",
    "layer_dropout = 0.15"
   ]
  },
  {
   "cell_type": "code",
   "execution_count": 31,
   "metadata": {
    "ExecuteTime": {
     "end_time": "2017-11-28T19:58:57.867987Z",
     "start_time": "2017-11-28T19:58:57.855942Z"
    }
   },
   "outputs": [],
   "source": [
    "# Original\n",
    "# Create model with all category variables\n",
    "#md = ColumnarModelData.from_data_frame(path=PATH, \n",
    "#                                       val_idxs=cv_dict['ids_fold_0'], \n",
    "#                                       df=train, \n",
    "#                                       y=target, \n",
    "#                                       cat_flds=cat_vars, \n",
    "#                                       bs=batch_size)"
   ]
  },
  {
   "cell_type": "code",
   "execution_count": 32,
   "metadata": {
    "ExecuteTime": {
     "end_time": "2017-11-28T19:58:57.881315Z",
     "start_time": "2017-11-28T19:58:57.868997Z"
    }
   },
   "outputs": [
    {
     "data": {
      "text/plain": [
       "(595212, 892816)"
      ]
     },
     "execution_count": 32,
     "metadata": {},
     "output_type": "execute_result"
    }
   ],
   "source": [
    "len(train),len(test_df)"
   ]
  },
  {
   "cell_type": "code",
   "execution_count": 33,
   "metadata": {
    "ExecuteTime": {
     "end_time": "2017-11-28T19:58:59.268150Z",
     "start_time": "2017-11-28T19:58:57.882261Z"
    }
   },
   "outputs": [],
   "source": [
    "# Create model with test\n",
    "md = ColumnarModelData.from_data_frame(path=PATH, \n",
    "                                       val_idxs=cv_dict['ids_fold_0'], \n",
    "                                       df=train, \n",
    "                                       y=target, \n",
    "                                       cat_flds=cat_vars, \n",
    "                                       bs=batch_size,\n",
    "                                       test_df=test_df)"
   ]
  },
  {
   "cell_type": "markdown",
   "metadata": {},
   "source": [
    "### Model learner"
   ]
  },
  {
   "cell_type": "code",
   "execution_count": 34,
   "metadata": {
    "ExecuteTime": {
     "end_time": "2017-11-28T20:02:03.282016Z",
     "start_time": "2017-11-28T19:58:59.269263Z"
    }
   },
   "outputs": [],
   "source": [
    "# Use all categorical variables\n",
    "m = md.get_learner(emb_szs=emb_szs, \n",
    "                   n_cont=(len(train.columns) - len(cat_vars)),\n",
    "                   emb_drop=embed_dropout, \n",
    "                   out_sz=1, \n",
    "                   szs=[layer_1, layer_2], \n",
    "                   drops=[layer_dropout, layer_dropout], \n",
    "                   y_range=None)\n"
   ]
  },
  {
   "cell_type": "code",
   "execution_count": 35,
   "metadata": {
    "ExecuteTime": {
     "end_time": "2017-11-28T20:02:16.868878Z",
     "start_time": "2017-11-28T20:02:03.283177Z"
    }
   },
   "outputs": [
    {
     "data": {
      "application/vnd.jupyter.widget-view+json": {
       "model_id": "f05794e08e03441b981a1c990353fcdd",
       "version_major": 2,
       "version_minor": 0
      },
      "text/html": [
       "<p>Failed to display Jupyter Widget of type <code>HBox</code>.</p>\n",
       "<p>\n",
       "  If you're reading this message in the Jupyter Notebook or JupyterLab Notebook, it may mean\n",
       "  that the widgets JavaScript is still loading. If this message persists, it\n",
       "  likely means that the widgets JavaScript library is either not installed or\n",
       "  not enabled. See the <a href=\"https://ipywidgets.readthedocs.io/en/stable/user_install.html\">Jupyter\n",
       "  Widgets Documentation</a> for setup instructions.\n",
       "</p>\n",
       "<p>\n",
       "  If you're reading this message in another frontend (for example, a static\n",
       "  rendering on GitHub or <a href=\"https://nbviewer.jupyter.org/\">NBViewer</a>),\n",
       "  it may mean that your frontend doesn't currently support widgets.\n",
       "</p>\n"
      ],
      "text/plain": [
       "HBox(children=(IntProgress(value=0, description='Epoch', max=1), HTML(value='')))"
      ]
     },
     "metadata": {},
     "output_type": "display_data"
    },
    {
     "name": "stdout",
     "output_type": "stream",
     "text": [
      " 64%|██████▍   | 1476/2302 [00:13<00:07, 108.93it/s, loss=6.01]  "
     ]
    }
   ],
   "source": [
    "m.lr_find()"
   ]
  },
  {
   "cell_type": "code",
   "execution_count": 36,
   "metadata": {
    "ExecuteTime": {
     "end_time": "2017-11-28T20:02:17.176906Z",
     "start_time": "2017-11-28T20:02:16.869954Z"
    }
   },
   "outputs": [
    {
     "data": {
      "image/png": "[encoded data removed]",
      "text/plain": [
       "<matplotlib.figure.Figure at 0x7ff05d6351d0>"
      ]
     },
     "metadata": {},
     "output_type": "display_data"
    }
   ],
   "source": [
    "m.sched.plot()"
   ]
  },
  {
   "cell_type": "code",
   "execution_count": 37,
   "metadata": {
    "ExecuteTime": {
     "end_time": "2017-11-28T20:02:17.190127Z",
     "start_time": "2017-11-28T20:02:17.177915Z"
    }
   },
   "outputs": [],
   "source": [
    "lr = 0.0001"
   ]
  },
  {
   "cell_type": "code",
   "execution_count": 38,
   "metadata": {
    "ExecuteTime": {
     "end_time": "2017-11-28T20:02:44.699836Z",
     "start_time": "2017-11-28T20:02:17.191157Z"
    }
   },
   "outputs": [
    {
     "data": {
      "application/vnd.jupyter.widget-view+json": {
       "model_id": "9fab257b5ca84a3f83834bdbbc2717f7",
       "version_major": 2,
       "version_minor": 0
      },
      "text/html": [
       "<p>Failed to display Jupyter Widget of type <code>HBox</code>.</p>\n",
       "<p>\n",
       "  If you're reading this message in the Jupyter Notebook or JupyterLab Notebook, it may mean\n",
       "  that the widgets JavaScript is still loading. If this message persists, it\n",
       "  likely means that the widgets JavaScript library is either not installed or\n",
       "  not enabled. See the <a href=\"https://ipywidgets.readthedocs.io/en/stable/user_install.html\">Jupyter\n",
       "  Widgets Documentation</a> for setup instructions.\n",
       "</p>\n",
       "<p>\n",
       "  If you're reading this message in another frontend (for example, a static\n",
       "  rendering on GitHub or <a href=\"https://nbviewer.jupyter.org/\">NBViewer</a>),\n",
       "  it may mean that your frontend doesn't currently support widgets.\n",
       "</p>\n"
      ],
      "text/plain": [
       "HBox(children=(IntProgress(value=0, description='Epoch', max=2), HTML(value='')))"
      ]
     },
     "metadata": {},
     "output_type": "display_data"
    },
    {
     "name": "stdout",
     "output_type": "stream",
     "text": [
      "\n",
      "  0%|          | 0/2302 [00:00<?, ?it/s]\u001b[A\n",
      "  0%|          | 0/2302 [00:00<?, ?it/s, loss=0.51]\u001b[A\n",
      "  0%|          | 1/2302 [00:00<12:30,  3.06it/s, loss=0.51]\u001b[A\n",
      "  0%|          | 1/2302 [00:00<13:21,  2.87it/s, loss=0.401]\u001b[A\n",
      "  0%|          | 1/2302 [00:00<14:12,  2.70it/s, loss=0.338]\u001b[A\n",
      "  0%|          | 1/2302 [00:00<15:02,  2.55it/s, loss=0.307]\u001b[A\n",
      "  0%|          | 1/2302 [00:00<15:54,  2.41it/s, loss=0.301]\u001b[A\n",
      "  0%|          | 1/2302 [00:00<16:45,  2.29it/s, loss=0.3]  \u001b[A\n",
      "  0%|          | 6/2302 [00:00<02:47, 13.67it/s, loss=0.3]\u001b[A\n",
      "  0%|          | 6/2302 [00:00<02:56, 12.99it/s, loss=0.292]\u001b[A\n",
      "  0%|          | 6/2302 [00:00<03:05, 12.39it/s, loss=0.285]\u001b[A\n",
      "  0%|          | 6/2302 [00:00<03:13, 11.84it/s, loss=0.27] \u001b[A\n",
      "  0%|          | 6/2302 [00:00<03:22, 11.31it/s, loss=0.257]\u001b[A\n",
      "  0%|          | 6/2302 [00:00<03:31, 10.85it/s, loss=0.249]\u001b[A\n",
      "  0%|          | 11/2302 [00:00<01:55, 19.81it/s, loss=0.249]\u001b[A\n",
      "  0%|          | 11/2302 [00:00<02:00, 19.06it/s, loss=0.246]\u001b[A\n",
      "  0%|          | 11/2302 [00:00<02:04, 18.35it/s, loss=0.245]\u001b[A\n",
      "  0%|          | 11/2302 [00:00<02:09, 17.67it/s, loss=0.242]\u001b[A\n",
      "  0%|          | 11/2302 [00:00<02:14, 17.02it/s, loss=0.239]\u001b[A\n",
      "  0%|          | 11/2302 [00:00<02:19, 16.43it/s, loss=0.231]\u001b[A\n",
      "  1%|          | 16/2302 [00:00<01:35, 23.83it/s, loss=0.231]\u001b[A\n",
      "  1%|          | 16/2302 [00:00<01:39, 23.06it/s, loss=0.225]\u001b[A\n",
      "  1%|          | 16/2302 [00:00<01:42, 22.27it/s, loss=0.219]\u001b[A\n",
      "  1%|          | 16/2302 [00:00<01:46, 21.55it/s, loss=0.216]\u001b[A\n",
      "  1%|          | 16/2302 [00:00<01:49, 20.89it/s, loss=0.211]\u001b[A\n",
      "  1%|          | 16/2302 [00:00<01:52, 20.28it/s, loss=0.209]\u001b[A\n",
      "  1%|          | 21/2302 [00:00<01:26, 26.47it/s, loss=0.209]\u001b[A\n",
      "  1%|          | 21/2302 [00:00<01:28, 25.68it/s, loss=0.206]\u001b[A\n",
      "  1%|          | 21/2302 [00:00<01:31, 24.99it/s, loss=0.203]\u001b[A\n",
      "  1%|          | 21/2302 [00:00<01:33, 24.30it/s, loss=0.201]\u001b[A\n",
      "  1%|          | 21/2302 [00:00<01:36, 23.68it/s, loss=0.199]\u001b[A\n",
      "  1%|          | 21/2302 [00:00<01:38, 23.04it/s, loss=0.196]\u001b[A\n",
      "  1%|          | 26/2302 [00:00<01:20, 28.40it/s, loss=0.196]\u001b[A\n",
      "  1%|          | 26/2302 [00:00<01:22, 27.67it/s, loss=0.192]\u001b[A\n",
      "  1%|          | 26/2302 [00:00<01:24, 26.94it/s, loss=0.19] \u001b[A\n",
      "  1%|          | 26/2302 [00:00<01:26, 26.30it/s, loss=0.189]\u001b[A\n",
      "  1%|          | 26/2302 [00:01<01:28, 25.68it/s, loss=0.188]\u001b[A\n",
      "  1%|▏         | 30/2302 [00:01<01:17, 29.50it/s, loss=0.188]\u001b[A\n",
      "  1%|▏         | 30/2302 [00:01<01:18, 28.82it/s, loss=0.188]\u001b[A\n",
      "  1%|▏         | 30/2302 [00:01<01:20, 28.16it/s, loss=0.186]\u001b[A\n",
      "  1%|▏         | 30/2302 [00:01<01:22, 27.54it/s, loss=0.184]\u001b[A\n",
      "  1%|▏         | 30/2302 [00:01<01:24, 26.97it/s, loss=0.182]\u001b[A\n",
      "  1%|▏         | 34/2302 [00:01<01:14, 30.43it/s, loss=0.182]\u001b[A\n",
      "  1%|▏         | 34/2302 [00:01<01:16, 29.81it/s, loss=0.18] \u001b[A\n",
      "  1%|▏         | 34/2302 [00:01<01:17, 29.20it/s, loss=0.177]\u001b[A\n",
      "  1%|▏         | 34/2302 [00:01<01:19, 28.59it/s, loss=0.176]\u001b[A\n",
      "  1%|▏         | 34/2302 [00:01<01:20, 28.03it/s, loss=0.174]\u001b[A\n",
      "  2%|▏         | 38/2302 [00:01<01:12, 31.21it/s, loss=0.174]\u001b[A\n",
      "  2%|▏         | 38/2302 [00:01<01:14, 30.59it/s, loss=0.173]\u001b[A\n",
      "  2%|▏         | 38/2302 [00:01<01:15, 29.98it/s, loss=0.171]\u001b[A\n",
      "  2%|▏         | 38/2302 [00:01<01:16, 29.40it/s, loss=0.17] \u001b[A\n",
      "  2%|▏         | 38/2302 [00:01<01:18, 28.86it/s, loss=0.169]\u001b[A\n",
      "  2%|▏         | 42/2302 [00:01<01:11, 31.79it/s, loss=0.169]\u001b[A\n",
      "  2%|▏         | 42/2302 [00:01<01:12, 31.22it/s, loss=0.167]\u001b[A\n",
      "  2%|▏         | 42/2302 [00:01<01:13, 30.67it/s, loss=0.166]\u001b[A\n",
      "  2%|▏         | 42/2302 [00:01<01:14, 30.14it/s, loss=0.165]\u001b[A\n",
      "  2%|▏         | 42/2302 [00:01<01:16, 29.63it/s, loss=0.164]\u001b[A\n",
      "  2%|▏         | 46/2302 [00:01<01:09, 32.35it/s, loss=0.164]\u001b[A\n",
      "  2%|▏         | 46/2302 [00:01<01:10, 31.79it/s, loss=0.162]\u001b[A\n",
      "  2%|▏         | 46/2302 [00:01<01:12, 31.32it/s, loss=0.16] \u001b[A\n",
      "  2%|▏         | 46/2302 [00:01<01:13, 30.81it/s, loss=0.159]\u001b[A\n",
      "  2%|▏         | 46/2302 [00:01<01:14, 30.32it/s, loss=0.158]\u001b[A\n",
      "  2%|▏         | 46/2302 [00:01<01:15, 29.87it/s, loss=0.156]\u001b[A\n",
      "  2%|▏         | 51/2302 [00:01<01:08, 33.01it/s, loss=0.156]\u001b[A\n",
      "  2%|▏         | 51/2302 [00:01<01:09, 32.53it/s, loss=0.154]\u001b[A\n",
      "  2%|▏         | 51/2302 [00:01<01:10, 32.05it/s, loss=0.154]\u001b[A\n",
      "  2%|▏         | 51/2302 [00:01<01:11, 31.59it/s, loss=0.153]\u001b[A\n",
      "  2%|▏         | 51/2302 [00:01<01:12, 31.10it/s, loss=0.152]\u001b[A\n",
      "  2%|▏         | 51/2302 [00:01<01:13, 30.67it/s, loss=0.151]\u001b[A\n",
      "  2%|▏         | 56/2302 [00:01<01:06, 33.59it/s, loss=0.151]\u001b[A\n",
      "  2%|▏         | 56/2302 [00:01<01:07, 33.13it/s, loss=0.15] \u001b[A\n",
      "  2%|▏         | 56/2302 [00:01<01:08, 32.64it/s, loss=0.149]\u001b[A\n",
      "  2%|▏         | 56/2302 [00:01<01:09, 32.19it/s, loss=0.149]\u001b[A\n",
      "  2%|▏         | 56/2302 [00:01<01:10, 31.76it/s, loss=0.147]\u001b[A\n",
      "  3%|▎         | 60/2302 [00:01<01:06, 33.95it/s, loss=0.147]\u001b[A\n",
      "  3%|▎         | 60/2302 [00:01<01:06, 33.49it/s, loss=0.147]\u001b[A\n",
      "  3%|▎         | 60/2302 [00:01<01:07, 33.04it/s, loss=0.145]\u001b[A\n",
      "  3%|▎         | 60/2302 [00:01<01:08, 32.60it/s, loss=0.144]\u001b[A\n",
      "  3%|▎         | 60/2302 [00:01<01:09, 32.18it/s, loss=0.144]\u001b[A\n",
      "  3%|▎         | 64/2302 [00:01<01:05, 34.25it/s, loss=0.144]\u001b[A\n",
      "  3%|▎         | 64/2302 [00:01<01:06, 33.81it/s, loss=0.143]\u001b[A\n",
      "  3%|▎         | 64/2302 [00:01<01:07, 33.39it/s, loss=0.142]\u001b[A\n",
      "  3%|▎         | 64/2302 [00:01<01:07, 32.97it/s, loss=0.142]\u001b[A\n",
      "  3%|▎         | 64/2302 [00:01<01:08, 32.56it/s, loss=0.141]\u001b[A\n",
      "  3%|▎         | 68/2302 [00:01<01:04, 34.52it/s, loss=0.141]\u001b[A\n",
      "  3%|▎         | 68/2302 [00:01<01:05, 34.09it/s, loss=0.14] \u001b[A\n",
      "  3%|▎         | 68/2302 [00:02<01:06, 33.67it/s, loss=0.139]\u001b[A\n",
      "  3%|▎         | 68/2302 [00:02<01:07, 33.25it/s, loss=0.138]\u001b[A\n",
      "  3%|▎         | 68/2302 [00:02<01:07, 32.88it/s, loss=0.137]\u001b[A\n",
      "  3%|▎         | 72/2302 [00:02<01:04, 34.79it/s, loss=0.137]\u001b[A\n",
      "  3%|▎         | 72/2302 [00:02<01:04, 34.44it/s, loss=0.136]\u001b[A\n",
      "  3%|▎         | 72/2302 [00:02<01:05, 34.10it/s, loss=0.135]\u001b[A\n",
      "  3%|▎         | 72/2302 [00:02<01:06, 33.77it/s, loss=0.134]\u001b[A\n",
      "  3%|▎         | 72/2302 [00:02<01:06, 33.40it/s, loss=0.133]\u001b[A\n",
      "  3%|▎         | 72/2302 [00:02<01:07, 33.01it/s, loss=0.131]\u001b[A\n",
      "  3%|▎         | 77/2302 [00:02<01:03, 35.28it/s, loss=0.131]\u001b[A\n",
      "  3%|▎         | 77/2302 [00:02<01:03, 34.93it/s, loss=0.131]\u001b[A\n",
      "  3%|▎         | 77/2302 [00:02<01:04, 34.50it/s, loss=0.13] \u001b[A\n",
      "  3%|▎         | 77/2302 [00:02<01:05, 34.14it/s, loss=0.129]\u001b[A\n",
      "  3%|▎         | 77/2302 [00:02<01:05, 33.77it/s, loss=0.128]\u001b[A\n",
      "  3%|▎         | 77/2302 [00:02<01:06, 33.42it/s, loss=0.128]\u001b[A\n",
      "  4%|▎         | 82/2302 [00:02<01:02, 35.57it/s, loss=0.128]\u001b[A\n",
      "  4%|▎         | 82/2302 [00:02<01:03, 35.23it/s, loss=0.127]\u001b[A\n",
      "  4%|▎         | 82/2302 [00:02<01:03, 34.92it/s, loss=0.127]\u001b[A\n",
      "  4%|▎         | 82/2302 [00:02<01:04, 34.59it/s, loss=0.126]\u001b[A\n",
      "  4%|▎         | 82/2302 [00:02<01:04, 34.21it/s, loss=0.125]\u001b[A\n",
      "  4%|▎         | 82/2302 [00:02<01:05, 33.91it/s, loss=0.124]\u001b[A\n",
      "  4%|▍         | 87/2302 [00:02<01:01, 35.95it/s, loss=0.124]\u001b[A\n",
      "  4%|▍         | 87/2302 [00:02<01:02, 35.61it/s, loss=0.124]\u001b[A\n",
      "  4%|▍         | 87/2302 [00:02<01:02, 35.26it/s, loss=0.122]\u001b[A\n",
      "  4%|▍         | 87/2302 [00:02<01:03, 34.92it/s, loss=0.122]\u001b[A\n",
      "  4%|▍         | 87/2302 [00:02<01:04, 34.58it/s, loss=0.122]\u001b[A\n",
      "  4%|▍         | 87/2302 [00:02<01:04, 34.25it/s, loss=0.121]\u001b[A\n",
      "  4%|▍         | 92/2302 [00:02<01:01, 36.20it/s, loss=0.121]\u001b[A\n",
      "  4%|▍         | 92/2302 [00:02<01:01, 35.89it/s, loss=0.121]\u001b[A\n",
      "  4%|▍         | 92/2302 [00:02<01:02, 35.58it/s, loss=0.121]\u001b[A\n",
      "  4%|▍         | 92/2302 [00:02<01:02, 35.26it/s, loss=0.12] \u001b[A\n",
      "  4%|▍         | 92/2302 [00:02<01:03, 34.93it/s, loss=0.119]\u001b[A\n",
      "  4%|▍         | 92/2302 [00:02<01:03, 34.61it/s, loss=0.119]\u001b[A\n",
      "  4%|▍         | 97/2302 [00:02<01:00, 36.46it/s, loss=0.119]\u001b[A\n",
      "  4%|▍         | 97/2302 [00:02<01:00, 36.16it/s, loss=0.118]\u001b[A\n",
      "  4%|▍         | 97/2302 [00:02<01:01, 35.84it/s, loss=0.118]\u001b[A\n",
      "  4%|▍         | 97/2302 [00:02<01:02, 35.54it/s, loss=0.118]\u001b[A\n",
      "  4%|▍         | 97/2302 [00:02<01:02, 35.22it/s, loss=0.117]\u001b[A\n",
      "  4%|▍         | 97/2302 [00:02<01:03, 34.92it/s, loss=0.117]\u001b[A\n",
      "  4%|▍         | 102/2302 [00:02<00:59, 36.71it/s, loss=0.117]\u001b[A\n"
     ]
    },
    {
     "name": "stdout",
     "output_type": "stream",
     "text": [
      "  4%|▍         | 102/2302 [00:02<01:00, 36.42it/s, loss=0.117]\u001b[A\n",
      "  4%|▍         | 102/2302 [00:02<01:00, 36.12it/s, loss=0.116]\u001b[A\n",
      "  4%|▍         | 102/2302 [00:02<01:01, 35.82it/s, loss=0.115]\u001b[A\n",
      "  4%|▍         | 102/2302 [00:02<01:01, 35.50it/s, loss=0.115]\u001b[A\n",
      "  4%|▍         | 102/2302 [00:02<01:02, 35.21it/s, loss=0.115]\u001b[A\n",
      "  5%|▍         | 107/2302 [00:02<00:59, 36.92it/s, loss=0.115]\u001b[A\n",
      "  5%|▍         | 107/2302 [00:02<00:59, 36.63it/s, loss=0.114]\u001b[A\n",
      "  5%|▍         | 107/2302 [00:02<01:00, 36.34it/s, loss=0.113]\u001b[A\n",
      "  5%|▍         | 107/2302 [00:02<01:00, 36.05it/s, loss=0.113]\u001b[A\n",
      "  5%|▍         | 107/2302 [00:02<01:01, 35.73it/s, loss=0.113]\u001b[A\n",
      "  5%|▍         | 107/2302 [00:03<01:01, 35.48it/s, loss=0.112]\u001b[A\n",
      "  5%|▍         | 112/2302 [00:03<00:59, 37.12it/s, loss=0.112]\u001b[A\n",
      "  5%|▍         | 112/2302 [00:03<00:59, 36.85it/s, loss=0.112]\u001b[A\n",
      "  5%|▍         | 112/2302 [00:03<00:59, 36.57it/s, loss=0.112]\u001b[A\n",
      "  5%|▍         | 112/2302 [00:03<01:00, 36.28it/s, loss=0.112]\u001b[A\n",
      "  5%|▍         | 112/2302 [00:03<01:00, 36.00it/s, loss=0.111]\u001b[A\n",
      "  5%|▍         | 112/2302 [00:03<01:01, 35.72it/s, loss=0.111]\u001b[A\n",
      "  5%|▌         | 117/2302 [00:03<00:58, 37.30it/s, loss=0.111]\u001b[A\n",
      "  5%|▌         | 117/2302 [00:03<00:59, 37.02it/s, loss=0.11] \u001b[A\n",
      "  5%|▌         | 117/2302 [00:03<00:59, 36.76it/s, loss=0.11]\u001b[A\n",
      "  5%|▌         | 117/2302 [00:03<00:59, 36.49it/s, loss=0.11]\u001b[A\n",
      "  5%|▌         | 117/2302 [00:03<01:00, 36.22it/s, loss=0.109]\u001b[A\n",
      "  5%|▌         | 117/2302 [00:03<01:00, 35.95it/s, loss=0.109]\u001b[A\n",
      "  5%|▌         | 122/2302 [00:03<00:58, 37.47it/s, loss=0.109]\u001b[A\n",
      "  5%|▌         | 122/2302 [00:03<00:58, 37.22it/s, loss=0.109]\u001b[A\n",
      "  5%|▌         | 122/2302 [00:03<00:59, 36.95it/s, loss=0.108]\u001b[A\n",
      "  5%|▌         | 122/2302 [00:03<00:59, 36.68it/s, loss=0.108]\u001b[A\n",
      "  5%|▌         | 122/2302 [00:03<00:59, 36.41it/s, loss=0.107]\u001b[A\n",
      "  5%|▌         | 122/2302 [00:03<01:00, 36.13it/s, loss=0.107]\u001b[A\n",
      "  6%|▌         | 127/2302 [00:03<00:57, 37.60it/s, loss=0.107]\u001b[A\n",
      "  6%|▌         | 127/2302 [00:03<00:58, 37.36it/s, loss=0.106]\u001b[A\n",
      "  6%|▌         | 127/2302 [00:03<00:58, 37.12it/s, loss=0.105]\u001b[A\n",
      "  6%|▌         | 127/2302 [00:03<00:58, 36.87it/s, loss=0.105]\u001b[A\n",
      "  6%|▌         | 127/2302 [00:03<00:59, 36.60it/s, loss=0.105]\u001b[A\n",
      "  6%|▌         | 127/2302 [00:03<00:59, 36.37it/s, loss=0.104]\u001b[A\n",
      "  6%|▌         | 132/2302 [00:03<00:57, 37.78it/s, loss=0.104]\u001b[A\n",
      "  6%|▌         | 132/2302 [00:03<00:57, 37.53it/s, loss=0.104]\u001b[A\n",
      "  6%|▌         | 132/2302 [00:03<00:58, 37.28it/s, loss=0.103]\u001b[A\n",
      "  6%|▌         | 132/2302 [00:03<00:58, 37.04it/s, loss=0.102]\u001b[A\n",
      "  6%|▌         | 132/2302 [00:03<00:58, 36.78it/s, loss=0.102]\u001b[A\n",
      "  6%|▌         | 132/2302 [00:03<00:59, 36.54it/s, loss=0.102]\u001b[A\n",
      "  6%|▌         | 137/2302 [00:03<00:57, 37.91it/s, loss=0.102]\u001b[A\n",
      "  6%|▌         | 137/2302 [00:03<00:57, 37.68it/s, loss=0.102]\u001b[A\n",
      "  6%|▌         | 137/2302 [00:03<00:57, 37.42it/s, loss=0.101]\u001b[A\n",
      "  6%|▌         | 137/2302 [00:03<00:58, 37.17it/s, loss=0.101]\u001b[A\n",
      "  6%|▌         | 137/2302 [00:03<00:58, 36.94it/s, loss=0.101]\u001b[A\n",
      "  6%|▌         | 137/2302 [00:03<00:58, 36.70it/s, loss=0.1]  \u001b[A\n",
      "  6%|▌         | 142/2302 [00:03<00:56, 38.03it/s, loss=0.1]\u001b[A\n",
      "  6%|▌         | 142/2302 [00:03<00:57, 37.81it/s, loss=0.0994]\u001b[A\n",
      "  6%|▌         | 142/2302 [00:03<00:57, 37.68it/s, loss=0.099] \u001b[A\n",
      "  6%|▌         | 142/2302 [00:03<00:57, 37.61it/s, loss=0.0987]\u001b[A\n",
      "  6%|▌         | 142/2302 [00:03<00:57, 37.54it/s, loss=0.0981]\u001b[A\n",
      "  6%|▌         | 142/2302 [00:03<00:57, 37.45it/s, loss=0.098] \u001b[A\n",
      "  6%|▌         | 142/2302 [00:03<00:57, 37.38it/s, loss=0.0975]\u001b[A\n",
      "  6%|▌         | 142/2302 [00:03<00:57, 37.31it/s, loss=0.0966]\u001b[A\n",
      "  6%|▌         | 142/2302 [00:03<00:58, 37.22it/s, loss=0.0962]\u001b[A\n",
      "  6%|▌         | 142/2302 [00:03<00:58, 37.15it/s, loss=0.0959]\u001b[A\n",
      "  6%|▌         | 142/2302 [00:03<00:58, 37.08it/s, loss=0.0957]\u001b[A\n",
      "  6%|▌         | 142/2302 [00:03<00:58, 37.01it/s, loss=0.0955]\u001b[A\n",
      "  7%|▋         | 153/2302 [00:03<00:53, 39.86it/s, loss=0.0955]\u001b[A\n",
      "  7%|▋         | 153/2302 [00:03<00:54, 39.79it/s, loss=0.0952]\u001b[A\n",
      "  7%|▋         | 153/2302 [00:03<00:54, 39.72it/s, loss=0.0943]\u001b[A\n",
      "  7%|▋         | 153/2302 [00:03<00:54, 39.65it/s, loss=0.0939]\u001b[A\n",
      "  7%|▋         | 153/2302 [00:03<00:54, 39.57it/s, loss=0.0937]\u001b[A\n",
      "  7%|▋         | 153/2302 [00:03<00:54, 39.50it/s, loss=0.0935]\u001b[A\n",
      "  7%|▋         | 153/2302 [00:03<00:54, 39.43it/s, loss=0.0932]\u001b[A\n",
      "  7%|▋         | 153/2302 [00:03<00:54, 39.35it/s, loss=0.0928]\u001b[A\n",
      "  7%|▋         | 153/2302 [00:03<00:54, 39.28it/s, loss=0.0926]\u001b[A\n",
      "  7%|▋         | 153/2302 [00:03<00:54, 39.21it/s, loss=0.0923]\u001b[A\n",
      "  7%|▋         | 153/2302 [00:03<00:54, 39.14it/s, loss=0.0915]\u001b[A\n",
      "  7%|▋         | 153/2302 [00:03<00:55, 39.07it/s, loss=0.0912]\u001b[A\n",
      "  7%|▋         | 153/2302 [00:03<00:55, 39.00it/s, loss=0.0907]\u001b[A\n",
      "  7%|▋         | 153/2302 [00:03<00:55, 38.93it/s, loss=0.0904]\u001b[A\n",
      "  7%|▋         | 153/2302 [00:03<00:55, 38.85it/s, loss=0.0904]\u001b[A\n",
      "  7%|▋         | 167/2302 [00:03<00:50, 42.40it/s, loss=0.0904]\u001b[A\n",
      "  7%|▋         | 167/2302 [00:03<00:50, 42.32it/s, loss=0.09]  \u001b[A\n",
      "  7%|▋         | 167/2302 [00:03<00:50, 42.25it/s, loss=0.0903]\u001b[A\n",
      "  7%|▋         | 167/2302 [00:03<00:50, 42.17it/s, loss=0.0896]\u001b[A\n",
      "  7%|▋         | 167/2302 [00:03<00:50, 42.10it/s, loss=0.0893]\u001b[A\n",
      "  7%|▋         | 167/2302 [00:03<00:50, 42.02it/s, loss=0.0884]\u001b[A\n",
      "  7%|▋         | 167/2302 [00:03<00:50, 41.94it/s, loss=0.0884]\u001b[A\n",
      "  7%|▋         | 167/2302 [00:03<00:50, 41.86it/s, loss=0.0876]\u001b[A\n",
      "  7%|▋         | 167/2302 [00:03<00:51, 41.79it/s, loss=0.0871]\u001b[A\n",
      "  7%|▋         | 167/2302 [00:04<00:51, 41.71it/s, loss=0.0868]\u001b[A\n",
      "  7%|▋         | 167/2302 [00:04<00:51, 41.64it/s, loss=0.0865]\u001b[A\n",
      "  7%|▋         | 167/2302 [00:04<00:51, 41.56it/s, loss=0.0861]\u001b[A\n",
      "  7%|▋         | 167/2302 [00:04<00:51, 41.48it/s, loss=0.0857]\u001b[A\n",
      "  7%|▋         | 167/2302 [00:04<00:51, 41.41it/s, loss=0.0852]\u001b[A\n",
      "  7%|▋         | 167/2302 [00:04<00:51, 41.33it/s, loss=0.0849]\u001b[A\n",
      "  8%|▊         | 181/2302 [00:04<00:47, 44.78it/s, loss=0.0849]\u001b[A\n",
      "  8%|▊         | 181/2302 [00:04<00:47, 44.70it/s, loss=0.0845]\u001b[A\n",
      "  8%|▊         | 181/2302 [00:04<00:47, 44.62it/s, loss=0.0844]\u001b[A\n",
      "  8%|▊         | 181/2302 [00:04<00:47, 44.52it/s, loss=0.0836]\u001b[A\n",
      "  8%|▊         | 181/2302 [00:04<00:47, 44.44it/s, loss=0.0832]\u001b[A\n",
      "  8%|▊         | 181/2302 [00:04<00:47, 44.37it/s, loss=0.0829]\u001b[A\n",
      "  8%|▊         | 181/2302 [00:04<00:47, 44.29it/s, loss=0.0826]\u001b[A\n",
      "  8%|▊         | 181/2302 [00:04<00:47, 44.21it/s, loss=0.0826]\u001b[A\n",
      "  8%|▊         | 181/2302 [00:04<00:48, 44.14it/s, loss=0.0823]\u001b[A\n",
      "  8%|▊         | 181/2302 [00:04<00:48, 44.06it/s, loss=0.0823]\u001b[A\n",
      "  8%|▊         | 181/2302 [00:04<00:48, 43.98it/s, loss=0.0823]\u001b[A\n",
      "  8%|▊         | 181/2302 [00:04<00:48, 43.91it/s, loss=0.0821]\u001b[A\n",
      "  8%|▊         | 181/2302 [00:04<00:48, 43.83it/s, loss=0.0821]\u001b[A\n",
      "  8%|▊         | 181/2302 [00:04<00:48, 43.76it/s, loss=0.0817]\u001b[A\n",
      "  8%|▊         | 181/2302 [00:04<00:48, 43.68it/s, loss=0.0813]\u001b[A\n",
      "  8%|▊         | 195/2302 [00:04<00:44, 47.05it/s, loss=0.0813]\u001b[A\n",
      "  8%|▊         | 195/2302 [00:04<00:44, 46.97it/s, loss=0.081] \u001b[A\n",
      "  8%|▊         | 195/2302 [00:04<00:44, 46.89it/s, loss=0.0804]\u001b[A\n",
      "  8%|▊         | 195/2302 [00:04<00:45, 46.81it/s, loss=0.0808]\u001b[A\n",
      "  8%|▊         | 195/2302 [00:04<00:45, 46.73it/s, loss=0.0809]\u001b[A\n",
      "  8%|▊         | 195/2302 [00:04<00:45, 46.65it/s, loss=0.0809]\u001b[A\n",
      "  8%|▊         | 195/2302 [00:04<00:45, 46.57it/s, loss=0.0806]\u001b[A\n",
      "  8%|▊         | 195/2302 [00:04<00:45, 46.49it/s, loss=0.0803]\u001b[A\n",
      "  8%|▊         | 195/2302 [00:04<00:45, 46.41it/s, loss=0.0805]\u001b[A\n",
      "  8%|▊         | 195/2302 [00:04<00:45, 46.33it/s, loss=0.0799]\u001b[A\n",
      "  8%|▊         | 195/2302 [00:04<00:45, 46.25it/s, loss=0.0804]\u001b[A\n",
      "  8%|▊         | 195/2302 [00:04<00:45, 46.17it/s, loss=0.0804]\u001b[A\n",
      "  8%|▊         | 195/2302 [00:04<00:45, 46.09it/s, loss=0.08]  \u001b[A\n",
      "  8%|▊         | 195/2302 [00:04<00:45, 46.01it/s, loss=0.0796]\u001b[A\n",
      "  8%|▊         | 195/2302 [00:04<00:45, 45.93it/s, loss=0.0794]\u001b[A\n",
      "  9%|▉         | 209/2302 [00:04<00:42, 49.22it/s, loss=0.0794]\u001b[A\n",
      "  9%|▉         | 209/2302 [00:04<00:42, 49.13it/s, loss=0.0787]\u001b[A\n",
      "  9%|▉         | 209/2302 [00:04<00:42, 49.05it/s, loss=0.0782]\u001b[A\n",
      "  9%|▉         | 209/2302 [00:04<00:42, 48.96it/s, loss=0.0781]\u001b[A\n"
     ]
    },
    {
     "name": "stdout",
     "output_type": "stream",
     "text": [
      "  9%|▉         | 209/2302 [00:04<00:42, 48.88it/s, loss=0.0776]\u001b[A\n",
      "  9%|▉         | 209/2302 [00:04<00:42, 48.79it/s, loss=0.0772]\u001b[A\n",
      "  9%|▉         | 209/2302 [00:04<00:42, 48.71it/s, loss=0.0769]\u001b[A\n",
      "  9%|▉         | 209/2302 [00:04<00:43, 48.63it/s, loss=0.0766]\u001b[A\n",
      "  9%|▉         | 209/2302 [00:04<00:43, 48.55it/s, loss=0.0767]\u001b[A\n",
      "  9%|▉         | 209/2302 [00:04<00:43, 48.46it/s, loss=0.0767]\u001b[A\n",
      "  9%|▉         | 209/2302 [00:04<00:43, 48.38it/s, loss=0.0764]\u001b[A\n",
      "  9%|▉         | 209/2302 [00:04<00:43, 48.30it/s, loss=0.0761]\u001b[A\n",
      "  9%|▉         | 209/2302 [00:04<00:43, 48.22it/s, loss=0.076] \u001b[A\n",
      "  9%|▉         | 209/2302 [00:04<00:43, 48.14it/s, loss=0.0758]\u001b[A\n",
      "  9%|▉         | 209/2302 [00:04<00:43, 48.06it/s, loss=0.0755]\u001b[A\n",
      " 10%|▉         | 223/2302 [00:04<00:40, 51.26it/s, loss=0.0755]\u001b[A\n",
      " 10%|▉         | 223/2302 [00:04<00:40, 51.18it/s, loss=0.0754]\u001b[A\n",
      " 10%|▉         | 223/2302 [00:04<00:40, 51.09it/s, loss=0.0751]\u001b[A\n",
      " 10%|▉         | 223/2302 [00:04<00:40, 51.01it/s, loss=0.0747]\u001b[A\n",
      " 10%|▉         | 223/2302 [00:04<00:40, 50.93it/s, loss=0.0744]\u001b[A\n",
      " 10%|▉         | 223/2302 [00:04<00:40, 50.84it/s, loss=0.0739]\u001b[A\n",
      " 10%|▉         | 223/2302 [00:04<00:40, 50.76it/s, loss=0.0735]\u001b[A\n",
      " 10%|▉         | 223/2302 [00:04<00:41, 50.68it/s, loss=0.0734]\u001b[A\n",
      " 10%|▉         | 223/2302 [00:04<00:41, 50.59it/s, loss=0.0732]\u001b[A\n",
      " 10%|▉         | 223/2302 [00:04<00:41, 50.51it/s, loss=0.0728]\u001b[A\n",
      " 10%|▉         | 223/2302 [00:04<00:41, 50.43it/s, loss=0.0727]\u001b[A\n",
      " 10%|▉         | 223/2302 [00:04<00:41, 50.34it/s, loss=0.0728]\u001b[A\n",
      " 10%|▉         | 223/2302 [00:04<00:41, 50.26it/s, loss=0.0722]\u001b[A\n",
      " 10%|▉         | 223/2302 [00:04<00:41, 50.18it/s, loss=0.0717]\u001b[A\n",
      " 10%|▉         | 223/2302 [00:04<00:41, 50.10it/s, loss=0.0714]\u001b[A\n",
      " 10%|█         | 237/2302 [00:04<00:38, 53.23it/s, loss=0.0714]\u001b[A\n",
      " 10%|█         | 237/2302 [00:04<00:38, 53.14it/s, loss=0.0712]\u001b[A\n",
      " 10%|█         | 237/2302 [00:04<00:38, 53.06it/s, loss=0.0709]\u001b[A\n",
      " 10%|█         | 237/2302 [00:04<00:38, 52.97it/s, loss=0.0709]\u001b[A\n",
      " 10%|█         | 237/2302 [00:04<00:39, 52.88it/s, loss=0.0708]\u001b[A\n",
      " 10%|█         | 237/2302 [00:04<00:39, 52.80it/s, loss=0.0706]\u001b[A\n",
      " 10%|█         | 237/2302 [00:04<00:39, 52.71it/s, loss=0.07]  \u001b[A\n",
      " 10%|█         | 237/2302 [00:04<00:39, 52.62it/s, loss=0.0696]\u001b[A\n",
      " 10%|█         | 237/2302 [00:04<00:39, 52.54it/s, loss=0.0698]\u001b[A\n",
      " 10%|█         | 237/2302 [00:04<00:39, 52.46it/s, loss=0.0706]\u001b[A\n",
      " 10%|█         | 237/2302 [00:04<00:39, 52.37it/s, loss=0.0703]\u001b[A\n",
      " 10%|█         | 237/2302 [00:04<00:39, 52.29it/s, loss=0.0703]\u001b[A\n",
      " 10%|█         | 237/2302 [00:04<00:39, 52.20it/s, loss=0.0701]\u001b[A\n",
      " 10%|█         | 237/2302 [00:04<00:39, 52.12it/s, loss=0.07]  \u001b[A\n",
      " 10%|█         | 237/2302 [00:04<00:39, 52.03it/s, loss=0.0696]\u001b[A\n",
      " 11%|█         | 251/2302 [00:04<00:37, 55.09it/s, loss=0.0696]\u001b[A\n",
      " 11%|█         | 251/2302 [00:04<00:37, 55.01it/s, loss=0.0697]\u001b[A\n",
      " 11%|█         | 251/2302 [00:04<00:37, 54.92it/s, loss=0.0699]\u001b[A\n",
      " 11%|█         | 251/2302 [00:04<00:37, 54.83it/s, loss=0.0697]\u001b[A\n",
      " 11%|█         | 251/2302 [00:04<00:37, 54.74it/s, loss=0.0696]\u001b[A\n",
      " 11%|█         | 251/2302 [00:04<00:37, 54.66it/s, loss=0.0693]\u001b[A\n",
      " 11%|█         | 251/2302 [00:04<00:37, 54.57it/s, loss=0.0688]\u001b[A\n",
      " 11%|█         | 251/2302 [00:04<00:37, 54.49it/s, loss=0.0689]\u001b[A\n",
      " 11%|█         | 251/2302 [00:04<00:37, 54.40it/s, loss=0.0693]\u001b[A\n",
      " 11%|█         | 251/2302 [00:04<00:37, 54.32it/s, loss=0.0694]\u001b[A\n",
      " 11%|█         | 251/2302 [00:04<00:37, 54.24it/s, loss=0.0694]\u001b[A\n",
      " 11%|█         | 251/2302 [00:04<00:37, 54.15it/s, loss=0.0692]\u001b[A\n",
      " 11%|█         | 251/2302 [00:04<00:37, 54.07it/s, loss=0.0687]\u001b[A\n",
      " 11%|█         | 251/2302 [00:04<00:37, 53.98it/s, loss=0.0686]\u001b[A\n",
      " 11%|█         | 251/2302 [00:04<00:38, 53.89it/s, loss=0.0684]\u001b[A\n",
      " 12%|█▏        | 265/2302 [00:04<00:35, 56.89it/s, loss=0.0684]\u001b[A\n",
      " 12%|█▏        | 265/2302 [00:04<00:35, 56.80it/s, loss=0.0681]\u001b[A\n",
      " 12%|█▏        | 265/2302 [00:04<00:35, 56.71it/s, loss=0.068] \u001b[A\n",
      " 12%|█▏        | 265/2302 [00:04<00:35, 56.62it/s, loss=0.0679]\u001b[A\n",
      " 12%|█▏        | 265/2302 [00:04<00:36, 56.53it/s, loss=0.0675]\u001b[A\n",
      " 12%|█▏        | 265/2302 [00:04<00:36, 56.44it/s, loss=0.067] \u001b[A\n",
      " 12%|█▏        | 265/2302 [00:04<00:36, 56.36it/s, loss=0.0666]\u001b[A\n",
      " 12%|█▏        | 265/2302 [00:04<00:36, 56.27it/s, loss=0.0663]\u001b[A\n",
      " 12%|█▏        | 265/2302 [00:04<00:36, 56.19it/s, loss=0.0663]\u001b[A\n",
      " 12%|█▏        | 265/2302 [00:04<00:36, 56.10it/s, loss=0.0664]\u001b[A\n",
      " 12%|█▏        | 265/2302 [00:04<00:36, 56.01it/s, loss=0.0661]\u001b[A\n",
      " 12%|█▏        | 265/2302 [00:04<00:36, 55.92it/s, loss=0.0659]\u001b[A\n",
      " 12%|█▏        | 265/2302 [00:04<00:36, 55.84it/s, loss=0.0654]\u001b[A\n",
      " 12%|█▏        | 265/2302 [00:04<00:36, 55.76it/s, loss=0.0649]\u001b[A\n",
      " 12%|█▏        | 265/2302 [00:04<00:36, 55.66it/s, loss=0.0651]\u001b[A\n",
      " 12%|█▏        | 279/2302 [00:04<00:34, 58.59it/s, loss=0.0651]\u001b[A\n",
      " 12%|█▏        | 279/2302 [00:04<00:34, 58.50it/s, loss=0.0652]\u001b[A\n",
      " 12%|█▏        | 279/2302 [00:04<00:34, 58.41it/s, loss=0.0654]\u001b[A\n",
      " 12%|█▏        | 279/2302 [00:04<00:34, 58.33it/s, loss=0.065] \u001b[A\n",
      " 12%|█▏        | 279/2302 [00:04<00:34, 58.24it/s, loss=0.0648]\u001b[A\n",
      " 12%|█▏        | 279/2302 [00:04<00:34, 58.15it/s, loss=0.065] \u001b[A\n",
      " 12%|█▏        | 279/2302 [00:04<00:34, 58.06it/s, loss=0.0647]\u001b[A\n",
      " 12%|█▏        | 279/2302 [00:04<00:34, 57.97it/s, loss=0.0647]\u001b[A\n",
      " 12%|█▏        | 279/2302 [00:04<00:34, 57.89it/s, loss=0.0645]\u001b[A\n",
      " 12%|█▏        | 279/2302 [00:04<00:34, 57.80it/s, loss=0.0644]\u001b[A\n",
      " 12%|█▏        | 279/2302 [00:04<00:35, 57.71it/s, loss=0.0644]\u001b[A\n",
      " 12%|█▏        | 279/2302 [00:04<00:35, 57.63it/s, loss=0.0644]\u001b[A\n",
      " 12%|█▏        | 279/2302 [00:04<00:35, 57.54it/s, loss=0.0643]\u001b[A\n",
      " 12%|█▏        | 279/2302 [00:04<00:35, 57.46it/s, loss=0.0638]\u001b[A\n",
      " 12%|█▏        | 279/2302 [00:04<00:35, 57.37it/s, loss=0.0634]\u001b[A\n",
      " 13%|█▎        | 293/2302 [00:04<00:33, 60.23it/s, loss=0.0634]\u001b[A\n",
      " 13%|█▎        | 293/2302 [00:04<00:33, 60.14it/s, loss=0.0637]\u001b[A\n",
      " 13%|█▎        | 293/2302 [00:04<00:33, 60.05it/s, loss=0.0636]\u001b[A\n",
      " 13%|█▎        | 293/2302 [00:04<00:33, 59.97it/s, loss=0.0634]\u001b[A\n",
      " 13%|█▎        | 293/2302 [00:04<00:33, 59.88it/s, loss=0.0634]\u001b[A\n",
      " 13%|█▎        | 293/2302 [00:04<00:33, 59.79it/s, loss=0.0629]\u001b[A\n",
      " 13%|█▎        | 293/2302 [00:04<00:33, 59.70it/s, loss=0.0631]\u001b[A\n",
      " 13%|█▎        | 293/2302 [00:04<00:33, 59.61it/s, loss=0.0631]\u001b[A\n",
      " 13%|█▎        | 293/2302 [00:04<00:33, 59.52it/s, loss=0.0628]\u001b[A\n",
      " 13%|█▎        | 293/2302 [00:04<00:33, 59.44it/s, loss=0.0625]\u001b[A\n",
      " 13%|█▎        | 293/2302 [00:04<00:33, 59.35it/s, loss=0.0624]\u001b[A\n",
      " 13%|█▎        | 293/2302 [00:04<00:33, 59.26it/s, loss=0.0622]\u001b[A\n",
      " 13%|█▎        | 293/2302 [00:04<00:33, 59.17it/s, loss=0.0618]\u001b[A\n",
      " 13%|█▎        | 293/2302 [00:04<00:34, 59.09it/s, loss=0.0619]\u001b[A\n",
      " 13%|█▎        | 293/2302 [00:04<00:34, 58.99it/s, loss=0.0618]\u001b[A\n",
      " 13%|█▎        | 307/2302 [00:04<00:32, 61.80it/s, loss=0.0618]\u001b[A\n",
      " 13%|█▎        | 307/2302 [00:04<00:32, 61.71it/s, loss=0.0615]\u001b[A\n",
      " 13%|█▎        | 307/2302 [00:04<00:32, 61.62it/s, loss=0.0611]\u001b[A\n",
      " 13%|█▎        | 307/2302 [00:04<00:32, 61.53it/s, loss=0.061] \u001b[A\n",
      " 13%|█▎        | 307/2302 [00:04<00:32, 61.44it/s, loss=0.0609]\u001b[A\n",
      " 13%|█▎        | 307/2302 [00:05<00:32, 61.35it/s, loss=0.061] \u001b[A\n",
      " 13%|█▎        | 307/2302 [00:05<00:32, 61.26it/s, loss=0.0608]\u001b[A\n",
      " 13%|█▎        | 307/2302 [00:05<00:32, 61.18it/s, loss=0.0613]\u001b[A\n",
      " 13%|█▎        | 307/2302 [00:05<00:32, 61.09it/s, loss=0.061] \u001b[A\n",
      " 13%|█▎        | 307/2302 [00:05<00:32, 61.00it/s, loss=0.0611]\u001b[A\n",
      " 13%|█▎        | 307/2302 [00:05<00:32, 60.91it/s, loss=0.0611]\u001b[A\n",
      " 13%|█▎        | 307/2302 [00:05<00:32, 60.82it/s, loss=0.0611]\u001b[A\n",
      " 13%|█▎        | 307/2302 [00:05<00:32, 60.74it/s, loss=0.061] \u001b[A\n",
      " 13%|█▎        | 307/2302 [00:05<00:32, 60.65it/s, loss=0.0608]\u001b[A\n",
      " 13%|█▎        | 307/2302 [00:05<00:32, 60.56it/s, loss=0.0608]\u001b[A\n",
      " 14%|█▍        | 321/2302 [00:05<00:31, 63.31it/s, loss=0.0608]\u001b[A\n",
      " 14%|█▍        | 321/2302 [00:05<00:31, 63.22it/s, loss=0.0604]\u001b[A\n",
      " 14%|█▍        | 321/2302 [00:05<00:31, 63.13it/s, loss=0.0604]\u001b[A\n",
      " 14%|█▍        | 321/2302 [00:05<00:31, 63.04it/s, loss=0.0605]\u001b[A\n",
      " 14%|█▍        | 321/2302 [00:05<00:31, 62.95it/s, loss=0.0603]\u001b[A\n",
      " 14%|█▍        | 321/2302 [00:05<00:31, 62.86it/s, loss=0.0603]\u001b[A\n"
     ]
    },
    {
     "name": "stdout",
     "output_type": "stream",
     "text": [
      " 14%|█▍        | 321/2302 [00:05<00:31, 62.77it/s, loss=0.0601]\u001b[A\n",
      " 14%|█▍        | 321/2302 [00:05<00:31, 62.68it/s, loss=0.0606]\u001b[A\n",
      " 14%|█▍        | 321/2302 [00:05<00:31, 62.59it/s, loss=0.0605]\u001b[A\n",
      " 14%|█▍        | 321/2302 [00:05<00:31, 62.50it/s, loss=0.0604]\u001b[A\n",
      " 14%|█▍        | 321/2302 [00:05<00:31, 62.42it/s, loss=0.0606]\u001b[A\n",
      " 14%|█▍        | 321/2302 [00:05<00:31, 62.33it/s, loss=0.0613]\u001b[A\n",
      " 14%|█▍        | 321/2302 [00:05<00:31, 62.24it/s, loss=0.0611]\u001b[A\n",
      " 14%|█▍        | 321/2302 [00:05<00:31, 62.15it/s, loss=0.061] \u001b[A\n",
      " 14%|█▍        | 321/2302 [00:05<00:31, 62.06it/s, loss=0.0609]\u001b[A\n",
      " 15%|█▍        | 335/2302 [00:05<00:30, 64.75it/s, loss=0.0609]\u001b[A\n",
      " 15%|█▍        | 335/2302 [00:05<00:30, 64.66it/s, loss=0.0606]\u001b[A\n",
      " 15%|█▍        | 335/2302 [00:05<00:30, 64.57it/s, loss=0.061] \u001b[A\n",
      " 15%|█▍        | 335/2302 [00:05<00:30, 64.48it/s, loss=0.0607]\u001b[A\n",
      " 15%|█▍        | 335/2302 [00:05<00:30, 64.39it/s, loss=0.0606]\u001b[A\n",
      " 15%|█▍        | 335/2302 [00:05<00:30, 64.30it/s, loss=0.0605]\u001b[A\n",
      " 15%|█▍        | 335/2302 [00:05<00:30, 64.21it/s, loss=0.0607]\u001b[A\n",
      " 15%|█▍        | 335/2302 [00:05<00:30, 64.12it/s, loss=0.0607]\u001b[A\n",
      " 15%|█▍        | 335/2302 [00:05<00:30, 64.03it/s, loss=0.0604]\u001b[A\n",
      " 15%|█▍        | 335/2302 [00:05<00:30, 63.94it/s, loss=0.0603]\u001b[A\n",
      " 15%|█▍        | 335/2302 [00:05<00:30, 63.85it/s, loss=0.0602]\u001b[A\n",
      " 15%|█▍        | 335/2302 [00:05<00:30, 63.76it/s, loss=0.0602]\u001b[A\n",
      " 15%|█▍        | 335/2302 [00:05<00:30, 63.68it/s, loss=0.0603]\u001b[A\n",
      " 15%|█▍        | 335/2302 [00:05<00:30, 63.59it/s, loss=0.0604]\u001b[A\n",
      " 15%|█▍        | 335/2302 [00:05<00:30, 63.50it/s, loss=0.0602]\u001b[A\n",
      " 15%|█▌        | 349/2302 [00:05<00:29, 66.14it/s, loss=0.0602]\u001b[A\n",
      " 15%|█▌        | 349/2302 [00:05<00:29, 66.05it/s, loss=0.06]  \u001b[A\n",
      " 15%|█▌        | 349/2302 [00:05<00:29, 65.96it/s, loss=0.0595]\u001b[A\n",
      " 15%|█▌        | 349/2302 [00:05<00:29, 65.87it/s, loss=0.0591]\u001b[A\n",
      " 15%|█▌        | 349/2302 [00:05<00:29, 65.78it/s, loss=0.0588]\u001b[A\n",
      " 15%|█▌        | 349/2302 [00:05<00:29, 65.69it/s, loss=0.0589]\u001b[A\n",
      " 15%|█▌        | 349/2302 [00:05<00:29, 65.60it/s, loss=0.059] \u001b[A\n",
      " 15%|█▌        | 349/2302 [00:05<00:29, 65.51it/s, loss=0.059]\u001b[A\n",
      " 15%|█▌        | 349/2302 [00:05<00:29, 65.42it/s, loss=0.0587]\u001b[A\n",
      " 15%|█▌        | 349/2302 [00:05<00:29, 65.34it/s, loss=0.0586]\u001b[A\n",
      " 15%|█▌        | 349/2302 [00:05<00:29, 65.25it/s, loss=0.0586]\u001b[A\n",
      " 15%|█▌        | 349/2302 [00:05<00:29, 65.16it/s, loss=0.0582]\u001b[A\n",
      " 15%|█▌        | 349/2302 [00:05<00:30, 65.07it/s, loss=0.0579]\u001b[A\n",
      " 15%|█▌        | 349/2302 [00:05<00:30, 64.98it/s, loss=0.0577]\u001b[A\n",
      " 15%|█▌        | 349/2302 [00:05<00:30, 64.89it/s, loss=0.0575]\u001b[A\n",
      " 16%|█▌        | 363/2302 [00:05<00:28, 67.48it/s, loss=0.0575]\u001b[A\n",
      " 16%|█▌        | 363/2302 [00:05<00:28, 67.39it/s, loss=0.0572]\u001b[A\n",
      " 16%|█▌        | 363/2302 [00:05<00:28, 67.30it/s, loss=0.0572]\u001b[A\n",
      " 16%|█▌        | 363/2302 [00:05<00:28, 67.21it/s, loss=0.0569]\u001b[A\n",
      " 16%|█▌        | 363/2302 [00:05<00:28, 67.12it/s, loss=0.057] \u001b[A\n",
      " 16%|█▌        | 363/2302 [00:05<00:28, 67.03it/s, loss=0.0568]\u001b[A\n",
      " 16%|█▌        | 363/2302 [00:05<00:28, 66.94it/s, loss=0.0564]\u001b[A\n",
      " 16%|█▌        | 363/2302 [00:05<00:29, 66.85it/s, loss=0.0559]\u001b[A\n",
      " 16%|█▌        | 363/2302 [00:05<00:29, 66.76it/s, loss=0.0557]\u001b[A\n",
      " 16%|█▌        | 363/2302 [00:05<00:29, 66.67it/s, loss=0.0558]\u001b[A\n",
      " 16%|█▌        | 363/2302 [00:05<00:29, 66.58it/s, loss=0.0558]\u001b[A\n",
      " 16%|█▌        | 363/2302 [00:05<00:29, 66.49it/s, loss=0.0553]\u001b[A\n",
      " 16%|█▌        | 363/2302 [00:05<00:29, 66.40it/s, loss=0.055] \u001b[A\n",
      " 16%|█▌        | 363/2302 [00:05<00:29, 66.31it/s, loss=0.0553]\u001b[A\n",
      " 16%|█▌        | 363/2302 [00:05<00:29, 66.22it/s, loss=0.0549]\u001b[A\n",
      " 16%|█▋        | 377/2302 [00:05<00:27, 68.76it/s, loss=0.0549]\u001b[A\n",
      " 16%|█▋        | 377/2302 [00:05<00:28, 68.67it/s, loss=0.055] \u001b[A\n",
      " 16%|█▋        | 377/2302 [00:05<00:28, 68.58it/s, loss=0.055]\u001b[A\n",
      " 16%|█▋        | 377/2302 [00:05<00:28, 68.49it/s, loss=0.0548]\u001b[A\n",
      " 16%|█▋        | 377/2302 [00:05<00:28, 68.40it/s, loss=0.0545]\u001b[A\n",
      " 16%|█▋        | 377/2302 [00:05<00:28, 68.31it/s, loss=0.0545]\u001b[A\n",
      " 16%|█▋        | 377/2302 [00:05<00:28, 68.22it/s, loss=0.0546]\u001b[A\n",
      " 16%|█▋        | 377/2302 [00:05<00:28, 68.13it/s, loss=0.0546]\u001b[A\n",
      " 16%|█▋        | 377/2302 [00:05<00:28, 68.04it/s, loss=0.0549]\u001b[A\n",
      " 16%|█▋        | 377/2302 [00:05<00:28, 67.96it/s, loss=0.0551]\u001b[A\n",
      " 16%|█▋        | 377/2302 [00:05<00:28, 67.87it/s, loss=0.0549]\u001b[A\n",
      " 16%|█▋        | 377/2302 [00:05<00:28, 67.78it/s, loss=0.055] \u001b[A\n",
      " 16%|█▋        | 377/2302 [00:05<00:28, 67.69it/s, loss=0.0551]\u001b[A\n",
      " 16%|█▋        | 377/2302 [00:05<00:28, 67.61it/s, loss=0.055] \u001b[A\n",
      " 16%|█▋        | 377/2302 [00:05<00:28, 67.51it/s, loss=0.0549]\u001b[A\n",
      " 17%|█▋        | 391/2302 [00:05<00:27, 70.01it/s, loss=0.0549]\u001b[A\n",
      " 17%|█▋        | 391/2302 [00:05<00:27, 69.92it/s, loss=0.055] \u001b[A\n",
      " 17%|█▋        | 391/2302 [00:05<00:27, 69.82it/s, loss=0.0552]\u001b[A\n",
      " 17%|█▋        | 391/2302 [00:05<00:27, 69.73it/s, loss=0.0552]\u001b[A\n",
      " 17%|█▋        | 391/2302 [00:05<00:27, 69.64it/s, loss=0.0549]\u001b[A\n",
      " 17%|█▋        | 391/2302 [00:05<00:27, 69.55it/s, loss=0.0547]\u001b[A\n",
      " 17%|█▋        | 391/2302 [00:05<00:27, 69.46it/s, loss=0.0544]\u001b[A\n",
      " 17%|█▋        | 391/2302 [00:05<00:27, 69.37it/s, loss=0.0547]\u001b[A\n",
      " 17%|█▋        | 391/2302 [00:05<00:27, 69.28it/s, loss=0.0548]\u001b[A\n",
      " 17%|█▋        | 391/2302 [00:05<00:27, 69.19it/s, loss=0.0543]\u001b[A\n",
      " 17%|█▋        | 391/2302 [00:05<00:27, 69.10it/s, loss=0.0543]\u001b[A\n",
      " 17%|█▋        | 391/2302 [00:05<00:27, 69.01it/s, loss=0.0538]\u001b[A\n",
      " 17%|█▋        | 391/2302 [00:05<00:27, 68.93it/s, loss=0.0539]\u001b[A\n",
      " 17%|█▋        | 391/2302 [00:05<00:27, 68.84it/s, loss=0.0538]\u001b[A\n",
      " 17%|█▋        | 391/2302 [00:05<00:27, 68.74it/s, loss=0.0538]\u001b[A\n",
      " 18%|█▊        | 405/2302 [00:05<00:26, 71.19it/s, loss=0.0538]\u001b[A\n",
      " 18%|█▊        | 405/2302 [00:05<00:26, 71.10it/s, loss=0.0538]\u001b[A\n",
      " 18%|█▊        | 405/2302 [00:05<00:26, 71.01it/s, loss=0.0536]\u001b[A\n",
      " 18%|█▊        | 405/2302 [00:05<00:26, 70.92it/s, loss=0.0534]\u001b[A\n",
      " 18%|█▊        | 405/2302 [00:05<00:26, 70.83it/s, loss=0.0534]\u001b[A\n",
      " 18%|█▊        | 405/2302 [00:05<00:26, 70.74it/s, loss=0.0533]\u001b[A\n",
      " 18%|█▊        | 405/2302 [00:05<00:26, 70.65it/s, loss=0.0531]\u001b[A\n",
      " 18%|█▊        | 405/2302 [00:05<00:26, 70.56it/s, loss=0.0535]\u001b[A\n",
      " 18%|█▊        | 405/2302 [00:05<00:26, 70.47it/s, loss=0.0536]\u001b[A\n",
      " 18%|█▊        | 405/2302 [00:05<00:26, 70.39it/s, loss=0.0533]\u001b[A\n",
      " 18%|█▊        | 405/2302 [00:05<00:26, 70.30it/s, loss=0.0533]\u001b[A\n",
      " 18%|█▊        | 405/2302 [00:05<00:27, 70.21it/s, loss=0.0532]\u001b[A\n",
      " 18%|█▊        | 405/2302 [00:05<00:27, 70.13it/s, loss=0.0529]\u001b[A\n",
      " 18%|█▊        | 405/2302 [00:05<00:27, 70.04it/s, loss=0.0528]\u001b[A\n",
      " 18%|█▊        | 405/2302 [00:05<00:27, 69.95it/s, loss=0.0527]\u001b[A\n",
      " 18%|█▊        | 419/2302 [00:05<00:26, 72.35it/s, loss=0.0527]\u001b[A\n",
      " 18%|█▊        | 419/2302 [00:05<00:26, 72.26it/s, loss=0.053] \u001b[A\n",
      " 18%|█▊        | 419/2302 [00:05<00:26, 72.17it/s, loss=0.0528]\u001b[A\n",
      " 18%|█▊        | 419/2302 [00:05<00:26, 72.08it/s, loss=0.0527]\u001b[A\n",
      " 18%|█▊        | 419/2302 [00:05<00:26, 71.99it/s, loss=0.0528]\u001b[A\n",
      " 18%|█▊        | 419/2302 [00:05<00:26, 71.90it/s, loss=0.053] \u001b[A\n",
      " 18%|█▊        | 419/2302 [00:05<00:26, 71.81it/s, loss=0.0524]\u001b[A\n",
      " 18%|█▊        | 419/2302 [00:05<00:26, 71.72it/s, loss=0.0522]\u001b[A\n",
      " 18%|█▊        | 419/2302 [00:05<00:26, 71.63it/s, loss=0.0521]\u001b[A\n",
      " 18%|█▊        | 419/2302 [00:05<00:26, 71.54it/s, loss=0.0521]\u001b[A\n",
      " 18%|█▊        | 419/2302 [00:05<00:26, 71.45it/s, loss=0.0519]\u001b[A\n",
      " 18%|█▊        | 419/2302 [00:05<00:26, 71.37it/s, loss=0.0517]\u001b[A\n",
      " 18%|█▊        | 419/2302 [00:05<00:26, 71.28it/s, loss=0.0514]\u001b[A\n",
      " 18%|█▊        | 419/2302 [00:05<00:26, 71.19it/s, loss=0.0512]\u001b[A\n",
      " 18%|█▊        | 419/2302 [00:05<00:26, 71.09it/s, loss=0.0513]\u001b[A\n",
      " 19%|█▉        | 433/2302 [00:05<00:25, 73.46it/s, loss=0.0513]\u001b[A\n",
      " 19%|█▉        | 433/2302 [00:05<00:25, 73.37it/s, loss=0.0513]\u001b[A\n",
      " 19%|█▉        | 433/2302 [00:05<00:25, 73.28it/s, loss=0.0513]\u001b[A\n",
      " 19%|█▉        | 433/2302 [00:05<00:25, 73.19it/s, loss=0.0513]\u001b[A\n",
      " 19%|█▉        | 433/2302 [00:05<00:25, 73.10it/s, loss=0.0513]\u001b[A\n",
      " 19%|█▉        | 433/2302 [00:05<00:25, 73.01it/s, loss=0.0513]\u001b[A\n",
      " 19%|█▉        | 433/2302 [00:05<00:25, 72.92it/s, loss=0.0512]\u001b[A\n",
      " 19%|█▉        | 433/2302 [00:05<00:25, 72.83it/s, loss=0.0515]\u001b[A\n"
     ]
    },
    {
     "name": "stdout",
     "output_type": "stream",
     "text": [
      " 19%|█▉        | 433/2302 [00:05<00:25, 72.74it/s, loss=0.0513]\u001b[A\n",
      " 19%|█▉        | 433/2302 [00:05<00:25, 72.65it/s, loss=0.0512]\u001b[A\n",
      " 19%|█▉        | 433/2302 [00:05<00:25, 72.57it/s, loss=0.0509]\u001b[A\n",
      " 19%|█▉        | 433/2302 [00:05<00:25, 72.48it/s, loss=0.0508]\u001b[A\n",
      " 19%|█▉        | 433/2302 [00:05<00:25, 72.39it/s, loss=0.0512]\u001b[A\n",
      " 19%|█▉        | 433/2302 [00:05<00:25, 72.31it/s, loss=0.0511]\u001b[A\n",
      " 19%|█▉        | 433/2302 [00:05<00:25, 72.21it/s, loss=0.0511]\u001b[A\n",
      " 19%|█▉        | 447/2302 [00:05<00:24, 74.54it/s, loss=0.0511]\u001b[A\n",
      " 19%|█▉        | 447/2302 [00:06<00:24, 74.45it/s, loss=0.0509]\u001b[A\n",
      " 19%|█▉        | 447/2302 [00:06<00:24, 74.36it/s, loss=0.0514]\u001b[A\n",
      " 19%|█▉        | 447/2302 [00:06<00:24, 74.27it/s, loss=0.0511]\u001b[A\n",
      " 19%|█▉        | 447/2302 [00:06<00:25, 74.18it/s, loss=0.0511]\u001b[A\n",
      " 19%|█▉        | 447/2302 [00:06<00:25, 74.09it/s, loss=0.0506]\u001b[A\n",
      " 19%|█▉        | 447/2302 [00:06<00:25, 74.00it/s, loss=0.0507]\u001b[A\n",
      " 19%|█▉        | 447/2302 [00:06<00:25, 73.91it/s, loss=0.051] \u001b[A\n",
      " 19%|█▉        | 447/2302 [00:06<00:25, 73.82it/s, loss=0.051]\u001b[A\n",
      " 19%|█▉        | 447/2302 [00:06<00:25, 73.73it/s, loss=0.0509]\u001b[A\n",
      " 19%|█▉        | 447/2302 [00:06<00:25, 73.64it/s, loss=0.0509]\u001b[A\n",
      " 19%|█▉        | 447/2302 [00:06<00:25, 73.55it/s, loss=0.0504]\u001b[A\n",
      " 19%|█▉        | 447/2302 [00:06<00:25, 73.46it/s, loss=0.0502]\u001b[A\n",
      " 19%|█▉        | 447/2302 [00:06<00:25, 73.38it/s, loss=0.0498]\u001b[A\n",
      "\n",
      " 19%|█▉        | 447/2302 [00:06<00:25, 73.27it/s, loss=0.05]  \u001b[A\n",
      " 20%|██        | 461/2302 [00:06<00:24, 75.55it/s, loss=0.05]\u001b[A\n",
      " 21%|██        | 475/2302 [00:06<00:24, 75.46it/s, loss=0.0468]\u001b[A"
     ]
    },
    {
     "name": "stderr",
     "output_type": "stream",
     "text": [
      "Exception in thread Thread-4:\n",
      "Traceback (most recent call last):\n",
      "  File \"/home/jd/anaconda3/envs/fastai/lib/python3.6/threading.py\", line 916, in _bootstrap_inner\n",
      "    self.run()\n",
      "  File \"/home/jd/anaconda3/envs/fastai/lib/python3.6/site-packages/tqdm/_tqdm.py\", line 144, in run\n",
      "    for instance in self.tqdm_cls._instances:\n",
      "  File \"/home/jd/anaconda3/envs/fastai/lib/python3.6/_weakrefset.py\", line 60, in __iter__\n",
      "    for itemref in self.data:\n",
      "RuntimeError: Set changed size during iteration\n",
      "\n",
      "Exception in thread Thread-5:\n",
      "Traceback (most recent call last):\n",
      "  File \"/home/jd/anaconda3/envs/fastai/lib/python3.6/threading.py\", line 916, in _bootstrap_inner\n",
      "    self.run()\n",
      "  File \"/home/jd/anaconda3/envs/fastai/lib/python3.6/site-packages/tqdm/_tqdm.py\", line 144, in run\n",
      "    for instance in self.tqdm_cls._instances:\n",
      "  File \"/home/jd/anaconda3/envs/fastai/lib/python3.6/_weakrefset.py\", line 60, in __iter__\n",
      "    for itemref in self.data:\n",
      "RuntimeError: Set changed size during iteration\n",
      "\n"
     ]
    },
    {
     "name": "stdout",
     "output_type": "stream",
     "text": [
      "[ 0.       0.03427  0.03577  0.96276  0.19155]                   \n",
      " 32%|███▏      | 735/2302 [00:08<00:17, 88.55it/s, loss=0.0368]\n"
     ]
    },
    {
     "ename": "KeyboardInterrupt",
     "evalue": "",
     "output_type": "error",
     "traceback": [
      "\u001b[0;31m---------------------------------------------------------------------------\u001b[0m",
      "\u001b[0;31mKeyboardInterrupt\u001b[0m                         Traceback (most recent call last)",
      "\u001b[0;32m<ipython-input-38-457f9403c8e6>\u001b[0m in \u001b[0;36m<module>\u001b[0;34m()\u001b[0m\n\u001b[0;32m----> 1\u001b[0;31m \u001b[0mm\u001b[0m\u001b[0;34m.\u001b[0m\u001b[0mfit\u001b[0m\u001b[0;34m(\u001b[0m\u001b[0mlrs\u001b[0m\u001b[0;34m=\u001b[0m\u001b[0mlr\u001b[0m\u001b[0;34m,\u001b[0m \u001b[0mn_cycle\u001b[0m\u001b[0;34m=\u001b[0m\u001b[0;36m2\u001b[0m\u001b[0;34m,\u001b[0m \u001b[0mmetrics\u001b[0m\u001b[0;34m=\u001b[0m\u001b[0;34m[\u001b[0m\u001b[0maccuracy\u001b[0m\u001b[0;34m,\u001b[0m \u001b[0mgini_metric\u001b[0m\u001b[0;34m]\u001b[0m\u001b[0;34m)\u001b[0m\u001b[0;34m\u001b[0m\u001b[0m\n\u001b[0m",
      "\u001b[0;32m~/kaggle/PortoDriver/fastai/learner.py\u001b[0m in \u001b[0;36mfit\u001b[0;34m(self, lrs, n_cycle, wds, **kwargs)\u001b[0m\n\u001b[1;32m     97\u001b[0m         \u001b[0mself\u001b[0m\u001b[0;34m.\u001b[0m\u001b[0msched\u001b[0m \u001b[0;34m=\u001b[0m \u001b[0;32mNone\u001b[0m\u001b[0;34m\u001b[0m\u001b[0m\n\u001b[1;32m     98\u001b[0m         \u001b[0mlayer_opt\u001b[0m \u001b[0;34m=\u001b[0m \u001b[0mself\u001b[0m\u001b[0;34m.\u001b[0m\u001b[0mget_layer_opt\u001b[0m\u001b[0;34m(\u001b[0m\u001b[0mlrs\u001b[0m\u001b[0;34m,\u001b[0m \u001b[0mwds\u001b[0m\u001b[0;34m)\u001b[0m\u001b[0;34m\u001b[0m\u001b[0m\n\u001b[0;32m---> 99\u001b[0;31m         \u001b[0mself\u001b[0m\u001b[0;34m.\u001b[0m\u001b[0mfit_gen\u001b[0m\u001b[0;34m(\u001b[0m\u001b[0mself\u001b[0m\u001b[0;34m.\u001b[0m\u001b[0mmodel\u001b[0m\u001b[0;34m,\u001b[0m \u001b[0mself\u001b[0m\u001b[0;34m.\u001b[0m\u001b[0mdata\u001b[0m\u001b[0;34m,\u001b[0m \u001b[0mlayer_opt\u001b[0m\u001b[0;34m,\u001b[0m \u001b[0mn_cycle\u001b[0m\u001b[0;34m,\u001b[0m \u001b[0;34m**\u001b[0m\u001b[0mkwargs\u001b[0m\u001b[0;34m)\u001b[0m\u001b[0;34m\u001b[0m\u001b[0m\n\u001b[0m\u001b[1;32m    100\u001b[0m \u001b[0;34m\u001b[0m\u001b[0m\n\u001b[1;32m    101\u001b[0m     \u001b[0;32mdef\u001b[0m \u001b[0mlr_find\u001b[0m\u001b[0;34m(\u001b[0m\u001b[0mself\u001b[0m\u001b[0;34m,\u001b[0m \u001b[0mstart_lr\u001b[0m\u001b[0;34m=\u001b[0m\u001b[0;36m1e-5\u001b[0m\u001b[0;34m,\u001b[0m \u001b[0mend_lr\u001b[0m\u001b[0;34m=\u001b[0m\u001b[0;36m10\u001b[0m\u001b[0;34m,\u001b[0m \u001b[0mwds\u001b[0m\u001b[0;34m=\u001b[0m\u001b[0;32mNone\u001b[0m\u001b[0;34m)\u001b[0m\u001b[0;34m:\u001b[0m\u001b[0;34m\u001b[0m\u001b[0m\n",
      "\u001b[0;32m~/kaggle/PortoDriver/fastai/learner.py\u001b[0m in \u001b[0;36mfit_gen\u001b[0;34m(self, model, data, layer_opt, n_cycle, cycle_len, cycle_mult, cycle_save_name, metrics, callbacks, **kwargs)\u001b[0m\n\u001b[1;32m     87\u001b[0m         \u001b[0mn_epoch\u001b[0m \u001b[0;34m=\u001b[0m \u001b[0msum_geom\u001b[0m\u001b[0;34m(\u001b[0m\u001b[0mcycle_len\u001b[0m \u001b[0;32mif\u001b[0m \u001b[0mcycle_len\u001b[0m \u001b[0;32melse\u001b[0m \u001b[0;36m1\u001b[0m\u001b[0;34m,\u001b[0m \u001b[0mcycle_mult\u001b[0m\u001b[0;34m,\u001b[0m \u001b[0mn_cycle\u001b[0m\u001b[0;34m)\u001b[0m\u001b[0;34m\u001b[0m\u001b[0m\n\u001b[1;32m     88\u001b[0m         fit(model, data, n_epoch, layer_opt.opt, self.crit,\n\u001b[0;32m---> 89\u001b[0;31m             metrics=metrics, callbacks=callbacks, reg_fn=self.reg_fn, clip=self.clip, **kwargs)\n\u001b[0m\u001b[1;32m     90\u001b[0m \u001b[0;34m\u001b[0m\u001b[0m\n\u001b[1;32m     91\u001b[0m     \u001b[0;32mdef\u001b[0m \u001b[0mget_layer_groups\u001b[0m\u001b[0;34m(\u001b[0m\u001b[0mself\u001b[0m\u001b[0;34m)\u001b[0m\u001b[0;34m:\u001b[0m \u001b[0;32mreturn\u001b[0m \u001b[0mself\u001b[0m\u001b[0;34m.\u001b[0m\u001b[0mmodels\u001b[0m\u001b[0;34m.\u001b[0m\u001b[0mget_layer_groups\u001b[0m\u001b[0;34m(\u001b[0m\u001b[0;34m)\u001b[0m\u001b[0;34m\u001b[0m\u001b[0m\n",
      "\u001b[0;32m~/kaggle/PortoDriver/fastai/model.py\u001b[0m in \u001b[0;36mfit\u001b[0;34m(model, data, epochs, opt, crit, metrics, callbacks, **kwargs)\u001b[0m\n\u001b[1;32m     82\u001b[0m         \u001b[0;32mfor\u001b[0m \u001b[0;34m(\u001b[0m\u001b[0;34m*\u001b[0m\u001b[0mx\u001b[0m\u001b[0;34m,\u001b[0m\u001b[0my\u001b[0m\u001b[0;34m)\u001b[0m \u001b[0;32min\u001b[0m \u001b[0mt\u001b[0m\u001b[0;34m:\u001b[0m\u001b[0;34m\u001b[0m\u001b[0m\n\u001b[1;32m     83\u001b[0m             \u001b[0mbatch_num\u001b[0m \u001b[0;34m+=\u001b[0m \u001b[0;36m1\u001b[0m\u001b[0;34m\u001b[0m\u001b[0m\n\u001b[0;32m---> 84\u001b[0;31m             \u001b[0mloss\u001b[0m \u001b[0;34m=\u001b[0m \u001b[0mstepper\u001b[0m\u001b[0;34m.\u001b[0m\u001b[0mstep\u001b[0m\u001b[0;34m(\u001b[0m\u001b[0mV\u001b[0m\u001b[0;34m(\u001b[0m\u001b[0mx\u001b[0m\u001b[0;34m)\u001b[0m\u001b[0;34m,\u001b[0m\u001b[0mV\u001b[0m\u001b[0;34m(\u001b[0m\u001b[0my\u001b[0m\u001b[0;34m)\u001b[0m\u001b[0;34m)\u001b[0m\u001b[0;34m\u001b[0m\u001b[0m\n\u001b[0m\u001b[1;32m     85\u001b[0m             \u001b[0mavg_loss\u001b[0m \u001b[0;34m=\u001b[0m \u001b[0mavg_loss\u001b[0m \u001b[0;34m*\u001b[0m \u001b[0mavg_mom\u001b[0m \u001b[0;34m+\u001b[0m \u001b[0mloss\u001b[0m \u001b[0;34m*\u001b[0m \u001b[0;34m(\u001b[0m\u001b[0;36m1\u001b[0m\u001b[0;34m-\u001b[0m\u001b[0mavg_mom\u001b[0m\u001b[0;34m)\u001b[0m\u001b[0;34m\u001b[0m\u001b[0m\n\u001b[1;32m     86\u001b[0m             \u001b[0mdebias_loss\u001b[0m \u001b[0;34m=\u001b[0m \u001b[0mavg_loss\u001b[0m \u001b[0;34m/\u001b[0m \u001b[0;34m(\u001b[0m\u001b[0;36m1\u001b[0m \u001b[0;34m-\u001b[0m \u001b[0mavg_mom\u001b[0m\u001b[0;34m**\u001b[0m\u001b[0mbatch_num\u001b[0m\u001b[0;34m)\u001b[0m\u001b[0;34m\u001b[0m\u001b[0m\n",
      "\u001b[0;32m~/kaggle/PortoDriver/fastai/model.py\u001b[0m in \u001b[0;36mstep\u001b[0;34m(self, xs, y)\u001b[0m\n\u001b[1;32m     43\u001b[0m         \u001b[0mloss\u001b[0m \u001b[0;34m=\u001b[0m \u001b[0mraw_loss\u001b[0m \u001b[0;34m=\u001b[0m \u001b[0mself\u001b[0m\u001b[0;34m.\u001b[0m\u001b[0mcrit\u001b[0m\u001b[0;34m(\u001b[0m\u001b[0moutput\u001b[0m\u001b[0;34m,\u001b[0m \u001b[0my\u001b[0m\u001b[0;34m)\u001b[0m\u001b[0;34m\u001b[0m\u001b[0m\n\u001b[1;32m     44\u001b[0m         \u001b[0;32mif\u001b[0m \u001b[0mself\u001b[0m\u001b[0;34m.\u001b[0m\u001b[0mreg_fn\u001b[0m\u001b[0;34m:\u001b[0m \u001b[0mloss\u001b[0m \u001b[0;34m=\u001b[0m \u001b[0mself\u001b[0m\u001b[0;34m.\u001b[0m\u001b[0mreg_fn\u001b[0m\u001b[0;34m(\u001b[0m\u001b[0moutput\u001b[0m\u001b[0;34m,\u001b[0m \u001b[0mxtra\u001b[0m\u001b[0;34m,\u001b[0m \u001b[0mraw_loss\u001b[0m\u001b[0;34m)\u001b[0m\u001b[0;34m\u001b[0m\u001b[0m\n\u001b[0;32m---> 45\u001b[0;31m         \u001b[0mloss\u001b[0m\u001b[0;34m.\u001b[0m\u001b[0mbackward\u001b[0m\u001b[0;34m(\u001b[0m\u001b[0;34m)\u001b[0m\u001b[0;34m\u001b[0m\u001b[0m\n\u001b[0m\u001b[1;32m     46\u001b[0m         \u001b[0;32mif\u001b[0m \u001b[0mself\u001b[0m\u001b[0;34m.\u001b[0m\u001b[0mclip\u001b[0m\u001b[0;34m:\u001b[0m   \u001b[0;31m# Gradient clipping\u001b[0m\u001b[0;34m\u001b[0m\u001b[0m\n\u001b[1;32m     47\u001b[0m             \u001b[0mnn\u001b[0m\u001b[0;34m.\u001b[0m\u001b[0mutils\u001b[0m\u001b[0;34m.\u001b[0m\u001b[0mclip_grad_norm\u001b[0m\u001b[0;34m(\u001b[0m\u001b[0mtrainable_params_\u001b[0m\u001b[0;34m(\u001b[0m\u001b[0mself\u001b[0m\u001b[0;34m.\u001b[0m\u001b[0mm\u001b[0m\u001b[0;34m)\u001b[0m\u001b[0;34m,\u001b[0m \u001b[0mself\u001b[0m\u001b[0;34m.\u001b[0m\u001b[0mclip\u001b[0m\u001b[0;34m)\u001b[0m\u001b[0;34m\u001b[0m\u001b[0m\n",
      "\u001b[0;32m~/anaconda3/envs/fastai/lib/python3.6/site-packages/torch/autograd/variable.py\u001b[0m in \u001b[0;36mbackward\u001b[0;34m(self, gradient, retain_graph, create_graph, retain_variables)\u001b[0m\n\u001b[1;32m    154\u001b[0m                 \u001b[0mVariable\u001b[0m\u001b[0;34m.\u001b[0m\u001b[0;34m\u001b[0m\u001b[0m\n\u001b[1;32m    155\u001b[0m         \"\"\"\n\u001b[0;32m--> 156\u001b[0;31m         \u001b[0mtorch\u001b[0m\u001b[0;34m.\u001b[0m\u001b[0mautograd\u001b[0m\u001b[0;34m.\u001b[0m\u001b[0mbackward\u001b[0m\u001b[0;34m(\u001b[0m\u001b[0mself\u001b[0m\u001b[0;34m,\u001b[0m \u001b[0mgradient\u001b[0m\u001b[0;34m,\u001b[0m \u001b[0mretain_graph\u001b[0m\u001b[0;34m,\u001b[0m \u001b[0mcreate_graph\u001b[0m\u001b[0;34m,\u001b[0m \u001b[0mretain_variables\u001b[0m\u001b[0;34m)\u001b[0m\u001b[0;34m\u001b[0m\u001b[0m\n\u001b[0m\u001b[1;32m    157\u001b[0m \u001b[0;34m\u001b[0m\u001b[0m\n\u001b[1;32m    158\u001b[0m     \u001b[0;32mdef\u001b[0m \u001b[0mregister_hook\u001b[0m\u001b[0;34m(\u001b[0m\u001b[0mself\u001b[0m\u001b[0;34m,\u001b[0m \u001b[0mhook\u001b[0m\u001b[0;34m)\u001b[0m\u001b[0;34m:\u001b[0m\u001b[0;34m\u001b[0m\u001b[0m\n",
      "\u001b[0;32m~/anaconda3/envs/fastai/lib/python3.6/site-packages/torch/autograd/__init__.py\u001b[0m in \u001b[0;36mbackward\u001b[0;34m(variables, grad_variables, retain_graph, create_graph, retain_variables)\u001b[0m\n\u001b[1;32m     96\u001b[0m \u001b[0;34m\u001b[0m\u001b[0m\n\u001b[1;32m     97\u001b[0m     Variable._execution_engine.run_backward(\n\u001b[0;32m---> 98\u001b[0;31m         variables, grad_variables, retain_graph)\n\u001b[0m\u001b[1;32m     99\u001b[0m \u001b[0;34m\u001b[0m\u001b[0m\n\u001b[1;32m    100\u001b[0m \u001b[0;34m\u001b[0m\u001b[0m\n",
      "\u001b[0;31mKeyboardInterrupt\u001b[0m: "
     ]
    }
   ],
   "source": [
    "m.fit(lrs=lr, n_cycle=2, metrics=[accuracy, gini_metric])"
   ]
  },
  {
   "cell_type": "code",
   "execution_count": null,
   "metadata": {
    "ExecuteTime": {
     "end_time": "2017-11-28T20:02:44.700385Z",
     "start_time": "2017-11-28T19:58:38.011Z"
    }
   },
   "outputs": [],
   "source": [
    "m.fit(lrs=lr, n_cycle=2, cycle_len=2, metrics=[accuracy, gini_metric])"
   ]
  },
  {
   "cell_type": "code",
   "execution_count": 39,
   "metadata": {
    "ExecuteTime": {
     "end_time": "2017-11-28T20:02:46.753268Z",
     "start_time": "2017-11-28T20:02:46.670122Z"
    }
   },
   "outputs": [
    {
     "data": {
      "text/plain": [
       "array([[ 0.05186],\n",
       "       [ 0.04416],\n",
       "       [ 0.0347 ],\n",
       "       [ 0.03266],\n",
       "       [ 0.03816],\n",
       "       [ 0.02917],\n",
       "       [ 0.01616],\n",
       "       [ 0.01639],\n",
       "       [ 0.05   ],\n",
       "       [ 0.03006],\n",
       "       [ 0.02142],\n",
       "       [ 0.02233],\n",
       "       [ 0.02205],\n",
       "       [ 0.02244],\n",
       "       [ 0.03281],\n",
       "       [ 0.03658],\n",
       "       [ 0.02335],\n",
       "       [ 0.04796],\n",
       "       [ 0.01335],\n",
       "       [ 0.02571],\n",
       "       ..., \n",
       "       [ 0.02359],\n",
       "       [ 0.02876],\n",
       "       [ 0.02623],\n",
       "       [ 0.03462],\n",
       "       [ 0.04133],\n",
       "       [ 0.03849],\n",
       "       [ 0.03238],\n",
       "       [ 0.03066],\n",
       "       [ 0.01211],\n",
       "       [ 0.02491],\n",
       "       [ 0.02858],\n",
       "       [ 0.04625],\n",
       "       [ 0.04638],\n",
       "       [ 0.03099],\n",
       "       [ 0.05011],\n",
       "       [ 0.03593],\n",
       "       [ 0.03032],\n",
       "       [ 0.03429],\n",
       "       [ 0.03395],\n",
       "       [ 0.02123]], dtype=float32)"
      ]
     },
     "execution_count": 39,
     "metadata": {},
     "output_type": "execute_result"
    }
   ],
   "source": [
    "m.predict()"
   ]
  },
  {
   "cell_type": "code",
   "execution_count": 40,
   "metadata": {
    "ExecuteTime": {
     "end_time": "2017-11-28T20:02:47.951617Z",
     "start_time": "2017-11-28T20:02:47.912180Z"
    }
   },
   "outputs": [
    {
     "data": {
      "text/plain": [
       "MixedInputModel (\n",
       "  (embs): ModuleList (\n",
       "    (0): Embedding(6, 3)\n",
       "    (1): Embedding(4, 2)\n",
       "    (2): Embedding(9, 5)\n",
       "    (3): Embedding(14, 7)\n",
       "    (4): Embedding(4, 2)\n",
       "    (5): Embedding(4, 2)\n",
       "    (6): Embedding(11, 6)\n",
       "    (7): Embedding(4, 2)\n",
       "    (8): Embedding(19, 10)\n",
       "    (9): Embedding(4, 2)\n",
       "    (10): Embedding(3, 2)\n",
       "    (11): Embedding(7, 4)\n",
       "    (12): Embedding(4, 2)\n",
       "    (13): Embedding(105, 53)\n",
       "    (14): Embedding(3, 2)\n",
       "    (15): Embedding(3, 2)\n",
       "    (16): Embedding(3, 2)\n",
       "    (17): Embedding(3, 2)\n",
       "    (18): Embedding(3, 2)\n",
       "    (19): Embedding(3, 2)\n",
       "    (20): Embedding(3, 2)\n",
       "    (21): Embedding(3, 2)\n",
       "    (22): Embedding(3, 2)\n",
       "    (23): Embedding(3, 2)\n",
       "    (24): Embedding(3, 2)\n",
       "    (25): Embedding(3, 2)\n",
       "    (26): Embedding(3, 2)\n",
       "    (27): Embedding(3, 2)\n",
       "    (28): Embedding(3, 2)\n",
       "    (29): Embedding(3, 2)\n",
       "    (30): Embedding(3, 2)\n",
       "  )\n",
       "  (lins): ModuleList (\n",
       "    (0): Linear (163 -> 1024)\n",
       "    (1): Linear (1024 -> 512)\n",
       "  )\n",
       "  (bns): ModuleList (\n",
       "    (0): BatchNorm1d(1024, eps=1e-05, momentum=0.1, affine=True)\n",
       "    (1): BatchNorm1d(512, eps=1e-05, momentum=0.1, affine=True)\n",
       "  )\n",
       "  (outp): Linear (512 -> 1)\n",
       "  (emb_drop): Dropout (p = 0.01)\n",
       "  (drops): ModuleList (\n",
       "    (0): Dropout (p = 0.15)\n",
       "    (1): Dropout (p = 0.15)\n",
       "  )\n",
       "  (bn): BatchNorm1d(27, eps=1e-05, momentum=0.1, affine=True)\n",
       ")"
      ]
     },
     "execution_count": 40,
     "metadata": {},
     "output_type": "execute_result"
    }
   ],
   "source": [
    "m"
   ]
  },
  {
   "cell_type": "markdown",
   "metadata": {},
   "source": [
    "## Prediction"
   ]
  },
  {
   "cell_type": "code",
   "execution_count": 41,
   "metadata": {
    "ExecuteTime": {
     "end_time": "2017-11-28T20:02:50.100491Z",
     "start_time": "2017-11-28T20:02:50.053274Z"
    }
   },
   "outputs": [],
   "source": [
    "m.save('val0')"
   ]
  },
  {
   "cell_type": "code",
   "execution_count": 42,
   "metadata": {
    "ExecuteTime": {
     "end_time": "2017-11-28T20:02:51.182865Z",
     "start_time": "2017-11-28T20:02:51.136106Z"
    }
   },
   "outputs": [],
   "source": [
    "m.load('val0')"
   ]
  },
  {
   "cell_type": "code",
   "execution_count": 43,
   "metadata": {
    "ExecuteTime": {
     "end_time": "2017-11-28T20:02:52.138914Z",
     "start_time": "2017-11-28T20:02:52.025777Z"
    }
   },
   "outputs": [],
   "source": [
    "x,y=m.predict_with_targs()"
   ]
  },
  {
   "cell_type": "code",
   "execution_count": 45,
   "metadata": {
    "ExecuteTime": {
     "end_time": "2017-11-28T20:03:58.369678Z",
     "start_time": "2017-11-28T20:03:58.334002Z"
    }
   },
   "outputs": [],
   "source": [
    "# Why? No idea, stole from Rossman\n",
    "def inv_y(a): return np.exp(a)\n",
    "\n",
    "def exp_rmspe(y_pred, targ):\n",
    "    targ = inv_y(targ)\n",
    "    pct_var = (targ - inv_y(y_pred))/targ\n",
    "    return math.sqrt((pct_var**2).mean())"
   ]
  },
  {
   "cell_type": "code",
   "execution_count": 46,
   "metadata": {
    "ExecuteTime": {
     "end_time": "2017-11-28T20:03:59.815716Z",
     "start_time": "2017-11-28T20:03:59.784378Z"
    }
   },
   "outputs": [
    {
     "data": {
      "text/plain": [
       "0.12388137881651098"
      ]
     },
     "execution_count": 46,
     "metadata": {},
     "output_type": "execute_result"
    }
   ],
   "source": [
    "exp_rmspe(x,y)"
   ]
  },
  {
   "cell_type": "code",
   "execution_count": 47,
   "metadata": {
    "ExecuteTime": {
     "end_time": "2017-11-28T20:04:10.164135Z",
     "start_time": "2017-11-28T20:04:01.302952Z"
    }
   },
   "outputs": [],
   "source": [
    "pred_test=m.predict(True)"
   ]
  },
  {
   "cell_type": "code",
   "execution_count": 49,
   "metadata": {
    "ExecuteTime": {
     "end_time": "2017-11-28T20:04:18.254184Z",
     "start_time": "2017-11-28T20:04:18.216243Z"
    }
   },
   "outputs": [],
   "source": [
    "test_df['pred_target']=pred_test"
   ]
  },
  {
   "cell_type": "code",
   "execution_count": 50,
   "metadata": {
    "ExecuteTime": {
     "end_time": "2017-11-28T20:04:24.450633Z",
     "start_time": "2017-11-28T20:04:24.360275Z"
    }
   },
   "outputs": [
    {
     "data": {
      "text/plain": [
       "0         0.018527\n",
       "1         0.027269\n",
       "2         0.014767\n",
       "3         0.029961\n",
       "4         0.021145\n",
       "5         0.012645\n",
       "6         0.011075\n",
       "7         0.021942\n",
       "8         0.052832\n",
       "9         0.024897\n",
       "10        0.028502\n",
       "11        0.023400\n",
       "12        0.047333\n",
       "13        0.068052\n",
       "14        0.027686\n",
       "15        0.013865\n",
       "16        0.029167\n",
       "17        0.027831\n",
       "18       -0.001470\n",
       "19        0.034704\n",
       "20        0.025101\n",
       "21        0.039492\n",
       "22        0.046785\n",
       "23        0.017718\n",
       "24        0.038287\n",
       "25        0.020141\n",
       "26        0.043165\n",
       "27        0.022633\n",
       "28        0.028548\n",
       "29        0.025474\n",
       "            ...   \n",
       "892786    0.027356\n",
       "892787    0.032700\n",
       "892788    0.035545\n",
       "892789    0.034481\n",
       "892790    0.036384\n",
       "892791    0.022455\n",
       "892792    0.028851\n",
       "892793    0.032623\n",
       "892794    0.036109\n",
       "892795    0.024120\n",
       "892796    0.038324\n",
       "892797    0.056812\n",
       "892798    0.034082\n",
       "892799    0.036444\n",
       "892800    0.028223\n",
       "892801    0.031476\n",
       "892802    0.034189\n",
       "892803    0.035549\n",
       "892804    0.019611\n",
       "892805    0.024895\n",
       "892806    0.015843\n",
       "892807    0.038860\n",
       "892808    0.031719\n",
       "892809    0.027078\n",
       "892810    0.025056\n",
       "892811    0.074632\n",
       "892812    0.027033\n",
       "892813    0.030432\n",
       "892814    0.028397\n",
       "892815    0.029767\n",
       "Name: pred_target, Length: 892816, dtype: float32"
      ]
     },
     "execution_count": 50,
     "metadata": {},
     "output_type": "execute_result"
    }
   ],
   "source": [
    "test_df['pred_target']"
   ]
  },
  {
   "cell_type": "markdown",
   "metadata": {},
   "source": [
    "## Submission"
   ]
  },
  {
   "cell_type": "code",
   "execution_count": 51,
   "metadata": {
    "ExecuteTime": {
     "end_time": "2017-11-28T20:04:59.118563Z",
     "start_time": "2017-11-28T20:04:59.074167Z"
    }
   },
   "outputs": [
    {
     "data": {
      "text/html": [
       "<div>\n",
       "<style scoped>\n",
       "    .dataframe tbody tr th:only-of-type {\n",
       "        vertical-align: middle;\n",
       "    }\n",
       "\n",
       "    .dataframe tbody tr th {\n",
       "        vertical-align: top;\n",
       "    }\n",
       "\n",
       "    .dataframe thead th {\n",
       "        text-align: right;\n",
       "    }\n",
       "</style>\n",
       "<table border=\"1\" class=\"dataframe\">\n",
       "  <thead>\n",
       "    <tr style=\"text-align: right;\">\n",
       "      <th></th>\n",
       "      <th>id</th>\n",
       "      <th>target</th>\n",
       "    </tr>\n",
       "  </thead>\n",
       "  <tbody>\n",
       "    <tr>\n",
       "      <th>0</th>\n",
       "      <td>-1.732324</td>\n",
       "      <td>0.018527</td>\n",
       "    </tr>\n",
       "    <tr>\n",
       "      <th>1</th>\n",
       "      <td>-1.732322</td>\n",
       "      <td>0.027269</td>\n",
       "    </tr>\n",
       "    <tr>\n",
       "      <th>2</th>\n",
       "      <td>-1.732319</td>\n",
       "      <td>0.014767</td>\n",
       "    </tr>\n",
       "    <tr>\n",
       "      <th>3</th>\n",
       "      <td>-1.732317</td>\n",
       "      <td>0.029961</td>\n",
       "    </tr>\n",
       "    <tr>\n",
       "      <th>4</th>\n",
       "      <td>-1.732315</td>\n",
       "      <td>0.021145</td>\n",
       "    </tr>\n",
       "    <tr>\n",
       "      <th>5</th>\n",
       "      <td>-1.732312</td>\n",
       "      <td>0.012645</td>\n",
       "    </tr>\n",
       "    <tr>\n",
       "      <th>6</th>\n",
       "      <td>-1.732310</td>\n",
       "      <td>0.011075</td>\n",
       "    </tr>\n",
       "    <tr>\n",
       "      <th>7</th>\n",
       "      <td>-1.732305</td>\n",
       "      <td>0.021942</td>\n",
       "    </tr>\n",
       "    <tr>\n",
       "      <th>8</th>\n",
       "      <td>-1.732301</td>\n",
       "      <td>0.052832</td>\n",
       "    </tr>\n",
       "    <tr>\n",
       "      <th>9</th>\n",
       "      <td>-1.732298</td>\n",
       "      <td>0.024897</td>\n",
       "    </tr>\n",
       "  </tbody>\n",
       "</table>\n",
       "</div>"
      ],
      "text/plain": [
       "         id    target\n",
       "0 -1.732324  0.018527\n",
       "1 -1.732322  0.027269\n",
       "2 -1.732319  0.014767\n",
       "3 -1.732317  0.029961\n",
       "4 -1.732315  0.021145\n",
       "5 -1.732312  0.012645\n",
       "6 -1.732310  0.011075\n",
       "7 -1.732305  0.021942\n",
       "8 -1.732301  0.052832\n",
       "9 -1.732298  0.024897"
      ]
     },
     "execution_count": 51,
     "metadata": {},
     "output_type": "execute_result"
    }
   ],
   "source": [
    "## Sets up the test use\n",
    "submission = pd.DataFrame({'id': test_df.id, 'target': test_df.pred_target})\n",
    "# Shows 5 to ensure formatting is correct\n",
    "submission[:10]"
   ]
  },
  {
   "cell_type": "code",
   "execution_count": 53,
   "metadata": {
    "ExecuteTime": {
     "end_time": "2017-11-28T20:05:11.406155Z",
     "start_time": "2017-11-28T20:05:11.363651Z"
    }
   },
   "outputs": [],
   "source": [
    "# Makes the submission name out of folders\n",
    "path3 = PATH +'submits/'\n",
    "## labels submissions in order\n",
    "numFiles=len(os.listdir(path3))\n",
    "subm_name = 'submission'+str(numFiles)+'.csv.gz'"
   ]
  },
  {
   "cell_type": "code",
   "execution_count": 54,
   "metadata": {
    "ExecuteTime": {
     "end_time": "2017-11-28T20:05:29.455899Z",
     "start_time": "2017-11-28T20:05:20.886245Z"
    }
   },
   "outputs": [
    {
     "name": "stdout",
     "output_type": "stream",
     "text": [
      "http://localhost:8888/view/data/PortoDriver/submits/submission20.csv.gz\n"
     ]
    }
   ],
   "source": [
    "## prints it out to downloaded\n",
    "submission.to_csv((path3+subm_name), index=False, compression='gzip')\n",
    "print ('http://localhost:8888/view/data/PortoDriver/submits/'+subm_name)"
   ]
  },
  {
   "cell_type": "code",
   "execution_count": null,
   "metadata": {},
   "outputs": [],
   "source": []
  }
 ],
 "metadata": {
  "kernelspec": {
   "display_name": "Python 3",
   "language": "python",
   "name": "python3"
  },
  "language_info": {
   "codemirror_mode": {
    "name": "ipython",
    "version": 3
   },
   "file_extension": ".py",
   "mimetype": "text/x-python",
   "name": "python",
   "nbconvert_exporter": "python",
   "pygments_lexer": "ipython3",
   "version": "3.6.3"
  },
  "latex_envs": {
   "LaTeX_envs_menu_present": true,
   "autocomplete": true,
   "bibliofile": "biblio.bib",
   "cite_by": "apalike",
   "current_citInitial": 1,
   "eqLabelWithNumbers": true,
   "eqNumInitial": 1,
   "hotkeys": {
    "equation": "Ctrl-E",
    "itemize": "Ctrl-I"
   },
   "labels_anchors": false,
   "latex_user_defs": false,
   "report_style_numbering": false,
   "user_envs_cfg": false
  }
 },
 "nbformat": 4,
 "nbformat_minor": 2
}
