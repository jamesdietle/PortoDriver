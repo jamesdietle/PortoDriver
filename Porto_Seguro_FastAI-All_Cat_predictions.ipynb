{
 "cells": [
  {
   "cell_type": "markdown",
   "metadata": {},
   "source": [
    "In this implementation:\n",
    "- Missing values are treated as a separate category i.e. we do not replace missing values with NaN.\n",
    "- Use 99:1 train to validation set ratio.\n"
   ]
  },
  {
   "cell_type": "code",
   "execution_count": 1,
   "metadata": {
    "ExecuteTime": {
     "end_time": "2017-11-28T21:20:30.787705Z",
     "start_time": "2017-11-28T21:20:30.633437Z"
    }
   },
   "outputs": [],
   "source": [
    "%matplotlib inline\n",
    "%reload_ext autoreload\n",
    "%autoreload 2"
   ]
  },
  {
   "cell_type": "code",
   "execution_count": 2,
   "metadata": {
    "ExecuteTime": {
     "end_time": "2017-11-28T21:20:31.424260Z",
     "start_time": "2017-11-28T21:20:30.788807Z"
    }
   },
   "outputs": [],
   "source": [
    "from fastai.structured import *\n",
    "from fastai.column_data import *"
   ]
  },
  {
   "cell_type": "code",
   "execution_count": 3,
   "metadata": {
    "ExecuteTime": {
     "end_time": "2017-11-28T21:20:31.437846Z",
     "start_time": "2017-11-28T21:20:31.425487Z"
    }
   },
   "outputs": [],
   "source": [
    "# Set printing options. \n",
    "# These options determine the way floating point numbers, arrays and\n",
    "# other NumPy objects are displayed.\n",
    "np.set_printoptions(threshold=50, edgeitems=20)"
   ]
  },
  {
   "cell_type": "markdown",
   "metadata": {},
   "source": [
    "### Set data path"
   ]
  },
  {
   "cell_type": "code",
   "execution_count": 4,
   "metadata": {
    "ExecuteTime": {
     "end_time": "2017-11-28T21:20:31.450719Z",
     "start_time": "2017-11-28T21:20:31.438949Z"
    }
   },
   "outputs": [],
   "source": [
    "#PATH = 'data/porto-seguro/'\n",
    "PATH = '/home/jd/data/PortoDriver/'"
   ]
  },
  {
   "cell_type": "markdown",
   "metadata": {},
   "source": [
    "### Read csv data into dataframe"
   ]
  },
  {
   "cell_type": "code",
   "execution_count": 5,
   "metadata": {
    "ExecuteTime": {
     "end_time": "2017-11-28T21:20:36.930187Z",
     "start_time": "2017-11-28T21:20:31.451833Z"
    }
   },
   "outputs": [],
   "source": [
    "train_data_df = pd.read_csv(f'{PATH}train.csv')\n",
    "test_data_df = pd.read_csv(f'{PATH}test.csv')\n",
    "\n",
    "# I need differant Path\n",
    "#train_data_df = pd.read_csv(f'{PATH}train/train.csv')\n",
    "#test_data_df = pd.read_csv(f'{PATH}test/test.csv')"
   ]
  },
  {
   "cell_type": "code",
   "execution_count": 6,
   "metadata": {
    "ExecuteTime": {
     "end_time": "2017-11-28T21:20:36.945092Z",
     "start_time": "2017-11-28T21:20:36.931388Z"
    }
   },
   "outputs": [
    {
     "data": {
      "text/plain": [
       "892816"
      ]
     },
     "execution_count": 6,
     "metadata": {},
     "output_type": "execute_result"
    }
   ],
   "source": [
    "len(test_data_df.id)"
   ]
  },
  {
   "cell_type": "code",
   "execution_count": 7,
   "metadata": {
    "ExecuteTime": {
     "end_time": "2017-11-28T21:20:36.958832Z",
     "start_time": "2017-11-28T21:20:36.946075Z"
    }
   },
   "outputs": [],
   "source": [
    "# test_data need target\n",
    "test_data_df['target']=0"
   ]
  },
  {
   "cell_type": "markdown",
   "metadata": {},
   "source": [
    "### List of column names"
   ]
  },
  {
   "cell_type": "code",
   "execution_count": 8,
   "metadata": {
    "ExecuteTime": {
     "end_time": "2017-11-28T21:20:36.972109Z",
     "start_time": "2017-11-28T21:20:36.959889Z"
    }
   },
   "outputs": [],
   "source": [
    "all_var = [var for var in train_data_df.columns]"
   ]
  },
  {
   "cell_type": "code",
   "execution_count": 9,
   "metadata": {
    "ExecuteTime": {
     "end_time": "2017-11-28T21:20:36.985807Z",
     "start_time": "2017-11-28T21:20:36.973206Z"
    }
   },
   "outputs": [
    {
     "data": {
      "text/plain": [
       "['id',\n",
       " 'target',\n",
       " 'ps_ind_01',\n",
       " 'ps_ind_02_cat',\n",
       " 'ps_ind_03',\n",
       " 'ps_ind_04_cat',\n",
       " 'ps_ind_05_cat',\n",
       " 'ps_ind_06_bin',\n",
       " 'ps_ind_07_bin',\n",
       " 'ps_ind_08_bin',\n",
       " 'ps_ind_09_bin',\n",
       " 'ps_ind_10_bin',\n",
       " 'ps_ind_11_bin',\n",
       " 'ps_ind_12_bin',\n",
       " 'ps_ind_13_bin',\n",
       " 'ps_ind_14',\n",
       " 'ps_ind_15',\n",
       " 'ps_ind_16_bin',\n",
       " 'ps_ind_17_bin',\n",
       " 'ps_ind_18_bin',\n",
       " 'ps_reg_01',\n",
       " 'ps_reg_02',\n",
       " 'ps_reg_03',\n",
       " 'ps_car_01_cat',\n",
       " 'ps_car_02_cat',\n",
       " 'ps_car_03_cat',\n",
       " 'ps_car_04_cat',\n",
       " 'ps_car_05_cat',\n",
       " 'ps_car_06_cat',\n",
       " 'ps_car_07_cat',\n",
       " 'ps_car_08_cat',\n",
       " 'ps_car_09_cat',\n",
       " 'ps_car_10_cat',\n",
       " 'ps_car_11_cat',\n",
       " 'ps_car_11',\n",
       " 'ps_car_12',\n",
       " 'ps_car_13',\n",
       " 'ps_car_14',\n",
       " 'ps_car_15',\n",
       " 'ps_calc_01',\n",
       " 'ps_calc_02',\n",
       " 'ps_calc_03',\n",
       " 'ps_calc_04',\n",
       " 'ps_calc_05',\n",
       " 'ps_calc_06',\n",
       " 'ps_calc_07',\n",
       " 'ps_calc_08',\n",
       " 'ps_calc_09',\n",
       " 'ps_calc_10',\n",
       " 'ps_calc_11',\n",
       " 'ps_calc_12',\n",
       " 'ps_calc_13',\n",
       " 'ps_calc_14',\n",
       " 'ps_calc_15_bin',\n",
       " 'ps_calc_16_bin',\n",
       " 'ps_calc_17_bin',\n",
       " 'ps_calc_18_bin',\n",
       " 'ps_calc_19_bin',\n",
       " 'ps_calc_20_bin']"
      ]
     },
     "execution_count": 9,
     "metadata": {},
     "output_type": "execute_result"
    }
   ],
   "source": [
    "all_var"
   ]
  },
  {
   "cell_type": "markdown",
   "metadata": {},
   "source": [
    "### Create list of categorical and continuous variables"
   ]
  },
  {
   "cell_type": "code",
   "execution_count": 10,
   "metadata": {
    "ExecuteTime": {
     "end_time": "2017-11-28T21:20:37.001476Z",
     "start_time": "2017-11-28T21:20:36.986806Z"
    }
   },
   "outputs": [
    {
     "data": {
      "text/plain": [
       "['ps_ind_02_cat',\n",
       " 'ps_ind_04_cat',\n",
       " 'ps_ind_05_cat',\n",
       " 'ps_car_01_cat',\n",
       " 'ps_car_02_cat',\n",
       " 'ps_car_03_cat',\n",
       " 'ps_car_04_cat',\n",
       " 'ps_car_05_cat',\n",
       " 'ps_car_06_cat',\n",
       " 'ps_car_07_cat',\n",
       " 'ps_car_08_cat',\n",
       " 'ps_car_09_cat',\n",
       " 'ps_car_10_cat',\n",
       " 'ps_car_11_cat',\n",
       " 'ps_ind_06_bin',\n",
       " 'ps_ind_07_bin',\n",
       " 'ps_ind_08_bin',\n",
       " 'ps_ind_09_bin',\n",
       " 'ps_ind_10_bin',\n",
       " 'ps_ind_11_bin',\n",
       " 'ps_ind_12_bin',\n",
       " 'ps_ind_13_bin',\n",
       " 'ps_ind_16_bin',\n",
       " 'ps_ind_17_bin',\n",
       " 'ps_ind_18_bin',\n",
       " 'ps_calc_15_bin',\n",
       " 'ps_calc_16_bin',\n",
       " 'ps_calc_17_bin',\n",
       " 'ps_calc_18_bin',\n",
       " 'ps_calc_19_bin',\n",
       " 'ps_calc_20_bin']"
      ]
     },
     "execution_count": 10,
     "metadata": {},
     "output_type": "execute_result"
    }
   ],
   "source": [
    "cat_vars = [var for var in train_data_df.columns if var.endswith('cat')]\n",
    "bin_vars = [var for var in train_data_df.columns if var.endswith('bin')]\n",
    "ind_vars = ['ps_ind_01', 'ps_ind_03','ps_ind_14', 'ps_ind_15']\n",
    "cat_vars = cat_vars + bin_vars #+ ind_vars\n",
    "cat_vars"
   ]
  },
  {
   "cell_type": "code",
   "execution_count": 11,
   "metadata": {
    "ExecuteTime": {
     "end_time": "2017-11-28T21:20:37.015311Z",
     "start_time": "2017-11-28T21:20:37.002504Z"
    }
   },
   "outputs": [
    {
     "data": {
      "text/plain": [
       "['id',\n",
       " 'target',\n",
       " 'ps_ind_01',\n",
       " 'ps_ind_03',\n",
       " 'ps_ind_14',\n",
       " 'ps_ind_15',\n",
       " 'ps_reg_01',\n",
       " 'ps_reg_02',\n",
       " 'ps_reg_03',\n",
       " 'ps_car_11',\n",
       " 'ps_car_12',\n",
       " 'ps_car_13',\n",
       " 'ps_car_14',\n",
       " 'ps_car_15',\n",
       " 'ps_calc_01',\n",
       " 'ps_calc_02',\n",
       " 'ps_calc_03',\n",
       " 'ps_calc_04',\n",
       " 'ps_calc_05',\n",
       " 'ps_calc_06',\n",
       " 'ps_calc_07',\n",
       " 'ps_calc_08',\n",
       " 'ps_calc_09',\n",
       " 'ps_calc_10',\n",
       " 'ps_calc_11',\n",
       " 'ps_calc_12',\n",
       " 'ps_calc_13',\n",
       " 'ps_calc_14']"
      ]
     },
     "execution_count": 11,
     "metadata": {},
     "output_type": "execute_result"
    }
   ],
   "source": [
    "cont_vars = [var for var in train_data_df.columns if var not in cat_vars]\n",
    "cont_vars"
   ]
  },
  {
   "cell_type": "code",
   "execution_count": 12,
   "metadata": {
    "ExecuteTime": {
     "end_time": "2017-11-28T21:20:39.561629Z",
     "start_time": "2017-11-28T21:20:37.016291Z"
    }
   },
   "outputs": [],
   "source": [
    "for var in cat_vars: \n",
    "    train_data_df[var] = train_data_df[var].astype('category').cat.as_ordered()\n",
    "    test_data_df[var] = test_data_df[var].astype('category').cat.as_ordered()"
   ]
  },
  {
   "cell_type": "code",
   "execution_count": 13,
   "metadata": {
    "ExecuteTime": {
     "end_time": "2017-11-28T21:20:40.024338Z",
     "start_time": "2017-11-28T21:20:39.562832Z"
    }
   },
   "outputs": [],
   "source": [
    "for var in cont_vars:\n",
    "    train_data_df[var] = train_data_df[var].astype('float32')\n",
    "    test_data_df[var] = test_data_df[var].astype('float32')"
   ]
  },
  {
   "cell_type": "code",
   "execution_count": 14,
   "metadata": {
    "ExecuteTime": {
     "end_time": "2017-11-28T21:20:40.037536Z",
     "start_time": "2017-11-28T21:20:40.025384Z"
    }
   },
   "outputs": [],
   "source": [
    "del cont_vars[1]"
   ]
  },
  {
   "cell_type": "code",
   "execution_count": 15,
   "metadata": {
    "ExecuteTime": {
     "end_time": "2017-11-28T21:20:40.050947Z",
     "start_time": "2017-11-28T21:20:40.038570Z"
    }
   },
   "outputs": [
    {
     "data": {
      "text/plain": [
       "['id',\n",
       " 'ps_ind_01',\n",
       " 'ps_ind_03',\n",
       " 'ps_ind_14',\n",
       " 'ps_ind_15',\n",
       " 'ps_reg_01',\n",
       " 'ps_reg_02',\n",
       " 'ps_reg_03',\n",
       " 'ps_car_11',\n",
       " 'ps_car_12',\n",
       " 'ps_car_13',\n",
       " 'ps_car_14',\n",
       " 'ps_car_15',\n",
       " 'ps_calc_01',\n",
       " 'ps_calc_02',\n",
       " 'ps_calc_03',\n",
       " 'ps_calc_04',\n",
       " 'ps_calc_05',\n",
       " 'ps_calc_06',\n",
       " 'ps_calc_07',\n",
       " 'ps_calc_08',\n",
       " 'ps_calc_09',\n",
       " 'ps_calc_10',\n",
       " 'ps_calc_11',\n",
       " 'ps_calc_12',\n",
       " 'ps_calc_13',\n",
       " 'ps_calc_14']"
      ]
     },
     "execution_count": 15,
     "metadata": {},
     "output_type": "execute_result"
    }
   ],
   "source": [
    "cont_vars"
   ]
  },
  {
   "cell_type": "code",
   "execution_count": 16,
   "metadata": {
    "ExecuteTime": {
     "end_time": "2017-11-28T21:20:40.506612Z",
     "start_time": "2017-11-28T21:20:40.051906Z"
    },
    "scrolled": true
   },
   "outputs": [
    {
     "name": "stdout",
     "output_type": "stream",
     "text": [
      "<class 'pandas.core.frame.DataFrame'>\n",
      "RangeIndex: 595212 entries, 0 to 595211\n",
      "Data columns (total 59 columns):\n",
      "id                595212 non-null float32\n",
      "target            595212 non-null float32\n",
      "ps_ind_01         595212 non-null float32\n",
      "ps_ind_02_cat     595212 non-null category\n",
      "ps_ind_03         595212 non-null float32\n",
      "ps_ind_04_cat     595212 non-null category\n",
      "ps_ind_05_cat     595212 non-null category\n",
      "ps_ind_06_bin     595212 non-null category\n",
      "ps_ind_07_bin     595212 non-null category\n",
      "ps_ind_08_bin     595212 non-null category\n",
      "ps_ind_09_bin     595212 non-null category\n",
      "ps_ind_10_bin     595212 non-null category\n",
      "ps_ind_11_bin     595212 non-null category\n",
      "ps_ind_12_bin     595212 non-null category\n",
      "ps_ind_13_bin     595212 non-null category\n",
      "ps_ind_14         595212 non-null float32\n",
      "ps_ind_15         595212 non-null float32\n",
      "ps_ind_16_bin     595212 non-null category\n",
      "ps_ind_17_bin     595212 non-null category\n",
      "ps_ind_18_bin     595212 non-null category\n",
      "ps_reg_01         595212 non-null float32\n",
      "ps_reg_02         595212 non-null float32\n",
      "ps_reg_03         595212 non-null float32\n",
      "ps_car_01_cat     595212 non-null category\n",
      "ps_car_02_cat     595212 non-null category\n",
      "ps_car_03_cat     595212 non-null category\n",
      "ps_car_04_cat     595212 non-null category\n",
      "ps_car_05_cat     595212 non-null category\n",
      "ps_car_06_cat     595212 non-null category\n",
      "ps_car_07_cat     595212 non-null category\n",
      "ps_car_08_cat     595212 non-null category\n",
      "ps_car_09_cat     595212 non-null category\n",
      "ps_car_10_cat     595212 non-null category\n",
      "ps_car_11_cat     595212 non-null category\n",
      "ps_car_11         595212 non-null float32\n",
      "ps_car_12         595212 non-null float32\n",
      "ps_car_13         595212 non-null float32\n",
      "ps_car_14         595212 non-null float32\n",
      "ps_car_15         595212 non-null float32\n",
      "ps_calc_01        595212 non-null float32\n",
      "ps_calc_02        595212 non-null float32\n",
      "ps_calc_03        595212 non-null float32\n",
      "ps_calc_04        595212 non-null float32\n",
      "ps_calc_05        595212 non-null float32\n",
      "ps_calc_06        595212 non-null float32\n",
      "ps_calc_07        595212 non-null float32\n",
      "ps_calc_08        595212 non-null float32\n",
      "ps_calc_09        595212 non-null float32\n",
      "ps_calc_10        595212 non-null float32\n",
      "ps_calc_11        595212 non-null float32\n",
      "ps_calc_12        595212 non-null float32\n",
      "ps_calc_13        595212 non-null float32\n",
      "ps_calc_14        595212 non-null float32\n",
      "ps_calc_15_bin    595212 non-null category\n",
      "ps_calc_16_bin    595212 non-null category\n",
      "ps_calc_17_bin    595212 non-null category\n",
      "ps_calc_18_bin    595212 non-null category\n",
      "ps_calc_19_bin    595212 non-null category\n",
      "ps_calc_20_bin    595212 non-null category\n",
      "dtypes: category(31), float32(28)\n",
      "memory usage: 81.2 MB\n"
     ]
    }
   ],
   "source": [
    "train_data_df.info()"
   ]
  },
  {
   "cell_type": "markdown",
   "metadata": {},
   "source": [
    "### Display training data sample"
   ]
  },
  {
   "cell_type": "code",
   "execution_count": 17,
   "metadata": {
    "ExecuteTime": {
     "end_time": "2017-11-28T21:20:40.538639Z",
     "start_time": "2017-11-28T21:20:40.507717Z"
    }
   },
   "outputs": [
    {
     "data": {
      "text/html": [
       "<div>\n",
       "<style scoped>\n",
       "    .dataframe tbody tr th:only-of-type {\n",
       "        vertical-align: middle;\n",
       "    }\n",
       "\n",
       "    .dataframe tbody tr th {\n",
       "        vertical-align: top;\n",
       "    }\n",
       "\n",
       "    .dataframe thead th {\n",
       "        text-align: right;\n",
       "    }\n",
       "</style>\n",
       "<table border=\"1\" class=\"dataframe\">\n",
       "  <thead>\n",
       "    <tr style=\"text-align: right;\">\n",
       "      <th></th>\n",
       "      <th>id</th>\n",
       "      <th>target</th>\n",
       "      <th>ps_ind_01</th>\n",
       "      <th>ps_ind_02_cat</th>\n",
       "      <th>ps_ind_03</th>\n",
       "      <th>ps_ind_04_cat</th>\n",
       "      <th>ps_ind_05_cat</th>\n",
       "      <th>ps_ind_06_bin</th>\n",
       "      <th>ps_ind_07_bin</th>\n",
       "      <th>ps_ind_08_bin</th>\n",
       "      <th>...</th>\n",
       "      <th>ps_calc_11</th>\n",
       "      <th>ps_calc_12</th>\n",
       "      <th>ps_calc_13</th>\n",
       "      <th>ps_calc_14</th>\n",
       "      <th>ps_calc_15_bin</th>\n",
       "      <th>ps_calc_16_bin</th>\n",
       "      <th>ps_calc_17_bin</th>\n",
       "      <th>ps_calc_18_bin</th>\n",
       "      <th>ps_calc_19_bin</th>\n",
       "      <th>ps_calc_20_bin</th>\n",
       "    </tr>\n",
       "  </thead>\n",
       "  <tbody>\n",
       "    <tr>\n",
       "      <th>0</th>\n",
       "      <td>7.0</td>\n",
       "      <td>0.0</td>\n",
       "      <td>2.0</td>\n",
       "      <td>2</td>\n",
       "      <td>5.0</td>\n",
       "      <td>1</td>\n",
       "      <td>0</td>\n",
       "      <td>0</td>\n",
       "      <td>1</td>\n",
       "      <td>0</td>\n",
       "      <td>...</td>\n",
       "      <td>9.0</td>\n",
       "      <td>1.0</td>\n",
       "      <td>5.0</td>\n",
       "      <td>8.0</td>\n",
       "      <td>0</td>\n",
       "      <td>1</td>\n",
       "      <td>1</td>\n",
       "      <td>0</td>\n",
       "      <td>0</td>\n",
       "      <td>1</td>\n",
       "    </tr>\n",
       "    <tr>\n",
       "      <th>1</th>\n",
       "      <td>9.0</td>\n",
       "      <td>0.0</td>\n",
       "      <td>1.0</td>\n",
       "      <td>1</td>\n",
       "      <td>7.0</td>\n",
       "      <td>0</td>\n",
       "      <td>0</td>\n",
       "      <td>0</td>\n",
       "      <td>0</td>\n",
       "      <td>1</td>\n",
       "      <td>...</td>\n",
       "      <td>3.0</td>\n",
       "      <td>1.0</td>\n",
       "      <td>1.0</td>\n",
       "      <td>9.0</td>\n",
       "      <td>0</td>\n",
       "      <td>1</td>\n",
       "      <td>1</td>\n",
       "      <td>0</td>\n",
       "      <td>1</td>\n",
       "      <td>0</td>\n",
       "    </tr>\n",
       "    <tr>\n",
       "      <th>2</th>\n",
       "      <td>13.0</td>\n",
       "      <td>0.0</td>\n",
       "      <td>5.0</td>\n",
       "      <td>4</td>\n",
       "      <td>9.0</td>\n",
       "      <td>1</td>\n",
       "      <td>0</td>\n",
       "      <td>0</td>\n",
       "      <td>0</td>\n",
       "      <td>1</td>\n",
       "      <td>...</td>\n",
       "      <td>4.0</td>\n",
       "      <td>2.0</td>\n",
       "      <td>7.0</td>\n",
       "      <td>7.0</td>\n",
       "      <td>0</td>\n",
       "      <td>1</td>\n",
       "      <td>1</td>\n",
       "      <td>0</td>\n",
       "      <td>1</td>\n",
       "      <td>0</td>\n",
       "    </tr>\n",
       "    <tr>\n",
       "      <th>3</th>\n",
       "      <td>16.0</td>\n",
       "      <td>0.0</td>\n",
       "      <td>0.0</td>\n",
       "      <td>1</td>\n",
       "      <td>2.0</td>\n",
       "      <td>0</td>\n",
       "      <td>0</td>\n",
       "      <td>1</td>\n",
       "      <td>0</td>\n",
       "      <td>0</td>\n",
       "      <td>...</td>\n",
       "      <td>2.0</td>\n",
       "      <td>2.0</td>\n",
       "      <td>4.0</td>\n",
       "      <td>9.0</td>\n",
       "      <td>0</td>\n",
       "      <td>0</td>\n",
       "      <td>0</td>\n",
       "      <td>0</td>\n",
       "      <td>0</td>\n",
       "      <td>0</td>\n",
       "    </tr>\n",
       "    <tr>\n",
       "      <th>4</th>\n",
       "      <td>17.0</td>\n",
       "      <td>0.0</td>\n",
       "      <td>0.0</td>\n",
       "      <td>2</td>\n",
       "      <td>0.0</td>\n",
       "      <td>1</td>\n",
       "      <td>0</td>\n",
       "      <td>1</td>\n",
       "      <td>0</td>\n",
       "      <td>0</td>\n",
       "      <td>...</td>\n",
       "      <td>3.0</td>\n",
       "      <td>1.0</td>\n",
       "      <td>1.0</td>\n",
       "      <td>3.0</td>\n",
       "      <td>0</td>\n",
       "      <td>0</td>\n",
       "      <td>0</td>\n",
       "      <td>1</td>\n",
       "      <td>1</td>\n",
       "      <td>0</td>\n",
       "    </tr>\n",
       "  </tbody>\n",
       "</table>\n",
       "<p>5 rows × 59 columns</p>\n",
       "</div>"
      ],
      "text/plain": [
       "     id  target  ps_ind_01 ps_ind_02_cat  ps_ind_03 ps_ind_04_cat  \\\n",
       "0   7.0     0.0        2.0             2        5.0             1   \n",
       "1   9.0     0.0        1.0             1        7.0             0   \n",
       "2  13.0     0.0        5.0             4        9.0             1   \n",
       "3  16.0     0.0        0.0             1        2.0             0   \n",
       "4  17.0     0.0        0.0             2        0.0             1   \n",
       "\n",
       "  ps_ind_05_cat ps_ind_06_bin ps_ind_07_bin ps_ind_08_bin      ...        \\\n",
       "0             0             0             1             0      ...         \n",
       "1             0             0             0             1      ...         \n",
       "2             0             0             0             1      ...         \n",
       "3             0             1             0             0      ...         \n",
       "4             0             1             0             0      ...         \n",
       "\n",
       "  ps_calc_11 ps_calc_12 ps_calc_13 ps_calc_14 ps_calc_15_bin  ps_calc_16_bin  \\\n",
       "0        9.0        1.0        5.0        8.0              0               1   \n",
       "1        3.0        1.0        1.0        9.0              0               1   \n",
       "2        4.0        2.0        7.0        7.0              0               1   \n",
       "3        2.0        2.0        4.0        9.0              0               0   \n",
       "4        3.0        1.0        1.0        3.0              0               0   \n",
       "\n",
       "   ps_calc_17_bin ps_calc_18_bin ps_calc_19_bin ps_calc_20_bin  \n",
       "0               1              0              0              1  \n",
       "1               1              0              1              0  \n",
       "2               1              0              1              0  \n",
       "3               0              0              0              0  \n",
       "4               0              1              1              0  \n",
       "\n",
       "[5 rows x 59 columns]"
      ]
     },
     "execution_count": 17,
     "metadata": {},
     "output_type": "execute_result"
    }
   ],
   "source": [
    "train_data_df.head()"
   ]
  },
  {
   "cell_type": "markdown",
   "metadata": {},
   "source": [
    "### Display test data sample"
   ]
  },
  {
   "cell_type": "code",
   "execution_count": 18,
   "metadata": {
    "ExecuteTime": {
     "end_time": "2017-11-28T21:20:40.570680Z",
     "start_time": "2017-11-28T21:20:40.539907Z"
    }
   },
   "outputs": [
    {
     "data": {
      "text/html": [
       "<div>\n",
       "<style scoped>\n",
       "    .dataframe tbody tr th:only-of-type {\n",
       "        vertical-align: middle;\n",
       "    }\n",
       "\n",
       "    .dataframe tbody tr th {\n",
       "        vertical-align: top;\n",
       "    }\n",
       "\n",
       "    .dataframe thead th {\n",
       "        text-align: right;\n",
       "    }\n",
       "</style>\n",
       "<table border=\"1\" class=\"dataframe\">\n",
       "  <thead>\n",
       "    <tr style=\"text-align: right;\">\n",
       "      <th></th>\n",
       "      <th>id</th>\n",
       "      <th>ps_ind_01</th>\n",
       "      <th>ps_ind_02_cat</th>\n",
       "      <th>ps_ind_03</th>\n",
       "      <th>ps_ind_04_cat</th>\n",
       "      <th>ps_ind_05_cat</th>\n",
       "      <th>ps_ind_06_bin</th>\n",
       "      <th>ps_ind_07_bin</th>\n",
       "      <th>ps_ind_08_bin</th>\n",
       "      <th>ps_ind_09_bin</th>\n",
       "      <th>...</th>\n",
       "      <th>ps_calc_12</th>\n",
       "      <th>ps_calc_13</th>\n",
       "      <th>ps_calc_14</th>\n",
       "      <th>ps_calc_15_bin</th>\n",
       "      <th>ps_calc_16_bin</th>\n",
       "      <th>ps_calc_17_bin</th>\n",
       "      <th>ps_calc_18_bin</th>\n",
       "      <th>ps_calc_19_bin</th>\n",
       "      <th>ps_calc_20_bin</th>\n",
       "      <th>target</th>\n",
       "    </tr>\n",
       "  </thead>\n",
       "  <tbody>\n",
       "    <tr>\n",
       "      <th>0</th>\n",
       "      <td>0.0</td>\n",
       "      <td>0.0</td>\n",
       "      <td>1</td>\n",
       "      <td>8.0</td>\n",
       "      <td>1</td>\n",
       "      <td>0</td>\n",
       "      <td>0</td>\n",
       "      <td>1</td>\n",
       "      <td>0</td>\n",
       "      <td>0</td>\n",
       "      <td>...</td>\n",
       "      <td>1.0</td>\n",
       "      <td>1.0</td>\n",
       "      <td>12.0</td>\n",
       "      <td>0</td>\n",
       "      <td>1</td>\n",
       "      <td>1</td>\n",
       "      <td>0</td>\n",
       "      <td>0</td>\n",
       "      <td>1</td>\n",
       "      <td>0.0</td>\n",
       "    </tr>\n",
       "    <tr>\n",
       "      <th>1</th>\n",
       "      <td>1.0</td>\n",
       "      <td>4.0</td>\n",
       "      <td>2</td>\n",
       "      <td>5.0</td>\n",
       "      <td>1</td>\n",
       "      <td>0</td>\n",
       "      <td>0</td>\n",
       "      <td>0</td>\n",
       "      <td>0</td>\n",
       "      <td>1</td>\n",
       "      <td>...</td>\n",
       "      <td>0.0</td>\n",
       "      <td>3.0</td>\n",
       "      <td>10.0</td>\n",
       "      <td>0</td>\n",
       "      <td>0</td>\n",
       "      <td>1</td>\n",
       "      <td>1</td>\n",
       "      <td>0</td>\n",
       "      <td>1</td>\n",
       "      <td>0.0</td>\n",
       "    </tr>\n",
       "    <tr>\n",
       "      <th>2</th>\n",
       "      <td>2.0</td>\n",
       "      <td>5.0</td>\n",
       "      <td>1</td>\n",
       "      <td>3.0</td>\n",
       "      <td>0</td>\n",
       "      <td>0</td>\n",
       "      <td>0</td>\n",
       "      <td>0</td>\n",
       "      <td>0</td>\n",
       "      <td>1</td>\n",
       "      <td>...</td>\n",
       "      <td>0.0</td>\n",
       "      <td>2.0</td>\n",
       "      <td>4.0</td>\n",
       "      <td>0</td>\n",
       "      <td>0</td>\n",
       "      <td>0</td>\n",
       "      <td>0</td>\n",
       "      <td>0</td>\n",
       "      <td>0</td>\n",
       "      <td>0.0</td>\n",
       "    </tr>\n",
       "    <tr>\n",
       "      <th>3</th>\n",
       "      <td>3.0</td>\n",
       "      <td>0.0</td>\n",
       "      <td>1</td>\n",
       "      <td>6.0</td>\n",
       "      <td>0</td>\n",
       "      <td>0</td>\n",
       "      <td>1</td>\n",
       "      <td>0</td>\n",
       "      <td>0</td>\n",
       "      <td>0</td>\n",
       "      <td>...</td>\n",
       "      <td>1.0</td>\n",
       "      <td>0.0</td>\n",
       "      <td>5.0</td>\n",
       "      <td>1</td>\n",
       "      <td>0</td>\n",
       "      <td>1</td>\n",
       "      <td>0</td>\n",
       "      <td>0</td>\n",
       "      <td>0</td>\n",
       "      <td>0.0</td>\n",
       "    </tr>\n",
       "    <tr>\n",
       "      <th>4</th>\n",
       "      <td>4.0</td>\n",
       "      <td>5.0</td>\n",
       "      <td>1</td>\n",
       "      <td>7.0</td>\n",
       "      <td>0</td>\n",
       "      <td>0</td>\n",
       "      <td>0</td>\n",
       "      <td>0</td>\n",
       "      <td>0</td>\n",
       "      <td>1</td>\n",
       "      <td>...</td>\n",
       "      <td>0.0</td>\n",
       "      <td>0.0</td>\n",
       "      <td>4.0</td>\n",
       "      <td>0</td>\n",
       "      <td>1</td>\n",
       "      <td>1</td>\n",
       "      <td>0</td>\n",
       "      <td>0</td>\n",
       "      <td>1</td>\n",
       "      <td>0.0</td>\n",
       "    </tr>\n",
       "  </tbody>\n",
       "</table>\n",
       "<p>5 rows × 59 columns</p>\n",
       "</div>"
      ],
      "text/plain": [
       "    id  ps_ind_01 ps_ind_02_cat  ps_ind_03 ps_ind_04_cat ps_ind_05_cat  \\\n",
       "0  0.0        0.0             1        8.0             1             0   \n",
       "1  1.0        4.0             2        5.0             1             0   \n",
       "2  2.0        5.0             1        3.0             0             0   \n",
       "3  3.0        0.0             1        6.0             0             0   \n",
       "4  4.0        5.0             1        7.0             0             0   \n",
       "\n",
       "  ps_ind_06_bin ps_ind_07_bin ps_ind_08_bin ps_ind_09_bin   ...   ps_calc_12  \\\n",
       "0             0             1             0             0   ...          1.0   \n",
       "1             0             0             0             1   ...          0.0   \n",
       "2             0             0             0             1   ...          0.0   \n",
       "3             1             0             0             0   ...          1.0   \n",
       "4             0             0             0             1   ...          0.0   \n",
       "\n",
       "  ps_calc_13 ps_calc_14 ps_calc_15_bin  ps_calc_16_bin  ps_calc_17_bin  \\\n",
       "0        1.0       12.0              0               1               1   \n",
       "1        3.0       10.0              0               0               1   \n",
       "2        2.0        4.0              0               0               0   \n",
       "3        0.0        5.0              1               0               1   \n",
       "4        0.0        4.0              0               1               1   \n",
       "\n",
       "  ps_calc_18_bin ps_calc_19_bin ps_calc_20_bin  target  \n",
       "0              0              0              1     0.0  \n",
       "1              1              0              1     0.0  \n",
       "2              0              0              0     0.0  \n",
       "3              0              0              0     0.0  \n",
       "4              0              0              1     0.0  \n",
       "\n",
       "[5 rows x 59 columns]"
      ]
     },
     "execution_count": 18,
     "metadata": {},
     "output_type": "execute_result"
    }
   ],
   "source": [
    "test_data_df.head()"
   ]
  },
  {
   "cell_type": "markdown",
   "metadata": {},
   "source": [
    "### Create validation set indices"
   ]
  },
  {
   "cell_type": "code",
   "execution_count": 19,
   "metadata": {
    "ExecuteTime": {
     "end_time": "2017-11-28T21:20:40.632803Z",
     "start_time": "2017-11-28T21:20:40.571892Z"
    }
   },
   "outputs": [],
   "source": [
    "# Tune VAL_PCT hyperparameter\n",
    "# Tune MAX_FOLDS hyperparameter\n",
    "VAL_FRAC = 0.01\n",
    "MAX_FOLDS = 5\n",
    "\n",
    "num_obs = train_data_df.shape[0]\n",
    "\n",
    "cv_dict = {f'ids_fold_{num_fold}': get_cv_idxs(n=num_obs, cv_idx=num_fold, val_pct=VAL_FRAC) for num_fold in range(MAX_FOLDS)}"
   ]
  },
  {
   "cell_type": "code",
   "execution_count": 20,
   "metadata": {
    "ExecuteTime": {
     "end_time": "2017-11-28T21:20:40.646562Z",
     "start_time": "2017-11-28T21:20:40.633858Z"
    }
   },
   "outputs": [
    {
     "data": {
      "text/plain": [
       "5952"
      ]
     },
     "execution_count": 20,
     "metadata": {},
     "output_type": "execute_result"
    }
   ],
   "source": [
    "len(cv_dict['ids_fold_0'])"
   ]
  },
  {
   "cell_type": "markdown",
   "metadata": {},
   "source": [
    "### Set response variable"
   ]
  },
  {
   "cell_type": "code",
   "execution_count": 21,
   "metadata": {
    "ExecuteTime": {
     "end_time": "2017-11-28T21:20:40.659146Z",
     "start_time": "2017-11-28T21:20:40.647568Z"
    }
   },
   "outputs": [],
   "source": [
    "TARGET_VAR = \"target\""
   ]
  },
  {
   "cell_type": "markdown",
   "metadata": {},
   "source": [
    "### Train set, response variable, feature scaling"
   ]
  },
  {
   "cell_type": "code",
   "execution_count": 22,
   "metadata": {
    "ExecuteTime": {
     "end_time": "2017-11-28T21:20:49.881873Z",
     "start_time": "2017-11-28T21:20:40.660205Z"
    }
   },
   "outputs": [],
   "source": [
    "train, target, nas, mapper = proc_df(df=train_data_df, y_fld=TARGET_VAR, do_scale=True)\n",
    "\n",
    "# for test\n",
    "test_df, target2, nas2, mapper2 = proc_df(df=test_data_df, y_fld=TARGET_VAR, do_scale=True, #skip_flds=['id'],\n",
    "                                  mapper=mapper, na_dict=nas)"
   ]
  },
  {
   "cell_type": "markdown",
   "metadata": {},
   "source": [
    "### Convert categorical values to type `category`"
   ]
  },
  {
   "cell_type": "code",
   "execution_count": 23,
   "metadata": {
    "ExecuteTime": {
     "end_time": "2017-11-28T21:20:50.418387Z",
     "start_time": "2017-11-28T21:20:49.883014Z"
    }
   },
   "outputs": [],
   "source": [
    "for var in cat_vars: \n",
    "    train[var] = train[var].astype('category').cat.as_ordered()\n",
    "    test_df[var] = test_df[var].astype('category').cat.as_ordered()"
   ]
  },
  {
   "cell_type": "markdown",
   "metadata": {},
   "source": [
    "### Convert remaining variables to `float32`"
   ]
  },
  {
   "cell_type": "code",
   "execution_count": 24,
   "metadata": {
    "ExecuteTime": {
     "end_time": "2017-11-28T21:20:50.845275Z",
     "start_time": "2017-11-28T21:20:50.419559Z"
    }
   },
   "outputs": [
    {
     "data": {
      "text/plain": [
       "array([ 0.,  0.,  0.,  0.,  0.,  0.,  0.,  0.,  0.,  1.,  0.,  0.,  0.,  0.,  0.,  0.,  0.,  0.,  0.,  1.,\n",
       "       ...,  0.,  0.,  0.,  0.,  0.,  0.,  0.,  0.,  0.,  0.,  0.,  0.,  0.,  0.,  0.,  0.,  0.,  0.,  0.,  0.], dtype=float32)"
      ]
     },
     "execution_count": 24,
     "metadata": {},
     "output_type": "execute_result"
    }
   ],
   "source": [
    "for var in cont_vars:\n",
    "    train[var] = train[var].astype('float32')\n",
    "    test_df[var] = test_df[var].astype('float32')\n",
    "\n",
    "target.astype('float32')"
   ]
  },
  {
   "cell_type": "code",
   "execution_count": 25,
   "metadata": {
    "ExecuteTime": {
     "end_time": "2017-11-28T21:20:51.298433Z",
     "start_time": "2017-11-28T21:20:50.846344Z"
    }
   },
   "outputs": [
    {
     "name": "stdout",
     "output_type": "stream",
     "text": [
      "<class 'pandas.core.frame.DataFrame'>\n",
      "RangeIndex: 595212 entries, 0 to 595211\n",
      "Data columns (total 58 columns):\n",
      "id                595212 non-null float32\n",
      "ps_ind_01         595212 non-null float32\n",
      "ps_ind_02_cat     595212 non-null category\n",
      "ps_ind_03         595212 non-null float32\n",
      "ps_ind_04_cat     595212 non-null category\n",
      "ps_ind_05_cat     595212 non-null category\n",
      "ps_ind_06_bin     595212 non-null category\n",
      "ps_ind_07_bin     595212 non-null category\n",
      "ps_ind_08_bin     595212 non-null category\n",
      "ps_ind_09_bin     595212 non-null category\n",
      "ps_ind_10_bin     595212 non-null category\n",
      "ps_ind_11_bin     595212 non-null category\n",
      "ps_ind_12_bin     595212 non-null category\n",
      "ps_ind_13_bin     595212 non-null category\n",
      "ps_ind_14         595212 non-null float32\n",
      "ps_ind_15         595212 non-null float32\n",
      "ps_ind_16_bin     595212 non-null category\n",
      "ps_ind_17_bin     595212 non-null category\n",
      "ps_ind_18_bin     595212 non-null category\n",
      "ps_reg_01         595212 non-null float32\n",
      "ps_reg_02         595212 non-null float32\n",
      "ps_reg_03         595212 non-null float32\n",
      "ps_car_01_cat     595212 non-null category\n",
      "ps_car_02_cat     595212 non-null category\n",
      "ps_car_03_cat     595212 non-null category\n",
      "ps_car_04_cat     595212 non-null category\n",
      "ps_car_05_cat     595212 non-null category\n",
      "ps_car_06_cat     595212 non-null category\n",
      "ps_car_07_cat     595212 non-null category\n",
      "ps_car_08_cat     595212 non-null category\n",
      "ps_car_09_cat     595212 non-null category\n",
      "ps_car_10_cat     595212 non-null category\n",
      "ps_car_11_cat     595212 non-null category\n",
      "ps_car_11         595212 non-null float32\n",
      "ps_car_12         595212 non-null float32\n",
      "ps_car_13         595212 non-null float32\n",
      "ps_car_14         595212 non-null float32\n",
      "ps_car_15         595212 non-null float32\n",
      "ps_calc_01        595212 non-null float32\n",
      "ps_calc_02        595212 non-null float32\n",
      "ps_calc_03        595212 non-null float32\n",
      "ps_calc_04        595212 non-null float32\n",
      "ps_calc_05        595212 non-null float32\n",
      "ps_calc_06        595212 non-null float32\n",
      "ps_calc_07        595212 non-null float32\n",
      "ps_calc_08        595212 non-null float32\n",
      "ps_calc_09        595212 non-null float32\n",
      "ps_calc_10        595212 non-null float32\n",
      "ps_calc_11        595212 non-null float32\n",
      "ps_calc_12        595212 non-null float32\n",
      "ps_calc_13        595212 non-null float32\n",
      "ps_calc_14        595212 non-null float32\n",
      "ps_calc_15_bin    595212 non-null category\n",
      "ps_calc_16_bin    595212 non-null category\n",
      "ps_calc_17_bin    595212 non-null category\n",
      "ps_calc_18_bin    595212 non-null category\n",
      "ps_calc_19_bin    595212 non-null category\n",
      "ps_calc_20_bin    595212 non-null category\n",
      "dtypes: category(31), float32(27)\n",
      "memory usage: 78.9 MB\n"
     ]
    }
   ],
   "source": [
    "train.info()"
   ]
  },
  {
   "cell_type": "markdown",
   "metadata": {},
   "source": [
    "### Gini metric"
   ]
  },
  {
   "cell_type": "code",
   "execution_count": 26,
   "metadata": {
    "ExecuteTime": {
     "end_time": "2017-11-28T21:20:51.313909Z",
     "start_time": "2017-11-28T21:20:51.299486Z"
    }
   },
   "outputs": [],
   "source": [
    "from sklearn.metrics import roc_auc_score\n",
    "\n",
    "inv_log = lambda x : np.exp(x)\n",
    "\n",
    "def gini_metric(preds, targs):\n",
    "    preds = inv_log(preds)\n",
    "    auc = roc_auc_score(y_true=targs, y_score=preds)\n",
    "    return 2 * auc - 1"
   ]
  },
  {
   "cell_type": "markdown",
   "metadata": {},
   "source": [
    "### Create embeddings"
   ]
  },
  {
   "cell_type": "code",
   "execution_count": 27,
   "metadata": {
    "ExecuteTime": {
     "end_time": "2017-11-28T21:20:51.327214Z",
     "start_time": "2017-11-28T21:20:51.315036Z"
    }
   },
   "outputs": [],
   "source": [
    "cat_sz = [(c, len(train[c].cat.categories) + 1) for c in cat_vars]"
   ]
  },
  {
   "cell_type": "code",
   "execution_count": 28,
   "metadata": {
    "ExecuteTime": {
     "end_time": "2017-11-28T21:20:51.341118Z",
     "start_time": "2017-11-28T21:20:51.328146Z"
    }
   },
   "outputs": [
    {
     "data": {
      "text/plain": [
       "[('ps_ind_02_cat', 6),\n",
       " ('ps_ind_04_cat', 4),\n",
       " ('ps_ind_05_cat', 9),\n",
       " ('ps_car_01_cat', 14),\n",
       " ('ps_car_02_cat', 4),\n",
       " ('ps_car_03_cat', 4),\n",
       " ('ps_car_04_cat', 11),\n",
       " ('ps_car_05_cat', 4),\n",
       " ('ps_car_06_cat', 19),\n",
       " ('ps_car_07_cat', 4),\n",
       " ('ps_car_08_cat', 3),\n",
       " ('ps_car_09_cat', 7),\n",
       " ('ps_car_10_cat', 4),\n",
       " ('ps_car_11_cat', 105),\n",
       " ('ps_ind_06_bin', 3),\n",
       " ('ps_ind_07_bin', 3),\n",
       " ('ps_ind_08_bin', 3),\n",
       " ('ps_ind_09_bin', 3),\n",
       " ('ps_ind_10_bin', 3),\n",
       " ('ps_ind_11_bin', 3),\n",
       " ('ps_ind_12_bin', 3),\n",
       " ('ps_ind_13_bin', 3),\n",
       " ('ps_ind_16_bin', 3),\n",
       " ('ps_ind_17_bin', 3),\n",
       " ('ps_ind_18_bin', 3),\n",
       " ('ps_calc_15_bin', 3),\n",
       " ('ps_calc_16_bin', 3),\n",
       " ('ps_calc_17_bin', 3),\n",
       " ('ps_calc_18_bin', 3),\n",
       " ('ps_calc_19_bin', 3),\n",
       " ('ps_calc_20_bin', 3)]"
      ]
     },
     "execution_count": 28,
     "metadata": {},
     "output_type": "execute_result"
    }
   ],
   "source": [
    "cat_sz"
   ]
  },
  {
   "cell_type": "code",
   "execution_count": 29,
   "metadata": {
    "ExecuteTime": {
     "end_time": "2017-11-28T21:20:51.353703Z",
     "start_time": "2017-11-28T21:20:51.342112Z"
    }
   },
   "outputs": [],
   "source": [
    "emb_szs = [(c, min(100, (c + 1) // 2)) for _, c in cat_sz]"
   ]
  },
  {
   "cell_type": "code",
   "execution_count": 30,
   "metadata": {
    "ExecuteTime": {
     "end_time": "2017-11-28T21:20:51.367614Z",
     "start_time": "2017-11-28T21:20:51.354749Z"
    },
    "scrolled": true
   },
   "outputs": [
    {
     "data": {
      "text/plain": [
       "[(6, 3),\n",
       " (4, 2),\n",
       " (9, 5),\n",
       " (14, 7),\n",
       " (4, 2),\n",
       " (4, 2),\n",
       " (11, 6),\n",
       " (4, 2),\n",
       " (19, 10),\n",
       " (4, 2),\n",
       " (3, 2),\n",
       " (7, 4),\n",
       " (4, 2),\n",
       " (105, 53),\n",
       " (3, 2),\n",
       " (3, 2),\n",
       " (3, 2),\n",
       " (3, 2),\n",
       " (3, 2),\n",
       " (3, 2),\n",
       " (3, 2),\n",
       " (3, 2),\n",
       " (3, 2),\n",
       " (3, 2),\n",
       " (3, 2),\n",
       " (3, 2),\n",
       " (3, 2),\n",
       " (3, 2),\n",
       " (3, 2),\n",
       " (3, 2),\n",
       " (3, 2)]"
      ]
     },
     "execution_count": 30,
     "metadata": {},
     "output_type": "execute_result"
    }
   ],
   "source": [
    "emb_szs"
   ]
  },
  {
   "cell_type": "markdown",
   "metadata": {},
   "source": [
    "### Model Architecture / Hyperparameters"
   ]
  },
  {
   "cell_type": "code",
   "execution_count": 31,
   "metadata": {
    "ExecuteTime": {
     "end_time": "2017-11-28T21:20:51.380811Z",
     "start_time": "2017-11-28T21:20:51.368560Z"
    }
   },
   "outputs": [],
   "source": [
    "layer_1 = 1024\n",
    "layer_2 = 512\n",
    "layer_3 = 256\n",
    "batch_size = 256\n",
    "embed_dropout = 0.01\n",
    "layer_dropout = 0.15"
   ]
  },
  {
   "cell_type": "code",
   "execution_count": 32,
   "metadata": {
    "ExecuteTime": {
     "end_time": "2017-11-28T21:20:51.393706Z",
     "start_time": "2017-11-28T21:20:51.381802Z"
    }
   },
   "outputs": [],
   "source": [
    "# Original\n",
    "# Create model with all category variables\n",
    "#md = ColumnarModelData.from_data_frame(path=PATH, \n",
    "#                                       val_idxs=cv_dict['ids_fold_0'], \n",
    "#                                       df=train, \n",
    "#                                       y=target, \n",
    "#                                       cat_flds=cat_vars, \n",
    "#                                       bs=batch_size)"
   ]
  },
  {
   "cell_type": "code",
   "execution_count": 34,
   "metadata": {
    "ExecuteTime": {
     "end_time": "2017-11-28T21:20:52.794303Z",
     "start_time": "2017-11-28T21:20:51.407918Z"
    }
   },
   "outputs": [],
   "source": [
    "# Create model with a test to allow for predictions\n",
    "md = ColumnarModelData.from_data_frame(path=PATH, \n",
    "                                       val_idxs=cv_dict['ids_fold_0'], \n",
    "                                       df=train, \n",
    "                                       y=target, \n",
    "                                       cat_flds=cat_vars, \n",
    "                                       bs=batch_size,\n",
    "                                       test_df=test_df)"
   ]
  },
  {
   "cell_type": "markdown",
   "metadata": {},
   "source": [
    "### Model learner"
   ]
  },
  {
   "cell_type": "code",
   "execution_count": 35,
   "metadata": {
    "ExecuteTime": {
     "end_time": "2017-11-28T21:23:23.517247Z",
     "start_time": "2017-11-28T21:20:52.795451Z"
    }
   },
   "outputs": [],
   "source": [
    "# Use all categorical variables\n",
    "m = md.get_learner(emb_szs=emb_szs, \n",
    "                   n_cont=(len(train.columns) - len(cat_vars)),\n",
    "                   emb_drop=embed_dropout, \n",
    "                   out_sz=1, \n",
    "                   szs=[layer_1, layer_2], \n",
    "                   drops=[layer_dropout, layer_dropout], \n",
    "                   y_range=None)\n"
   ]
  },
  {
   "cell_type": "code",
   "execution_count": 36,
   "metadata": {
    "ExecuteTime": {
     "end_time": "2017-11-28T21:23:35.988775Z",
     "start_time": "2017-11-28T21:23:23.518331Z"
    }
   },
   "outputs": [
    {
     "data": {
      "application/vnd.jupyter.widget-view+json": {
       "model_id": "1492fb4104dd4021a64d4307c5295475",
       "version_major": 2,
       "version_minor": 0
      },
      "text/html": [
       "<p>Failed to display Jupyter Widget of type <code>HBox</code>.</p>\n",
       "<p>\n",
       "  If you're reading this message in the Jupyter Notebook or JupyterLab Notebook, it may mean\n",
       "  that the widgets JavaScript is still loading. If this message persists, it\n",
       "  likely means that the widgets JavaScript library is either not installed or\n",
       "  not enabled. See the <a href=\"https://ipywidgets.readthedocs.io/en/stable/user_install.html\">Jupyter\n",
       "  Widgets Documentation</a> for setup instructions.\n",
       "</p>\n",
       "<p>\n",
       "  If you're reading this message in another frontend (for example, a static\n",
       "  rendering on GitHub or <a href=\"https://nbviewer.jupyter.org/\">NBViewer</a>),\n",
       "  it may mean that your frontend doesn't currently support widgets.\n",
       "</p>\n"
      ],
      "text/plain": [
       "HBox(children=(IntProgress(value=0, description='Epoch', max=1), HTML(value='')))"
      ]
     },
     "metadata": {},
     "output_type": "display_data"
    },
    {
     "name": "stdout",
     "output_type": "stream",
     "text": [
      " 61%|██████    | 1409/2302 [00:12<00:07, 113.32it/s, loss=0.287] "
     ]
    }
   ],
   "source": [
    "m.lr_find()"
   ]
  },
  {
   "cell_type": "code",
   "execution_count": 37,
   "metadata": {
    "ExecuteTime": {
     "end_time": "2017-11-28T21:23:36.292241Z",
     "start_time": "2017-11-28T21:23:35.989912Z"
    }
   },
   "outputs": [
    {
     "data": {
      "image/png": "[encoded data removed]",
      "text/plain": [
       "<matplotlib.figure.Figure at 0x7f731a8ab358>"
      ]
     },
     "metadata": {},
     "output_type": "display_data"
    }
   ],
   "source": [
    "m.sched.plot()"
   ]
  },
  {
   "cell_type": "code",
   "execution_count": 38,
   "metadata": {
    "ExecuteTime": {
     "end_time": "2017-11-28T21:23:36.305377Z",
     "start_time": "2017-11-28T21:23:36.293412Z"
    }
   },
   "outputs": [],
   "source": [
    "lr = 0.0001"
   ]
  },
  {
   "cell_type": "code",
   "execution_count": 39,
   "metadata": {
    "ExecuteTime": {
     "end_time": "2017-11-28T21:27:27.255858Z",
     "start_time": "2017-11-28T21:23:36.306392Z"
    }
   },
   "outputs": [
    {
     "data": {
      "application/vnd.jupyter.widget-view+json": {
       "model_id": "e8a3357f504146f181d43091df6a2537",
       "version_major": 2,
       "version_minor": 0
      },
      "text/html": [
       "<p>Failed to display Jupyter Widget of type <code>HBox</code>.</p>\n",
       "<p>\n",
       "  If you're reading this message in the Jupyter Notebook or JupyterLab Notebook, it may mean\n",
       "  that the widgets JavaScript is still loading. If this message persists, it\n",
       "  likely means that the widgets JavaScript library is either not installed or\n",
       "  not enabled. See the <a href=\"https://ipywidgets.readthedocs.io/en/stable/user_install.html\">Jupyter\n",
       "  Widgets Documentation</a> for setup instructions.\n",
       "</p>\n",
       "<p>\n",
       "  If you're reading this message in another frontend (for example, a static\n",
       "  rendering on GitHub or <a href=\"https://nbviewer.jupyter.org/\">NBViewer</a>),\n",
       "  it may mean that your frontend doesn't currently support widgets.\n",
       "</p>\n"
      ],
      "text/plain": [
       "HBox(children=(IntProgress(value=0, description='Epoch', max=12), HTML(value='')))"
      ]
     },
     "metadata": {},
     "output_type": "display_data"
    },
    {
     "name": "stdout",
     "output_type": "stream",
     "text": [
      "\n",
      "  0%|          | 0/2302 [00:00<?, ?it/s]\u001b[A\n",
      "  0%|          | 0/2302 [00:00<?, ?it/s, loss=0.183]\u001b[A\n",
      "  0%|          | 1/2302 [00:00<12:32,  3.06it/s, loss=0.183]\u001b[A\n",
      "  0%|          | 1/2302 [00:00<13:22,  2.87it/s, loss=0.212]\u001b[A\n",
      "  0%|          | 1/2302 [00:00<14:13,  2.70it/s, loss=0.203]\u001b[A\n",
      "  0%|          | 1/2302 [00:00<15:05,  2.54it/s, loss=0.203]\u001b[A\n",
      "  0%|          | 1/2302 [00:00<15:55,  2.41it/s, loss=0.197]\u001b[A\n",
      "  0%|          | 1/2302 [00:00<16:45,  2.29it/s, loss=0.192]\u001b[A\n",
      "  0%|          | 6/2302 [00:00<02:47, 13.67it/s, loss=0.192]\u001b[A\n",
      "  0%|          | 6/2302 [00:00<02:56, 13.00it/s, loss=0.194]\u001b[A\n",
      "  0%|          | 6/2302 [00:00<03:05, 12.39it/s, loss=0.193]\u001b[A\n",
      "  0%|          | 6/2302 [00:00<03:13, 11.85it/s, loss=0.193]\u001b[A\n",
      "  0%|          | 6/2302 [00:00<03:22, 11.33it/s, loss=0.187]\u001b[A\n",
      "  0%|          | 6/2302 [00:00<03:31, 10.87it/s, loss=0.185]\u001b[A\n",
      "  0%|          | 11/2302 [00:00<01:55, 19.86it/s, loss=0.185]\u001b[A\n",
      "  0%|          | 11/2302 [00:00<01:59, 19.10it/s, loss=0.18] \u001b[A\n",
      "  0%|          | 11/2302 [00:00<02:04, 18.41it/s, loss=0.177]\u001b[A\n",
      "  0%|          | 11/2302 [00:00<02:09, 17.74it/s, loss=0.174]\u001b[A\n",
      "  0%|          | 11/2302 [00:00<02:14, 17.09it/s, loss=0.171]\u001b[A\n",
      "  0%|          | 11/2302 [00:00<02:18, 16.54it/s, loss=0.17] \u001b[A\n",
      "  1%|          | 16/2302 [00:00<01:35, 23.99it/s, loss=0.17]\u001b[A\n",
      "  1%|          | 16/2302 [00:00<01:38, 23.21it/s, loss=0.168]\u001b[A\n",
      "  1%|          | 16/2302 [00:00<01:41, 22.51it/s, loss=0.169]\u001b[A\n",
      "  1%|          | 16/2302 [00:00<01:44, 21.82it/s, loss=0.168]\u001b[A\n",
      "  1%|          | 16/2302 [00:00<01:48, 21.16it/s, loss=0.167]\u001b[A\n",
      "  1%|          | 16/2302 [00:00<01:51, 20.53it/s, loss=0.165]\u001b[A\n",
      "  1%|          | 21/2302 [00:00<01:24, 26.88it/s, loss=0.165]\u001b[A\n",
      "  1%|          | 21/2302 [00:00<01:27, 26.13it/s, loss=0.164]\u001b[A\n",
      "  1%|          | 21/2302 [00:00<01:29, 25.43it/s, loss=0.164]\u001b[A\n",
      "  1%|          | 21/2302 [00:00<01:32, 24.76it/s, loss=0.164]\u001b[A\n",
      "  1%|          | 21/2302 [00:00<01:34, 24.09it/s, loss=0.161]\u001b[A\n",
      "  1%|          | 21/2302 [00:00<01:37, 23.48it/s, loss=0.16] \u001b[A\n",
      "  1%|          | 26/2302 [00:00<01:18, 29.00it/s, loss=0.16]\u001b[A\n",
      "  1%|          | 26/2302 [00:00<01:20, 28.28it/s, loss=0.16]\u001b[A\n",
      "  1%|          | 26/2302 [00:00<01:22, 27.58it/s, loss=0.159]\u001b[A\n",
      "  1%|          | 26/2302 [00:00<01:24, 26.93it/s, loss=0.158]\u001b[A\n",
      "  1%|          | 26/2302 [00:00<01:26, 26.32it/s, loss=0.156]\u001b[A\n",
      "  1%|          | 26/2302 [00:01<01:28, 25.75it/s, loss=0.154]\u001b[A\n",
      "  1%|▏         | 31/2302 [00:01<01:14, 30.64it/s, loss=0.154]\u001b[A\n",
      "  1%|▏         | 31/2302 [00:01<01:15, 29.96it/s, loss=0.153]\u001b[A\n",
      "  1%|▏         | 31/2302 [00:01<01:17, 29.32it/s, loss=0.152]\u001b[A\n",
      "  1%|▏         | 31/2302 [00:01<01:19, 28.71it/s, loss=0.149]\u001b[A\n",
      "  1%|▏         | 31/2302 [00:01<01:20, 28.11it/s, loss=0.148]\u001b[A\n",
      "  1%|▏         | 31/2302 [00:01<01:22, 27.56it/s, loss=0.146]\u001b[A\n",
      "  2%|▏         | 36/2302 [00:01<01:10, 31.94it/s, loss=0.146]\u001b[A\n",
      "  2%|▏         | 36/2302 [00:01<01:12, 31.33it/s, loss=0.145]\u001b[A\n",
      "  2%|▏         | 36/2302 [00:01<01:13, 30.72it/s, loss=0.144]\u001b[A\n",
      "  2%|▏         | 36/2302 [00:01<01:15, 30.12it/s, loss=0.143]\u001b[A\n",
      "  2%|▏         | 36/2302 [00:01<01:16, 29.56it/s, loss=0.141]\u001b[A\n",
      "  2%|▏         | 36/2302 [00:01<01:18, 29.03it/s, loss=0.141]\u001b[A\n",
      "  2%|▏         | 41/2302 [00:01<01:08, 33.01it/s, loss=0.141]\u001b[A\n",
      "  2%|▏         | 41/2302 [00:01<01:09, 32.44it/s, loss=0.139]\u001b[A\n",
      "  2%|▏         | 41/2302 [00:01<01:11, 31.83it/s, loss=0.138]\u001b[A\n",
      "  2%|▏         | 41/2302 [00:01<01:12, 31.26it/s, loss=0.137]\u001b[A\n",
      "  2%|▏         | 41/2302 [00:01<01:13, 30.67it/s, loss=0.137]\u001b[A\n",
      "  2%|▏         | 41/2302 [00:01<01:14, 30.16it/s, loss=0.136]\u001b[A\n",
      "  2%|▏         | 46/2302 [00:01<01:06, 33.73it/s, loss=0.136]\u001b[A\n",
      "  2%|▏         | 46/2302 [00:01<01:08, 33.15it/s, loss=0.135]\u001b[A\n",
      "  2%|▏         | 46/2302 [00:01<01:09, 32.60it/s, loss=0.135]\u001b[A\n",
      "  2%|▏         | 46/2302 [00:01<01:10, 32.07it/s, loss=0.134]\u001b[A\n",
      "  2%|▏         | 46/2302 [00:01<01:11, 31.55it/s, loss=0.133]\u001b[A\n",
      "  2%|▏         | 46/2302 [00:01<01:12, 31.06it/s, loss=0.132]\u001b[A\n",
      "  2%|▏         | 51/2302 [00:01<01:05, 34.32it/s, loss=0.132]\u001b[A\n",
      "  2%|▏         | 51/2302 [00:01<01:06, 33.79it/s, loss=0.131]\u001b[A\n",
      "  2%|▏         | 51/2302 [00:01<01:07, 33.29it/s, loss=0.131]\u001b[A\n",
      "  2%|▏         | 51/2302 [00:01<01:08, 32.80it/s, loss=0.131]\u001b[A\n",
      "  2%|▏         | 51/2302 [00:01<01:09, 32.29it/s, loss=0.13] \u001b[A\n",
      "  2%|▏         | 51/2302 [00:01<01:10, 31.82it/s, loss=0.13]\u001b[A\n",
      "  2%|▏         | 56/2302 [00:01<01:04, 34.85it/s, loss=0.13]\u001b[A\n",
      "  2%|▏         | 56/2302 [00:01<01:05, 34.35it/s, loss=0.129]\u001b[A\n",
      "  2%|▏         | 56/2302 [00:01<01:06, 33.87it/s, loss=0.128]\u001b[A\n",
      "  2%|▏         | 56/2302 [00:01<01:07, 33.38it/s, loss=0.128]\u001b[A\n",
      "  2%|▏         | 56/2302 [00:01<01:08, 32.92it/s, loss=0.127]\u001b[A\n",
      "  2%|▏         | 56/2302 [00:01<01:09, 32.49it/s, loss=0.127]\u001b[A\n",
      "  3%|▎         | 61/2302 [00:01<01:03, 35.29it/s, loss=0.127]\u001b[A\n",
      "  3%|▎         | 61/2302 [00:01<01:04, 34.83it/s, loss=0.126]\u001b[A\n",
      "  3%|▎         | 61/2302 [00:01<01:05, 34.37it/s, loss=0.125]\u001b[A\n",
      "  3%|▎         | 61/2302 [00:01<01:06, 33.93it/s, loss=0.125]\u001b[A\n",
      "  3%|▎         | 61/2302 [00:01<01:06, 33.49it/s, loss=0.124]\u001b[A\n",
      "  3%|▎         | 61/2302 [00:01<01:07, 33.11it/s, loss=0.123]\u001b[A\n",
      "  3%|▎         | 66/2302 [00:01<01:02, 35.74it/s, loss=0.123]\u001b[A\n",
      "  3%|▎         | 66/2302 [00:01<01:03, 35.29it/s, loss=0.122]\u001b[A\n",
      "  3%|▎         | 66/2302 [00:01<01:04, 34.84it/s, loss=0.121]\u001b[A\n",
      "  3%|▎         | 66/2302 [00:01<01:04, 34.40it/s, loss=0.121]\u001b[A\n",
      "  3%|▎         | 66/2302 [00:01<01:05, 34.00it/s, loss=0.12] \u001b[A\n",
      "  3%|▎         | 66/2302 [00:01<01:06, 33.59it/s, loss=0.119]\u001b[A\n",
      "  3%|▎         | 71/2302 [00:01<01:01, 36.06it/s, loss=0.119]\u001b[A\n",
      "  3%|▎         | 71/2302 [00:01<01:02, 35.64it/s, loss=0.118]\u001b[A\n",
      "  3%|▎         | 71/2302 [00:02<01:03, 35.23it/s, loss=0.117]\u001b[A\n",
      "  3%|▎         | 71/2302 [00:02<01:04, 34.83it/s, loss=0.117]\u001b[A\n",
      "  3%|▎         | 71/2302 [00:02<01:04, 34.44it/s, loss=0.116]\u001b[A\n",
      "  3%|▎         | 71/2302 [00:02<01:05, 34.05it/s, loss=0.116]\u001b[A\n",
      "  3%|▎         | 76/2302 [00:02<01:01, 36.42it/s, loss=0.116]\u001b[A\n",
      "  3%|▎         | 76/2302 [00:02<01:01, 36.04it/s, loss=0.115]\u001b[A\n",
      "  3%|▎         | 76/2302 [00:02<01:02, 35.64it/s, loss=0.115]\u001b[A\n",
      "  3%|▎         | 76/2302 [00:02<01:03, 35.28it/s, loss=0.114]\u001b[A\n",
      "  3%|▎         | 76/2302 [00:02<01:03, 34.89it/s, loss=0.113]\u001b[A\n",
      "  3%|▎         | 76/2302 [00:02<01:04, 34.55it/s, loss=0.111]\u001b[A\n",
      "  4%|▎         | 81/2302 [00:02<01:00, 36.80it/s, loss=0.111]\u001b[A\n",
      "  4%|▎         | 81/2302 [00:02<01:00, 36.43it/s, loss=0.111]\u001b[A\n",
      "  4%|▎         | 81/2302 [00:02<01:01, 36.14it/s, loss=0.111]\u001b[A\n",
      "  4%|▎         | 81/2302 [00:02<01:02, 35.78it/s, loss=0.111]\u001b[A\n",
      "  4%|▎         | 81/2302 [00:02<01:02, 35.43it/s, loss=0.11] \u001b[A\n",
      "  4%|▎         | 81/2302 [00:02<01:03, 35.11it/s, loss=0.109]\u001b[A\n",
      "  4%|▎         | 86/2302 [00:02<00:59, 37.25it/s, loss=0.109]\u001b[A\n",
      "  4%|▎         | 86/2302 [00:02<01:00, 36.90it/s, loss=0.109]\u001b[A\n",
      "  4%|▎         | 86/2302 [00:02<01:00, 36.57it/s, loss=0.108]\u001b[A\n",
      "  4%|▎         | 86/2302 [00:02<01:01, 36.25it/s, loss=0.108]\u001b[A\n",
      "  4%|▎         | 86/2302 [00:02<01:01, 35.93it/s, loss=0.107]\u001b[A\n",
      "  4%|▎         | 86/2302 [00:02<01:02, 35.60it/s, loss=0.107]\u001b[A\n",
      "  4%|▍         | 91/2302 [00:02<00:58, 37.64it/s, loss=0.107]\u001b[A\n",
      "  4%|▍         | 91/2302 [00:02<00:59, 37.31it/s, loss=0.106]\u001b[A\n",
      "  4%|▍         | 91/2302 [00:02<00:59, 36.99it/s, loss=0.105]\u001b[A\n",
      "  4%|▍         | 91/2302 [00:02<01:00, 36.70it/s, loss=0.105]\u001b[A\n",
      "  4%|▍         | 91/2302 [00:02<01:00, 36.40it/s, loss=0.104]\u001b[A\n",
      "  4%|▍         | 91/2302 [00:02<01:01, 36.07it/s, loss=0.104]\u001b[A\n",
      "  4%|▍         | 96/2302 [00:02<00:58, 38.03it/s, loss=0.104]\u001b[A\n",
      "  4%|▍         | 96/2302 [00:02<00:58, 37.71it/s, loss=0.104]\u001b[A\n",
      "  4%|▍         | 96/2302 [00:02<00:58, 37.40it/s, loss=0.103]\u001b[A\n",
      "  4%|▍         | 96/2302 [00:02<00:59, 37.08it/s, loss=0.102]\u001b[A\n",
      "  4%|▍         | 96/2302 [00:02<00:59, 36.79it/s, loss=0.102]\u001b[A\n",
      "  4%|▍         | 96/2302 [00:02<01:00, 36.50it/s, loss=0.101]\u001b[A\n",
      "  4%|▍         | 101/2302 [00:02<00:57, 38.37it/s, loss=0.101]\u001b[A\n",
      "  4%|▍         | 101/2302 [00:02<00:57, 38.07it/s, loss=0.101]\u001b[A\n",
      "  4%|▍         | 101/2302 [00:02<00:58, 37.75it/s, loss=0.1]  \u001b[A\n",
      "  4%|▍         | 101/2302 [00:02<00:58, 37.46it/s, loss=0.1]\u001b[A\n"
     ]
    },
    {
     "name": "stdout",
     "output_type": "stream",
     "text": [
      "  4%|▍         | 101/2302 [00:02<00:59, 37.16it/s, loss=0.0996]\u001b[A\n",
      "  4%|▍         | 101/2302 [00:02<00:59, 36.86it/s, loss=0.0994]\u001b[A\n",
      "  5%|▍         | 106/2302 [00:02<00:56, 38.66it/s, loss=0.0994]\u001b[A\n",
      "  5%|▍         | 106/2302 [00:02<00:57, 38.36it/s, loss=0.0988]\u001b[A\n",
      "  5%|▍         | 106/2302 [00:02<00:57, 38.07it/s, loss=0.0984]\u001b[A\n",
      "  5%|▍         | 106/2302 [00:02<00:58, 37.79it/s, loss=0.0974]\u001b[A\n",
      "  5%|▍         | 106/2302 [00:02<00:58, 37.53it/s, loss=0.0971]\u001b[A\n",
      "  5%|▍         | 106/2302 [00:02<00:58, 37.24it/s, loss=0.0964]\u001b[A\n",
      "  5%|▍         | 111/2302 [00:02<00:56, 38.98it/s, loss=0.0964]\u001b[A\n",
      "  5%|▍         | 111/2302 [00:02<00:56, 38.70it/s, loss=0.0961]\u001b[A\n",
      "  5%|▍         | 111/2302 [00:02<00:57, 38.41it/s, loss=0.0953]\u001b[A\n",
      "  5%|▍         | 111/2302 [00:02<00:57, 38.13it/s, loss=0.0949]\u001b[A\n",
      "  5%|▍         | 111/2302 [00:02<00:57, 37.85it/s, loss=0.0951]\u001b[A\n",
      "  5%|▍         | 111/2302 [00:02<00:58, 37.55it/s, loss=0.0948]\u001b[A\n",
      "  5%|▌         | 116/2302 [00:02<00:55, 39.22it/s, loss=0.0948]\u001b[A\n",
      "  5%|▌         | 116/2302 [00:02<00:56, 38.94it/s, loss=0.0946]\u001b[A\n",
      "  5%|▌         | 116/2302 [00:03<00:56, 38.66it/s, loss=0.094] \u001b[A\n",
      "  5%|▌         | 116/2302 [00:03<00:56, 38.37it/s, loss=0.0932]\u001b[A\n",
      "  5%|▌         | 116/2302 [00:03<00:57, 38.04it/s, loss=0.0927]\u001b[A\n",
      "  5%|▌         | 116/2302 [00:03<00:57, 37.73it/s, loss=0.0925]\u001b[A\n",
      "  5%|▌         | 121/2302 [00:03<00:55, 39.33it/s, loss=0.0925]\u001b[A\n",
      "  5%|▌         | 121/2302 [00:03<00:55, 39.05it/s, loss=0.0917]\u001b[A\n",
      "  5%|▌         | 121/2302 [00:03<00:56, 38.78it/s, loss=0.0915]\u001b[A\n",
      "  5%|▌         | 121/2302 [00:03<00:56, 38.50it/s, loss=0.0906]\u001b[A\n",
      "  5%|▌         | 121/2302 [00:03<00:57, 38.23it/s, loss=0.0899]\u001b[A\n",
      "  5%|▌         | 121/2302 [00:03<00:57, 37.97it/s, loss=0.0895]\u001b[A\n",
      "  5%|▌         | 126/2302 [00:03<00:55, 39.52it/s, loss=0.0895]\u001b[A\n",
      "  5%|▌         | 126/2302 [00:03<00:55, 39.24it/s, loss=0.0889]\u001b[A\n",
      "  5%|▌         | 126/2302 [00:03<00:55, 38.97it/s, loss=0.0884]\u001b[A\n",
      "  5%|▌         | 126/2302 [00:03<00:56, 38.67it/s, loss=0.0879]\u001b[A\n",
      "  5%|▌         | 126/2302 [00:03<00:56, 38.35it/s, loss=0.0877]\u001b[A\n",
      "  5%|▌         | 126/2302 [00:03<00:57, 38.09it/s, loss=0.0871]\u001b[A\n",
      "  6%|▌         | 131/2302 [00:03<00:54, 39.58it/s, loss=0.0871]\u001b[A\n",
      "  6%|▌         | 131/2302 [00:03<00:55, 39.31it/s, loss=0.0866]\u001b[A\n",
      "  6%|▌         | 131/2302 [00:03<00:55, 39.06it/s, loss=0.0868]\u001b[A\n",
      "  6%|▌         | 131/2302 [00:03<00:55, 38.81it/s, loss=0.0861]\u001b[A\n",
      "  6%|▌         | 131/2302 [00:03<00:56, 38.56it/s, loss=0.0856]\u001b[A\n",
      "  6%|▌         | 131/2302 [00:03<00:56, 38.32it/s, loss=0.0852]\u001b[A\n",
      "  6%|▌         | 136/2302 [00:03<00:54, 39.77it/s, loss=0.0852]\u001b[A\n",
      "  6%|▌         | 136/2302 [00:03<00:54, 39.52it/s, loss=0.0848]\u001b[A\n",
      "  6%|▌         | 136/2302 [00:03<00:55, 39.28it/s, loss=0.0847]\u001b[A\n",
      "  6%|▌         | 136/2302 [00:03<00:55, 39.05it/s, loss=0.0841]\u001b[A\n",
      "  6%|▌         | 136/2302 [00:03<00:55, 38.82it/s, loss=0.0838]\u001b[A\n",
      "  6%|▌         | 136/2302 [00:03<00:56, 38.59it/s, loss=0.0837]\u001b[A\n",
      "  6%|▌         | 141/2302 [00:03<00:54, 39.98it/s, loss=0.0837]\u001b[A\n",
      "  6%|▌         | 141/2302 [00:03<00:54, 39.75it/s, loss=0.0836]\u001b[A\n",
      "  6%|▌         | 141/2302 [00:03<00:54, 39.51it/s, loss=0.0836]\u001b[A\n",
      "  6%|▌         | 141/2302 [00:03<00:55, 39.27it/s, loss=0.083] \u001b[A\n",
      "  6%|▌         | 141/2302 [00:03<00:55, 39.03it/s, loss=0.083]\u001b[A\n",
      "  6%|▌         | 141/2302 [00:03<00:55, 38.80it/s, loss=0.0826]\u001b[A\n",
      "  6%|▋         | 146/2302 [00:03<00:53, 40.15it/s, loss=0.0826]\u001b[A\n",
      "  6%|▋         | 146/2302 [00:03<00:53, 39.94it/s, loss=0.0819]\u001b[A\n",
      "  6%|▋         | 146/2302 [00:03<00:54, 39.70it/s, loss=0.0814]\u001b[A\n",
      "  6%|▋         | 146/2302 [00:03<00:54, 39.48it/s, loss=0.0812]\u001b[A\n",
      "  6%|▋         | 146/2302 [00:03<00:54, 39.26it/s, loss=0.0806]\u001b[A\n",
      "  6%|▋         | 146/2302 [00:03<00:55, 39.03it/s, loss=0.0799]\u001b[A\n",
      "  7%|▋         | 151/2302 [00:03<00:53, 40.34it/s, loss=0.0799]\u001b[A\n",
      "  7%|▋         | 151/2302 [00:03<00:53, 40.13it/s, loss=0.0795]\u001b[A\n",
      "  7%|▋         | 151/2302 [00:03<00:53, 39.90it/s, loss=0.0794]\u001b[A\n",
      "  7%|▋         | 151/2302 [00:03<00:54, 39.67it/s, loss=0.0791]\u001b[A\n",
      "  7%|▋         | 151/2302 [00:03<00:54, 39.44it/s, loss=0.0788]\u001b[A\n",
      "  7%|▋         | 151/2302 [00:03<00:54, 39.21it/s, loss=0.0784]\u001b[A\n",
      "  7%|▋         | 156/2302 [00:03<00:53, 40.49it/s, loss=0.0784]\u001b[A\n",
      "  7%|▋         | 156/2302 [00:03<00:53, 40.26it/s, loss=0.0784]\u001b[A\n",
      "  7%|▋         | 156/2302 [00:03<00:53, 40.04it/s, loss=0.0783]\u001b[A\n",
      "  7%|▋         | 156/2302 [00:03<00:53, 39.82it/s, loss=0.0778]\u001b[A\n",
      "  7%|▋         | 156/2302 [00:03<00:54, 39.68it/s, loss=0.0775]\u001b[A\n",
      "  7%|▋         | 156/2302 [00:03<00:54, 39.61it/s, loss=0.0773]\u001b[A\n",
      "  7%|▋         | 156/2302 [00:03<00:54, 39.52it/s, loss=0.077] \u001b[A\n",
      "  7%|▋         | 156/2302 [00:03<00:54, 39.45it/s, loss=0.0768]\u001b[A\n",
      "  7%|▋         | 163/2302 [00:03<00:51, 41.21it/s, loss=0.0768]\u001b[A\n",
      "  7%|▋         | 163/2302 [00:03<00:51, 41.14it/s, loss=0.0765]\u001b[A\n",
      "  7%|▋         | 163/2302 [00:03<00:52, 41.06it/s, loss=0.0762]\u001b[A\n",
      "  7%|▋         | 163/2302 [00:03<00:52, 40.99it/s, loss=0.0756]\u001b[A\n",
      "  7%|▋         | 163/2302 [00:03<00:52, 40.92it/s, loss=0.0757]\u001b[A\n",
      "  7%|▋         | 163/2302 [00:03<00:52, 40.84it/s, loss=0.0752]\u001b[A\n",
      "  7%|▋         | 163/2302 [00:03<00:52, 40.77it/s, loss=0.0751]\u001b[A\n",
      "  7%|▋         | 163/2302 [00:04<00:52, 40.70it/s, loss=0.0747]\u001b[A\n",
      "  7%|▋         | 163/2302 [00:04<00:52, 40.63it/s, loss=0.0745]\u001b[A\n",
      "  7%|▋         | 163/2302 [00:04<00:52, 40.56it/s, loss=0.0745]\u001b[A\n",
      "  7%|▋         | 163/2302 [00:04<00:52, 40.49it/s, loss=0.0746]\u001b[A\n",
      "  7%|▋         | 163/2302 [00:04<00:52, 40.41it/s, loss=0.0747]\u001b[A\n",
      "  7%|▋         | 163/2302 [00:04<00:53, 40.34it/s, loss=0.0743]\u001b[A\n",
      "  7%|▋         | 163/2302 [00:04<00:53, 40.26it/s, loss=0.0745]\u001b[A\n",
      "  7%|▋         | 163/2302 [00:04<00:53, 40.18it/s, loss=0.074] \u001b[A\n",
      "  8%|▊         | 177/2302 [00:04<00:48, 43.62it/s, loss=0.074]\u001b[A\n",
      "  8%|▊         | 177/2302 [00:04<00:48, 43.54it/s, loss=0.0734]\u001b[A\n",
      "  8%|▊         | 177/2302 [00:04<00:48, 43.47it/s, loss=0.0736]\u001b[A\n",
      "  8%|▊         | 177/2302 [00:04<00:48, 43.39it/s, loss=0.0733]\u001b[A\n",
      "  8%|▊         | 177/2302 [00:04<00:49, 43.31it/s, loss=0.0728]\u001b[A\n",
      "  8%|▊         | 177/2302 [00:04<00:49, 43.24it/s, loss=0.0729]\u001b[A\n",
      "  8%|▊         | 177/2302 [00:04<00:49, 43.16it/s, loss=0.0727]\u001b[A\n",
      "  8%|▊         | 177/2302 [00:04<00:49, 43.08it/s, loss=0.0724]\u001b[A\n",
      "  8%|▊         | 177/2302 [00:04<00:49, 43.01it/s, loss=0.0722]\u001b[A\n",
      "  8%|▊         | 177/2302 [00:04<00:49, 42.93it/s, loss=0.0719]\u001b[A\n",
      "  8%|▊         | 177/2302 [00:04<00:49, 42.86it/s, loss=0.0722]\u001b[A\n",
      "  8%|▊         | 177/2302 [00:04<00:49, 42.78it/s, loss=0.0717]\u001b[A\n",
      "  8%|▊         | 177/2302 [00:04<00:49, 42.70it/s, loss=0.0713]\u001b[A\n",
      "  8%|▊         | 177/2302 [00:04<00:49, 42.63it/s, loss=0.071] \u001b[A\n",
      "  8%|▊         | 177/2302 [00:04<00:49, 42.55it/s, loss=0.0711]\u001b[A\n",
      "  8%|▊         | 191/2302 [00:04<00:45, 45.90it/s, loss=0.0711]\u001b[A\n",
      "  8%|▊         | 191/2302 [00:04<00:46, 45.82it/s, loss=0.0709]\u001b[A\n",
      "  8%|▊         | 191/2302 [00:04<00:46, 45.74it/s, loss=0.0703]\u001b[A\n",
      "  8%|▊         | 191/2302 [00:04<00:46, 45.66it/s, loss=0.07]  \u001b[A\n",
      "  8%|▊         | 191/2302 [00:04<00:46, 45.58it/s, loss=0.0695]\u001b[A\n",
      "  8%|▊         | 191/2302 [00:04<00:46, 45.51it/s, loss=0.0692]\u001b[A\n",
      "  8%|▊         | 191/2302 [00:04<00:46, 45.43it/s, loss=0.0689]\u001b[A\n",
      "  8%|▊         | 191/2302 [00:04<00:46, 45.36it/s, loss=0.0688]\u001b[A\n",
      "  8%|▊         | 191/2302 [00:04<00:46, 45.28it/s, loss=0.0682]\u001b[A\n",
      "  8%|▊         | 191/2302 [00:04<00:46, 45.20it/s, loss=0.0679]\u001b[A\n",
      "  8%|▊         | 191/2302 [00:04<00:46, 45.13it/s, loss=0.0672]\u001b[A\n",
      "  8%|▊         | 191/2302 [00:04<00:46, 45.05it/s, loss=0.0676]\u001b[A\n",
      "  8%|▊         | 191/2302 [00:04<00:46, 44.97it/s, loss=0.0672]\u001b[A\n",
      "  8%|▊         | 191/2302 [00:04<00:47, 44.89it/s, loss=0.0672]\u001b[A\n",
      "  8%|▊         | 191/2302 [00:04<00:47, 44.81it/s, loss=0.0668]\u001b[A\n",
      "  9%|▉         | 205/2302 [00:04<00:43, 48.08it/s, loss=0.0668]\u001b[A\n",
      "  9%|▉         | 205/2302 [00:04<00:43, 48.00it/s, loss=0.0663]\u001b[A\n",
      "  9%|▉         | 205/2302 [00:04<00:43, 47.92it/s, loss=0.0663]\u001b[A\n",
      "  9%|▉         | 205/2302 [00:04<00:43, 47.83it/s, loss=0.0663]\u001b[A\n",
      "  9%|▉         | 205/2302 [00:04<00:43, 47.76it/s, loss=0.066] \u001b[A\n",
      "  9%|▉         | 205/2302 [00:04<00:43, 47.68it/s, loss=0.0656]\u001b[A\n",
      "  9%|▉         | 205/2302 [00:04<00:44, 47.59it/s, loss=0.0657]\u001b[A\n"
     ]
    },
    {
     "name": "stdout",
     "output_type": "stream",
     "text": [
      "  9%|▉         | 205/2302 [00:04<00:44, 47.51it/s, loss=0.0653]\u001b[A\n",
      "  9%|▉         | 205/2302 [00:04<00:44, 47.43it/s, loss=0.0655]\u001b[A\n",
      "  9%|▉         | 205/2302 [00:04<00:44, 47.36it/s, loss=0.0655]\u001b[A\n",
      "  9%|▉         | 205/2302 [00:04<00:44, 47.28it/s, loss=0.0649]\u001b[A\n",
      "  9%|▉         | 205/2302 [00:04<00:44, 47.20it/s, loss=0.0645]\u001b[A\n",
      "  9%|▉         | 205/2302 [00:04<00:44, 47.11it/s, loss=0.0639]\u001b[A\n",
      "  9%|▉         | 205/2302 [00:04<00:44, 47.04it/s, loss=0.0638]\u001b[A\n",
      "  9%|▉         | 205/2302 [00:04<00:44, 46.95it/s, loss=0.0636]\u001b[A\n",
      " 10%|▉         | 219/2302 [00:04<00:41, 50.14it/s, loss=0.0636]\u001b[A\n",
      " 10%|▉         | 219/2302 [00:04<00:41, 50.06it/s, loss=0.0634]\u001b[A\n",
      " 10%|▉         | 219/2302 [00:04<00:41, 49.98it/s, loss=0.0629]\u001b[A\n",
      " 10%|▉         | 219/2302 [00:04<00:41, 49.90it/s, loss=0.063] \u001b[A\n",
      " 10%|▉         | 219/2302 [00:04<00:41, 49.82it/s, loss=0.0633]\u001b[A\n",
      " 10%|▉         | 219/2302 [00:04<00:41, 49.73it/s, loss=0.0632]\u001b[A\n",
      " 10%|▉         | 219/2302 [00:04<00:41, 49.65it/s, loss=0.063] \u001b[A\n",
      " 10%|▉         | 219/2302 [00:04<00:42, 49.58it/s, loss=0.0628]\u001b[A\n",
      " 10%|▉         | 219/2302 [00:04<00:42, 49.50it/s, loss=0.0629]\u001b[A\n",
      " 10%|▉         | 219/2302 [00:04<00:42, 49.42it/s, loss=0.0628]\u001b[A\n",
      " 10%|▉         | 219/2302 [00:04<00:42, 49.34it/s, loss=0.0627]\u001b[A\n",
      " 10%|▉         | 219/2302 [00:04<00:42, 49.26it/s, loss=0.0623]\u001b[A\n",
      " 10%|▉         | 219/2302 [00:04<00:42, 49.18it/s, loss=0.0625]\u001b[A\n",
      " 10%|▉         | 219/2302 [00:04<00:42, 49.10it/s, loss=0.0623]\u001b[A\n",
      " 10%|▉         | 219/2302 [00:04<00:42, 49.01it/s, loss=0.062] \u001b[A\n",
      " 10%|█         | 233/2302 [00:04<00:39, 52.13it/s, loss=0.062]\u001b[A\n",
      " 10%|█         | 233/2302 [00:04<00:39, 52.04it/s, loss=0.0616]\u001b[A\n",
      " 10%|█         | 233/2302 [00:04<00:39, 51.96it/s, loss=0.0616]\u001b[A\n",
      " 10%|█         | 233/2302 [00:04<00:39, 51.87it/s, loss=0.0616]\u001b[A\n",
      " 10%|█         | 233/2302 [00:04<00:39, 51.79it/s, loss=0.0619]\u001b[A\n",
      " 10%|█         | 233/2302 [00:04<00:40, 51.71it/s, loss=0.0623]\u001b[A\n",
      " 10%|█         | 233/2302 [00:04<00:40, 51.63it/s, loss=0.0625]\u001b[A\n",
      " 10%|█         | 233/2302 [00:04<00:40, 51.54it/s, loss=0.0626]\u001b[A\n",
      " 10%|█         | 233/2302 [00:04<00:40, 51.46it/s, loss=0.063] \u001b[A\n",
      " 10%|█         | 233/2302 [00:04<00:40, 51.38it/s, loss=0.0629]\u001b[A\n",
      " 10%|█         | 233/2302 [00:04<00:40, 51.29it/s, loss=0.0624]\u001b[A\n",
      " 10%|█         | 233/2302 [00:04<00:40, 51.21it/s, loss=0.0622]\u001b[A\n",
      " 10%|█         | 233/2302 [00:04<00:40, 51.13it/s, loss=0.0619]\u001b[A\n",
      " 10%|█         | 233/2302 [00:04<00:40, 51.05it/s, loss=0.0618]\u001b[A\n",
      " 10%|█         | 233/2302 [00:04<00:40, 50.96it/s, loss=0.0616]\u001b[A\n",
      " 11%|█         | 247/2302 [00:04<00:38, 54.01it/s, loss=0.0616]\u001b[A\n",
      " 11%|█         | 247/2302 [00:04<00:38, 53.92it/s, loss=0.0613]\u001b[A\n",
      " 11%|█         | 247/2302 [00:04<00:38, 53.84it/s, loss=0.0609]\u001b[A\n",
      " 11%|█         | 247/2302 [00:04<00:38, 53.75it/s, loss=0.0606]\u001b[A\n",
      " 11%|█         | 247/2302 [00:04<00:38, 53.67it/s, loss=0.0604]\u001b[A\n",
      " 11%|█         | 247/2302 [00:04<00:38, 53.59it/s, loss=0.0604]\u001b[A\n",
      " 11%|█         | 247/2302 [00:04<00:38, 53.50it/s, loss=0.06]  \u001b[A\n",
      " 11%|█         | 247/2302 [00:04<00:38, 53.42it/s, loss=0.0601]\u001b[A\n",
      " 11%|█         | 247/2302 [00:04<00:38, 53.34it/s, loss=0.0602]\u001b[A\n",
      " 11%|█         | 247/2302 [00:04<00:38, 53.26it/s, loss=0.0599]\u001b[A\n",
      " 11%|█         | 247/2302 [00:04<00:38, 53.17it/s, loss=0.0596]\u001b[A\n",
      " 11%|█         | 247/2302 [00:04<00:38, 53.09it/s, loss=0.0591]\u001b[A\n",
      " 11%|█         | 247/2302 [00:04<00:38, 53.01it/s, loss=0.0592]\u001b[A\n",
      " 11%|█         | 247/2302 [00:04<00:38, 52.93it/s, loss=0.0593]\u001b[A\n",
      " 11%|█         | 247/2302 [00:04<00:38, 52.84it/s, loss=0.0591]\u001b[A\n",
      " 11%|█▏        | 261/2302 [00:04<00:36, 55.82it/s, loss=0.0591]\u001b[A\n",
      " 11%|█▏        | 261/2302 [00:04<00:36, 55.74it/s, loss=0.0585]\u001b[A\n",
      " 11%|█▏        | 261/2302 [00:04<00:36, 55.65it/s, loss=0.0583]\u001b[A\n",
      " 11%|█▏        | 261/2302 [00:04<00:36, 55.56it/s, loss=0.058] \u001b[A\n",
      " 11%|█▏        | 261/2302 [00:04<00:36, 55.47it/s, loss=0.0579]\u001b[A\n",
      " 11%|█▏        | 261/2302 [00:04<00:36, 55.39it/s, loss=0.0574]\u001b[A\n",
      " 11%|█▏        | 261/2302 [00:04<00:36, 55.31it/s, loss=0.0574]\u001b[A\n",
      " 11%|█▏        | 261/2302 [00:04<00:36, 55.22it/s, loss=0.0571]\u001b[A\n",
      " 11%|█▏        | 261/2302 [00:04<00:37, 55.14it/s, loss=0.0566]\u001b[A\n",
      " 11%|█▏        | 261/2302 [00:04<00:37, 55.05it/s, loss=0.0564]\u001b[A\n",
      " 11%|█▏        | 261/2302 [00:04<00:37, 54.96it/s, loss=0.0562]\u001b[A\n",
      " 11%|█▏        | 261/2302 [00:04<00:37, 54.88it/s, loss=0.0566]\u001b[A\n",
      " 11%|█▏        | 261/2302 [00:04<00:37, 54.80it/s, loss=0.0563]\u001b[A\n",
      " 11%|█▏        | 261/2302 [00:04<00:37, 54.71it/s, loss=0.0564]\u001b[A\n",
      " 11%|█▏        | 261/2302 [00:04<00:37, 54.62it/s, loss=0.056] \u001b[A\n",
      " 12%|█▏        | 275/2302 [00:04<00:35, 57.54it/s, loss=0.056]\u001b[A\n",
      " 12%|█▏        | 275/2302 [00:04<00:35, 57.45it/s, loss=0.056]\u001b[A\n",
      " 12%|█▏        | 275/2302 [00:04<00:35, 57.36it/s, loss=0.0559]\u001b[A\n",
      " 12%|█▏        | 275/2302 [00:04<00:35, 57.28it/s, loss=0.0557]\u001b[A\n",
      " 12%|█▏        | 275/2302 [00:04<00:35, 57.19it/s, loss=0.056] \u001b[A\n",
      " 12%|█▏        | 275/2302 [00:04<00:35, 57.10it/s, loss=0.0558]\u001b[A\n",
      " 12%|█▏        | 275/2302 [00:04<00:35, 57.02it/s, loss=0.0556]\u001b[A\n",
      " 12%|█▏        | 275/2302 [00:04<00:35, 56.93it/s, loss=0.0556]\u001b[A\n",
      " 12%|█▏        | 275/2302 [00:04<00:35, 56.85it/s, loss=0.0555]\u001b[A\n",
      " 12%|█▏        | 275/2302 [00:04<00:35, 56.77it/s, loss=0.0553]\u001b[A\n",
      " 12%|█▏        | 275/2302 [00:04<00:35, 56.68it/s, loss=0.055] \u001b[A\n",
      " 12%|█▏        | 275/2302 [00:04<00:35, 56.60it/s, loss=0.0548]\u001b[A\n",
      " 12%|█▏        | 275/2302 [00:04<00:35, 56.52it/s, loss=0.0545]\u001b[A\n",
      " 12%|█▏        | 275/2302 [00:04<00:35, 56.44it/s, loss=0.0546]\u001b[A\n",
      " 12%|█▏        | 275/2302 [00:04<00:35, 56.35it/s, loss=0.0544]\u001b[A\n",
      " 13%|█▎        | 289/2302 [00:04<00:34, 59.20it/s, loss=0.0544]\u001b[A\n",
      " 13%|█▎        | 289/2302 [00:04<00:34, 59.11it/s, loss=0.0542]\u001b[A\n",
      " 13%|█▎        | 289/2302 [00:04<00:34, 59.02it/s, loss=0.0543]\u001b[A\n",
      " 13%|█▎        | 289/2302 [00:04<00:34, 58.94it/s, loss=0.0542]\u001b[A\n",
      " 13%|█▎        | 289/2302 [00:04<00:34, 58.85it/s, loss=0.0538]\u001b[A\n",
      " 13%|█▎        | 289/2302 [00:04<00:34, 58.76it/s, loss=0.0538]\u001b[A\n",
      " 13%|█▎        | 289/2302 [00:04<00:34, 58.68it/s, loss=0.0535]\u001b[A\n",
      " 13%|█▎        | 289/2302 [00:04<00:34, 58.59it/s, loss=0.0535]\u001b[A\n",
      " 13%|█▎        | 289/2302 [00:04<00:34, 58.50it/s, loss=0.0532]\u001b[A\n",
      " 13%|█▎        | 289/2302 [00:04<00:34, 58.42it/s, loss=0.0533]\u001b[A\n",
      " 13%|█▎        | 289/2302 [00:04<00:34, 58.33it/s, loss=0.0533]\u001b[A\n",
      " 13%|█▎        | 289/2302 [00:04<00:34, 58.24it/s, loss=0.0532]\u001b[A\n",
      " 13%|█▎        | 289/2302 [00:04<00:34, 58.16it/s, loss=0.0534]\u001b[A\n",
      " 13%|█▎        | 289/2302 [00:04<00:34, 58.07it/s, loss=0.0535]\u001b[A\n",
      " 13%|█▎        | 289/2302 [00:04<00:34, 57.98it/s, loss=0.0537]\u001b[A\n",
      " 13%|█▎        | 303/2302 [00:04<00:32, 60.78it/s, loss=0.0537]\u001b[A\n",
      " 13%|█▎        | 303/2302 [00:04<00:32, 60.69it/s, loss=0.0539]\u001b[A\n",
      " 13%|█▎        | 303/2302 [00:04<00:32, 60.60it/s, loss=0.0543]\u001b[A\n",
      " 13%|█▎        | 303/2302 [00:05<00:33, 60.51it/s, loss=0.0546]\u001b[A\n",
      " 13%|█▎        | 303/2302 [00:05<00:33, 60.42it/s, loss=0.0544]\u001b[A\n",
      " 13%|█▎        | 303/2302 [00:05<00:33, 60.34it/s, loss=0.0542]\u001b[A\n",
      " 13%|█▎        | 303/2302 [00:05<00:33, 60.25it/s, loss=0.0541]\u001b[A\n",
      " 13%|█▎        | 303/2302 [00:05<00:33, 60.16it/s, loss=0.0539]\u001b[A\n",
      " 13%|█▎        | 303/2302 [00:05<00:33, 60.08it/s, loss=0.0536]\u001b[A\n",
      " 13%|█▎        | 303/2302 [00:05<00:33, 59.99it/s, loss=0.0536]\u001b[A\n",
      " 13%|█▎        | 303/2302 [00:05<00:33, 59.91it/s, loss=0.0539]\u001b[A\n",
      " 13%|█▎        | 303/2302 [00:05<00:33, 59.82it/s, loss=0.054] \u001b[A\n",
      " 13%|█▎        | 303/2302 [00:05<00:33, 59.74it/s, loss=0.0544]\u001b[A\n",
      " 13%|█▎        | 303/2302 [00:05<00:33, 59.65it/s, loss=0.0541]\u001b[A\n",
      " 13%|█▎        | 303/2302 [00:05<00:33, 59.56it/s, loss=0.0544]\u001b[A\n",
      " 14%|█▍        | 317/2302 [00:05<00:31, 62.30it/s, loss=0.0544]\u001b[A\n",
      " 14%|█▍        | 317/2302 [00:05<00:31, 62.21it/s, loss=0.054] \u001b[A\n",
      " 14%|█▍        | 317/2302 [00:05<00:31, 62.13it/s, loss=0.0536]\u001b[A\n",
      " 14%|█▍        | 317/2302 [00:05<00:31, 62.04it/s, loss=0.0532]\u001b[A\n",
      " 14%|█▍        | 317/2302 [00:05<00:32, 61.95it/s, loss=0.0532]\u001b[A\n",
      " 14%|█▍        | 317/2302 [00:05<00:32, 61.87it/s, loss=0.0526]\u001b[A\n",
      " 14%|█▍        | 317/2302 [00:05<00:32, 61.78it/s, loss=0.0522]\u001b[A\n",
      " 14%|█▍        | 317/2302 [00:05<00:32, 61.69it/s, loss=0.0518]\u001b[A\n",
      " 14%|█▍        | 317/2302 [00:05<00:32, 61.60it/s, loss=0.0515]\u001b[A\n"
     ]
    },
    {
     "name": "stdout",
     "output_type": "stream",
     "text": [
      " 14%|█▍        | 317/2302 [00:05<00:32, 61.52it/s, loss=0.0511]\u001b[A\n",
      " 14%|█▍        | 317/2302 [00:05<00:32, 61.43it/s, loss=0.0506]\u001b[A\n",
      " 14%|█▍        | 317/2302 [00:05<00:32, 61.34it/s, loss=0.0508]\u001b[A\n",
      " 14%|█▍        | 317/2302 [00:05<00:32, 61.25it/s, loss=0.0508]\u001b[A\n",
      " 14%|█▍        | 317/2302 [00:05<00:32, 61.17it/s, loss=0.0511]\u001b[A\n",
      " 14%|█▍        | 317/2302 [00:05<00:32, 61.08it/s, loss=0.0507]\u001b[A\n",
      " 14%|█▍        | 331/2302 [00:05<00:30, 63.76it/s, loss=0.0507]\u001b[A\n",
      " 14%|█▍        | 331/2302 [00:05<00:30, 63.67it/s, loss=0.0503]\u001b[A\n",
      " 14%|█▍        | 331/2302 [00:05<00:30, 63.58it/s, loss=0.0505]\u001b[A\n",
      " 14%|█▍        | 331/2302 [00:05<00:31, 63.49it/s, loss=0.0503]\u001b[A\n",
      " 14%|█▍        | 331/2302 [00:05<00:31, 63.40it/s, loss=0.0501]\u001b[A\n",
      " 14%|█▍        | 331/2302 [00:05<00:31, 63.32it/s, loss=0.0499]\u001b[A\n",
      " 14%|█▍        | 331/2302 [00:05<00:31, 63.23it/s, loss=0.0502]\u001b[A\n",
      " 14%|█▍        | 331/2302 [00:05<00:31, 63.14it/s, loss=0.0504]\u001b[A\n",
      " 14%|█▍        | 331/2302 [00:05<00:31, 63.05it/s, loss=0.0501]\u001b[A\n",
      " 14%|█▍        | 331/2302 [00:05<00:31, 62.96it/s, loss=0.05]  \u001b[A\n",
      " 14%|█▍        | 331/2302 [00:05<00:31, 62.88it/s, loss=0.0498]\u001b[A\n",
      " 14%|█▍        | 331/2302 [00:05<00:31, 62.79it/s, loss=0.0498]\u001b[A\n",
      " 14%|█▍        | 331/2302 [00:05<00:31, 62.71it/s, loss=0.0495]\u001b[A\n",
      " 14%|█▍        | 331/2302 [00:05<00:31, 62.62it/s, loss=0.0493]\u001b[A\n",
      " 14%|█▍        | 331/2302 [00:05<00:31, 62.53it/s, loss=0.0493]\u001b[A\n",
      " 15%|█▍        | 345/2302 [00:05<00:30, 65.16it/s, loss=0.0493]\u001b[A\n",
      " 15%|█▍        | 345/2302 [00:05<00:30, 65.07it/s, loss=0.0492]\u001b[A\n",
      " 15%|█▍        | 345/2302 [00:05<00:30, 64.99it/s, loss=0.0493]\u001b[A\n",
      " 15%|█▍        | 345/2302 [00:05<00:30, 64.90it/s, loss=0.0492]\u001b[A\n",
      " 15%|█▍        | 345/2302 [00:05<00:30, 64.81it/s, loss=0.0489]\u001b[A\n",
      " 15%|█▍        | 345/2302 [00:05<00:30, 64.73it/s, loss=0.0491]\u001b[A\n",
      " 15%|█▍        | 345/2302 [00:05<00:30, 64.64it/s, loss=0.0494]\u001b[A\n",
      " 15%|█▍        | 345/2302 [00:05<00:30, 64.55it/s, loss=0.0496]\u001b[A\n",
      " 15%|█▍        | 345/2302 [00:05<00:30, 64.46it/s, loss=0.0492]\u001b[A\n",
      " 15%|█▍        | 345/2302 [00:05<00:30, 64.38it/s, loss=0.049] \u001b[A\n",
      " 15%|█▍        | 345/2302 [00:05<00:30, 64.29it/s, loss=0.0486]\u001b[A\n",
      " 15%|█▍        | 345/2302 [00:05<00:30, 64.20it/s, loss=0.0482]\u001b[A\n",
      " 15%|█▍        | 345/2302 [00:05<00:30, 64.11it/s, loss=0.0481]\u001b[A\n",
      " 15%|█▍        | 345/2302 [00:05<00:30, 64.03it/s, loss=0.048] \u001b[A\n",
      " 15%|█▍        | 345/2302 [00:05<00:30, 63.93it/s, loss=0.0479]\u001b[A\n",
      " 16%|█▌        | 359/2302 [00:05<00:29, 66.52it/s, loss=0.0479]\u001b[A\n",
      " 16%|█▌        | 359/2302 [00:05<00:29, 66.43it/s, loss=0.0476]\u001b[A\n",
      " 16%|█▌        | 359/2302 [00:05<00:29, 66.34it/s, loss=0.0473]\u001b[A\n",
      " 16%|█▌        | 359/2302 [00:05<00:29, 66.25it/s, loss=0.0477]\u001b[A\n",
      " 16%|█▌        | 359/2302 [00:05<00:29, 66.15it/s, loss=0.0476]\u001b[A\n",
      " 16%|█▌        | 359/2302 [00:05<00:29, 66.07it/s, loss=0.0477]\u001b[A\n",
      " 16%|█▌        | 359/2302 [00:05<00:29, 65.98it/s, loss=0.0476]\u001b[A\n",
      " 16%|█▌        | 359/2302 [00:05<00:29, 65.89it/s, loss=0.0474]\u001b[A\n",
      " 16%|█▌        | 359/2302 [00:05<00:29, 65.80it/s, loss=0.047] \u001b[A\n",
      " 16%|█▌        | 359/2302 [00:05<00:29, 65.71it/s, loss=0.0466]\u001b[A\n",
      " 16%|█▌        | 359/2302 [00:05<00:29, 65.63it/s, loss=0.0462]\u001b[A\n",
      " 16%|█▌        | 359/2302 [00:05<00:29, 65.54it/s, loss=0.0462]\u001b[A\n",
      " 16%|█▌        | 359/2302 [00:05<00:29, 65.45it/s, loss=0.0461]\u001b[A\n",
      " 16%|█▌        | 359/2302 [00:05<00:29, 65.37it/s, loss=0.046] \u001b[A\n",
      " 16%|█▌        | 359/2302 [00:05<00:29, 65.28it/s, loss=0.046]\u001b[A\n",
      " 16%|█▌        | 373/2302 [00:05<00:28, 67.81it/s, loss=0.046]\u001b[A\n",
      " 16%|█▌        | 373/2302 [00:05<00:28, 67.72it/s, loss=0.046]\u001b[A\n",
      " 16%|█▌        | 373/2302 [00:05<00:28, 67.63it/s, loss=0.0458]\u001b[A\n",
      " 16%|█▌        | 373/2302 [00:05<00:28, 67.54it/s, loss=0.0459]\u001b[A\n",
      " 16%|█▌        | 373/2302 [00:05<00:28, 67.45it/s, loss=0.0455]\u001b[A\n",
      " 16%|█▌        | 373/2302 [00:05<00:28, 67.37it/s, loss=0.0456]\u001b[A\n",
      " 16%|█▌        | 373/2302 [00:05<00:28, 67.28it/s, loss=0.0456]\u001b[A\n",
      " 16%|█▌        | 373/2302 [00:05<00:28, 67.20it/s, loss=0.0453]\u001b[A\n",
      " 16%|█▌        | 373/2302 [00:05<00:28, 67.11it/s, loss=0.0454]\u001b[A\n",
      " 16%|█▌        | 373/2302 [00:05<00:28, 67.02it/s, loss=0.0457]\u001b[A\n",
      " 16%|█▌        | 373/2302 [00:05<00:28, 66.94it/s, loss=0.0459]\u001b[A\n",
      " 16%|█▌        | 373/2302 [00:05<00:28, 66.85it/s, loss=0.0458]\u001b[A\n",
      " 16%|█▌        | 373/2302 [00:05<00:28, 66.76it/s, loss=0.0459]\u001b[A\n",
      " 16%|█▌        | 373/2302 [00:05<00:28, 66.67it/s, loss=0.046] \u001b[A\n",
      " 16%|█▌        | 373/2302 [00:05<00:28, 66.58it/s, loss=0.0459]\u001b[A\n",
      " 17%|█▋        | 387/2302 [00:05<00:27, 69.07it/s, loss=0.0459]\u001b[A\n",
      " 17%|█▋        | 387/2302 [00:05<00:27, 68.97it/s, loss=0.0461]\u001b[A\n",
      " 17%|█▋        | 387/2302 [00:05<00:27, 68.89it/s, loss=0.0459]\u001b[A\n",
      " 17%|█▋        | 387/2302 [00:05<00:27, 68.80it/s, loss=0.046] \u001b[A\n",
      " 17%|█▋        | 387/2302 [00:05<00:27, 68.71it/s, loss=0.0463]\u001b[A\n",
      " 17%|█▋        | 387/2302 [00:05<00:27, 68.62it/s, loss=0.0461]\u001b[A\n",
      " 17%|█▋        | 387/2302 [00:05<00:27, 68.53it/s, loss=0.0461]\u001b[A\n",
      " 17%|█▋        | 387/2302 [00:05<00:27, 68.44it/s, loss=0.0459]\u001b[A\n",
      " 17%|█▋        | 387/2302 [00:05<00:28, 68.36it/s, loss=0.0457]\u001b[A\n",
      " 17%|█▋        | 387/2302 [00:05<00:28, 68.27it/s, loss=0.046] \u001b[A\n",
      " 17%|█▋        | 387/2302 [00:05<00:28, 68.18it/s, loss=0.0459]\u001b[A\n",
      " 17%|█▋        | 387/2302 [00:05<00:28, 68.09it/s, loss=0.0457]\u001b[A\n",
      " 17%|█▋        | 387/2302 [00:05<00:28, 68.00it/s, loss=0.0456]\u001b[A\n",
      " 17%|█▋        | 387/2302 [00:05<00:28, 67.92it/s, loss=0.0455]\u001b[A\n",
      " 17%|█▋        | 387/2302 [00:05<00:28, 67.82it/s, loss=0.0454]\u001b[A\n",
      " 17%|█▋        | 401/2302 [00:05<00:27, 70.26it/s, loss=0.0454]\u001b[A\n",
      " 17%|█▋        | 401/2302 [00:05<00:27, 70.17it/s, loss=0.0452]\u001b[A\n",
      " 17%|█▋        | 401/2302 [00:05<00:27, 70.09it/s, loss=0.0452]\u001b[A\n",
      " 17%|█▋        | 401/2302 [00:05<00:27, 70.00it/s, loss=0.045] \u001b[A\n",
      " 17%|█▋        | 401/2302 [00:05<00:27, 69.91it/s, loss=0.0451]\u001b[A\n",
      " 17%|█▋        | 401/2302 [00:05<00:27, 69.82it/s, loss=0.0448]\u001b[A\n",
      " 17%|█▋        | 401/2302 [00:05<00:27, 69.74it/s, loss=0.0448]\u001b[A\n",
      " 17%|█▋        | 401/2302 [00:05<00:27, 69.65it/s, loss=0.0447]\u001b[A\n",
      " 17%|█▋        | 401/2302 [00:05<00:27, 69.57it/s, loss=0.0444]\u001b[A\n",
      " 17%|█▋        | 401/2302 [00:05<00:27, 69.48it/s, loss=0.0445]\u001b[A\n",
      " 17%|█▋        | 401/2302 [00:05<00:27, 69.39it/s, loss=0.0444]\u001b[A\n",
      " 17%|█▋        | 401/2302 [00:05<00:27, 69.31it/s, loss=0.0448]\u001b[A\n",
      " 17%|█▋        | 401/2302 [00:05<00:27, 69.22it/s, loss=0.045] \u001b[A\n",
      " 17%|█▋        | 401/2302 [00:05<00:27, 69.13it/s, loss=0.0451]\u001b[A\n",
      " 17%|█▋        | 401/2302 [00:05<00:27, 69.04it/s, loss=0.045] \u001b[A\n",
      " 18%|█▊        | 415/2302 [00:05<00:26, 71.44it/s, loss=0.045]\u001b[A\n",
      " 18%|█▊        | 415/2302 [00:05<00:26, 71.35it/s, loss=0.0449]\u001b[A\n",
      " 18%|█▊        | 415/2302 [00:05<00:26, 71.26it/s, loss=0.0449]\u001b[A\n",
      " 18%|█▊        | 415/2302 [00:05<00:26, 71.17it/s, loss=0.0448]\u001b[A\n",
      " 18%|█▊        | 415/2302 [00:05<00:26, 71.08it/s, loss=0.0447]\u001b[A\n",
      " 18%|█▊        | 415/2302 [00:05<00:26, 70.99it/s, loss=0.0446]\u001b[A\n",
      " 18%|█▊        | 415/2302 [00:05<00:26, 70.90it/s, loss=0.0444]\u001b[A\n",
      " 18%|█▊        | 415/2302 [00:05<00:26, 70.81it/s, loss=0.0443]\u001b[A\n",
      " 18%|█▊        | 415/2302 [00:05<00:26, 70.73it/s, loss=0.0445]\u001b[A\n",
      " 18%|█▊        | 415/2302 [00:05<00:26, 70.64it/s, loss=0.0445]\u001b[A\n",
      " 18%|█▊        | 415/2302 [00:05<00:26, 70.55it/s, loss=0.0443]\u001b[A\n",
      " 18%|█▊        | 415/2302 [00:05<00:26, 70.46it/s, loss=0.0439]\u001b[A\n",
      " 18%|█▊        | 415/2302 [00:05<00:26, 70.38it/s, loss=0.044] \u001b[A\n",
      " 18%|█▊        | 415/2302 [00:05<00:26, 70.29it/s, loss=0.0437]\u001b[A\n",
      " 18%|█▊        | 415/2302 [00:05<00:26, 70.19it/s, loss=0.0437]\u001b[A\n",
      " 19%|█▊        | 429/2302 [00:05<00:25, 72.55it/s, loss=0.0437]\u001b[A\n",
      " 19%|█▊        | 429/2302 [00:05<00:25, 72.46it/s, loss=0.0437]\u001b[A\n",
      " 19%|█▊        | 429/2302 [00:05<00:25, 72.37it/s, loss=0.0439]\u001b[A\n",
      " 19%|█▊        | 429/2302 [00:05<00:25, 72.28it/s, loss=0.0437]\u001b[A\n",
      " 19%|█▊        | 429/2302 [00:05<00:25, 72.20it/s, loss=0.0439]\u001b[A\n",
      " 19%|█▊        | 429/2302 [00:05<00:25, 72.11it/s, loss=0.044] \u001b[A\n",
      " 19%|█▊        | 429/2302 [00:05<00:26, 72.02it/s, loss=0.0444]\u001b[A\n",
      " 19%|█▊        | 429/2302 [00:05<00:26, 71.94it/s, loss=0.0441]\u001b[A\n",
      " 19%|█▊        | 429/2302 [00:05<00:26, 71.85it/s, loss=0.044] \u001b[A\n",
      " 19%|█▊        | 429/2302 [00:05<00:26, 71.77it/s, loss=0.0441]\u001b[A\n",
      " 19%|█▊        | 429/2302 [00:05<00:26, 71.68it/s, loss=0.0445]\u001b[A\n"
     ]
    },
    {
     "name": "stdout",
     "output_type": "stream",
     "text": [
      " 19%|█▊        | 429/2302 [00:05<00:26, 71.60it/s, loss=0.0447]\u001b[A\n",
      " 19%|█▊        | 429/2302 [00:05<00:26, 71.51it/s, loss=0.0448]\u001b[A\n",
      " 19%|█▊        | 429/2302 [00:06<00:26, 71.42it/s, loss=0.0446]\u001b[A\n",
      " 19%|█▊        | 429/2302 [00:06<00:26, 71.33it/s, loss=0.0446]\u001b[A\n",
      " 19%|█▉        | 443/2302 [00:06<00:25, 73.65it/s, loss=0.0446]\u001b[A\n",
      " 19%|█▉        | 443/2302 [00:06<00:25, 73.56it/s, loss=0.0446]\u001b[A\n",
      " 19%|█▉        | 443/2302 [00:06<00:25, 73.47it/s, loss=0.0444]\u001b[A\n",
      " 19%|█▉        | 443/2302 [00:06<00:25, 73.38it/s, loss=0.0446]\u001b[A\n",
      " 19%|█▉        | 443/2302 [00:06<00:25, 73.29it/s, loss=0.0446]\u001b[A\n",
      " 19%|█▉        | 443/2302 [00:06<00:25, 73.20it/s, loss=0.0448]\u001b[A\n",
      " 19%|█▉        | 443/2302 [00:06<00:25, 73.11it/s, loss=0.045] \u001b[A\n",
      " 19%|█▉        | 443/2302 [00:06<00:25, 73.03it/s, loss=0.0447]\u001b[A\n",
      " 19%|█▉        | 443/2302 [00:06<00:25, 72.94it/s, loss=0.0445]\u001b[A\n",
      " 19%|█▉        | 443/2302 [00:06<00:25, 72.85it/s, loss=0.0442]\u001b[A\n",
      " 19%|█▉        | 443/2302 [00:06<00:25, 72.76it/s, loss=0.0444]\u001b[A\n",
      " 19%|█▉        | 443/2302 [00:06<00:25, 72.68it/s, loss=0.0445]\u001b[A\n",
      " 19%|█▉        | 443/2302 [00:06<00:25, 72.59it/s, loss=0.0446]\u001b[A\n",
      " 19%|█▉        | 443/2302 [00:06<00:25, 72.50it/s, loss=0.0444]\u001b[A\n",
      " 19%|█▉        | 443/2302 [00:06<00:25, 72.41it/s, loss=0.0442]\u001b[A\n",
      " 20%|█▉        | 457/2302 [00:06<00:24, 74.68it/s, loss=0.0442]\u001b[A\n",
      " 20%|█▉        | 457/2302 [00:06<00:24, 74.59it/s, loss=0.0443]\u001b[A\n",
      " 20%|█▉        | 457/2302 [00:06<00:24, 74.51it/s, loss=0.0441]\u001b[A\n",
      " 20%|█▉        | 457/2302 [00:06<00:24, 74.42it/s, loss=0.0442]\u001b[A\n",
      " 20%|█▉        | 457/2302 [00:06<00:24, 74.33it/s, loss=0.044] \u001b[A\n",
      " 20%|█▉        | 457/2302 [00:06<00:24, 74.24it/s, loss=0.0439]\u001b[A\n",
      " 20%|█▉        | 457/2302 [00:06<00:24, 74.16it/s, loss=0.0438]\u001b[A\n",
      " 20%|█▉        | 457/2302 [00:06<00:24, 74.07it/s, loss=0.0441]\u001b[A\n",
      " 20%|█▉        | 457/2302 [00:06<00:24, 73.99it/s, loss=0.0442]\u001b[A\n",
      " 20%|█▉        | 457/2302 [00:06<00:24, 73.90it/s, loss=0.0442]\u001b[A\n",
      " 20%|█▉        | 457/2302 [00:06<00:24, 73.82it/s, loss=0.044] \u001b[A\n",
      " 20%|█▉        | 457/2302 [00:06<00:25, 73.73it/s, loss=0.044]\u001b[A\n",
      " 20%|█▉        | 457/2302 [00:06<00:25, 73.65it/s, loss=0.0439]\u001b[A\n",
      " 20%|█▉        | 457/2302 [00:06<00:25, 73.56it/s, loss=0.0439]\u001b[A\n",
      " 20%|█▉        | 457/2302 [00:06<00:25, 73.47it/s, loss=0.0438]\u001b[A\n",
      " 20%|██        | 471/2302 [00:06<00:24, 75.71it/s, loss=0.0438]\u001b[A\n",
      " 20%|██        | 471/2302 [00:06<00:24, 75.62it/s, loss=0.0437]\u001b[A\n",
      " 20%|██        | 471/2302 [00:06<00:24, 75.53it/s, loss=0.0434]\u001b[A\n",
      " 20%|██        | 471/2302 [00:06<00:24, 75.44it/s, loss=0.044] \u001b[A\n",
      " 20%|██        | 471/2302 [00:06<00:24, 75.35it/s, loss=0.0438]\u001b[A\n",
      " 20%|██        | 471/2302 [00:06<00:24, 75.27it/s, loss=0.0436]\u001b[A\n",
      " 20%|██        | 471/2302 [00:06<00:24, 75.18it/s, loss=0.044] \u001b[A\n",
      " 20%|██        | 471/2302 [00:06<00:24, 75.09it/s, loss=0.0436]\u001b[A\n",
      " 20%|██        | 471/2302 [00:06<00:24, 75.00it/s, loss=0.0434]\u001b[A\n",
      " 20%|██        | 471/2302 [00:06<00:24, 74.91it/s, loss=0.0431]\u001b[A\n",
      " 20%|██        | 471/2302 [00:06<00:24, 74.83it/s, loss=0.0431]\u001b[A\n",
      " 20%|██        | 471/2302 [00:06<00:24, 74.74it/s, loss=0.0428]\u001b[A\n",
      " 20%|██        | 471/2302 [00:06<00:24, 74.66it/s, loss=0.043] \u001b[A\n",
      " 20%|██        | 471/2302 [00:06<00:24, 74.57it/s, loss=0.0429]\u001b[A\n",
      " 20%|██        | 471/2302 [00:06<00:24, 74.48it/s, loss=0.0431]\u001b[A\n",
      " 21%|██        | 485/2302 [00:06<00:23, 76.68it/s, loss=0.0431]\u001b[A\n",
      " 21%|██        | 485/2302 [00:06<00:23, 76.59it/s, loss=0.0429]\u001b[A\n",
      " 21%|██        | 485/2302 [00:06<00:23, 76.50it/s, loss=0.0427]\u001b[A\n",
      " 21%|██        | 485/2302 [00:06<00:23, 76.41it/s, loss=0.0428]\u001b[A\n",
      " 21%|██        | 485/2302 [00:06<00:23, 76.33it/s, loss=0.0428]\u001b[A\n",
      " 21%|██        | 485/2302 [00:06<00:23, 76.24it/s, loss=0.0426]\u001b[A\n",
      " 21%|██        | 485/2302 [00:06<00:23, 76.15it/s, loss=0.0421]\u001b[A\n",
      " 21%|██        | 485/2302 [00:06<00:23, 76.07it/s, loss=0.042] \u001b[A\n",
      " 21%|██        | 485/2302 [00:06<00:23, 75.98it/s, loss=0.0419]\u001b[A\n",
      " 21%|██        | 485/2302 [00:06<00:23, 75.90it/s, loss=0.0418]\u001b[A\n",
      " 21%|██        | 485/2302 [00:06<00:23, 75.81it/s, loss=0.0417]\u001b[A\n",
      " 21%|██        | 485/2302 [00:06<00:23, 75.73it/s, loss=0.0418]\u001b[A\n",
      " 21%|██        | 485/2302 [00:06<00:24, 75.65it/s, loss=0.0417]\u001b[A\n",
      " 21%|██        | 485/2302 [00:06<00:24, 75.56it/s, loss=0.0415]\u001b[A\n",
      " 21%|██        | 485/2302 [00:06<00:24, 75.47it/s, loss=0.0414]\u001b[A\n",
      " 22%|██▏       | 499/2302 [00:06<00:23, 77.64it/s, loss=0.0414]\u001b[A\n",
      " 22%|██▏       | 499/2302 [00:06<00:23, 77.55it/s, loss=0.0415]\u001b[A\n",
      " 22%|██▏       | 499/2302 [00:06<00:23, 77.46it/s, loss=0.0415]\u001b[A\n",
      " 22%|██▏       | 499/2302 [00:06<00:23, 77.37it/s, loss=0.0415]\u001b[A\n",
      " 22%|██▏       | 499/2302 [00:06<00:23, 77.28it/s, loss=0.0415]\u001b[A\n",
      " 22%|██▏       | 499/2302 [00:06<00:23, 77.20it/s, loss=0.0416]\u001b[A\n",
      " 22%|██▏       | 499/2302 [00:06<00:23, 77.11it/s, loss=0.0412]\u001b[A\n",
      " 22%|██▏       | 499/2302 [00:06<00:23, 77.03it/s, loss=0.0411]\u001b[A\n",
      " 22%|██▏       | 499/2302 [00:06<00:23, 76.94it/s, loss=0.0411]\u001b[A\n",
      " 22%|██▏       | 499/2302 [00:06<00:23, 76.85it/s, loss=0.041] \u001b[A\n",
      " 22%|██▏       | 499/2302 [00:06<00:23, 76.76it/s, loss=0.041]\u001b[A\n",
      " 22%|██▏       | 499/2302 [00:06<00:23, 76.68it/s, loss=0.041]\u001b[A\n",
      " 22%|██▏       | 499/2302 [00:06<00:23, 76.59it/s, loss=0.041]\u001b[A\n",
      " 22%|██▏       | 499/2302 [00:06<00:23, 76.51it/s, loss=0.0407]\u001b[A\n",
      " 22%|██▏       | 499/2302 [00:06<00:23, 76.42it/s, loss=0.0407]\u001b[A\n",
      " 22%|██▏       | 513/2302 [00:06<00:22, 78.55it/s, loss=0.0407]\u001b[A\n",
      " 22%|██▏       | 513/2302 [00:06<00:22, 78.46it/s, loss=0.0407]\u001b[A\n",
      " 22%|██▏       | 513/2302 [00:06<00:22, 78.38it/s, loss=0.0404]\u001b[A\n",
      " 22%|██▏       | 513/2302 [00:06<00:22, 78.29it/s, loss=0.04]  \u001b[A\n",
      " 22%|██▏       | 513/2302 [00:06<00:22, 78.20it/s, loss=0.0404]\u001b[A\n",
      " 22%|██▏       | 513/2302 [00:06<00:22, 78.11it/s, loss=0.0402]\u001b[A\n",
      " 22%|██▏       | 513/2302 [00:06<00:22, 78.03it/s, loss=0.04]  \u001b[A\n",
      " 22%|██▏       | 513/2302 [00:06<00:22, 77.94it/s, loss=0.04]\u001b[A\n",
      " 22%|██▏       | 513/2302 [00:06<00:22, 77.86it/s, loss=0.0397]\u001b[A\n",
      " 22%|██▏       | 513/2302 [00:06<00:23, 77.77it/s, loss=0.04]  \u001b[A\n",
      " 22%|██▏       | 513/2302 [00:06<00:23, 77.69it/s, loss=0.0396]\u001b[A\n",
      " 22%|██▏       | 513/2302 [00:06<00:23, 77.60it/s, loss=0.0399]\u001b[A\n",
      " 22%|██▏       | 513/2302 [00:06<00:23, 77.52it/s, loss=0.0399]\u001b[A\n",
      " 22%|██▏       | 513/2302 [00:06<00:23, 77.44it/s, loss=0.0398]\u001b[A\n",
      " 22%|██▏       | 513/2302 [00:06<00:23, 77.35it/s, loss=0.0396]\u001b[A\n",
      " 23%|██▎       | 527/2302 [00:06<00:22, 79.44it/s, loss=0.0396]\u001b[A\n",
      " 23%|██▎       | 527/2302 [00:06<00:22, 79.36it/s, loss=0.0399]\u001b[A\n",
      " 23%|██▎       | 527/2302 [00:06<00:22, 79.27it/s, loss=0.0397]\u001b[A\n",
      " 23%|██▎       | 527/2302 [00:06<00:22, 79.18it/s, loss=0.0397]\u001b[A\n",
      " 23%|██▎       | 527/2302 [00:06<00:22, 79.10it/s, loss=0.0397]\u001b[A\n",
      " 23%|██▎       | 527/2302 [00:06<00:22, 79.01it/s, loss=0.0398]\u001b[A\n",
      " 23%|██▎       | 527/2302 [00:06<00:22, 78.92it/s, loss=0.0396]\u001b[A\n",
      " 23%|██▎       | 527/2302 [00:06<00:22, 78.84it/s, loss=0.0398]\u001b[A\n",
      " 23%|██▎       | 527/2302 [00:06<00:22, 78.75it/s, loss=0.0399]\u001b[A\n",
      " 23%|██▎       | 527/2302 [00:06<00:22, 78.67it/s, loss=0.0399]\u001b[A\n",
      " 23%|██▎       | 527/2302 [00:06<00:22, 78.58it/s, loss=0.0399]\u001b[A\n",
      " 23%|██▎       | 527/2302 [00:06<00:22, 78.49it/s, loss=0.0404]\u001b[A\n",
      " 23%|██▎       | 527/2302 [00:06<00:22, 78.41it/s, loss=0.0402]\u001b[A\n",
      " 23%|██▎       | 527/2302 [00:06<00:22, 78.33it/s, loss=0.0397]\u001b[A\n",
      " 23%|██▎       | 527/2302 [00:06<00:22, 78.24it/s, loss=0.0397]\u001b[A\n",
      " 24%|██▎       | 541/2302 [00:06<00:21, 80.30it/s, loss=0.0397]\u001b[A\n",
      " 24%|██▎       | 541/2302 [00:06<00:21, 80.21it/s, loss=0.0396]\u001b[A\n",
      " 24%|██▎       | 541/2302 [00:06<00:21, 80.13it/s, loss=0.0397]\u001b[A\n",
      " 24%|██▎       | 541/2302 [00:06<00:22, 80.04it/s, loss=0.04]  \u001b[A\n",
      " 24%|██▎       | 541/2302 [00:06<00:22, 79.96it/s, loss=0.0398]\u001b[A\n",
      " 24%|██▎       | 541/2302 [00:06<00:22, 79.87it/s, loss=0.0396]\u001b[A\n",
      " 24%|██▎       | 541/2302 [00:06<00:22, 79.78it/s, loss=0.0394]\u001b[A\n",
      " 24%|██▎       | 541/2302 [00:06<00:22, 79.70it/s, loss=0.0402]\u001b[A\n",
      " 24%|██▎       | 541/2302 [00:06<00:22, 79.61it/s, loss=0.04]  \u001b[A\n",
      " 24%|██▎       | 541/2302 [00:06<00:22, 79.53it/s, loss=0.0402]\u001b[A\n",
      " 24%|██▎       | 541/2302 [00:06<00:22, 79.44it/s, loss=0.0403]\u001b[A\n",
      " 24%|██▎       | 541/2302 [00:06<00:22, 79.36it/s, loss=0.0405]\u001b[A\n",
      " 24%|██▎       | 541/2302 [00:06<00:22, 79.28it/s, loss=0.0406]\u001b[A\n"
     ]
    },
    {
     "name": "stdout",
     "output_type": "stream",
     "text": [
      " 24%|██▎       | 541/2302 [00:06<00:22, 79.20it/s, loss=0.0408]\u001b[A\n",
      " 24%|██▎       | 541/2302 [00:06<00:22, 79.11it/s, loss=0.0408]\u001b[A\n",
      " 24%|██▍       | 555/2302 [00:06<00:21, 81.14it/s, loss=0.0408]\u001b[A\n",
      " 24%|██▍       | 555/2302 [00:06<00:21, 81.05it/s, loss=0.0408]\u001b[A\n",
      " 24%|██▍       | 555/2302 [00:06<00:21, 80.97it/s, loss=0.0409]\u001b[A\n",
      " 24%|██▍       | 555/2302 [00:06<00:21, 80.89it/s, loss=0.041] \u001b[A\n",
      " 24%|██▍       | 555/2302 [00:06<00:21, 80.80it/s, loss=0.0409]\u001b[A\n",
      " 24%|██▍       | 555/2302 [00:06<00:21, 80.71it/s, loss=0.0409]\u001b[A\n",
      " 24%|██▍       | 555/2302 [00:06<00:21, 80.63it/s, loss=0.0409]\u001b[A\n",
      " 24%|██▍       | 555/2302 [00:06<00:21, 80.54it/s, loss=0.0408]\u001b[A\n",
      " 24%|██▍       | 555/2302 [00:06<00:21, 80.46it/s, loss=0.0413]\u001b[A\n",
      " 24%|██▍       | 555/2302 [00:06<00:21, 80.37it/s, loss=0.0409]\u001b[A\n",
      " 24%|██▍       | 555/2302 [00:06<00:21, 80.29it/s, loss=0.041] \u001b[A\n",
      " 24%|██▍       | 555/2302 [00:06<00:21, 80.20it/s, loss=0.041]\u001b[A\n",
      " 24%|██▍       | 555/2302 [00:06<00:21, 80.12it/s, loss=0.0406]\u001b[A\n",
      " 24%|██▍       | 555/2302 [00:06<00:21, 80.03it/s, loss=0.0406]\u001b[A\n",
      " 24%|██▍       | 555/2302 [00:06<00:21, 79.94it/s, loss=0.0409]\u001b[A\n",
      " 25%|██▍       | 569/2302 [00:06<00:21, 81.95it/s, loss=0.0409]\u001b[A\n",
      " 25%|██▍       | 569/2302 [00:06<00:21, 81.86it/s, loss=0.0408]\u001b[A\n",
      " 25%|██▍       | 569/2302 [00:06<00:21, 81.77it/s, loss=0.0406]\u001b[A\n",
      " 25%|██▍       | 569/2302 [00:06<00:21, 81.69it/s, loss=0.0405]\u001b[A\n",
      " 25%|██▍       | 569/2302 [00:06<00:21, 81.61it/s, loss=0.0409]\u001b[A\n",
      " 25%|██▍       | 569/2302 [00:06<00:21, 81.52it/s, loss=0.0408]\u001b[A\n",
      " 25%|██▍       | 569/2302 [00:06<00:21, 81.44it/s, loss=0.0408]\u001b[A\n",
      " 25%|██▍       | 569/2302 [00:06<00:21, 81.35it/s, loss=0.0406]\u001b[A\n",
      " 25%|██▍       | 569/2302 [00:07<00:21, 81.27it/s, loss=0.0405]\u001b[A\n",
      " 25%|██▍       | 569/2302 [00:07<00:21, 81.18it/s, loss=0.0409]\u001b[A\n",
      " 25%|██▍       | 569/2302 [00:07<00:21, 81.10it/s, loss=0.041] \u001b[A\n",
      " 25%|██▍       | 569/2302 [00:07<00:21, 81.02it/s, loss=0.0411]\u001b[A\n",
      " 25%|██▍       | 569/2302 [00:07<00:21, 80.93it/s, loss=0.0409]\u001b[A\n",
      " 25%|██▍       | 569/2302 [00:07<00:21, 80.85it/s, loss=0.0406]\u001b[A\n",
      " 25%|██▍       | 569/2302 [00:07<00:21, 80.77it/s, loss=0.0402]\u001b[A\n",
      " 25%|██▌       | 583/2302 [00:07<00:20, 82.74it/s, loss=0.0402]\u001b[A\n",
      " 25%|██▌       | 583/2302 [00:07<00:20, 82.65it/s, loss=0.0401]\u001b[A\n",
      " 25%|██▌       | 583/2302 [00:07<00:20, 82.57it/s, loss=0.0407]\u001b[A\n",
      " 25%|██▌       | 583/2302 [00:07<00:20, 82.48it/s, loss=0.0404]\u001b[A\n",
      " 25%|██▌       | 583/2302 [00:07<00:20, 82.40it/s, loss=0.0403]\u001b[A\n",
      " 25%|██▌       | 583/2302 [00:07<00:20, 82.32it/s, loss=0.0403]\u001b[A\n",
      " 25%|██▌       | 583/2302 [00:07<00:20, 82.23it/s, loss=0.0404]\u001b[A\n",
      " 25%|██▌       | 583/2302 [00:07<00:20, 82.15it/s, loss=0.0402]\u001b[A\n",
      " 25%|██▌       | 583/2302 [00:07<00:20, 82.06it/s, loss=0.0402]\u001b[A\n",
      " 25%|██▌       | 583/2302 [00:07<00:20, 81.98it/s, loss=0.0403]\u001b[A\n",
      " 25%|██▌       | 583/2302 [00:07<00:20, 81.90it/s, loss=0.0402]\u001b[A\n",
      " 25%|██▌       | 583/2302 [00:07<00:21, 81.81it/s, loss=0.0402]\u001b[A\n",
      " 25%|██▌       | 583/2302 [00:07<00:21, 81.73it/s, loss=0.04]  \u001b[A\n",
      " 25%|██▌       | 583/2302 [00:07<00:21, 81.64it/s, loss=0.0401]\u001b[A\n",
      " 25%|██▌       | 583/2302 [00:07<00:21, 81.56it/s, loss=0.04]  \u001b[A\n",
      " 26%|██▌       | 597/2302 [00:07<00:20, 83.50it/s, loss=0.04]\u001b[A\n",
      " 26%|██▌       | 597/2302 [00:07<00:20, 83.42it/s, loss=0.0404]\u001b[A\n",
      " 26%|██▌       | 597/2302 [00:07<00:20, 83.33it/s, loss=0.0406]\u001b[A\n",
      " 26%|██▌       | 597/2302 [00:07<00:20, 83.25it/s, loss=0.0407]\u001b[A\n",
      " 26%|██▌       | 597/2302 [00:07<00:20, 83.16it/s, loss=0.0403]\u001b[A\n",
      " 26%|██▌       | 597/2302 [00:07<00:20, 83.08it/s, loss=0.0405]\u001b[A\n",
      " 26%|██▌       | 597/2302 [00:07<00:20, 83.00it/s, loss=0.0405]\u001b[A\n",
      " 26%|██▌       | 597/2302 [00:07<00:20, 82.91it/s, loss=0.0404]\u001b[A\n",
      " 26%|██▌       | 597/2302 [00:07<00:20, 82.83it/s, loss=0.0403]\u001b[A\n",
      " 26%|██▌       | 597/2302 [00:07<00:20, 82.74it/s, loss=0.0402]\u001b[A\n",
      "\n",
      " 26%|██▌       | 597/2302 [00:07<00:20, 82.64it/s, loss=0.0401]\u001b[A\n",
      " 27%|██▋       | 626/2302 [00:07<00:19, 84.43it/s, loss=0.0397] [A"
     ]
    },
    {
     "name": "stderr",
     "output_type": "stream",
     "text": [
      "Exception in thread Thread-4:\n",
      "Traceback (most recent call last):\n",
      "  File \"/home/jd/anaconda3/envs/fastai/lib/python3.6/threading.py\", line 916, in _bootstrap_inner\n",
      "    self.run()\n",
      "  File \"/home/jd/anaconda3/envs/fastai/lib/python3.6/site-packages/tqdm/_tqdm.py\", line 144, in run\n",
      "    for instance in self.tqdm_cls._instances:\n",
      "  File \"/home/jd/anaconda3/envs/fastai/lib/python3.6/_weakrefset.py\", line 60, in __iter__\n",
      "    for itemref in self.data:\n",
      "RuntimeError: Set changed size during iteration\n",
      "\n",
      "Exception in thread Thread-5:\n",
      "Traceback (most recent call last):\n",
      "  File \"/home/jd/anaconda3/envs/fastai/lib/python3.6/threading.py\", line 916, in _bootstrap_inner\n",
      "    self.run()\n",
      "  File \"/home/jd/anaconda3/envs/fastai/lib/python3.6/site-packages/tqdm/_tqdm.py\", line 144, in run\n",
      "    for instance in self.tqdm_cls._instances:\n",
      "  File \"/home/jd/anaconda3/envs/fastai/lib/python3.6/_weakrefset.py\", line 60, in __iter__\n",
      "    for itemref in self.data:\n",
      "RuntimeError: Set changed size during iteration\n",
      "\n"
     ]
    },
    {
     "name": "stdout",
     "output_type": "stream",
     "text": [
      "[ 0.       0.03498  0.03578  0.96276  0.12419]                   \n",
      "[ 1.       0.03573  0.03567  0.96276  0.20386]                   \n",
      "[ 2.       0.03495  0.03564  0.96276  0.21634]                   \n",
      "[ 3.       0.03363  0.03557  0.96276  0.24737]                   \n",
      "[ 4.       0.03699  0.03561  0.96276  0.24592]                   \n",
      "[ 5.       0.03638  0.0356   0.96276  0.2802 ]                   \n",
      "[ 6.       0.03441  0.03557  0.96276  0.25009]                   \n",
      "[ 7.       0.03427  0.03563  0.96276  0.26228]                   \n",
      "[ 8.       0.03374  0.03563  0.96276  0.2375 ]                   \n",
      "[ 9.       0.03549  0.03572  0.96276  0.2517 ]                   \n",
      "[ 10.        0.03442   0.03566   0.96276   0.22788]              \n",
      "[ 11.        0.03567   0.03581   0.96276   0.20007]              \n",
      "\n"
     ]
    }
   ],
   "source": [
    "m.fit(lrs=lr, n_cycle=12, metrics=[accuracy, gini_metric])"
   ]
  },
  {
   "cell_type": "code",
   "execution_count": 40,
   "metadata": {
    "ExecuteTime": {
     "end_time": "2017-11-28T21:34:10.895138Z",
     "start_time": "2017-11-28T21:27:27.256831Z"
    }
   },
   "outputs": [
    {
     "data": {
      "application/vnd.jupyter.widget-view+json": {
       "model_id": "f24b86f085b04b20a908ba64d012bdfb",
       "version_major": 2,
       "version_minor": 0
      },
      "text/html": [
       "<p>Failed to display Jupyter Widget of type <code>HBox</code>.</p>\n",
       "<p>\n",
       "  If you're reading this message in the Jupyter Notebook or JupyterLab Notebook, it may mean\n",
       "  that the widgets JavaScript is still loading. If this message persists, it\n",
       "  likely means that the widgets JavaScript library is either not installed or\n",
       "  not enabled. See the <a href=\"https://ipywidgets.readthedocs.io/en/stable/user_install.html\">Jupyter\n",
       "  Widgets Documentation</a> for setup instructions.\n",
       "</p>\n",
       "<p>\n",
       "  If you're reading this message in another frontend (for example, a static\n",
       "  rendering on GitHub or <a href=\"https://nbviewer.jupyter.org/\">NBViewer</a>),\n",
       "  it may mean that your frontend doesn't currently support widgets.\n",
       "</p>\n"
      ],
      "text/plain": [
       "HBox(children=(IntProgress(value=0, description='Epoch', max=21), HTML(value='')))"
      ]
     },
     "metadata": {},
     "output_type": "display_data"
    },
    {
     "name": "stdout",
     "output_type": "stream",
     "text": [
      "[ 0.       0.03459  0.03583  0.96276  0.19747]                   \n",
      "[ 1.       0.03457  0.0359   0.96276  0.15537]                   \n",
      "[ 2.       0.03193  0.03591  0.96276  0.16622]                   \n",
      "[ 3.       0.03306  0.03593  0.96276  0.17236]                   \n",
      "[ 4.       0.03522  0.03596  0.96276  0.14833]                   \n",
      "[ 5.       0.03497  0.03605  0.96276  0.1605 ]                   \n",
      "[ 6.       0.03409  0.03608  0.96276  0.13386]                   \n",
      "[ 7.       0.03493  0.03612  0.96276  0.14104]                   \n",
      "[ 8.       0.03295  0.03613  0.96276  0.13849]                   \n",
      "[ 9.       0.03497  0.03628  0.96276  0.11114]                   \n",
      "[ 10.        0.03199   0.03631   0.96276   0.09936]              \n",
      "[ 11.        0.03532   0.03637   0.96276   0.11362]              \n",
      "[ 12.        0.0338    0.03648   0.96276   0.10494]              \n",
      "[ 13.        0.03321   0.03653   0.96276   0.11255]              \n",
      "[ 14.        0.03215   0.03651   0.96276   0.11658]              \n",
      "[ 15.        0.03244   0.03662   0.96276   0.11199]              \n",
      "[ 16.        0.03273   0.0367    0.96276   0.1164 ]              \n",
      "[ 17.        0.03265   0.0367    0.96276   0.10715]              \n",
      "[ 18.        0.03209   0.0367    0.96276   0.1059 ]              \n",
      "[ 19.        0.0311    0.0367    0.96276   0.10482]              \n",
      "[ 20.        0.03234   0.03671   0.96276   0.10606]              \n",
      "\n"
     ]
    }
   ],
   "source": [
    "m.fit(lrs=lr, n_cycle=3, cycle_len=3, metrics=[accuracy, gini_metric], cycle_mult=2)"
   ]
  },
  {
   "cell_type": "code",
   "execution_count": 41,
   "metadata": {
    "ExecuteTime": {
     "end_time": "2017-11-28T21:34:10.960024Z",
     "start_time": "2017-11-28T21:34:10.896235Z"
    }
   },
   "outputs": [
    {
     "data": {
      "text/plain": [
       "array([[ 0.03489],\n",
       "       [ 0.04164],\n",
       "       [ 0.02132],\n",
       "       [ 0.02735],\n",
       "       [ 0.03289],\n",
       "       [ 0.05748],\n",
       "       [ 0.02222],\n",
       "       [ 0.02562],\n",
       "       [ 0.01568],\n",
       "       [ 0.05991],\n",
       "       [ 0.00314],\n",
       "       [ 0.03625],\n",
       "       [ 0.01444],\n",
       "       [ 0.02386],\n",
       "       [ 0.0353 ],\n",
       "       [ 0.04716],\n",
       "       [ 0.03265],\n",
       "       [ 0.06221],\n",
       "       [ 0.02066],\n",
       "       [ 0.0389 ],\n",
       "       ..., \n",
       "       [ 0.02423],\n",
       "       [ 0.02121],\n",
       "       [ 0.01988],\n",
       "       [ 0.08373],\n",
       "       [ 0.01586],\n",
       "       [ 0.08188],\n",
       "       [ 0.03846],\n",
       "       [ 0.03031],\n",
       "       [ 0.01182],\n",
       "       [ 0.01978],\n",
       "       [ 0.00243],\n",
       "       [ 0.05963],\n",
       "       [ 0.10582],\n",
       "       [ 0.02574],\n",
       "       [ 0.02134],\n",
       "       [ 0.05541],\n",
       "       [ 0.02148],\n",
       "       [ 0.0282 ],\n",
       "       [ 0.01715],\n",
       "       [ 0.0283 ]], dtype=float32)"
      ]
     },
     "execution_count": 41,
     "metadata": {},
     "output_type": "execute_result"
    }
   ],
   "source": [
    "# Predictions for the validation set\n",
    "m.predict()"
   ]
  },
  {
   "cell_type": "code",
   "execution_count": 42,
   "metadata": {
    "ExecuteTime": {
     "end_time": "2017-11-28T21:34:10.974788Z",
     "start_time": "2017-11-28T21:34:10.961123Z"
    }
   },
   "outputs": [
    {
     "data": {
      "text/plain": [
       "MixedInputModel (\n",
       "  (embs): ModuleList (\n",
       "    (0): Embedding(6, 3)\n",
       "    (1): Embedding(4, 2)\n",
       "    (2): Embedding(9, 5)\n",
       "    (3): Embedding(14, 7)\n",
       "    (4): Embedding(4, 2)\n",
       "    (5): Embedding(4, 2)\n",
       "    (6): Embedding(11, 6)\n",
       "    (7): Embedding(4, 2)\n",
       "    (8): Embedding(19, 10)\n",
       "    (9): Embedding(4, 2)\n",
       "    (10): Embedding(3, 2)\n",
       "    (11): Embedding(7, 4)\n",
       "    (12): Embedding(4, 2)\n",
       "    (13): Embedding(105, 53)\n",
       "    (14): Embedding(3, 2)\n",
       "    (15): Embedding(3, 2)\n",
       "    (16): Embedding(3, 2)\n",
       "    (17): Embedding(3, 2)\n",
       "    (18): Embedding(3, 2)\n",
       "    (19): Embedding(3, 2)\n",
       "    (20): Embedding(3, 2)\n",
       "    (21): Embedding(3, 2)\n",
       "    (22): Embedding(3, 2)\n",
       "    (23): Embedding(3, 2)\n",
       "    (24): Embedding(3, 2)\n",
       "    (25): Embedding(3, 2)\n",
       "    (26): Embedding(3, 2)\n",
       "    (27): Embedding(3, 2)\n",
       "    (28): Embedding(3, 2)\n",
       "    (29): Embedding(3, 2)\n",
       "    (30): Embedding(3, 2)\n",
       "  )\n",
       "  (lins): ModuleList (\n",
       "    (0): Linear (163 -> 1024)\n",
       "    (1): Linear (1024 -> 512)\n",
       "  )\n",
       "  (bns): ModuleList (\n",
       "    (0): BatchNorm1d(1024, eps=1e-05, momentum=0.1, affine=True)\n",
       "    (1): BatchNorm1d(512, eps=1e-05, momentum=0.1, affine=True)\n",
       "  )\n",
       "  (outp): Linear (512 -> 1)\n",
       "  (emb_drop): Dropout (p = 0.01)\n",
       "  (drops): ModuleList (\n",
       "    (0): Dropout (p = 0.15)\n",
       "    (1): Dropout (p = 0.15)\n",
       "  )\n",
       "  (bn): BatchNorm1d(27, eps=1e-05, momentum=0.1, affine=True)\n",
       ")"
      ]
     },
     "execution_count": 42,
     "metadata": {},
     "output_type": "execute_result"
    }
   ],
   "source": [
    "m"
   ]
  },
  {
   "cell_type": "markdown",
   "metadata": {},
   "source": [
    "## Prediction"
   ]
  },
  {
   "cell_type": "code",
   "execution_count": 43,
   "metadata": {
    "ExecuteTime": {
     "end_time": "2017-11-28T21:34:10.992855Z",
     "start_time": "2017-11-28T21:34:10.975769Z"
    }
   },
   "outputs": [],
   "source": [
    "m.save('val0')"
   ]
  },
  {
   "cell_type": "code",
   "execution_count": 44,
   "metadata": {
    "ExecuteTime": {
     "end_time": "2017-11-28T21:34:11.009485Z",
     "start_time": "2017-11-28T21:34:10.994039Z"
    }
   },
   "outputs": [],
   "source": [
    "m.load('val0')"
   ]
  },
  {
   "cell_type": "code",
   "execution_count": 45,
   "metadata": {
    "ExecuteTime": {
     "end_time": "2017-11-28T21:34:11.068614Z",
     "start_time": "2017-11-28T21:34:11.010640Z"
    }
   },
   "outputs": [],
   "source": [
    "x,y=m.predict_with_targs()"
   ]
  },
  {
   "cell_type": "code",
   "execution_count": 46,
   "metadata": {
    "ExecuteTime": {
     "end_time": "2017-11-28T21:34:11.083586Z",
     "start_time": "2017-11-28T21:34:11.069823Z"
    }
   },
   "outputs": [],
   "source": [
    "# Why? No idea, stole from Rossman\n",
    "def inv_y(a): return np.exp(a)\n",
    "\n",
    "def exp_rmspe(y_pred, targ):\n",
    "    targ = inv_y(targ)\n",
    "    pct_var = (targ - inv_y(y_pred))/targ\n",
    "    return math.sqrt((pct_var**2).mean())"
   ]
  },
  {
   "cell_type": "code",
   "execution_count": 47,
   "metadata": {
    "ExecuteTime": {
     "end_time": "2017-11-28T21:34:11.097462Z",
     "start_time": "2017-11-28T21:34:11.084574Z"
    }
   },
   "outputs": [
    {
     "data": {
      "text/plain": [
       "0.1303443023927846"
      ]
     },
     "execution_count": 47,
     "metadata": {},
     "output_type": "execute_result"
    }
   ],
   "source": [
    "exp_rmspe(x,y)"
   ]
  },
  {
   "cell_type": "code",
   "execution_count": 48,
   "metadata": {
    "ExecuteTime": {
     "end_time": "2017-11-28T21:34:19.953272Z",
     "start_time": "2017-11-28T21:34:11.098407Z"
    }
   },
   "outputs": [],
   "source": [
    "pred_test=m.predict(True)"
   ]
  },
  {
   "cell_type": "code",
   "execution_count": 49,
   "metadata": {
    "ExecuteTime": {
     "end_time": "2017-11-28T21:34:19.967174Z",
     "start_time": "2017-11-28T21:34:19.954403Z"
    }
   },
   "outputs": [],
   "source": [
    "test_df['pred_target']=pred_test"
   ]
  },
  {
   "cell_type": "code",
   "execution_count": 50,
   "metadata": {
    "ExecuteTime": {
     "end_time": "2017-11-28T21:34:19.981967Z",
     "start_time": "2017-11-28T21:34:19.968269Z"
    }
   },
   "outputs": [
    {
     "data": {
      "text/plain": [
       "0    0.035959\n",
       "1    0.034598\n",
       "2    0.025253\n",
       "3    0.022972\n",
       "4    0.020747\n",
       "Name: pred_target, dtype: float32"
      ]
     },
     "execution_count": 50,
     "metadata": {},
     "output_type": "execute_result"
    }
   ],
   "source": [
    "test_df['pred_target'][:5]"
   ]
  },
  {
   "cell_type": "markdown",
   "metadata": {},
   "source": [
    "## Analyze"
   ]
  },
  {
   "cell_type": "code",
   "execution_count": 58,
   "metadata": {
    "ExecuteTime": {
     "end_time": "2017-11-28T21:35:16.635631Z",
     "start_time": "2017-11-28T21:35:16.592970Z"
    }
   },
   "outputs": [
    {
     "data": {
      "text/plain": [
       "(1.2151047, -0.34298968)"
      ]
     },
     "execution_count": 58,
     "metadata": {},
     "output_type": "execute_result"
    }
   ],
   "source": [
    "test_df.pred_target.max(), test_df.pred_target.min()"
   ]
  },
  {
   "cell_type": "code",
   "execution_count": 59,
   "metadata": {
    "ExecuteTime": {
     "end_time": "2017-11-28T21:35:18.251896Z",
     "start_time": "2017-11-28T21:35:18.128108Z"
    }
   },
   "outputs": [
    {
     "data": {
      "text/html": [
       "<div>\n",
       "<style scoped>\n",
       "    .dataframe tbody tr th:only-of-type {\n",
       "        vertical-align: middle;\n",
       "    }\n",
       "\n",
       "    .dataframe tbody tr th {\n",
       "        vertical-align: top;\n",
       "    }\n",
       "\n",
       "    .dataframe thead th {\n",
       "        text-align: right;\n",
       "    }\n",
       "</style>\n",
       "<table border=\"1\" class=\"dataframe\">\n",
       "  <thead>\n",
       "    <tr style=\"text-align: right;\">\n",
       "      <th></th>\n",
       "      <th>id</th>\n",
       "      <th>ps_ind_01</th>\n",
       "      <th>ps_ind_02_cat</th>\n",
       "      <th>ps_ind_03</th>\n",
       "      <th>ps_ind_04_cat</th>\n",
       "      <th>ps_ind_05_cat</th>\n",
       "      <th>ps_ind_06_bin</th>\n",
       "      <th>ps_ind_07_bin</th>\n",
       "      <th>ps_ind_08_bin</th>\n",
       "      <th>ps_ind_09_bin</th>\n",
       "      <th>...</th>\n",
       "      <th>ps_calc_12</th>\n",
       "      <th>ps_calc_13</th>\n",
       "      <th>ps_calc_14</th>\n",
       "      <th>ps_calc_15_bin</th>\n",
       "      <th>ps_calc_16_bin</th>\n",
       "      <th>ps_calc_17_bin</th>\n",
       "      <th>ps_calc_18_bin</th>\n",
       "      <th>ps_calc_19_bin</th>\n",
       "      <th>ps_calc_20_bin</th>\n",
       "      <th>pred_target</th>\n",
       "    </tr>\n",
       "  </thead>\n",
       "  <tbody>\n",
       "    <tr>\n",
       "      <th>590211</th>\n",
       "      <td>0.559664</td>\n",
       "      <td>0.050218</td>\n",
       "      <td>1</td>\n",
       "      <td>-1.638327</td>\n",
       "      <td>1</td>\n",
       "      <td>1</td>\n",
       "      <td>1</td>\n",
       "      <td>1</td>\n",
       "      <td>1</td>\n",
       "      <td>2</td>\n",
       "      <td>...</td>\n",
       "      <td>-1.198640</td>\n",
       "      <td>0.075352</td>\n",
       "      <td>-0.560329</td>\n",
       "      <td>1</td>\n",
       "      <td>2</td>\n",
       "      <td>1</td>\n",
       "      <td>1</td>\n",
       "      <td>2</td>\n",
       "      <td>2</td>\n",
       "      <td>1.215105</td>\n",
       "    </tr>\n",
       "    <tr>\n",
       "      <th>94665</th>\n",
       "      <td>-1.365328</td>\n",
       "      <td>-0.957955</td>\n",
       "      <td>1</td>\n",
       "      <td>-1.638327</td>\n",
       "      <td>1</td>\n",
       "      <td>1</td>\n",
       "      <td>1</td>\n",
       "      <td>2</td>\n",
       "      <td>1</td>\n",
       "      <td>1</td>\n",
       "      <td>...</td>\n",
       "      <td>-0.367359</td>\n",
       "      <td>1.255373</td>\n",
       "      <td>-0.196249</td>\n",
       "      <td>2</td>\n",
       "      <td>2</td>\n",
       "      <td>2</td>\n",
       "      <td>1</td>\n",
       "      <td>2</td>\n",
       "      <td>1</td>\n",
       "      <td>0.936474</td>\n",
       "    </tr>\n",
       "    <tr>\n",
       "      <th>110917</th>\n",
       "      <td>-1.301809</td>\n",
       "      <td>-0.453868</td>\n",
       "      <td>1</td>\n",
       "      <td>-1.638327</td>\n",
       "      <td>1</td>\n",
       "      <td>1</td>\n",
       "      <td>1</td>\n",
       "      <td>1</td>\n",
       "      <td>2</td>\n",
       "      <td>1</td>\n",
       "      <td>...</td>\n",
       "      <td>0.463923</td>\n",
       "      <td>0.665362</td>\n",
       "      <td>-0.924409</td>\n",
       "      <td>1</td>\n",
       "      <td>2</td>\n",
       "      <td>1</td>\n",
       "      <td>1</td>\n",
       "      <td>1</td>\n",
       "      <td>1</td>\n",
       "      <td>0.875596</td>\n",
       "    </tr>\n",
       "    <tr>\n",
       "      <th>437814</th>\n",
       "      <td>-0.032302</td>\n",
       "      <td>0.050218</td>\n",
       "      <td>1</td>\n",
       "      <td>-1.638327</td>\n",
       "      <td>1</td>\n",
       "      <td>1</td>\n",
       "      <td>1</td>\n",
       "      <td>2</td>\n",
       "      <td>1</td>\n",
       "      <td>1</td>\n",
       "      <td>...</td>\n",
       "      <td>0.463923</td>\n",
       "      <td>0.665362</td>\n",
       "      <td>-0.560329</td>\n",
       "      <td>1</td>\n",
       "      <td>2</td>\n",
       "      <td>2</td>\n",
       "      <td>1</td>\n",
       "      <td>1</td>\n",
       "      <td>2</td>\n",
       "      <td>0.861696</td>\n",
       "    </tr>\n",
       "    <tr>\n",
       "      <th>772181</th>\n",
       "      <td>1.266297</td>\n",
       "      <td>-0.957955</td>\n",
       "      <td>1</td>\n",
       "      <td>-1.638327</td>\n",
       "      <td>1</td>\n",
       "      <td>1</td>\n",
       "      <td>1</td>\n",
       "      <td>1</td>\n",
       "      <td>2</td>\n",
       "      <td>1</td>\n",
       "      <td>...</td>\n",
       "      <td>0.463923</td>\n",
       "      <td>0.665362</td>\n",
       "      <td>0.531911</td>\n",
       "      <td>1</td>\n",
       "      <td>2</td>\n",
       "      <td>1</td>\n",
       "      <td>2</td>\n",
       "      <td>2</td>\n",
       "      <td>1</td>\n",
       "      <td>0.858151</td>\n",
       "    </tr>\n",
       "  </tbody>\n",
       "</table>\n",
       "<p>5 rows × 59 columns</p>\n",
       "</div>"
      ],
      "text/plain": [
       "              id  ps_ind_01 ps_ind_02_cat  ps_ind_03 ps_ind_04_cat  \\\n",
       "590211  0.559664   0.050218             1  -1.638327             1   \n",
       "94665  -1.365328  -0.957955             1  -1.638327             1   \n",
       "110917 -1.301809  -0.453868             1  -1.638327             1   \n",
       "437814 -0.032302   0.050218             1  -1.638327             1   \n",
       "772181  1.266297  -0.957955             1  -1.638327             1   \n",
       "\n",
       "       ps_ind_05_cat ps_ind_06_bin ps_ind_07_bin ps_ind_08_bin ps_ind_09_bin  \\\n",
       "590211             1             1             1             1             2   \n",
       "94665              1             1             2             1             1   \n",
       "110917             1             1             1             2             1   \n",
       "437814             1             1             2             1             1   \n",
       "772181             1             1             1             2             1   \n",
       "\n",
       "           ...      ps_calc_12 ps_calc_13 ps_calc_14 ps_calc_15_bin  \\\n",
       "590211     ...       -1.198640   0.075352  -0.560329              1   \n",
       "94665      ...       -0.367359   1.255373  -0.196249              2   \n",
       "110917     ...        0.463923   0.665362  -0.924409              1   \n",
       "437814     ...        0.463923   0.665362  -0.560329              1   \n",
       "772181     ...        0.463923   0.665362   0.531911              1   \n",
       "\n",
       "        ps_calc_16_bin  ps_calc_17_bin ps_calc_18_bin ps_calc_19_bin  \\\n",
       "590211               2               1              1              2   \n",
       "94665                2               2              1              2   \n",
       "110917               2               1              1              1   \n",
       "437814               2               2              1              1   \n",
       "772181               2               1              2              2   \n",
       "\n",
       "       ps_calc_20_bin  pred_target  \n",
       "590211              2     1.215105  \n",
       "94665               1     0.936474  \n",
       "110917              1     0.875596  \n",
       "437814              2     0.861696  \n",
       "772181              1     0.858151  \n",
       "\n",
       "[5 rows x 59 columns]"
      ]
     },
     "execution_count": 59,
     "metadata": {},
     "output_type": "execute_result"
    }
   ],
   "source": [
    "test_df.nlargest(5, 'pred_target')"
   ]
  },
  {
   "cell_type": "code",
   "execution_count": 60,
   "metadata": {
    "ExecuteTime": {
     "end_time": "2017-11-28T21:35:19.020265Z",
     "start_time": "2017-11-28T21:35:18.903125Z"
    }
   },
   "outputs": [
    {
     "data": {
      "text/html": [
       "<div>\n",
       "<style scoped>\n",
       "    .dataframe tbody tr th:only-of-type {\n",
       "        vertical-align: middle;\n",
       "    }\n",
       "\n",
       "    .dataframe tbody tr th {\n",
       "        vertical-align: top;\n",
       "    }\n",
       "\n",
       "    .dataframe thead th {\n",
       "        text-align: right;\n",
       "    }\n",
       "</style>\n",
       "<table border=\"1\" class=\"dataframe\">\n",
       "  <thead>\n",
       "    <tr style=\"text-align: right;\">\n",
       "      <th></th>\n",
       "      <th>id</th>\n",
       "      <th>ps_ind_01</th>\n",
       "      <th>ps_ind_02_cat</th>\n",
       "      <th>ps_ind_03</th>\n",
       "      <th>ps_ind_04_cat</th>\n",
       "      <th>ps_ind_05_cat</th>\n",
       "      <th>ps_ind_06_bin</th>\n",
       "      <th>ps_ind_07_bin</th>\n",
       "      <th>ps_ind_08_bin</th>\n",
       "      <th>ps_ind_09_bin</th>\n",
       "      <th>...</th>\n",
       "      <th>ps_calc_12</th>\n",
       "      <th>ps_calc_13</th>\n",
       "      <th>ps_calc_14</th>\n",
       "      <th>ps_calc_15_bin</th>\n",
       "      <th>ps_calc_16_bin</th>\n",
       "      <th>ps_calc_17_bin</th>\n",
       "      <th>ps_calc_18_bin</th>\n",
       "      <th>ps_calc_19_bin</th>\n",
       "      <th>ps_calc_20_bin</th>\n",
       "      <th>pred_target</th>\n",
       "    </tr>\n",
       "  </thead>\n",
       "  <tbody>\n",
       "    <tr>\n",
       "      <th>344477</th>\n",
       "      <td>-0.394989</td>\n",
       "      <td>2.066563</td>\n",
       "      <td>2</td>\n",
       "      <td>0.583978</td>\n",
       "      <td>3</td>\n",
       "      <td>8</td>\n",
       "      <td>1</td>\n",
       "      <td>1</td>\n",
       "      <td>2</td>\n",
       "      <td>1</td>\n",
       "      <td>...</td>\n",
       "      <td>-0.367359</td>\n",
       "      <td>-1.694679</td>\n",
       "      <td>-0.196249</td>\n",
       "      <td>1</td>\n",
       "      <td>1</td>\n",
       "      <td>1</td>\n",
       "      <td>2</td>\n",
       "      <td>1</td>\n",
       "      <td>1</td>\n",
       "      <td>-0.342990</td>\n",
       "    </tr>\n",
       "    <tr>\n",
       "      <th>579440</th>\n",
       "      <td>0.517572</td>\n",
       "      <td>0.050218</td>\n",
       "      <td>2</td>\n",
       "      <td>0.213594</td>\n",
       "      <td>2</td>\n",
       "      <td>4</td>\n",
       "      <td>1</td>\n",
       "      <td>1</td>\n",
       "      <td>2</td>\n",
       "      <td>1</td>\n",
       "      <td>...</td>\n",
       "      <td>-0.367359</td>\n",
       "      <td>-0.514659</td>\n",
       "      <td>-2.016649</td>\n",
       "      <td>1</td>\n",
       "      <td>2</td>\n",
       "      <td>1</td>\n",
       "      <td>2</td>\n",
       "      <td>2</td>\n",
       "      <td>2</td>\n",
       "      <td>-0.287718</td>\n",
       "    </tr>\n",
       "    <tr>\n",
       "      <th>791900</th>\n",
       "      <td>1.342488</td>\n",
       "      <td>1.562477</td>\n",
       "      <td>2</td>\n",
       "      <td>0.583978</td>\n",
       "      <td>3</td>\n",
       "      <td>4</td>\n",
       "      <td>1</td>\n",
       "      <td>1</td>\n",
       "      <td>2</td>\n",
       "      <td>1</td>\n",
       "      <td>...</td>\n",
       "      <td>-1.198640</td>\n",
       "      <td>-1.104669</td>\n",
       "      <td>-0.560329</td>\n",
       "      <td>2</td>\n",
       "      <td>2</td>\n",
       "      <td>1</td>\n",
       "      <td>2</td>\n",
       "      <td>2</td>\n",
       "      <td>1</td>\n",
       "      <td>-0.285138</td>\n",
       "    </tr>\n",
       "    <tr>\n",
       "      <th>17078</th>\n",
       "      <td>-1.666434</td>\n",
       "      <td>0.050218</td>\n",
       "      <td>2</td>\n",
       "      <td>0.954362</td>\n",
       "      <td>2</td>\n",
       "      <td>8</td>\n",
       "      <td>1</td>\n",
       "      <td>1</td>\n",
       "      <td>2</td>\n",
       "      <td>1</td>\n",
       "      <td>...</td>\n",
       "      <td>0.463923</td>\n",
       "      <td>0.075352</td>\n",
       "      <td>0.167831</td>\n",
       "      <td>1</td>\n",
       "      <td>2</td>\n",
       "      <td>2</td>\n",
       "      <td>1</td>\n",
       "      <td>2</td>\n",
       "      <td>1</td>\n",
       "      <td>-0.239584</td>\n",
       "    </tr>\n",
       "    <tr>\n",
       "      <th>386996</th>\n",
       "      <td>-0.229651</td>\n",
       "      <td>1.562477</td>\n",
       "      <td>2</td>\n",
       "      <td>1.324746</td>\n",
       "      <td>3</td>\n",
       "      <td>3</td>\n",
       "      <td>1</td>\n",
       "      <td>2</td>\n",
       "      <td>1</td>\n",
       "      <td>1</td>\n",
       "      <td>...</td>\n",
       "      <td>-0.367359</td>\n",
       "      <td>1.255373</td>\n",
       "      <td>-0.924409</td>\n",
       "      <td>1</td>\n",
       "      <td>2</td>\n",
       "      <td>1</td>\n",
       "      <td>1</td>\n",
       "      <td>2</td>\n",
       "      <td>2</td>\n",
       "      <td>-0.227888</td>\n",
       "    </tr>\n",
       "  </tbody>\n",
       "</table>\n",
       "<p>5 rows × 59 columns</p>\n",
       "</div>"
      ],
      "text/plain": [
       "              id  ps_ind_01 ps_ind_02_cat  ps_ind_03 ps_ind_04_cat  \\\n",
       "344477 -0.394989   2.066563             2   0.583978             3   \n",
       "579440  0.517572   0.050218             2   0.213594             2   \n",
       "791900  1.342488   1.562477             2   0.583978             3   \n",
       "17078  -1.666434   0.050218             2   0.954362             2   \n",
       "386996 -0.229651   1.562477             2   1.324746             3   \n",
       "\n",
       "       ps_ind_05_cat ps_ind_06_bin ps_ind_07_bin ps_ind_08_bin ps_ind_09_bin  \\\n",
       "344477             8             1             1             2             1   \n",
       "579440             4             1             1             2             1   \n",
       "791900             4             1             1             2             1   \n",
       "17078              8             1             1             2             1   \n",
       "386996             3             1             2             1             1   \n",
       "\n",
       "           ...      ps_calc_12 ps_calc_13 ps_calc_14 ps_calc_15_bin  \\\n",
       "344477     ...       -0.367359  -1.694679  -0.196249              1   \n",
       "579440     ...       -0.367359  -0.514659  -2.016649              1   \n",
       "791900     ...       -1.198640  -1.104669  -0.560329              2   \n",
       "17078      ...        0.463923   0.075352   0.167831              1   \n",
       "386996     ...       -0.367359   1.255373  -0.924409              1   \n",
       "\n",
       "        ps_calc_16_bin  ps_calc_17_bin ps_calc_18_bin ps_calc_19_bin  \\\n",
       "344477               1               1              2              1   \n",
       "579440               2               1              2              2   \n",
       "791900               2               1              2              2   \n",
       "17078                2               2              1              2   \n",
       "386996               2               1              1              2   \n",
       "\n",
       "       ps_calc_20_bin  pred_target  \n",
       "344477              1    -0.342990  \n",
       "579440              2    -0.287718  \n",
       "791900              1    -0.285138  \n",
       "17078               1    -0.239584  \n",
       "386996              2    -0.227888  \n",
       "\n",
       "[5 rows x 59 columns]"
      ]
     },
     "execution_count": 60,
     "metadata": {},
     "output_type": "execute_result"
    }
   ],
   "source": [
    "test_df.nsmallest(5, 'pred_target')"
   ]
  },
  {
   "cell_type": "markdown",
   "metadata": {},
   "source": [
    "## Submission"
   ]
  },
  {
   "cell_type": "code",
   "execution_count": 61,
   "metadata": {
    "ExecuteTime": {
     "end_time": "2017-11-28T21:35:30.464528Z",
     "start_time": "2017-11-28T21:35:30.425049Z"
    }
   },
   "outputs": [
    {
     "data": {
      "text/html": [
       "<div>\n",
       "<style scoped>\n",
       "    .dataframe tbody tr th:only-of-type {\n",
       "        vertical-align: middle;\n",
       "    }\n",
       "\n",
       "    .dataframe tbody tr th {\n",
       "        vertical-align: top;\n",
       "    }\n",
       "\n",
       "    .dataframe thead th {\n",
       "        text-align: right;\n",
       "    }\n",
       "</style>\n",
       "<table border=\"1\" class=\"dataframe\">\n",
       "  <thead>\n",
       "    <tr style=\"text-align: right;\">\n",
       "      <th></th>\n",
       "      <th>id</th>\n",
       "      <th>target</th>\n",
       "    </tr>\n",
       "  </thead>\n",
       "  <tbody>\n",
       "    <tr>\n",
       "      <th>0</th>\n",
       "      <td>0</td>\n",
       "      <td>0.035959</td>\n",
       "    </tr>\n",
       "    <tr>\n",
       "      <th>1</th>\n",
       "      <td>1</td>\n",
       "      <td>0.034598</td>\n",
       "    </tr>\n",
       "    <tr>\n",
       "      <th>2</th>\n",
       "      <td>2</td>\n",
       "      <td>0.025253</td>\n",
       "    </tr>\n",
       "    <tr>\n",
       "      <th>3</th>\n",
       "      <td>3</td>\n",
       "      <td>0.022972</td>\n",
       "    </tr>\n",
       "    <tr>\n",
       "      <th>4</th>\n",
       "      <td>4</td>\n",
       "      <td>0.020747</td>\n",
       "    </tr>\n",
       "    <tr>\n",
       "      <th>5</th>\n",
       "      <td>5</td>\n",
       "      <td>0.071335</td>\n",
       "    </tr>\n",
       "    <tr>\n",
       "      <th>6</th>\n",
       "      <td>6</td>\n",
       "      <td>0.022123</td>\n",
       "    </tr>\n",
       "    <tr>\n",
       "      <th>7</th>\n",
       "      <td>8</td>\n",
       "      <td>0.034587</td>\n",
       "    </tr>\n",
       "    <tr>\n",
       "      <th>8</th>\n",
       "      <td>10</td>\n",
       "      <td>0.019366</td>\n",
       "    </tr>\n",
       "    <tr>\n",
       "      <th>9</th>\n",
       "      <td>11</td>\n",
       "      <td>0.047240</td>\n",
       "    </tr>\n",
       "  </tbody>\n",
       "</table>\n",
       "</div>"
      ],
      "text/plain": [
       "   id    target\n",
       "0   0  0.035959\n",
       "1   1  0.034598\n",
       "2   2  0.025253\n",
       "3   3  0.022972\n",
       "4   4  0.020747\n",
       "5   5  0.071335\n",
       "6   6  0.022123\n",
       "7   8  0.034587\n",
       "8  10  0.019366\n",
       "9  11  0.047240"
      ]
     },
     "execution_count": 61,
     "metadata": {},
     "output_type": "execute_result"
    }
   ],
   "source": [
    "## Sets up the test use\n",
    "submission = pd.DataFrame({'id': test_data_df.id, 'target': test_df.pred_target})\n",
    "submission.id = submission.id.astype(int)\n",
    "# Shows 5 to ensure formatting is correct\n",
    "submission[:10]"
   ]
  },
  {
   "cell_type": "code",
   "execution_count": 62,
   "metadata": {
    "ExecuteTime": {
     "end_time": "2017-11-28T21:35:32.291501Z",
     "start_time": "2017-11-28T21:35:32.260488Z"
    }
   },
   "outputs": [],
   "source": [
    "# Makes the submission name out of folders\n",
    "path3 = PATH +'submits/'\n",
    "## labels submissions in order\n",
    "numFiles=len(os.listdir(path3))\n",
    "subm_name = 'submission'+str(numFiles)+'.csv.gz'"
   ]
  },
  {
   "cell_type": "code",
   "execution_count": 54,
   "metadata": {
    "ExecuteTime": {
     "end_time": "2017-11-28T21:34:27.312557Z",
     "start_time": "2017-11-28T21:34:20.029354Z"
    }
   },
   "outputs": [
    {
     "name": "stdout",
     "output_type": "stream",
     "text": [
      "http://localhost:8888/view/data/PortoDriver/submits/submission22.csv.gz\n"
     ]
    }
   ],
   "source": [
    "## prints it out to downloaded\n",
    "submission.to_csv((path3+subm_name), index=False, compression='gzip')\n",
    "print ('http://localhost:8888/view/data/PortoDriver/submits/'+subm_name)"
   ]
  },
  {
   "cell_type": "code",
   "execution_count": null,
   "metadata": {},
   "outputs": [],
   "source": []
  }
 ],
 "metadata": {
  "kernelspec": {
   "display_name": "Python 3",
   "language": "python",
   "name": "python3"
  },
  "language_info": {
   "codemirror_mode": {
    "name": "ipython",
    "version": 3
   },
   "file_extension": ".py",
   "mimetype": "text/x-python",
   "name": "python",
   "nbconvert_exporter": "python",
   "pygments_lexer": "ipython3",
   "version": "3.6.3"
  },
  "latex_envs": {
   "LaTeX_envs_menu_present": true,
   "autocomplete": true,
   "bibliofile": "biblio.bib",
   "cite_by": "apalike",
   "current_citInitial": 1,
   "eqLabelWithNumbers": true,
   "eqNumInitial": 1,
   "hotkeys": {
    "equation": "Ctrl-E",
    "itemize": "Ctrl-I"
   },
   "labels_anchors": false,
   "latex_user_defs": false,
   "report_style_numbering": false,
   "user_envs_cfg": false
  },
  "notify_time": "10"
 },
 "nbformat": 4,
 "nbformat_minor": 2
}
