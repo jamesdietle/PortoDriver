{
 "cells": [
  {
   "cell_type": "markdown",
   "metadata": {},
   "source": [
    "In this implementation:\n",
    "- Missing values are treated as a separate category i.e. we do not replace missing values with NaN.\n",
    "- Use 99:1 train to validation set ratio.\n"
   ]
  },
  {
   "cell_type": "code",
   "execution_count": 1,
   "metadata": {
    "ExecuteTime": {
     "end_time": "2017-11-28T22:19:22.708117Z",
     "start_time": "2017-11-28T22:19:22.553629Z"
    }
   },
   "outputs": [],
   "source": [
    "%matplotlib inline\n",
    "%reload_ext autoreload\n",
    "%autoreload 2"
   ]
  },
  {
   "cell_type": "code",
   "execution_count": 2,
   "metadata": {
    "ExecuteTime": {
     "end_time": "2017-11-28T22:19:23.341608Z",
     "start_time": "2017-11-28T22:19:22.709377Z"
    }
   },
   "outputs": [],
   "source": [
    "from fastai.structured import *\n",
    "from fastai.column_data import *"
   ]
  },
  {
   "cell_type": "code",
   "execution_count": 3,
   "metadata": {
    "ExecuteTime": {
     "end_time": "2017-11-28T22:19:23.354679Z",
     "start_time": "2017-11-28T22:19:23.342818Z"
    }
   },
   "outputs": [],
   "source": [
    "# Set printing options. \n",
    "# These options determine the way floating point numbers, arrays and\n",
    "# other NumPy objects are displayed.\n",
    "np.set_printoptions(threshold=50, edgeitems=20)"
   ]
  },
  {
   "cell_type": "markdown",
   "metadata": {},
   "source": [
    "### Set data path"
   ]
  },
  {
   "cell_type": "code",
   "execution_count": 4,
   "metadata": {
    "ExecuteTime": {
     "end_time": "2017-11-28T22:19:23.366823Z",
     "start_time": "2017-11-28T22:19:23.355663Z"
    }
   },
   "outputs": [],
   "source": [
    "#PATH = 'data/porto-seguro/'\n",
    "PATH = '/home/jd/data/PortoDriver/'"
   ]
  },
  {
   "cell_type": "markdown",
   "metadata": {},
   "source": [
    "### Read csv data into dataframe"
   ]
  },
  {
   "cell_type": "code",
   "execution_count": 5,
   "metadata": {
    "ExecuteTime": {
     "end_time": "2017-11-28T22:19:29.053463Z",
     "start_time": "2017-11-28T22:19:23.367784Z"
    }
   },
   "outputs": [],
   "source": [
    "train_data_df = pd.read_csv(f'{PATH}train.csv')\n",
    "test_data_df = pd.read_csv(f'{PATH}test.csv')\n",
    "\n",
    "# I need differant Path\n",
    "#train_data_df = pd.read_csv(f'{PATH}train/train.csv')\n",
    "#test_data_df = pd.read_csv(f'{PATH}test/test.csv')"
   ]
  },
  {
   "cell_type": "code",
   "execution_count": 6,
   "metadata": {
    "ExecuteTime": {
     "end_time": "2017-11-28T22:19:29.067757Z",
     "start_time": "2017-11-28T22:19:29.054570Z"
    }
   },
   "outputs": [],
   "source": [
    "# test_data need target\n",
    "test_data_df['target']=0"
   ]
  },
  {
   "cell_type": "markdown",
   "metadata": {},
   "source": [
    "### List of column names"
   ]
  },
  {
   "cell_type": "code",
   "execution_count": 7,
   "metadata": {
    "ExecuteTime": {
     "end_time": "2017-11-28T22:19:29.080715Z",
     "start_time": "2017-11-28T22:19:29.068836Z"
    }
   },
   "outputs": [],
   "source": [
    "all_var = [var for var in train_data_df.columns]"
   ]
  },
  {
   "cell_type": "code",
   "execution_count": 8,
   "metadata": {
    "ExecuteTime": {
     "end_time": "2017-11-28T22:19:29.094940Z",
     "start_time": "2017-11-28T22:19:29.081708Z"
    }
   },
   "outputs": [
    {
     "data": {
      "text/plain": [
       "['id',\n",
       " 'target',\n",
       " 'ps_ind_01',\n",
       " 'ps_ind_02_cat',\n",
       " 'ps_ind_03',\n",
       " 'ps_ind_04_cat',\n",
       " 'ps_ind_05_cat',\n",
       " 'ps_ind_06_bin',\n",
       " 'ps_ind_07_bin',\n",
       " 'ps_ind_08_bin',\n",
       " 'ps_ind_09_bin',\n",
       " 'ps_ind_10_bin',\n",
       " 'ps_ind_11_bin',\n",
       " 'ps_ind_12_bin',\n",
       " 'ps_ind_13_bin',\n",
       " 'ps_ind_14',\n",
       " 'ps_ind_15',\n",
       " 'ps_ind_16_bin',\n",
       " 'ps_ind_17_bin',\n",
       " 'ps_ind_18_bin',\n",
       " 'ps_reg_01',\n",
       " 'ps_reg_02',\n",
       " 'ps_reg_03',\n",
       " 'ps_car_01_cat',\n",
       " 'ps_car_02_cat',\n",
       " 'ps_car_03_cat',\n",
       " 'ps_car_04_cat',\n",
       " 'ps_car_05_cat',\n",
       " 'ps_car_06_cat',\n",
       " 'ps_car_07_cat',\n",
       " 'ps_car_08_cat',\n",
       " 'ps_car_09_cat',\n",
       " 'ps_car_10_cat',\n",
       " 'ps_car_11_cat',\n",
       " 'ps_car_11',\n",
       " 'ps_car_12',\n",
       " 'ps_car_13',\n",
       " 'ps_car_14',\n",
       " 'ps_car_15',\n",
       " 'ps_calc_01',\n",
       " 'ps_calc_02',\n",
       " 'ps_calc_03',\n",
       " 'ps_calc_04',\n",
       " 'ps_calc_05',\n",
       " 'ps_calc_06',\n",
       " 'ps_calc_07',\n",
       " 'ps_calc_08',\n",
       " 'ps_calc_09',\n",
       " 'ps_calc_10',\n",
       " 'ps_calc_11',\n",
       " 'ps_calc_12',\n",
       " 'ps_calc_13',\n",
       " 'ps_calc_14',\n",
       " 'ps_calc_15_bin',\n",
       " 'ps_calc_16_bin',\n",
       " 'ps_calc_17_bin',\n",
       " 'ps_calc_18_bin',\n",
       " 'ps_calc_19_bin',\n",
       " 'ps_calc_20_bin']"
      ]
     },
     "execution_count": 8,
     "metadata": {},
     "output_type": "execute_result"
    }
   ],
   "source": [
    "all_var"
   ]
  },
  {
   "cell_type": "markdown",
   "metadata": {},
   "source": [
    "### Create list of categorical and continuous variables"
   ]
  },
  {
   "cell_type": "code",
   "execution_count": 9,
   "metadata": {
    "ExecuteTime": {
     "end_time": "2017-11-28T22:19:29.110360Z",
     "start_time": "2017-11-28T22:19:29.096092Z"
    }
   },
   "outputs": [
    {
     "data": {
      "text/plain": [
       "['ps_ind_02_cat',\n",
       " 'ps_ind_04_cat',\n",
       " 'ps_ind_05_cat',\n",
       " 'ps_car_01_cat',\n",
       " 'ps_car_02_cat',\n",
       " 'ps_car_03_cat',\n",
       " 'ps_car_04_cat',\n",
       " 'ps_car_05_cat',\n",
       " 'ps_car_06_cat',\n",
       " 'ps_car_07_cat',\n",
       " 'ps_car_08_cat',\n",
       " 'ps_car_09_cat',\n",
       " 'ps_car_10_cat',\n",
       " 'ps_car_11_cat',\n",
       " 'ps_ind_06_bin',\n",
       " 'ps_ind_07_bin',\n",
       " 'ps_ind_08_bin',\n",
       " 'ps_ind_09_bin',\n",
       " 'ps_ind_10_bin',\n",
       " 'ps_ind_11_bin',\n",
       " 'ps_ind_12_bin',\n",
       " 'ps_ind_13_bin',\n",
       " 'ps_ind_16_bin',\n",
       " 'ps_ind_17_bin',\n",
       " 'ps_ind_18_bin',\n",
       " 'ps_calc_15_bin',\n",
       " 'ps_calc_16_bin',\n",
       " 'ps_calc_17_bin',\n",
       " 'ps_calc_18_bin',\n",
       " 'ps_calc_19_bin',\n",
       " 'ps_calc_20_bin']"
      ]
     },
     "execution_count": 9,
     "metadata": {},
     "output_type": "execute_result"
    }
   ],
   "source": [
    "cat_vars = [var for var in train_data_df.columns if var.endswith('cat')]\n",
    "bin_vars = [var for var in train_data_df.columns if var.endswith('bin')]\n",
    "ind_vars = ['ps_ind_01', 'ps_ind_03','ps_ind_14', 'ps_ind_15']\n",
    "cat_vars = cat_vars + bin_vars #+ ind_vars\n",
    "cat_vars"
   ]
  },
  {
   "cell_type": "code",
   "execution_count": 10,
   "metadata": {
    "ExecuteTime": {
     "end_time": "2017-11-28T22:19:29.123945Z",
     "start_time": "2017-11-28T22:19:29.111345Z"
    }
   },
   "outputs": [
    {
     "data": {
      "text/plain": [
       "['id',\n",
       " 'target',\n",
       " 'ps_ind_01',\n",
       " 'ps_ind_03',\n",
       " 'ps_ind_14',\n",
       " 'ps_ind_15',\n",
       " 'ps_reg_01',\n",
       " 'ps_reg_02',\n",
       " 'ps_reg_03',\n",
       " 'ps_car_11',\n",
       " 'ps_car_12',\n",
       " 'ps_car_13',\n",
       " 'ps_car_14',\n",
       " 'ps_car_15',\n",
       " 'ps_calc_01',\n",
       " 'ps_calc_02',\n",
       " 'ps_calc_03',\n",
       " 'ps_calc_04',\n",
       " 'ps_calc_05',\n",
       " 'ps_calc_06',\n",
       " 'ps_calc_07',\n",
       " 'ps_calc_08',\n",
       " 'ps_calc_09',\n",
       " 'ps_calc_10',\n",
       " 'ps_calc_11',\n",
       " 'ps_calc_12',\n",
       " 'ps_calc_13',\n",
       " 'ps_calc_14']"
      ]
     },
     "execution_count": 10,
     "metadata": {},
     "output_type": "execute_result"
    }
   ],
   "source": [
    "cont_vars = [var for var in train_data_df.columns if var not in cat_vars]\n",
    "cont_vars"
   ]
  },
  {
   "cell_type": "code",
   "execution_count": 11,
   "metadata": {
    "ExecuteTime": {
     "end_time": "2017-11-28T22:19:31.655078Z",
     "start_time": "2017-11-28T22:19:29.124838Z"
    }
   },
   "outputs": [],
   "source": [
    "for var in cat_vars: \n",
    "    train_data_df[var] = train_data_df[var].astype('category').cat.as_ordered()\n",
    "    test_data_df[var] = test_data_df[var].astype('category').cat.as_ordered()"
   ]
  },
  {
   "cell_type": "code",
   "execution_count": 12,
   "metadata": {
    "ExecuteTime": {
     "end_time": "2017-11-28T22:19:32.115590Z",
     "start_time": "2017-11-28T22:19:31.656306Z"
    }
   },
   "outputs": [],
   "source": [
    "for var in cont_vars:\n",
    "    train_data_df[var] = train_data_df[var].astype('float32')\n",
    "    test_data_df[var] = test_data_df[var].astype('float32')"
   ]
  },
  {
   "cell_type": "code",
   "execution_count": 13,
   "metadata": {
    "ExecuteTime": {
     "end_time": "2017-11-28T22:19:32.129643Z",
     "start_time": "2017-11-28T22:19:32.116854Z"
    }
   },
   "outputs": [
    {
     "data": {
      "text/plain": [
       "'target'"
      ]
     },
     "execution_count": 13,
     "metadata": {},
     "output_type": "execute_result"
    }
   ],
   "source": [
    "cont_vars[1]"
   ]
  },
  {
   "cell_type": "code",
   "execution_count": 14,
   "metadata": {
    "ExecuteTime": {
     "end_time": "2017-11-28T22:19:32.142022Z",
     "start_time": "2017-11-28T22:19:32.130635Z"
    }
   },
   "outputs": [],
   "source": [
    "del cont_vars[1]"
   ]
  },
  {
   "cell_type": "code",
   "execution_count": 15,
   "metadata": {
    "ExecuteTime": {
     "end_time": "2017-11-28T22:19:32.599585Z",
     "start_time": "2017-11-28T22:19:32.142977Z"
    },
    "scrolled": true
   },
   "outputs": [
    {
     "name": "stdout",
     "output_type": "stream",
     "text": [
      "<class 'pandas.core.frame.DataFrame'>\n",
      "RangeIndex: 595212 entries, 0 to 595211\n",
      "Data columns (total 59 columns):\n",
      "id                595212 non-null float32\n",
      "target            595212 non-null float32\n",
      "ps_ind_01         595212 non-null float32\n",
      "ps_ind_02_cat     595212 non-null category\n",
      "ps_ind_03         595212 non-null float32\n",
      "ps_ind_04_cat     595212 non-null category\n",
      "ps_ind_05_cat     595212 non-null category\n",
      "ps_ind_06_bin     595212 non-null category\n",
      "ps_ind_07_bin     595212 non-null category\n",
      "ps_ind_08_bin     595212 non-null category\n",
      "ps_ind_09_bin     595212 non-null category\n",
      "ps_ind_10_bin     595212 non-null category\n",
      "ps_ind_11_bin     595212 non-null category\n",
      "ps_ind_12_bin     595212 non-null category\n",
      "ps_ind_13_bin     595212 non-null category\n",
      "ps_ind_14         595212 non-null float32\n",
      "ps_ind_15         595212 non-null float32\n",
      "ps_ind_16_bin     595212 non-null category\n",
      "ps_ind_17_bin     595212 non-null category\n",
      "ps_ind_18_bin     595212 non-null category\n",
      "ps_reg_01         595212 non-null float32\n",
      "ps_reg_02         595212 non-null float32\n",
      "ps_reg_03         595212 non-null float32\n",
      "ps_car_01_cat     595212 non-null category\n",
      "ps_car_02_cat     595212 non-null category\n",
      "ps_car_03_cat     595212 non-null category\n",
      "ps_car_04_cat     595212 non-null category\n",
      "ps_car_05_cat     595212 non-null category\n",
      "ps_car_06_cat     595212 non-null category\n",
      "ps_car_07_cat     595212 non-null category\n",
      "ps_car_08_cat     595212 non-null category\n",
      "ps_car_09_cat     595212 non-null category\n",
      "ps_car_10_cat     595212 non-null category\n",
      "ps_car_11_cat     595212 non-null category\n",
      "ps_car_11         595212 non-null float32\n",
      "ps_car_12         595212 non-null float32\n",
      "ps_car_13         595212 non-null float32\n",
      "ps_car_14         595212 non-null float32\n",
      "ps_car_15         595212 non-null float32\n",
      "ps_calc_01        595212 non-null float32\n",
      "ps_calc_02        595212 non-null float32\n",
      "ps_calc_03        595212 non-null float32\n",
      "ps_calc_04        595212 non-null float32\n",
      "ps_calc_05        595212 non-null float32\n",
      "ps_calc_06        595212 non-null float32\n",
      "ps_calc_07        595212 non-null float32\n",
      "ps_calc_08        595212 non-null float32\n",
      "ps_calc_09        595212 non-null float32\n",
      "ps_calc_10        595212 non-null float32\n",
      "ps_calc_11        595212 non-null float32\n",
      "ps_calc_12        595212 non-null float32\n",
      "ps_calc_13        595212 non-null float32\n",
      "ps_calc_14        595212 non-null float32\n",
      "ps_calc_15_bin    595212 non-null category\n",
      "ps_calc_16_bin    595212 non-null category\n",
      "ps_calc_17_bin    595212 non-null category\n",
      "ps_calc_18_bin    595212 non-null category\n",
      "ps_calc_19_bin    595212 non-null category\n",
      "ps_calc_20_bin    595212 non-null category\n",
      "dtypes: category(31), float32(28)\n",
      "memory usage: 81.2 MB\n"
     ]
    }
   ],
   "source": [
    "train_data_df.info()"
   ]
  },
  {
   "cell_type": "markdown",
   "metadata": {},
   "source": [
    "### Display training data sample"
   ]
  },
  {
   "cell_type": "code",
   "execution_count": 16,
   "metadata": {
    "ExecuteTime": {
     "end_time": "2017-11-28T22:19:32.630947Z",
     "start_time": "2017-11-28T22:19:32.600761Z"
    }
   },
   "outputs": [
    {
     "data": {
      "text/html": [
       "<div>\n",
       "<style scoped>\n",
       "    .dataframe tbody tr th:only-of-type {\n",
       "        vertical-align: middle;\n",
       "    }\n",
       "\n",
       "    .dataframe tbody tr th {\n",
       "        vertical-align: top;\n",
       "    }\n",
       "\n",
       "    .dataframe thead th {\n",
       "        text-align: right;\n",
       "    }\n",
       "</style>\n",
       "<table border=\"1\" class=\"dataframe\">\n",
       "  <thead>\n",
       "    <tr style=\"text-align: right;\">\n",
       "      <th></th>\n",
       "      <th>id</th>\n",
       "      <th>target</th>\n",
       "      <th>ps_ind_01</th>\n",
       "      <th>ps_ind_02_cat</th>\n",
       "      <th>ps_ind_03</th>\n",
       "      <th>ps_ind_04_cat</th>\n",
       "      <th>ps_ind_05_cat</th>\n",
       "      <th>ps_ind_06_bin</th>\n",
       "      <th>ps_ind_07_bin</th>\n",
       "      <th>ps_ind_08_bin</th>\n",
       "      <th>...</th>\n",
       "      <th>ps_calc_11</th>\n",
       "      <th>ps_calc_12</th>\n",
       "      <th>ps_calc_13</th>\n",
       "      <th>ps_calc_14</th>\n",
       "      <th>ps_calc_15_bin</th>\n",
       "      <th>ps_calc_16_bin</th>\n",
       "      <th>ps_calc_17_bin</th>\n",
       "      <th>ps_calc_18_bin</th>\n",
       "      <th>ps_calc_19_bin</th>\n",
       "      <th>ps_calc_20_bin</th>\n",
       "    </tr>\n",
       "  </thead>\n",
       "  <tbody>\n",
       "    <tr>\n",
       "      <th>0</th>\n",
       "      <td>7.0</td>\n",
       "      <td>0.0</td>\n",
       "      <td>2.0</td>\n",
       "      <td>2</td>\n",
       "      <td>5.0</td>\n",
       "      <td>1</td>\n",
       "      <td>0</td>\n",
       "      <td>0</td>\n",
       "      <td>1</td>\n",
       "      <td>0</td>\n",
       "      <td>...</td>\n",
       "      <td>9.0</td>\n",
       "      <td>1.0</td>\n",
       "      <td>5.0</td>\n",
       "      <td>8.0</td>\n",
       "      <td>0</td>\n",
       "      <td>1</td>\n",
       "      <td>1</td>\n",
       "      <td>0</td>\n",
       "      <td>0</td>\n",
       "      <td>1</td>\n",
       "    </tr>\n",
       "    <tr>\n",
       "      <th>1</th>\n",
       "      <td>9.0</td>\n",
       "      <td>0.0</td>\n",
       "      <td>1.0</td>\n",
       "      <td>1</td>\n",
       "      <td>7.0</td>\n",
       "      <td>0</td>\n",
       "      <td>0</td>\n",
       "      <td>0</td>\n",
       "      <td>0</td>\n",
       "      <td>1</td>\n",
       "      <td>...</td>\n",
       "      <td>3.0</td>\n",
       "      <td>1.0</td>\n",
       "      <td>1.0</td>\n",
       "      <td>9.0</td>\n",
       "      <td>0</td>\n",
       "      <td>1</td>\n",
       "      <td>1</td>\n",
       "      <td>0</td>\n",
       "      <td>1</td>\n",
       "      <td>0</td>\n",
       "    </tr>\n",
       "    <tr>\n",
       "      <th>2</th>\n",
       "      <td>13.0</td>\n",
       "      <td>0.0</td>\n",
       "      <td>5.0</td>\n",
       "      <td>4</td>\n",
       "      <td>9.0</td>\n",
       "      <td>1</td>\n",
       "      <td>0</td>\n",
       "      <td>0</td>\n",
       "      <td>0</td>\n",
       "      <td>1</td>\n",
       "      <td>...</td>\n",
       "      <td>4.0</td>\n",
       "      <td>2.0</td>\n",
       "      <td>7.0</td>\n",
       "      <td>7.0</td>\n",
       "      <td>0</td>\n",
       "      <td>1</td>\n",
       "      <td>1</td>\n",
       "      <td>0</td>\n",
       "      <td>1</td>\n",
       "      <td>0</td>\n",
       "    </tr>\n",
       "    <tr>\n",
       "      <th>3</th>\n",
       "      <td>16.0</td>\n",
       "      <td>0.0</td>\n",
       "      <td>0.0</td>\n",
       "      <td>1</td>\n",
       "      <td>2.0</td>\n",
       "      <td>0</td>\n",
       "      <td>0</td>\n",
       "      <td>1</td>\n",
       "      <td>0</td>\n",
       "      <td>0</td>\n",
       "      <td>...</td>\n",
       "      <td>2.0</td>\n",
       "      <td>2.0</td>\n",
       "      <td>4.0</td>\n",
       "      <td>9.0</td>\n",
       "      <td>0</td>\n",
       "      <td>0</td>\n",
       "      <td>0</td>\n",
       "      <td>0</td>\n",
       "      <td>0</td>\n",
       "      <td>0</td>\n",
       "    </tr>\n",
       "    <tr>\n",
       "      <th>4</th>\n",
       "      <td>17.0</td>\n",
       "      <td>0.0</td>\n",
       "      <td>0.0</td>\n",
       "      <td>2</td>\n",
       "      <td>0.0</td>\n",
       "      <td>1</td>\n",
       "      <td>0</td>\n",
       "      <td>1</td>\n",
       "      <td>0</td>\n",
       "      <td>0</td>\n",
       "      <td>...</td>\n",
       "      <td>3.0</td>\n",
       "      <td>1.0</td>\n",
       "      <td>1.0</td>\n",
       "      <td>3.0</td>\n",
       "      <td>0</td>\n",
       "      <td>0</td>\n",
       "      <td>0</td>\n",
       "      <td>1</td>\n",
       "      <td>1</td>\n",
       "      <td>0</td>\n",
       "    </tr>\n",
       "  </tbody>\n",
       "</table>\n",
       "<p>5 rows × 59 columns</p>\n",
       "</div>"
      ],
      "text/plain": [
       "     id  target  ps_ind_01 ps_ind_02_cat  ps_ind_03 ps_ind_04_cat  \\\n",
       "0   7.0     0.0        2.0             2        5.0             1   \n",
       "1   9.0     0.0        1.0             1        7.0             0   \n",
       "2  13.0     0.0        5.0             4        9.0             1   \n",
       "3  16.0     0.0        0.0             1        2.0             0   \n",
       "4  17.0     0.0        0.0             2        0.0             1   \n",
       "\n",
       "  ps_ind_05_cat ps_ind_06_bin ps_ind_07_bin ps_ind_08_bin      ...        \\\n",
       "0             0             0             1             0      ...         \n",
       "1             0             0             0             1      ...         \n",
       "2             0             0             0             1      ...         \n",
       "3             0             1             0             0      ...         \n",
       "4             0             1             0             0      ...         \n",
       "\n",
       "  ps_calc_11 ps_calc_12 ps_calc_13 ps_calc_14 ps_calc_15_bin  ps_calc_16_bin  \\\n",
       "0        9.0        1.0        5.0        8.0              0               1   \n",
       "1        3.0        1.0        1.0        9.0              0               1   \n",
       "2        4.0        2.0        7.0        7.0              0               1   \n",
       "3        2.0        2.0        4.0        9.0              0               0   \n",
       "4        3.0        1.0        1.0        3.0              0               0   \n",
       "\n",
       "   ps_calc_17_bin ps_calc_18_bin ps_calc_19_bin ps_calc_20_bin  \n",
       "0               1              0              0              1  \n",
       "1               1              0              1              0  \n",
       "2               1              0              1              0  \n",
       "3               0              0              0              0  \n",
       "4               0              1              1              0  \n",
       "\n",
       "[5 rows x 59 columns]"
      ]
     },
     "execution_count": 16,
     "metadata": {},
     "output_type": "execute_result"
    }
   ],
   "source": [
    "train_data_df.head()"
   ]
  },
  {
   "cell_type": "markdown",
   "metadata": {},
   "source": [
    "### Display test data sample"
   ]
  },
  {
   "cell_type": "code",
   "execution_count": 17,
   "metadata": {
    "ExecuteTime": {
     "end_time": "2017-11-28T22:19:32.662535Z",
     "start_time": "2017-11-28T22:19:32.631966Z"
    }
   },
   "outputs": [
    {
     "data": {
      "text/html": [
       "<div>\n",
       "<style scoped>\n",
       "    .dataframe tbody tr th:only-of-type {\n",
       "        vertical-align: middle;\n",
       "    }\n",
       "\n",
       "    .dataframe tbody tr th {\n",
       "        vertical-align: top;\n",
       "    }\n",
       "\n",
       "    .dataframe thead th {\n",
       "        text-align: right;\n",
       "    }\n",
       "</style>\n",
       "<table border=\"1\" class=\"dataframe\">\n",
       "  <thead>\n",
       "    <tr style=\"text-align: right;\">\n",
       "      <th></th>\n",
       "      <th>id</th>\n",
       "      <th>ps_ind_01</th>\n",
       "      <th>ps_ind_02_cat</th>\n",
       "      <th>ps_ind_03</th>\n",
       "      <th>ps_ind_04_cat</th>\n",
       "      <th>ps_ind_05_cat</th>\n",
       "      <th>ps_ind_06_bin</th>\n",
       "      <th>ps_ind_07_bin</th>\n",
       "      <th>ps_ind_08_bin</th>\n",
       "      <th>ps_ind_09_bin</th>\n",
       "      <th>...</th>\n",
       "      <th>ps_calc_12</th>\n",
       "      <th>ps_calc_13</th>\n",
       "      <th>ps_calc_14</th>\n",
       "      <th>ps_calc_15_bin</th>\n",
       "      <th>ps_calc_16_bin</th>\n",
       "      <th>ps_calc_17_bin</th>\n",
       "      <th>ps_calc_18_bin</th>\n",
       "      <th>ps_calc_19_bin</th>\n",
       "      <th>ps_calc_20_bin</th>\n",
       "      <th>target</th>\n",
       "    </tr>\n",
       "  </thead>\n",
       "  <tbody>\n",
       "    <tr>\n",
       "      <th>0</th>\n",
       "      <td>0.0</td>\n",
       "      <td>0.0</td>\n",
       "      <td>1</td>\n",
       "      <td>8.0</td>\n",
       "      <td>1</td>\n",
       "      <td>0</td>\n",
       "      <td>0</td>\n",
       "      <td>1</td>\n",
       "      <td>0</td>\n",
       "      <td>0</td>\n",
       "      <td>...</td>\n",
       "      <td>1.0</td>\n",
       "      <td>1.0</td>\n",
       "      <td>12.0</td>\n",
       "      <td>0</td>\n",
       "      <td>1</td>\n",
       "      <td>1</td>\n",
       "      <td>0</td>\n",
       "      <td>0</td>\n",
       "      <td>1</td>\n",
       "      <td>0.0</td>\n",
       "    </tr>\n",
       "    <tr>\n",
       "      <th>1</th>\n",
       "      <td>1.0</td>\n",
       "      <td>4.0</td>\n",
       "      <td>2</td>\n",
       "      <td>5.0</td>\n",
       "      <td>1</td>\n",
       "      <td>0</td>\n",
       "      <td>0</td>\n",
       "      <td>0</td>\n",
       "      <td>0</td>\n",
       "      <td>1</td>\n",
       "      <td>...</td>\n",
       "      <td>0.0</td>\n",
       "      <td>3.0</td>\n",
       "      <td>10.0</td>\n",
       "      <td>0</td>\n",
       "      <td>0</td>\n",
       "      <td>1</td>\n",
       "      <td>1</td>\n",
       "      <td>0</td>\n",
       "      <td>1</td>\n",
       "      <td>0.0</td>\n",
       "    </tr>\n",
       "    <tr>\n",
       "      <th>2</th>\n",
       "      <td>2.0</td>\n",
       "      <td>5.0</td>\n",
       "      <td>1</td>\n",
       "      <td>3.0</td>\n",
       "      <td>0</td>\n",
       "      <td>0</td>\n",
       "      <td>0</td>\n",
       "      <td>0</td>\n",
       "      <td>0</td>\n",
       "      <td>1</td>\n",
       "      <td>...</td>\n",
       "      <td>0.0</td>\n",
       "      <td>2.0</td>\n",
       "      <td>4.0</td>\n",
       "      <td>0</td>\n",
       "      <td>0</td>\n",
       "      <td>0</td>\n",
       "      <td>0</td>\n",
       "      <td>0</td>\n",
       "      <td>0</td>\n",
       "      <td>0.0</td>\n",
       "    </tr>\n",
       "    <tr>\n",
       "      <th>3</th>\n",
       "      <td>3.0</td>\n",
       "      <td>0.0</td>\n",
       "      <td>1</td>\n",
       "      <td>6.0</td>\n",
       "      <td>0</td>\n",
       "      <td>0</td>\n",
       "      <td>1</td>\n",
       "      <td>0</td>\n",
       "      <td>0</td>\n",
       "      <td>0</td>\n",
       "      <td>...</td>\n",
       "      <td>1.0</td>\n",
       "      <td>0.0</td>\n",
       "      <td>5.0</td>\n",
       "      <td>1</td>\n",
       "      <td>0</td>\n",
       "      <td>1</td>\n",
       "      <td>0</td>\n",
       "      <td>0</td>\n",
       "      <td>0</td>\n",
       "      <td>0.0</td>\n",
       "    </tr>\n",
       "    <tr>\n",
       "      <th>4</th>\n",
       "      <td>4.0</td>\n",
       "      <td>5.0</td>\n",
       "      <td>1</td>\n",
       "      <td>7.0</td>\n",
       "      <td>0</td>\n",
       "      <td>0</td>\n",
       "      <td>0</td>\n",
       "      <td>0</td>\n",
       "      <td>0</td>\n",
       "      <td>1</td>\n",
       "      <td>...</td>\n",
       "      <td>0.0</td>\n",
       "      <td>0.0</td>\n",
       "      <td>4.0</td>\n",
       "      <td>0</td>\n",
       "      <td>1</td>\n",
       "      <td>1</td>\n",
       "      <td>0</td>\n",
       "      <td>0</td>\n",
       "      <td>1</td>\n",
       "      <td>0.0</td>\n",
       "    </tr>\n",
       "  </tbody>\n",
       "</table>\n",
       "<p>5 rows × 59 columns</p>\n",
       "</div>"
      ],
      "text/plain": [
       "    id  ps_ind_01 ps_ind_02_cat  ps_ind_03 ps_ind_04_cat ps_ind_05_cat  \\\n",
       "0  0.0        0.0             1        8.0             1             0   \n",
       "1  1.0        4.0             2        5.0             1             0   \n",
       "2  2.0        5.0             1        3.0             0             0   \n",
       "3  3.0        0.0             1        6.0             0             0   \n",
       "4  4.0        5.0             1        7.0             0             0   \n",
       "\n",
       "  ps_ind_06_bin ps_ind_07_bin ps_ind_08_bin ps_ind_09_bin   ...   ps_calc_12  \\\n",
       "0             0             1             0             0   ...          1.0   \n",
       "1             0             0             0             1   ...          0.0   \n",
       "2             0             0             0             1   ...          0.0   \n",
       "3             1             0             0             0   ...          1.0   \n",
       "4             0             0             0             1   ...          0.0   \n",
       "\n",
       "  ps_calc_13 ps_calc_14 ps_calc_15_bin  ps_calc_16_bin  ps_calc_17_bin  \\\n",
       "0        1.0       12.0              0               1               1   \n",
       "1        3.0       10.0              0               0               1   \n",
       "2        2.0        4.0              0               0               0   \n",
       "3        0.0        5.0              1               0               1   \n",
       "4        0.0        4.0              0               1               1   \n",
       "\n",
       "  ps_calc_18_bin ps_calc_19_bin ps_calc_20_bin  target  \n",
       "0              0              0              1     0.0  \n",
       "1              1              0              1     0.0  \n",
       "2              0              0              0     0.0  \n",
       "3              0              0              0     0.0  \n",
       "4              0              0              1     0.0  \n",
       "\n",
       "[5 rows x 59 columns]"
      ]
     },
     "execution_count": 17,
     "metadata": {},
     "output_type": "execute_result"
    }
   ],
   "source": [
    "test_data_df.head()"
   ]
  },
  {
   "cell_type": "markdown",
   "metadata": {},
   "source": [
    "### Create validation set indices"
   ]
  },
  {
   "cell_type": "code",
   "execution_count": 18,
   "metadata": {
    "ExecuteTime": {
     "end_time": "2017-11-28T22:19:32.725306Z",
     "start_time": "2017-11-28T22:19:32.663589Z"
    }
   },
   "outputs": [],
   "source": [
    "# Tune VAL_PCT hyperparameter\n",
    "# Tune MAX_FOLDS hyperparameter\n",
    "VAL_FRAC = 0.01\n",
    "MAX_FOLDS = 5\n",
    "\n",
    "num_obs = train_data_df.shape[0]\n",
    "\n",
    "cv_dict = {f'ids_fold_{num_fold}': get_cv_idxs(n=num_obs, cv_idx=num_fold, val_pct=VAL_FRAC) for num_fold in range(MAX_FOLDS)}"
   ]
  },
  {
   "cell_type": "code",
   "execution_count": 19,
   "metadata": {
    "ExecuteTime": {
     "end_time": "2017-11-28T22:19:32.738932Z",
     "start_time": "2017-11-28T22:19:32.726478Z"
    }
   },
   "outputs": [
    {
     "data": {
      "text/plain": [
       "5952"
      ]
     },
     "execution_count": 19,
     "metadata": {},
     "output_type": "execute_result"
    }
   ],
   "source": [
    "len(cv_dict['ids_fold_0'])"
   ]
  },
  {
   "cell_type": "markdown",
   "metadata": {},
   "source": [
    "### Set response variable"
   ]
  },
  {
   "cell_type": "code",
   "execution_count": 20,
   "metadata": {
    "ExecuteTime": {
     "end_time": "2017-11-28T22:19:32.751234Z",
     "start_time": "2017-11-28T22:19:32.739905Z"
    }
   },
   "outputs": [],
   "source": [
    "TARGET_VAR = \"target\""
   ]
  },
  {
   "cell_type": "markdown",
   "metadata": {},
   "source": [
    "### Train set, response variable, feature scaling"
   ]
  },
  {
   "cell_type": "code",
   "execution_count": 21,
   "metadata": {
    "ExecuteTime": {
     "end_time": "2017-11-28T22:19:42.048499Z",
     "start_time": "2017-11-28T22:19:32.752259Z"
    }
   },
   "outputs": [],
   "source": [
    "# This function is giving weird numbers to id\n",
    "train, target, nas, mapper = proc_df(df=train_data_df, y_fld=TARGET_VAR, do_scale=True)\n",
    "\n",
    "# for test\n",
    "test_df, target2, nas2, mapper2 = proc_df(df=test_data_df, y_fld=TARGET_VAR, do_scale=True, #skip_flds=['id'],\n",
    "                                  mapper=mapper, na_dict=nas)"
   ]
  },
  {
   "cell_type": "code",
   "execution_count": 22,
   "metadata": {
    "ExecuteTime": {
     "end_time": "2017-11-28T22:19:42.061396Z",
     "start_time": "2017-11-28T22:19:42.049612Z"
    }
   },
   "outputs": [],
   "source": [
    "# Reset Id doesnt appear to work\n",
    "#train.id =train_data_df.id\n",
    "#test_df.id=test_data_df.id"
   ]
  },
  {
   "cell_type": "code",
   "execution_count": 23,
   "metadata": {
    "ExecuteTime": {
     "end_time": "2017-11-28T22:19:42.091044Z",
     "start_time": "2017-11-28T22:19:42.062383Z"
    }
   },
   "outputs": [
    {
     "data": {
      "text/plain": [
       "0        -1.732308\n",
       "1        -1.732303\n",
       "2        -1.732294\n",
       "3        -1.732287\n",
       "4        -1.732284\n",
       "5        -1.732280\n",
       "6        -1.732277\n",
       "7        -1.732273\n",
       "8        -1.732263\n",
       "9        -1.732259\n",
       "10       -1.732245\n",
       "11       -1.732242\n",
       "12       -1.732240\n",
       "13       -1.732224\n",
       "14       -1.732217\n",
       "15       -1.732212\n",
       "16       -1.732207\n",
       "17       -1.732189\n",
       "18       -1.732182\n",
       "19       -1.732175\n",
       "20       -1.732172\n",
       "21       -1.732170\n",
       "22       -1.732156\n",
       "23       -1.732152\n",
       "24       -1.732145\n",
       "25       -1.732142\n",
       "26       -1.732140\n",
       "27       -1.732138\n",
       "28       -1.732128\n",
       "29       -1.732126\n",
       "            ...   \n",
       "595182    1.733111\n",
       "595183    1.733125\n",
       "595184    1.733127\n",
       "595185    1.733132\n",
       "595186    1.733139\n",
       "595187    1.733141\n",
       "595188    1.733151\n",
       "595189    1.733153\n",
       "595190    1.733155\n",
       "595191    1.733165\n",
       "595192    1.733176\n",
       "595193    1.733181\n",
       "595194    1.733183\n",
       "595195    1.733193\n",
       "595196    1.733200\n",
       "595197    1.733211\n",
       "595198    1.733216\n",
       "595199    1.733221\n",
       "595200    1.733225\n",
       "595201    1.733230\n",
       "595202    1.733242\n",
       "595203    1.733251\n",
       "595204    1.733258\n",
       "595205    1.733260\n",
       "595206    1.733265\n",
       "595207    1.733269\n",
       "595208    1.733276\n",
       "595209    1.733279\n",
       "595210    1.733288\n",
       "595211    1.733302\n",
       "Name: id, Length: 595212, dtype: float64"
      ]
     },
     "execution_count": 23,
     "metadata": {},
     "output_type": "execute_result"
    }
   ],
   "source": [
    "train.id"
   ]
  },
  {
   "cell_type": "markdown",
   "metadata": {},
   "source": [
    "### Convert categorical values to type `category`"
   ]
  },
  {
   "cell_type": "code",
   "execution_count": 24,
   "metadata": {
    "ExecuteTime": {
     "end_time": "2017-11-28T22:19:42.625662Z",
     "start_time": "2017-11-28T22:19:42.092010Z"
    }
   },
   "outputs": [],
   "source": [
    "for var in cat_vars: \n",
    "    train[var] = train[var].astype('category').cat.as_ordered()\n",
    "    test_df[var] = test_df[var].astype('category').cat.as_ordered()"
   ]
  },
  {
   "cell_type": "markdown",
   "metadata": {},
   "source": [
    "### Convert remaining variables to `float32`"
   ]
  },
  {
   "cell_type": "code",
   "execution_count": 25,
   "metadata": {
    "ExecuteTime": {
     "end_time": "2017-11-28T22:19:43.059280Z",
     "start_time": "2017-11-28T22:19:42.626787Z"
    }
   },
   "outputs": [
    {
     "data": {
      "text/plain": [
       "array([ 0.,  0.,  0.,  0.,  0.,  0.,  0.,  0.,  0.,  1.,  0.,  0.,  0.,  0.,  0.,  0.,  0.,  0.,  0.,  1.,\n",
       "       ...,  0.,  0.,  0.,  0.,  0.,  0.,  0.,  0.,  0.,  0.,  0.,  0.,  0.,  0.,  0.,  0.,  0.,  0.,  0.,  0.], dtype=float32)"
      ]
     },
     "execution_count": 25,
     "metadata": {},
     "output_type": "execute_result"
    }
   ],
   "source": [
    "for var in cont_vars:\n",
    "    train[var] = train[var].astype('float32')\n",
    "    test_df[var] = test_df[var].astype('float32')\n",
    "\n",
    "target.astype('float32')"
   ]
  },
  {
   "cell_type": "code",
   "execution_count": 26,
   "metadata": {
    "ExecuteTime": {
     "end_time": "2017-11-28T22:19:43.505197Z",
     "start_time": "2017-11-28T22:19:43.060290Z"
    }
   },
   "outputs": [
    {
     "name": "stdout",
     "output_type": "stream",
     "text": [
      "<class 'pandas.core.frame.DataFrame'>\n",
      "RangeIndex: 595212 entries, 0 to 595211\n",
      "Data columns (total 58 columns):\n",
      "id                595212 non-null float32\n",
      "ps_ind_01         595212 non-null float32\n",
      "ps_ind_02_cat     595212 non-null category\n",
      "ps_ind_03         595212 non-null float32\n",
      "ps_ind_04_cat     595212 non-null category\n",
      "ps_ind_05_cat     595212 non-null category\n",
      "ps_ind_06_bin     595212 non-null category\n",
      "ps_ind_07_bin     595212 non-null category\n",
      "ps_ind_08_bin     595212 non-null category\n",
      "ps_ind_09_bin     595212 non-null category\n",
      "ps_ind_10_bin     595212 non-null category\n",
      "ps_ind_11_bin     595212 non-null category\n",
      "ps_ind_12_bin     595212 non-null category\n",
      "ps_ind_13_bin     595212 non-null category\n",
      "ps_ind_14         595212 non-null float32\n",
      "ps_ind_15         595212 non-null float32\n",
      "ps_ind_16_bin     595212 non-null category\n",
      "ps_ind_17_bin     595212 non-null category\n",
      "ps_ind_18_bin     595212 non-null category\n",
      "ps_reg_01         595212 non-null float32\n",
      "ps_reg_02         595212 non-null float32\n",
      "ps_reg_03         595212 non-null float32\n",
      "ps_car_01_cat     595212 non-null category\n",
      "ps_car_02_cat     595212 non-null category\n",
      "ps_car_03_cat     595212 non-null category\n",
      "ps_car_04_cat     595212 non-null category\n",
      "ps_car_05_cat     595212 non-null category\n",
      "ps_car_06_cat     595212 non-null category\n",
      "ps_car_07_cat     595212 non-null category\n",
      "ps_car_08_cat     595212 non-null category\n",
      "ps_car_09_cat     595212 non-null category\n",
      "ps_car_10_cat     595212 non-null category\n",
      "ps_car_11_cat     595212 non-null category\n",
      "ps_car_11         595212 non-null float32\n",
      "ps_car_12         595212 non-null float32\n",
      "ps_car_13         595212 non-null float32\n",
      "ps_car_14         595212 non-null float32\n",
      "ps_car_15         595212 non-null float32\n",
      "ps_calc_01        595212 non-null float32\n",
      "ps_calc_02        595212 non-null float32\n",
      "ps_calc_03        595212 non-null float32\n",
      "ps_calc_04        595212 non-null float32\n",
      "ps_calc_05        595212 non-null float32\n",
      "ps_calc_06        595212 non-null float32\n",
      "ps_calc_07        595212 non-null float32\n",
      "ps_calc_08        595212 non-null float32\n",
      "ps_calc_09        595212 non-null float32\n",
      "ps_calc_10        595212 non-null float32\n",
      "ps_calc_11        595212 non-null float32\n",
      "ps_calc_12        595212 non-null float32\n",
      "ps_calc_13        595212 non-null float32\n",
      "ps_calc_14        595212 non-null float32\n",
      "ps_calc_15_bin    595212 non-null category\n",
      "ps_calc_16_bin    595212 non-null category\n",
      "ps_calc_17_bin    595212 non-null category\n",
      "ps_calc_18_bin    595212 non-null category\n",
      "ps_calc_19_bin    595212 non-null category\n",
      "ps_calc_20_bin    595212 non-null category\n",
      "dtypes: category(31), float32(27)\n",
      "memory usage: 78.9 MB\n"
     ]
    }
   ],
   "source": [
    "train.info()"
   ]
  },
  {
   "cell_type": "markdown",
   "metadata": {},
   "source": [
    "### Gini metric"
   ]
  },
  {
   "cell_type": "code",
   "execution_count": 27,
   "metadata": {
    "ExecuteTime": {
     "end_time": "2017-11-28T22:19:43.520591Z",
     "start_time": "2017-11-28T22:19:43.506305Z"
    }
   },
   "outputs": [],
   "source": [
    "from sklearn.metrics import roc_auc_score\n",
    "\n",
    "inv_log = lambda x : np.exp(x)\n",
    "\n",
    "def gini_metric(preds, targs):\n",
    "    preds = inv_log(preds)\n",
    "    auc = roc_auc_score(y_true=targs, y_score=preds)\n",
    "    return 2 * auc - 1"
   ]
  },
  {
   "cell_type": "markdown",
   "metadata": {},
   "source": [
    "### Create embeddings"
   ]
  },
  {
   "cell_type": "code",
   "execution_count": 28,
   "metadata": {
    "ExecuteTime": {
     "end_time": "2017-11-28T22:19:43.533713Z",
     "start_time": "2017-11-28T22:19:43.521574Z"
    }
   },
   "outputs": [],
   "source": [
    "cat_sz = [(c, len(train[c].cat.categories) + 1) for c in cat_vars]"
   ]
  },
  {
   "cell_type": "code",
   "execution_count": 29,
   "metadata": {
    "ExecuteTime": {
     "end_time": "2017-11-28T22:19:43.547514Z",
     "start_time": "2017-11-28T22:19:43.534719Z"
    }
   },
   "outputs": [
    {
     "data": {
      "text/plain": [
       "[('ps_ind_02_cat', 6),\n",
       " ('ps_ind_04_cat', 4),\n",
       " ('ps_ind_05_cat', 9),\n",
       " ('ps_car_01_cat', 14),\n",
       " ('ps_car_02_cat', 4),\n",
       " ('ps_car_03_cat', 4),\n",
       " ('ps_car_04_cat', 11),\n",
       " ('ps_car_05_cat', 4),\n",
       " ('ps_car_06_cat', 19),\n",
       " ('ps_car_07_cat', 4),\n",
       " ('ps_car_08_cat', 3),\n",
       " ('ps_car_09_cat', 7),\n",
       " ('ps_car_10_cat', 4),\n",
       " ('ps_car_11_cat', 105),\n",
       " ('ps_ind_06_bin', 3),\n",
       " ('ps_ind_07_bin', 3),\n",
       " ('ps_ind_08_bin', 3),\n",
       " ('ps_ind_09_bin', 3),\n",
       " ('ps_ind_10_bin', 3),\n",
       " ('ps_ind_11_bin', 3),\n",
       " ('ps_ind_12_bin', 3),\n",
       " ('ps_ind_13_bin', 3),\n",
       " ('ps_ind_16_bin', 3),\n",
       " ('ps_ind_17_bin', 3),\n",
       " ('ps_ind_18_bin', 3),\n",
       " ('ps_calc_15_bin', 3),\n",
       " ('ps_calc_16_bin', 3),\n",
       " ('ps_calc_17_bin', 3),\n",
       " ('ps_calc_18_bin', 3),\n",
       " ('ps_calc_19_bin', 3),\n",
       " ('ps_calc_20_bin', 3)]"
      ]
     },
     "execution_count": 29,
     "metadata": {},
     "output_type": "execute_result"
    }
   ],
   "source": [
    "cat_sz"
   ]
  },
  {
   "cell_type": "code",
   "execution_count": 30,
   "metadata": {
    "ExecuteTime": {
     "end_time": "2017-11-28T22:19:43.560050Z",
     "start_time": "2017-11-28T22:19:43.548493Z"
    }
   },
   "outputs": [],
   "source": [
    "emb_szs = [(c, min(100, (c + 1) // 2)) for _, c in cat_sz]"
   ]
  },
  {
   "cell_type": "code",
   "execution_count": 31,
   "metadata": {
    "ExecuteTime": {
     "end_time": "2017-11-28T22:19:43.573901Z",
     "start_time": "2017-11-28T22:19:43.561034Z"
    },
    "scrolled": true
   },
   "outputs": [
    {
     "data": {
      "text/plain": [
       "[(6, 3),\n",
       " (4, 2),\n",
       " (9, 5),\n",
       " (14, 7),\n",
       " (4, 2),\n",
       " (4, 2),\n",
       " (11, 6),\n",
       " (4, 2),\n",
       " (19, 10),\n",
       " (4, 2),\n",
       " (3, 2),\n",
       " (7, 4),\n",
       " (4, 2),\n",
       " (105, 53),\n",
       " (3, 2),\n",
       " (3, 2),\n",
       " (3, 2),\n",
       " (3, 2),\n",
       " (3, 2),\n",
       " (3, 2),\n",
       " (3, 2),\n",
       " (3, 2),\n",
       " (3, 2),\n",
       " (3, 2),\n",
       " (3, 2),\n",
       " (3, 2),\n",
       " (3, 2),\n",
       " (3, 2),\n",
       " (3, 2),\n",
       " (3, 2),\n",
       " (3, 2)]"
      ]
     },
     "execution_count": 31,
     "metadata": {},
     "output_type": "execute_result"
    }
   ],
   "source": [
    "emb_szs"
   ]
  },
  {
   "cell_type": "markdown",
   "metadata": {},
   "source": [
    "### Model Architecture / Hyperparameters"
   ]
  },
  {
   "cell_type": "code",
   "execution_count": 32,
   "metadata": {
    "ExecuteTime": {
     "end_time": "2017-11-28T22:19:43.587220Z",
     "start_time": "2017-11-28T22:19:43.574989Z"
    }
   },
   "outputs": [],
   "source": [
    "layer_1 = 1024\n",
    "layer_2 = 512\n",
    "layer_3 = 256\n",
    "batch_size = 256\n",
    "embed_dropout = 0.01\n",
    "layer_dropout = 0.15"
   ]
  },
  {
   "cell_type": "code",
   "execution_count": 33,
   "metadata": {
    "ExecuteTime": {
     "end_time": "2017-11-28T22:19:43.600015Z",
     "start_time": "2017-11-28T22:19:43.588186Z"
    }
   },
   "outputs": [],
   "source": [
    "# Original\n",
    "# Create model with all category variables\n",
    "#md = ColumnarModelData.from_data_frame(path=PATH, \n",
    "#                                       val_idxs=cv_dict['ids_fold_0'], \n",
    "#                                       df=train, \n",
    "#                                       y=target, \n",
    "#                                       cat_flds=cat_vars, \n",
    "#                                       bs=batch_size)"
   ]
  },
  {
   "cell_type": "code",
   "execution_count": 34,
   "metadata": {
    "ExecuteTime": {
     "end_time": "2017-11-28T22:19:44.991162Z",
     "start_time": "2017-11-28T22:19:43.600976Z"
    }
   },
   "outputs": [],
   "source": [
    "# Create model with a test to allow for predictions\n",
    "md = ColumnarModelData.from_data_frame(path=PATH, \n",
    "                                       val_idxs=cv_dict['ids_fold_0'], \n",
    "                                       df=train, \n",
    "                                       y=target, \n",
    "                                       cat_flds=cat_vars, \n",
    "                                       bs=batch_size,\n",
    "                                       test_df=test_df)"
   ]
  },
  {
   "cell_type": "markdown",
   "metadata": {},
   "source": [
    "### Model learner"
   ]
  },
  {
   "cell_type": "code",
   "execution_count": 35,
   "metadata": {
    "ExecuteTime": {
     "end_time": "2017-11-28T22:22:41.309894Z",
     "start_time": "2017-11-28T22:19:44.992235Z"
    }
   },
   "outputs": [],
   "source": [
    "# Use all categorical variables\n",
    "m = md.get_learner(emb_szs=emb_szs, \n",
    "                   n_cont=(len(train.columns) - len(cat_vars)),\n",
    "                   emb_drop=embed_dropout, \n",
    "                   out_sz=1, \n",
    "                   szs=[layer_1, layer_2], \n",
    "                   drops=[layer_dropout, layer_dropout], \n",
    "                   y_range=None)\n"
   ]
  },
  {
   "cell_type": "code",
   "execution_count": 36,
   "metadata": {
    "ExecuteTime": {
     "end_time": "2017-11-28T22:22:55.750109Z",
     "start_time": "2017-11-28T22:22:41.311040Z"
    }
   },
   "outputs": [
    {
     "data": {
      "application/vnd.jupyter.widget-view+json": {
       "model_id": "ae645fd5688845ea9a868875035b3115",
       "version_major": 2,
       "version_minor": 0
      },
      "text/html": [
       "<p>Failed to display Jupyter Widget of type <code>HBox</code>.</p>\n",
       "<p>\n",
       "  If you're reading this message in the Jupyter Notebook or JupyterLab Notebook, it may mean\n",
       "  that the widgets JavaScript is still loading. If this message persists, it\n",
       "  likely means that the widgets JavaScript library is either not installed or\n",
       "  not enabled. See the <a href=\"https://ipywidgets.readthedocs.io/en/stable/user_install.html\">Jupyter\n",
       "  Widgets Documentation</a> for setup instructions.\n",
       "</p>\n",
       "<p>\n",
       "  If you're reading this message in another frontend (for example, a static\n",
       "  rendering on GitHub or <a href=\"https://nbviewer.jupyter.org/\">NBViewer</a>),\n",
       "  it may mean that your frontend doesn't currently support widgets.\n",
       "</p>\n"
      ],
      "text/plain": [
       "HBox(children=(IntProgress(value=0, description='Epoch', max=1), HTML(value='')))"
      ]
     },
     "metadata": {},
     "output_type": "display_data"
    },
    {
     "name": "stdout",
     "output_type": "stream",
     "text": [
      " 66%|██████▋   | 1528/2302 [00:14<00:07, 106.12it/s, loss=464]   "
     ]
    }
   ],
   "source": [
    "m.lr_find()"
   ]
  },
  {
   "cell_type": "code",
   "execution_count": 37,
   "metadata": {
    "ExecuteTime": {
     "end_time": "2017-11-28T22:22:56.065999Z",
     "start_time": "2017-11-28T22:22:55.751174Z"
    }
   },
   "outputs": [
    {
     "data": {
      "image/png": "[encoded data removed]",
      "text/plain": [
       "<matplotlib.figure.Figure at 0x7fb282e59c50>"
      ]
     },
     "metadata": {},
     "output_type": "display_data"
    }
   ],
   "source": [
    "m.sched.plot()"
   ]
  },
  {
   "cell_type": "code",
   "execution_count": 38,
   "metadata": {
    "ExecuteTime": {
     "end_time": "2017-11-28T22:22:56.078763Z",
     "start_time": "2017-11-28T22:22:56.067040Z"
    }
   },
   "outputs": [],
   "source": [
    "lr = 0.0001"
   ]
  },
  {
   "cell_type": "code",
   "execution_count": 39,
   "metadata": {
    "ExecuteTime": {
     "end_time": "2017-11-28T22:24:03.403286Z",
     "start_time": "2017-11-28T22:22:56.080411Z"
    }
   },
   "outputs": [
    {
     "data": {
      "application/vnd.jupyter.widget-view+json": {
       "model_id": "9a7daa8d037e41f382b6ddff44719c61",
       "version_major": 2,
       "version_minor": 0
      },
      "text/html": [
       "<p>Failed to display Jupyter Widget of type <code>HBox</code>.</p>\n",
       "<p>\n",
       "  If you're reading this message in the Jupyter Notebook or JupyterLab Notebook, it may mean\n",
       "  that the widgets JavaScript is still loading. If this message persists, it\n",
       "  likely means that the widgets JavaScript library is either not installed or\n",
       "  not enabled. See the <a href=\"https://ipywidgets.readthedocs.io/en/stable/user_install.html\">Jupyter\n",
       "  Widgets Documentation</a> for setup instructions.\n",
       "</p>\n",
       "<p>\n",
       "  If you're reading this message in another frontend (for example, a static\n",
       "  rendering on GitHub or <a href=\"https://nbviewer.jupyter.org/\">NBViewer</a>),\n",
       "  it may mean that your frontend doesn't currently support widgets.\n",
       "</p>\n"
      ],
      "text/plain": [
       "HBox(children=(IntProgress(value=0, description='Epoch', max=5), HTML(value='')))"
      ]
     },
     "metadata": {},
     "output_type": "display_data"
    },
    {
     "name": "stdout",
     "output_type": "stream",
     "text": [
      "\n",
      "  0%|          | 0/2302 [00:00<?, ?it/s]\u001b[A\n",
      "  0%|          | 0/2302 [00:00<?, ?it/s, loss=0.482]\u001b[A\n",
      "  0%|          | 1/2302 [00:00<12:41,  3.02it/s, loss=0.482]\u001b[A\n",
      "  0%|          | 1/2302 [00:00<13:34,  2.82it/s, loss=0.39] \u001b[A\n",
      "  0%|          | 1/2302 [00:00<14:30,  2.64it/s, loss=0.309]\u001b[A\n",
      "  0%|          | 1/2302 [00:00<15:19,  2.50it/s, loss=0.284]\u001b[A\n",
      "  0%|          | 1/2302 [00:00<16:16,  2.36it/s, loss=0.281]\u001b[A\n",
      "  0%|          | 1/2302 [00:00<17:11,  2.23it/s, loss=0.28] \u001b[A\n",
      "  0%|          | 6/2302 [00:00<02:52, 13.35it/s, loss=0.28]\u001b[A\n",
      "  0%|          | 6/2302 [00:00<03:00, 12.73it/s, loss=0.272]\u001b[A\n",
      "  0%|          | 6/2302 [00:00<03:08, 12.19it/s, loss=0.263]\u001b[A\n",
      "  0%|          | 6/2302 [00:00<03:16, 11.66it/s, loss=0.253]\u001b[A\n",
      "  0%|          | 6/2302 [00:00<03:25, 11.17it/s, loss=0.242]\u001b[A\n",
      "  0%|          | 6/2302 [00:00<03:34, 10.71it/s, loss=0.233]\u001b[A\n",
      "  0%|          | 11/2302 [00:00<01:57, 19.56it/s, loss=0.233]\u001b[A\n",
      "  0%|          | 11/2302 [00:00<02:02, 18.77it/s, loss=0.226]\u001b[A\n",
      "  0%|          | 11/2302 [00:00<02:06, 18.10it/s, loss=0.223]\u001b[A\n",
      "  0%|          | 11/2302 [00:00<02:11, 17.47it/s, loss=0.219]\u001b[A\n",
      "  0%|          | 11/2302 [00:00<02:16, 16.81it/s, loss=0.215]\u001b[A\n",
      "  0%|          | 11/2302 [00:00<02:21, 16.23it/s, loss=0.212]\u001b[A\n",
      "  1%|          | 16/2302 [00:00<01:37, 23.54it/s, loss=0.212]\u001b[A\n",
      "  1%|          | 16/2302 [00:00<01:40, 22.73it/s, loss=0.208]\u001b[A\n",
      "  1%|          | 16/2302 [00:00<01:43, 21.99it/s, loss=0.202]\u001b[A\n",
      "  1%|          | 16/2302 [00:00<01:47, 21.35it/s, loss=0.197]\u001b[A\n",
      "  1%|          | 16/2302 [00:00<01:50, 20.71it/s, loss=0.194]\u001b[A\n",
      "  1%|          | 16/2302 [00:00<01:53, 20.11it/s, loss=0.19] \u001b[A\n",
      "  1%|          | 21/2302 [00:00<01:26, 26.33it/s, loss=0.19]\u001b[A\n",
      "  1%|          | 21/2302 [00:00<01:29, 25.60it/s, loss=0.187]\u001b[A\n",
      "  1%|          | 21/2302 [00:00<01:31, 24.93it/s, loss=0.184]\u001b[A\n",
      "  1%|          | 21/2302 [00:00<01:33, 24.31it/s, loss=0.182]\u001b[A\n",
      "  1%|          | 21/2302 [00:00<01:36, 23.65it/s, loss=0.18] \u001b[A\n",
      "  1%|          | 21/2302 [00:00<01:39, 23.04it/s, loss=0.177]\u001b[A\n",
      "  1%|          | 26/2302 [00:00<01:19, 28.46it/s, loss=0.177]\u001b[A\n",
      "  1%|          | 26/2302 [00:00<01:21, 27.78it/s, loss=0.174]\u001b[A\n",
      "  1%|          | 26/2302 [00:00<01:23, 27.15it/s, loss=0.172]\u001b[A\n",
      "  1%|          | 26/2302 [00:00<01:25, 26.52it/s, loss=0.17] \u001b[A\n",
      "  1%|          | 26/2302 [00:01<01:27, 25.87it/s, loss=0.166]\u001b[A\n",
      "  1%|          | 26/2302 [00:01<01:29, 25.30it/s, loss=0.165]\u001b[A\n",
      "  1%|▏         | 31/2302 [00:01<01:15, 30.10it/s, loss=0.165]\u001b[A\n",
      "  1%|▏         | 31/2302 [00:01<01:17, 29.46it/s, loss=0.163]\u001b[A\n",
      "  1%|▏         | 31/2302 [00:01<01:18, 28.87it/s, loss=0.162]\u001b[A\n",
      "  1%|▏         | 31/2302 [00:01<01:20, 28.26it/s, loss=0.159]\u001b[A\n",
      "  1%|▏         | 31/2302 [00:01<01:22, 27.67it/s, loss=0.157]\u001b[A\n",
      "  1%|▏         | 31/2302 [00:01<01:23, 27.09it/s, loss=0.155]\u001b[A\n",
      "  2%|▏         | 36/2302 [00:01<01:12, 31.35it/s, loss=0.155]\u001b[A\n",
      "  2%|▏         | 36/2302 [00:01<01:13, 30.76it/s, loss=0.153]\u001b[A\n",
      "  2%|▏         | 36/2302 [00:01<01:15, 30.18it/s, loss=0.153]\u001b[A\n",
      "  2%|▏         | 36/2302 [00:01<01:16, 29.60it/s, loss=0.153]\u001b[A\n",
      "  2%|▏         | 36/2302 [00:01<01:18, 29.03it/s, loss=0.151]\u001b[A\n",
      "  2%|▏         | 36/2302 [00:01<01:19, 28.51it/s, loss=0.149]\u001b[A\n",
      "  2%|▏         | 41/2302 [00:01<01:09, 32.36it/s, loss=0.149]\u001b[A\n",
      "  2%|▏         | 41/2302 [00:01<01:11, 31.81it/s, loss=0.147]\u001b[A\n",
      "  2%|▏         | 41/2302 [00:01<01:12, 31.27it/s, loss=0.146]\u001b[A\n",
      "  2%|▏         | 41/2302 [00:01<01:13, 30.74it/s, loss=0.146]\u001b[A\n",
      "  2%|▏         | 41/2302 [00:01<01:14, 30.21it/s, loss=0.144]\u001b[A\n",
      "  2%|▏         | 41/2302 [00:01<01:16, 29.70it/s, loss=0.144]\u001b[A\n",
      "  2%|▏         | 46/2302 [00:01<01:07, 33.22it/s, loss=0.144]\u001b[A\n",
      "  2%|▏         | 46/2302 [00:01<01:09, 32.70it/s, loss=0.143]\u001b[A\n",
      "  2%|▏         | 46/2302 [00:01<01:10, 32.21it/s, loss=0.141]\u001b[A\n",
      "  2%|▏         | 46/2302 [00:01<01:11, 31.73it/s, loss=0.14] \u001b[A\n",
      "  2%|▏         | 46/2302 [00:01<01:12, 31.27it/s, loss=0.14]\u001b[A\n",
      "  2%|▏         | 46/2302 [00:01<01:13, 30.85it/s, loss=0.139]\u001b[A\n",
      "  2%|▏         | 51/2302 [00:01<01:05, 34.17it/s, loss=0.139]\u001b[A\n",
      "  2%|▏         | 51/2302 [00:01<01:06, 33.70it/s, loss=0.137]\u001b[A\n",
      "  2%|▏         | 51/2302 [00:01<01:07, 33.23it/s, loss=0.137]\u001b[A\n",
      "  2%|▏         | 51/2302 [00:01<01:08, 32.79it/s, loss=0.135]\u001b[A\n",
      "  2%|▏         | 51/2302 [00:01<01:09, 32.36it/s, loss=0.135]\u001b[A\n",
      "  2%|▏         | 51/2302 [00:01<01:10, 31.93it/s, loss=0.135]\u001b[A\n",
      "  2%|▏         | 56/2302 [00:01<01:04, 35.01it/s, loss=0.135]\u001b[A\n",
      "  2%|▏         | 56/2302 [00:01<01:04, 34.57it/s, loss=0.134]\u001b[A\n",
      "  2%|▏         | 56/2302 [00:01<01:05, 34.12it/s, loss=0.133]\u001b[A\n",
      "  2%|▏         | 56/2302 [00:01<01:06, 33.70it/s, loss=0.132]\u001b[A\n",
      "  2%|▏         | 56/2302 [00:01<01:07, 33.29it/s, loss=0.131]\u001b[A\n",
      "  2%|▏         | 56/2302 [00:01<01:08, 32.89it/s, loss=0.13] \u001b[A\n",
      "  3%|▎         | 61/2302 [00:01<01:02, 35.78it/s, loss=0.13]\u001b[A\n",
      "  3%|▎         | 61/2302 [00:01<01:03, 35.34it/s, loss=0.129]\u001b[A\n",
      "  3%|▎         | 61/2302 [00:01<01:04, 34.92it/s, loss=0.128]\u001b[A\n",
      "  3%|▎         | 61/2302 [00:01<01:04, 34.51it/s, loss=0.127]\u001b[A\n",
      "  3%|▎         | 61/2302 [00:01<01:05, 34.10it/s, loss=0.126]\u001b[A\n",
      "  3%|▎         | 61/2302 [00:01<01:06, 33.71it/s, loss=0.125]\u001b[A\n",
      "  3%|▎         | 66/2302 [00:01<01:01, 36.43it/s, loss=0.125]\u001b[A\n",
      "  3%|▎         | 66/2302 [00:01<01:02, 36.02it/s, loss=0.124]\u001b[A\n",
      "  3%|▎         | 66/2302 [00:01<01:02, 35.62it/s, loss=0.123]\u001b[A\n",
      "  3%|▎         | 66/2302 [00:01<01:03, 35.22it/s, loss=0.122]\u001b[A\n",
      "  3%|▎         | 66/2302 [00:01<01:04, 34.83it/s, loss=0.121]\u001b[A\n",
      "  3%|▎         | 66/2302 [00:01<01:04, 34.45it/s, loss=0.12] \u001b[A\n",
      "  3%|▎         | 71/2302 [00:01<01:00, 37.01it/s, loss=0.12]\u001b[A\n",
      "  3%|▎         | 71/2302 [00:01<01:00, 36.60it/s, loss=0.12]\u001b[A\n",
      "  3%|▎         | 71/2302 [00:01<01:01, 36.21it/s, loss=0.118]\u001b[A\n",
      "  3%|▎         | 71/2302 [00:01<01:02, 35.81it/s, loss=0.118]\u001b[A\n",
      "  3%|▎         | 71/2302 [00:02<01:02, 35.44it/s, loss=0.117]\u001b[A\n",
      "  3%|▎         | 71/2302 [00:02<01:03, 35.05it/s, loss=0.117]\u001b[A\n",
      "  3%|▎         | 76/2302 [00:02<00:59, 37.48it/s, loss=0.117]\u001b[A\n",
      "  3%|▎         | 76/2302 [00:02<00:59, 37.11it/s, loss=0.116]\u001b[A\n",
      "  3%|▎         | 76/2302 [00:02<01:00, 36.74it/s, loss=0.116]\u001b[A\n",
      "  3%|▎         | 76/2302 [00:02<01:01, 36.38it/s, loss=0.116]\u001b[A\n",
      "  3%|▎         | 76/2302 [00:02<01:01, 36.02it/s, loss=0.115]\u001b[A\n",
      "  3%|▎         | 76/2302 [00:02<01:02, 35.66it/s, loss=0.114]\u001b[A\n",
      "  4%|▎         | 81/2302 [00:02<00:58, 37.97it/s, loss=0.114]\u001b[A\n",
      "  4%|▎         | 81/2302 [00:02<00:59, 37.61it/s, loss=0.114]\u001b[A\n",
      "  4%|▎         | 81/2302 [00:02<00:59, 37.24it/s, loss=0.114]\u001b[A\n",
      "  4%|▎         | 81/2302 [00:02<01:00, 36.86it/s, loss=0.113]\u001b[A\n",
      "  4%|▎         | 81/2302 [00:02<01:00, 36.51it/s, loss=0.112]\u001b[A\n",
      "  4%|▎         | 81/2302 [00:02<01:01, 36.16it/s, loss=0.112]\u001b[A\n",
      "  4%|▎         | 86/2302 [00:02<00:57, 38.37it/s, loss=0.112]\u001b[A\n",
      "  4%|▎         | 86/2302 [00:02<00:58, 38.01it/s, loss=0.112]\u001b[A\n",
      "  4%|▎         | 86/2302 [00:02<00:58, 37.67it/s, loss=0.111]\u001b[A\n",
      "  4%|▎         | 86/2302 [00:02<00:59, 37.33it/s, loss=0.111]\u001b[A\n",
      "  4%|▎         | 86/2302 [00:02<00:59, 36.99it/s, loss=0.111]\u001b[A\n",
      "  4%|▎         | 86/2302 [00:02<01:00, 36.69it/s, loss=0.11] \u001b[A\n",
      "  4%|▍         | 91/2302 [00:02<00:57, 38.79it/s, loss=0.11]\u001b[A\n",
      "  4%|▍         | 91/2302 [00:02<00:57, 38.45it/s, loss=0.109]\u001b[A\n",
      "  4%|▍         | 91/2302 [00:02<00:58, 38.12it/s, loss=0.109]\u001b[A\n",
      "  4%|▍         | 91/2302 [00:02<00:58, 37.78it/s, loss=0.109]\u001b[A\n",
      "  4%|▍         | 91/2302 [00:02<00:59, 37.46it/s, loss=0.108]\u001b[A\n",
      "  4%|▍         | 91/2302 [00:02<00:59, 37.13it/s, loss=0.107]\u001b[A\n",
      "  4%|▍         | 96/2302 [00:02<00:56, 39.13it/s, loss=0.107]\u001b[A\n",
      "  4%|▍         | 96/2302 [00:02<00:56, 38.81it/s, loss=0.107]\u001b[A\n",
      "  4%|▍         | 96/2302 [00:02<00:57, 38.49it/s, loss=0.106]\u001b[A\n",
      "  4%|▍         | 96/2302 [00:02<00:57, 38.16it/s, loss=0.105]\u001b[A\n",
      "  4%|▍         | 96/2302 [00:02<00:58, 37.84it/s, loss=0.105]\u001b[A\n",
      "  4%|▍         | 96/2302 [00:02<00:58, 37.52it/s, loss=0.104]\u001b[A\n",
      "  4%|▍         | 101/2302 [00:02<00:55, 39.45it/s, loss=0.104]\u001b[A\n",
      "  4%|▍         | 101/2302 [00:02<00:56, 39.13it/s, loss=0.104]\u001b[A\n",
      "  4%|▍         | 101/2302 [00:02<00:56, 38.81it/s, loss=0.104]\u001b[A\n",
      "  4%|▍         | 101/2302 [00:02<00:57, 38.50it/s, loss=0.103]\u001b[A\n"
     ]
    },
    {
     "name": "stdout",
     "output_type": "stream",
     "text": [
      "  4%|▍         | 101/2302 [00:02<00:57, 38.19it/s, loss=0.102]\u001b[A\n",
      "  4%|▍         | 101/2302 [00:02<00:58, 37.89it/s, loss=0.102]\u001b[A\n",
      "  5%|▍         | 106/2302 [00:02<00:55, 39.74it/s, loss=0.102]\u001b[A\n",
      "  5%|▍         | 106/2302 [00:02<00:55, 39.42it/s, loss=0.102]\u001b[A\n",
      "  5%|▍         | 106/2302 [00:02<00:56, 39.11it/s, loss=0.101]\u001b[A\n",
      "  5%|▍         | 106/2302 [00:02<00:56, 38.81it/s, loss=0.101]\u001b[A\n",
      "  5%|▍         | 106/2302 [00:02<00:57, 38.52it/s, loss=0.101]\u001b[A\n",
      "  5%|▍         | 106/2302 [00:02<00:57, 38.22it/s, loss=0.1]  \u001b[A\n",
      "  5%|▍         | 111/2302 [00:02<00:54, 39.99it/s, loss=0.1]\u001b[A\n",
      "  5%|▍         | 111/2302 [00:02<00:55, 39.70it/s, loss=0.0993]\u001b[A\n",
      "  5%|▍         | 111/2302 [00:02<00:55, 39.40it/s, loss=0.0994]\u001b[A\n",
      "  5%|▍         | 111/2302 [00:02<00:56, 39.10it/s, loss=0.0988]\u001b[A\n",
      "  5%|▍         | 111/2302 [00:02<00:56, 38.81it/s, loss=0.0987]\u001b[A\n",
      "  5%|▍         | 111/2302 [00:02<00:56, 38.51it/s, loss=0.0984]\u001b[A\n",
      "  5%|▌         | 116/2302 [00:02<00:54, 40.22it/s, loss=0.0984]\u001b[A\n",
      "  5%|▌         | 116/2302 [00:02<00:54, 39.93it/s, loss=0.0981]\u001b[A\n",
      "  5%|▌         | 116/2302 [00:02<00:55, 39.65it/s, loss=0.0974]\u001b[A\n",
      "  5%|▌         | 116/2302 [00:02<00:55, 39.38it/s, loss=0.0974]\u001b[A\n",
      "  5%|▌         | 116/2302 [00:02<00:55, 39.09it/s, loss=0.0966]\u001b[A\n",
      "  5%|▌         | 116/2302 [00:02<00:56, 38.80it/s, loss=0.0962]\u001b[A\n",
      "  5%|▌         | 121/2302 [00:02<00:53, 40.45it/s, loss=0.0962]\u001b[A\n",
      "  5%|▌         | 121/2302 [00:03<00:54, 40.17it/s, loss=0.0959]\u001b[A\n",
      "  5%|▌         | 121/2302 [00:03<00:54, 39.90it/s, loss=0.0959]\u001b[A\n",
      "  5%|▌         | 121/2302 [00:03<00:55, 39.63it/s, loss=0.0954]\u001b[A\n",
      "  5%|▌         | 121/2302 [00:03<00:55, 39.35it/s, loss=0.0948]\u001b[A\n",
      "  5%|▌         | 121/2302 [00:03<00:55, 39.06it/s, loss=0.0942]\u001b[A\n",
      "  5%|▌         | 126/2302 [00:03<00:53, 40.64it/s, loss=0.0942]\u001b[A\n",
      "  5%|▌         | 126/2302 [00:03<00:53, 40.37it/s, loss=0.0941]\u001b[A\n",
      "  5%|▌         | 126/2302 [00:03<00:54, 40.11it/s, loss=0.093] \u001b[A\n",
      "  5%|▌         | 126/2302 [00:03<00:54, 39.85it/s, loss=0.0924]\u001b[A\n",
      "  5%|▌         | 126/2302 [00:03<00:54, 39.59it/s, loss=0.0922]\u001b[A\n",
      "  5%|▌         | 126/2302 [00:03<00:55, 39.32it/s, loss=0.0921]\u001b[A\n",
      "  6%|▌         | 131/2302 [00:03<00:53, 40.86it/s, loss=0.0921]\u001b[A\n",
      "  6%|▌         | 131/2302 [00:03<00:53, 40.60it/s, loss=0.0918]\u001b[A\n",
      "  6%|▌         | 131/2302 [00:03<00:53, 40.33it/s, loss=0.0913]\u001b[A\n",
      "  6%|▌         | 131/2302 [00:03<00:54, 40.08it/s, loss=0.0907]\u001b[A\n",
      "  6%|▌         | 131/2302 [00:03<00:54, 39.82it/s, loss=0.0903]\u001b[A\n",
      "  6%|▌         | 131/2302 [00:03<00:54, 39.55it/s, loss=0.0898]\u001b[A\n",
      "  6%|▌         | 136/2302 [00:03<00:52, 41.04it/s, loss=0.0898]\u001b[A\n",
      "  6%|▌         | 136/2302 [00:03<00:53, 40.79it/s, loss=0.0895]\u001b[A\n",
      "  6%|▌         | 136/2302 [00:03<00:53, 40.54it/s, loss=0.0892]\u001b[A\n",
      "  6%|▌         | 136/2302 [00:03<00:53, 40.28it/s, loss=0.0893]\u001b[A\n",
      "  6%|▌         | 136/2302 [00:03<00:54, 40.03it/s, loss=0.0887]\u001b[A\n",
      "  6%|▌         | 136/2302 [00:03<00:54, 39.78it/s, loss=0.0892]\u001b[A\n",
      "  6%|▌         | 141/2302 [00:03<00:52, 41.22it/s, loss=0.0892]\u001b[A\n",
      "  6%|▌         | 141/2302 [00:03<00:52, 40.97it/s, loss=0.0888]\u001b[A\n",
      "  6%|▌         | 141/2302 [00:03<00:53, 40.71it/s, loss=0.0883]\u001b[A\n",
      "  6%|▌         | 141/2302 [00:03<00:53, 40.47it/s, loss=0.0878]\u001b[A\n",
      "  6%|▌         | 141/2302 [00:03<00:53, 40.23it/s, loss=0.0876]\u001b[A\n",
      "  6%|▌         | 141/2302 [00:03<00:54, 39.99it/s, loss=0.0871]\u001b[A\n",
      "  6%|▋         | 146/2302 [00:03<00:52, 41.38it/s, loss=0.0871]\u001b[A\n",
      "  6%|▋         | 146/2302 [00:03<00:52, 41.14it/s, loss=0.0868]\u001b[A\n",
      "  6%|▋         | 146/2302 [00:03<00:52, 40.89it/s, loss=0.0866]\u001b[A\n",
      "  6%|▋         | 146/2302 [00:03<00:53, 40.65it/s, loss=0.0862]\u001b[A\n",
      "  6%|▋         | 146/2302 [00:03<00:53, 40.42it/s, loss=0.0858]\u001b[A\n",
      "  6%|▋         | 146/2302 [00:03<00:53, 40.17it/s, loss=0.0858]\u001b[A\n",
      "  7%|▋         | 151/2302 [00:03<00:51, 41.53it/s, loss=0.0858]\u001b[A\n",
      "  7%|▋         | 151/2302 [00:03<00:52, 41.30it/s, loss=0.0853]\u001b[A\n",
      "  7%|▋         | 151/2302 [00:03<00:52, 41.07it/s, loss=0.0853]\u001b[A\n",
      "  7%|▋         | 151/2302 [00:03<00:52, 40.82it/s, loss=0.0847]\u001b[A\n",
      "  7%|▋         | 151/2302 [00:03<00:52, 40.59it/s, loss=0.0847]\u001b[A\n",
      "  7%|▋         | 151/2302 [00:03<00:53, 40.35it/s, loss=0.0845]\u001b[A\n",
      "  7%|▋         | 156/2302 [00:03<00:51, 41.66it/s, loss=0.0845]\u001b[A\n",
      "  7%|▋         | 156/2302 [00:03<00:51, 41.43it/s, loss=0.0846]\u001b[A\n",
      "  7%|▋         | 156/2302 [00:03<00:52, 41.20it/s, loss=0.084] \u001b[A\n",
      "  7%|▋         | 156/2302 [00:03<00:52, 40.97it/s, loss=0.0838]\u001b[A\n",
      "  7%|▋         | 156/2302 [00:03<00:52, 40.74it/s, loss=0.0836]\u001b[A\n",
      "  7%|▋         | 156/2302 [00:03<00:52, 40.51it/s, loss=0.0833]\u001b[A\n",
      "  7%|▋         | 161/2302 [00:03<00:51, 41.78it/s, loss=0.0833]\u001b[A\n",
      "  7%|▋         | 161/2302 [00:03<00:51, 41.56it/s, loss=0.0828]\u001b[A\n",
      "  7%|▋         | 161/2302 [00:03<00:51, 41.34it/s, loss=0.0825]\u001b[A\n",
      "  7%|▋         | 161/2302 [00:03<00:52, 41.12it/s, loss=0.0823]\u001b[A\n",
      "  7%|▋         | 161/2302 [00:03<00:52, 40.98it/s, loss=0.0819]\u001b[A\n",
      "  7%|▋         | 161/2302 [00:03<00:52, 40.90it/s, loss=0.0816]\u001b[A\n",
      "  7%|▋         | 161/2302 [00:03<00:52, 40.83it/s, loss=0.0814]\u001b[A\n",
      "  7%|▋         | 161/2302 [00:03<00:52, 40.76it/s, loss=0.0811]\u001b[A\n",
      "  7%|▋         | 161/2302 [00:03<00:52, 40.68it/s, loss=0.0805]\u001b[A\n",
      "  7%|▋         | 169/2302 [00:03<00:49, 42.69it/s, loss=0.0805]\u001b[A\n",
      "  7%|▋         | 169/2302 [00:03<00:50, 42.62it/s, loss=0.0805]\u001b[A\n",
      "  7%|▋         | 169/2302 [00:03<00:50, 42.55it/s, loss=0.0799]\u001b[A\n",
      "  7%|▋         | 169/2302 [00:03<00:50, 42.47it/s, loss=0.0797]\u001b[A\n",
      "  7%|▋         | 169/2302 [00:03<00:50, 42.40it/s, loss=0.0793]\u001b[A\n",
      "  7%|▋         | 169/2302 [00:03<00:50, 42.33it/s, loss=0.0788]\u001b[A\n",
      "  7%|▋         | 169/2302 [00:03<00:50, 42.25it/s, loss=0.0784]\u001b[A\n",
      "  7%|▋         | 169/2302 [00:04<00:50, 42.18it/s, loss=0.0786]\u001b[A\n",
      "  7%|▋         | 169/2302 [00:04<00:50, 42.11it/s, loss=0.0785]\u001b[A\n",
      "  7%|▋         | 169/2302 [00:04<00:50, 42.04it/s, loss=0.0785]\u001b[A\n",
      "  7%|▋         | 169/2302 [00:04<00:50, 41.97it/s, loss=0.0785]\u001b[A\n",
      "  7%|▋         | 169/2302 [00:04<00:50, 41.89it/s, loss=0.0783]\u001b[A\n",
      "  7%|▋         | 169/2302 [00:04<00:51, 41.82it/s, loss=0.078] \u001b[A\n",
      "  7%|▋         | 169/2302 [00:04<00:51, 41.75it/s, loss=0.0777]\u001b[A\n",
      "  7%|▋         | 169/2302 [00:04<00:51, 41.67it/s, loss=0.0776]\u001b[A\n",
      "  7%|▋         | 169/2302 [00:04<00:51, 41.60it/s, loss=0.0773]\u001b[A\n",
      "  8%|▊         | 184/2302 [00:04<00:46, 45.28it/s, loss=0.0773]\u001b[A\n",
      "  8%|▊         | 184/2302 [00:04<00:46, 45.21it/s, loss=0.0769]\u001b[A\n",
      "  8%|▊         | 184/2302 [00:04<00:46, 45.13it/s, loss=0.0765]\u001b[A\n",
      "  8%|▊         | 184/2302 [00:04<00:47, 45.05it/s, loss=0.0764]\u001b[A\n",
      "  8%|▊         | 184/2302 [00:04<00:47, 44.98it/s, loss=0.0762]\u001b[A\n",
      "  8%|▊         | 184/2302 [00:04<00:47, 44.90it/s, loss=0.0757]\u001b[A\n",
      "  8%|▊         | 184/2302 [00:04<00:47, 44.82it/s, loss=0.0755]\u001b[A\n",
      "  8%|▊         | 184/2302 [00:04<00:47, 44.75it/s, loss=0.0758]\u001b[A\n",
      "  8%|▊         | 184/2302 [00:04<00:47, 44.67it/s, loss=0.0754]\u001b[A\n",
      "  8%|▊         | 184/2302 [00:04<00:47, 44.60it/s, loss=0.0752]\u001b[A\n",
      "  8%|▊         | 184/2302 [00:04<00:47, 44.52it/s, loss=0.0751]\u001b[A\n",
      "  8%|▊         | 184/2302 [00:04<00:47, 44.44it/s, loss=0.0748]\u001b[A\n",
      "  8%|▊         | 184/2302 [00:04<00:47, 44.37it/s, loss=0.0745]\u001b[A\n",
      "  8%|▊         | 184/2302 [00:04<00:47, 44.29it/s, loss=0.0748]\u001b[A\n",
      "  8%|▊         | 184/2302 [00:04<00:47, 44.21it/s, loss=0.0746]\u001b[A\n",
      "  8%|▊         | 184/2302 [00:04<00:48, 44.11it/s, loss=0.0746]\u001b[A\n",
      "  9%|▊         | 199/2302 [00:04<00:44, 47.70it/s, loss=0.0746]\u001b[A\n",
      "  9%|▊         | 199/2302 [00:04<00:44, 47.62it/s, loss=0.0747]\u001b[A\n",
      "  9%|▊         | 199/2302 [00:04<00:44, 47.54it/s, loss=0.0743]\u001b[A\n",
      "  9%|▊         | 199/2302 [00:04<00:44, 47.46it/s, loss=0.0738]\u001b[A\n",
      "  9%|▊         | 199/2302 [00:04<00:44, 47.38it/s, loss=0.0736]\u001b[A\n",
      "  9%|▊         | 199/2302 [00:04<00:44, 47.31it/s, loss=0.0733]\u001b[A\n",
      "  9%|▊         | 199/2302 [00:04<00:44, 47.23it/s, loss=0.0725]\u001b[A\n",
      "  9%|▊         | 199/2302 [00:04<00:44, 47.15it/s, loss=0.0724]\u001b[A\n",
      "  9%|▊         | 199/2302 [00:04<00:44, 47.07it/s, loss=0.0726]\u001b[A\n",
      "  9%|▊         | 199/2302 [00:04<00:44, 47.00it/s, loss=0.0725]\u001b[A\n",
      "  9%|▊         | 199/2302 [00:04<00:44, 46.92it/s, loss=0.0722]\u001b[A\n",
      "  9%|▊         | 199/2302 [00:04<00:44, 46.85it/s, loss=0.072] \u001b[A\n",
      "  9%|▊         | 199/2302 [00:04<00:44, 46.77it/s, loss=0.0717]\u001b[A\n"
     ]
    },
    {
     "name": "stdout",
     "output_type": "stream",
     "text": [
      "  9%|▊         | 199/2302 [00:04<00:45, 46.70it/s, loss=0.0717]\u001b[A\n",
      "  9%|▊         | 199/2302 [00:04<00:45, 46.62it/s, loss=0.0711]\u001b[A\n",
      "  9%|▊         | 199/2302 [00:04<00:45, 46.54it/s, loss=0.0711]\u001b[A\n",
      "  9%|▉         | 214/2302 [00:04<00:41, 50.04it/s, loss=0.0711]\u001b[A\n",
      "  9%|▉         | 214/2302 [00:04<00:41, 49.96it/s, loss=0.0705]\u001b[A\n",
      "  9%|▉         | 214/2302 [00:04<00:41, 49.88it/s, loss=0.0702]\u001b[A\n",
      "  9%|▉         | 214/2302 [00:04<00:41, 49.80it/s, loss=0.0702]\u001b[A\n",
      "  9%|▉         | 214/2302 [00:04<00:41, 49.72it/s, loss=0.0702]\u001b[A\n",
      "  9%|▉         | 214/2302 [00:04<00:42, 49.64it/s, loss=0.0701]\u001b[A\n",
      "  9%|▉         | 214/2302 [00:04<00:42, 49.56it/s, loss=0.0697]\u001b[A\n",
      "  9%|▉         | 214/2302 [00:04<00:42, 49.48it/s, loss=0.0695]\u001b[A\n",
      "  9%|▉         | 214/2302 [00:04<00:42, 49.39it/s, loss=0.0693]\u001b[A\n",
      "  9%|▉         | 214/2302 [00:04<00:42, 49.29it/s, loss=0.0696]\u001b[A\n",
      "  9%|▉         | 214/2302 [00:04<00:42, 49.19it/s, loss=0.0693]\u001b[A\n",
      "  9%|▉         | 214/2302 [00:04<00:42, 49.09it/s, loss=0.069] \u001b[A\n",
      "  9%|▉         | 214/2302 [00:04<00:42, 49.00it/s, loss=0.0691]\u001b[A\n",
      "  9%|▉         | 214/2302 [00:04<00:42, 48.89it/s, loss=0.0694]\u001b[A\n",
      " 10%|▉         | 227/2302 [00:04<00:40, 51.82it/s, loss=0.0694]\u001b[A\n",
      " 10%|▉         | 227/2302 [00:04<00:40, 51.70it/s, loss=0.0689]\u001b[A\n",
      " 10%|▉         | 227/2302 [00:04<00:40, 51.61it/s, loss=0.0687]\u001b[A\n",
      " 10%|▉         | 227/2302 [00:04<00:40, 51.50it/s, loss=0.0687]\u001b[A\n",
      " 10%|▉         | 227/2302 [00:04<00:40, 51.39it/s, loss=0.0688]\u001b[A\n",
      " 10%|▉         | 227/2302 [00:04<00:40, 51.28it/s, loss=0.0684]\u001b[A\n",
      " 10%|▉         | 227/2302 [00:04<00:40, 51.17it/s, loss=0.0687]\u001b[A\n",
      " 10%|▉         | 227/2302 [00:04<00:40, 51.06it/s, loss=0.0687]\u001b[A\n",
      " 10%|▉         | 227/2302 [00:04<00:40, 50.96it/s, loss=0.0688]\u001b[A\n",
      " 10%|▉         | 227/2302 [00:04<00:40, 50.86it/s, loss=0.0688]\u001b[A\n",
      " 10%|▉         | 227/2302 [00:04<00:40, 50.75it/s, loss=0.0689]\u001b[A\n",
      " 10%|▉         | 227/2302 [00:04<00:40, 50.65it/s, loss=0.069] \u001b[A\n",
      " 10%|▉         | 227/2302 [00:04<00:41, 50.55it/s, loss=0.0686]\u001b[A\n",
      " 10%|█         | 239/2302 [00:04<00:38, 53.18it/s, loss=0.0686]\u001b[A\n",
      " 10%|█         | 239/2302 [00:04<00:38, 53.08it/s, loss=0.0685]\u001b[A\n",
      " 10%|█         | 239/2302 [00:04<00:38, 52.96it/s, loss=0.0679]\u001b[A\n",
      " 10%|█         | 239/2302 [00:04<00:39, 52.86it/s, loss=0.0677]\u001b[A\n",
      " 10%|█         | 239/2302 [00:04<00:39, 52.75it/s, loss=0.0679]\u001b[A\n",
      " 10%|█         | 239/2302 [00:04<00:39, 52.65it/s, loss=0.0678]\u001b[A\n",
      " 10%|█         | 239/2302 [00:04<00:39, 52.55it/s, loss=0.0673]\u001b[A\n",
      " 10%|█         | 239/2302 [00:04<00:39, 52.45it/s, loss=0.0668]\u001b[A\n",
      " 10%|█         | 239/2302 [00:04<00:39, 52.35it/s, loss=0.0665]\u001b[A\n",
      " 10%|█         | 239/2302 [00:04<00:39, 52.25it/s, loss=0.0664]\u001b[A\n",
      " 10%|█         | 239/2302 [00:04<00:39, 52.14it/s, loss=0.0661]\u001b[A\n",
      " 10%|█         | 239/2302 [00:04<00:39, 52.04it/s, loss=0.066] \u001b[A\n",
      " 10%|█         | 239/2302 [00:04<00:39, 51.94it/s, loss=0.0658]\u001b[A\n",
      " 11%|█         | 251/2302 [00:04<00:37, 54.51it/s, loss=0.0658]\u001b[A\n",
      " 11%|█         | 251/2302 [00:04<00:37, 54.40it/s, loss=0.0654]\u001b[A\n",
      " 11%|█         | 251/2302 [00:04<00:37, 54.29it/s, loss=0.0652]\u001b[A\n",
      " 11%|█         | 251/2302 [00:04<00:37, 54.19it/s, loss=0.065] \u001b[A\n",
      " 11%|█         | 251/2302 [00:04<00:37, 54.09it/s, loss=0.0648]\u001b[A\n",
      " 11%|█         | 251/2302 [00:04<00:37, 53.99it/s, loss=0.0644]\u001b[A\n",
      " 11%|█         | 251/2302 [00:04<00:38, 53.88it/s, loss=0.0649]\u001b[A\n",
      " 11%|█         | 251/2302 [00:04<00:38, 53.78it/s, loss=0.0645]\u001b[A\n",
      " 11%|█         | 251/2302 [00:04<00:38, 53.68it/s, loss=0.0645]\u001b[A\n",
      " 11%|█         | 251/2302 [00:04<00:38, 53.57it/s, loss=0.0642]\u001b[A\n",
      " 11%|█         | 251/2302 [00:04<00:38, 53.47it/s, loss=0.0641]\u001b[A\n",
      " 11%|█         | 251/2302 [00:04<00:38, 53.36it/s, loss=0.0642]\u001b[A\n",
      " 11%|█         | 251/2302 [00:04<00:38, 53.27it/s, loss=0.064] \u001b[A\n",
      " 11%|█▏        | 263/2302 [00:04<00:36, 55.77it/s, loss=0.064]\u001b[A\n",
      " 11%|█▏        | 263/2302 [00:04<00:36, 55.66it/s, loss=0.0639]\u001b[A\n",
      " 11%|█▏        | 263/2302 [00:04<00:36, 55.56it/s, loss=0.0639]\u001b[A\n",
      " 11%|█▏        | 263/2302 [00:04<00:36, 55.46it/s, loss=0.0638]\u001b[A\n",
      " 11%|█▏        | 263/2302 [00:04<00:36, 55.36it/s, loss=0.0636]\u001b[A\n",
      " 11%|█▏        | 263/2302 [00:04<00:36, 55.27it/s, loss=0.0635]\u001b[A\n",
      " 11%|█▏        | 263/2302 [00:04<00:36, 55.18it/s, loss=0.0634]\u001b[A\n",
      " 11%|█▏        | 263/2302 [00:04<00:37, 55.10it/s, loss=0.0631]\u001b[A\n",
      " 11%|█▏        | 263/2302 [00:04<00:37, 55.02it/s, loss=0.0628]\u001b[A\n",
      " 11%|█▏        | 263/2302 [00:04<00:37, 54.94it/s, loss=0.0627]\u001b[A\n",
      " 11%|█▏        | 263/2302 [00:04<00:37, 54.86it/s, loss=0.0624]\u001b[A\n",
      " 11%|█▏        | 263/2302 [00:04<00:37, 54.78it/s, loss=0.0623]\u001b[A\n",
      " 11%|█▏        | 263/2302 [00:04<00:37, 54.70it/s, loss=0.0624]\u001b[A\n",
      " 11%|█▏        | 263/2302 [00:04<00:37, 54.62it/s, loss=0.0621]\u001b[A\n",
      " 12%|█▏        | 276/2302 [00:04<00:35, 57.30it/s, loss=0.0621]\u001b[A\n",
      " 12%|█▏        | 276/2302 [00:04<00:35, 57.22it/s, loss=0.0621]\u001b[A\n",
      " 12%|█▏        | 276/2302 [00:04<00:35, 57.14it/s, loss=0.0621]\u001b[A\n",
      " 12%|█▏        | 276/2302 [00:04<00:35, 57.05it/s, loss=0.0621]\u001b[A\n",
      " 12%|█▏        | 276/2302 [00:04<00:35, 56.97it/s, loss=0.0618]\u001b[A\n",
      " 12%|█▏        | 276/2302 [00:04<00:35, 56.88it/s, loss=0.0618]\u001b[A\n",
      " 12%|█▏        | 276/2302 [00:04<00:35, 56.80it/s, loss=0.0617]\u001b[A\n",
      " 12%|█▏        | 276/2302 [00:04<00:35, 56.72it/s, loss=0.0615]\u001b[A\n",
      " 12%|█▏        | 276/2302 [00:04<00:35, 56.64it/s, loss=0.0612]\u001b[A\n",
      " 12%|█▏        | 276/2302 [00:04<00:35, 56.55it/s, loss=0.061] \u001b[A\n",
      " 12%|█▏        | 276/2302 [00:04<00:35, 56.47it/s, loss=0.0605]\u001b[A\n",
      " 12%|█▏        | 276/2302 [00:04<00:35, 56.39it/s, loss=0.0601]\u001b[A\n",
      " 12%|█▏        | 276/2302 [00:04<00:35, 56.30it/s, loss=0.0597]\u001b[A\n",
      " 12%|█▏        | 276/2302 [00:04<00:36, 56.22it/s, loss=0.0593]\u001b[A\n",
      " 12%|█▏        | 276/2302 [00:04<00:36, 56.13it/s, loss=0.0591]\u001b[A\n",
      " 13%|█▎        | 290/2302 [00:04<00:34, 58.97it/s, loss=0.0591]\u001b[A\n",
      " 13%|█▎        | 290/2302 [00:04<00:34, 58.88it/s, loss=0.0591]\u001b[A\n",
      " 13%|█▎        | 290/2302 [00:04<00:34, 58.79it/s, loss=0.0591]\u001b[A\n",
      " 13%|█▎        | 290/2302 [00:04<00:34, 58.71it/s, loss=0.0587]\u001b[A\n",
      " 13%|█▎        | 290/2302 [00:04<00:34, 58.63it/s, loss=0.0585]\u001b[A\n",
      " 13%|█▎        | 290/2302 [00:04<00:34, 58.53it/s, loss=0.0584]\u001b[A\n",
      " 13%|█▎        | 290/2302 [00:04<00:34, 58.44it/s, loss=0.0581]\u001b[A\n",
      " 13%|█▎        | 290/2302 [00:04<00:34, 58.36it/s, loss=0.0581]\u001b[A\n",
      " 13%|█▎        | 290/2302 [00:04<00:34, 58.27it/s, loss=0.058] \u001b[A\n",
      " 13%|█▎        | 290/2302 [00:04<00:34, 58.19it/s, loss=0.0579]\u001b[A\n",
      " 13%|█▎        | 290/2302 [00:04<00:34, 58.10it/s, loss=0.0578]\u001b[A\n",
      " 13%|█▎        | 290/2302 [00:04<00:34, 58.01it/s, loss=0.0576]\u001b[A\n",
      " 13%|█▎        | 290/2302 [00:05<00:34, 57.93it/s, loss=0.0573]\u001b[A\n",
      " 13%|█▎        | 290/2302 [00:05<00:34, 57.84it/s, loss=0.0569]\u001b[A\n",
      " 13%|█▎        | 290/2302 [00:05<00:34, 57.76it/s, loss=0.0565]\u001b[A\n",
      " 13%|█▎        | 304/2302 [00:05<00:33, 60.54it/s, loss=0.0565]\u001b[A\n",
      " 13%|█▎        | 304/2302 [00:05<00:33, 60.45it/s, loss=0.0565]\u001b[A\n",
      " 13%|█▎        | 304/2302 [00:05<00:33, 60.36it/s, loss=0.0562]\u001b[A\n",
      " 13%|█▎        | 304/2302 [00:05<00:33, 60.27it/s, loss=0.056] \u001b[A\n",
      " 13%|█▎        | 304/2302 [00:05<00:33, 60.19it/s, loss=0.056]\u001b[A\n",
      " 13%|█▎        | 304/2302 [00:05<00:33, 60.10it/s, loss=0.0558]\u001b[A\n",
      " 13%|█▎        | 304/2302 [00:05<00:33, 60.02it/s, loss=0.0557]\u001b[A\n",
      " 13%|█▎        | 304/2302 [00:05<00:33, 59.93it/s, loss=0.0554]\u001b[A\n",
      " 13%|█▎        | 304/2302 [00:05<00:33, 59.85it/s, loss=0.0552]\u001b[A\n",
      " 13%|█▎        | 304/2302 [00:05<00:33, 59.76it/s, loss=0.055] \u001b[A\n",
      " 13%|█▎        | 304/2302 [00:05<00:33, 59.68it/s, loss=0.055]\u001b[A\n",
      " 13%|█▎        | 304/2302 [00:05<00:33, 59.60it/s, loss=0.0553]\u001b[A\n",
      " 13%|█▎        | 304/2302 [00:05<00:33, 59.51it/s, loss=0.0555]\u001b[A\n",
      " 13%|█▎        | 304/2302 [00:05<00:33, 59.43it/s, loss=0.0555]\u001b[A\n",
      " 13%|█▎        | 304/2302 [00:05<00:33, 59.34it/s, loss=0.0554]\u001b[A\n",
      " 14%|█▍        | 318/2302 [00:05<00:31, 62.06it/s, loss=0.0554]\u001b[A\n",
      " 14%|█▍        | 318/2302 [00:05<00:32, 61.97it/s, loss=0.055] \u001b[A\n",
      " 14%|█▍        | 318/2302 [00:05<00:32, 61.89it/s, loss=0.0549]\u001b[A\n",
      " 14%|█▍        | 318/2302 [00:05<00:32, 61.80it/s, loss=0.0548]\u001b[A\n",
      " 14%|█▍        | 318/2302 [00:05<00:32, 61.71it/s, loss=0.0548]\u001b[A\n",
      " 14%|█▍        | 318/2302 [00:05<00:32, 61.63it/s, loss=0.0545]\u001b[A\n",
      " 14%|█▍        | 318/2302 [00:05<00:32, 61.54it/s, loss=0.0544]\u001b[A\n"
     ]
    },
    {
     "name": "stdout",
     "output_type": "stream",
     "text": [
      " 14%|█▍        | 318/2302 [00:05<00:32, 61.45it/s, loss=0.0545]\u001b[A\n",
      " 14%|█▍        | 318/2302 [00:05<00:32, 61.36it/s, loss=0.0545]\u001b[A\n",
      " 14%|█▍        | 318/2302 [00:05<00:32, 61.28it/s, loss=0.0548]\u001b[A\n",
      " 14%|█▍        | 318/2302 [00:05<00:32, 61.19it/s, loss=0.0549]\u001b[A\n",
      " 14%|█▍        | 318/2302 [00:05<00:32, 61.10it/s, loss=0.055] \u001b[A\n",
      " 14%|█▍        | 318/2302 [00:05<00:32, 61.02it/s, loss=0.0549]\u001b[A\n",
      " 14%|█▍        | 318/2302 [00:05<00:32, 60.93it/s, loss=0.0549]\u001b[A\n",
      " 14%|█▍        | 318/2302 [00:05<00:32, 60.84it/s, loss=0.0545]\u001b[A\n",
      " 14%|█▍        | 332/2302 [00:05<00:31, 63.51it/s, loss=0.0545]\u001b[A\n",
      "\n",
      " 14%|█▍        | 332/2302 [00:05<00:31, 63.40it/s, loss=0.0539]\u001b[A\n",
      " 15%|█▌        | 346/2302 [00:05<00:30, 63.77it/s, loss=0.0512]\u001b[A"
     ]
    },
    {
     "name": "stderr",
     "output_type": "stream",
     "text": [
      "Exception in thread Thread-4:\n",
      "Traceback (most recent call last):\n",
      "  File \"/home/jd/anaconda3/envs/fastai/lib/python3.6/threading.py\", line 916, in _bootstrap_inner\n",
      "    self.run()\n",
      "  File \"/home/jd/anaconda3/envs/fastai/lib/python3.6/site-packages/tqdm/_tqdm.py\", line 144, in run\n",
      "    for instance in self.tqdm_cls._instances:\n",
      "  File \"/home/jd/anaconda3/envs/fastai/lib/python3.6/_weakrefset.py\", line 60, in __iter__\n",
      "    for itemref in self.data:\n",
      "RuntimeError: Set changed size during iteration\n",
      "\n",
      "Exception in thread Thread-5:\n",
      "Traceback (most recent call last):\n",
      "  File \"/home/jd/anaconda3/envs/fastai/lib/python3.6/threading.py\", line 916, in _bootstrap_inner\n",
      "    self.run()\n",
      "  File \"/home/jd/anaconda3/envs/fastai/lib/python3.6/site-packages/tqdm/_tqdm.py\", line 144, in run\n",
      "    for instance in self.tqdm_cls._instances:\n",
      "  File \"/home/jd/anaconda3/envs/fastai/lib/python3.6/_weakrefset.py\", line 60, in __iter__\n",
      "    for itemref in self.data:\n",
      "RuntimeError: Set changed size during iteration\n",
      "\n"
     ]
    },
    {
     "name": "stdout",
     "output_type": "stream",
     "text": [
      "[ 0.       0.03736  0.03566  0.96276  0.20353]                   \n",
      "[ 1.       0.03654  0.0356   0.96276  0.23433]                   \n",
      "[ 2.       0.03459  0.03562  0.96276  0.23572]                   \n",
      " 30%|███       | 693/2302 [00:07<00:17, 89.61it/s, loss=0.0346]\n"
     ]
    },
    {
     "ename": "KeyboardInterrupt",
     "evalue": "",
     "output_type": "error",
     "traceback": [
      "\u001b[0;31m---------------------------------------------------------------------------\u001b[0m",
      "\u001b[0;31mKeyboardInterrupt\u001b[0m                         Traceback (most recent call last)",
      "\u001b[0;32m<ipython-input-39-2a9074b6b88f>\u001b[0m in \u001b[0;36m<module>\u001b[0;34m()\u001b[0m\n\u001b[0;32m----> 1\u001b[0;31m \u001b[0mm\u001b[0m\u001b[0;34m.\u001b[0m\u001b[0mfit\u001b[0m\u001b[0;34m(\u001b[0m\u001b[0mlrs\u001b[0m\u001b[0;34m=\u001b[0m\u001b[0mlr\u001b[0m\u001b[0;34m,\u001b[0m \u001b[0mn_cycle\u001b[0m\u001b[0;34m=\u001b[0m\u001b[0;36m5\u001b[0m\u001b[0;34m,\u001b[0m \u001b[0mmetrics\u001b[0m\u001b[0;34m=\u001b[0m\u001b[0;34m[\u001b[0m\u001b[0maccuracy\u001b[0m\u001b[0;34m,\u001b[0m \u001b[0mgini_metric\u001b[0m\u001b[0;34m]\u001b[0m\u001b[0;34m)\u001b[0m\u001b[0;34m\u001b[0m\u001b[0m\n\u001b[0m",
      "\u001b[0;32m~/kaggle/PortoDriver/fastai/learner.py\u001b[0m in \u001b[0;36mfit\u001b[0;34m(self, lrs, n_cycle, wds, **kwargs)\u001b[0m\n\u001b[1;32m     97\u001b[0m         \u001b[0mself\u001b[0m\u001b[0;34m.\u001b[0m\u001b[0msched\u001b[0m \u001b[0;34m=\u001b[0m \u001b[0;32mNone\u001b[0m\u001b[0;34m\u001b[0m\u001b[0m\n\u001b[1;32m     98\u001b[0m         \u001b[0mlayer_opt\u001b[0m \u001b[0;34m=\u001b[0m \u001b[0mself\u001b[0m\u001b[0;34m.\u001b[0m\u001b[0mget_layer_opt\u001b[0m\u001b[0;34m(\u001b[0m\u001b[0mlrs\u001b[0m\u001b[0;34m,\u001b[0m \u001b[0mwds\u001b[0m\u001b[0;34m)\u001b[0m\u001b[0;34m\u001b[0m\u001b[0m\n\u001b[0;32m---> 99\u001b[0;31m         \u001b[0mself\u001b[0m\u001b[0;34m.\u001b[0m\u001b[0mfit_gen\u001b[0m\u001b[0;34m(\u001b[0m\u001b[0mself\u001b[0m\u001b[0;34m.\u001b[0m\u001b[0mmodel\u001b[0m\u001b[0;34m,\u001b[0m \u001b[0mself\u001b[0m\u001b[0;34m.\u001b[0m\u001b[0mdata\u001b[0m\u001b[0;34m,\u001b[0m \u001b[0mlayer_opt\u001b[0m\u001b[0;34m,\u001b[0m \u001b[0mn_cycle\u001b[0m\u001b[0;34m,\u001b[0m \u001b[0;34m**\u001b[0m\u001b[0mkwargs\u001b[0m\u001b[0;34m)\u001b[0m\u001b[0;34m\u001b[0m\u001b[0m\n\u001b[0m\u001b[1;32m    100\u001b[0m \u001b[0;34m\u001b[0m\u001b[0m\n\u001b[1;32m    101\u001b[0m     \u001b[0;32mdef\u001b[0m \u001b[0mlr_find\u001b[0m\u001b[0;34m(\u001b[0m\u001b[0mself\u001b[0m\u001b[0;34m,\u001b[0m \u001b[0mstart_lr\u001b[0m\u001b[0;34m=\u001b[0m\u001b[0;36m1e-5\u001b[0m\u001b[0;34m,\u001b[0m \u001b[0mend_lr\u001b[0m\u001b[0;34m=\u001b[0m\u001b[0;36m10\u001b[0m\u001b[0;34m,\u001b[0m \u001b[0mwds\u001b[0m\u001b[0;34m=\u001b[0m\u001b[0;32mNone\u001b[0m\u001b[0;34m)\u001b[0m\u001b[0;34m:\u001b[0m\u001b[0;34m\u001b[0m\u001b[0m\n",
      "\u001b[0;32m~/kaggle/PortoDriver/fastai/learner.py\u001b[0m in \u001b[0;36mfit_gen\u001b[0;34m(self, model, data, layer_opt, n_cycle, cycle_len, cycle_mult, cycle_save_name, metrics, callbacks, **kwargs)\u001b[0m\n\u001b[1;32m     87\u001b[0m         \u001b[0mn_epoch\u001b[0m \u001b[0;34m=\u001b[0m \u001b[0msum_geom\u001b[0m\u001b[0;34m(\u001b[0m\u001b[0mcycle_len\u001b[0m \u001b[0;32mif\u001b[0m \u001b[0mcycle_len\u001b[0m \u001b[0;32melse\u001b[0m \u001b[0;36m1\u001b[0m\u001b[0;34m,\u001b[0m \u001b[0mcycle_mult\u001b[0m\u001b[0;34m,\u001b[0m \u001b[0mn_cycle\u001b[0m\u001b[0;34m)\u001b[0m\u001b[0;34m\u001b[0m\u001b[0m\n\u001b[1;32m     88\u001b[0m         fit(model, data, n_epoch, layer_opt.opt, self.crit,\n\u001b[0;32m---> 89\u001b[0;31m             metrics=metrics, callbacks=callbacks, reg_fn=self.reg_fn, clip=self.clip, **kwargs)\n\u001b[0m\u001b[1;32m     90\u001b[0m \u001b[0;34m\u001b[0m\u001b[0m\n\u001b[1;32m     91\u001b[0m     \u001b[0;32mdef\u001b[0m \u001b[0mget_layer_groups\u001b[0m\u001b[0;34m(\u001b[0m\u001b[0mself\u001b[0m\u001b[0;34m)\u001b[0m\u001b[0;34m:\u001b[0m \u001b[0;32mreturn\u001b[0m \u001b[0mself\u001b[0m\u001b[0;34m.\u001b[0m\u001b[0mmodels\u001b[0m\u001b[0;34m.\u001b[0m\u001b[0mget_layer_groups\u001b[0m\u001b[0;34m(\u001b[0m\u001b[0;34m)\u001b[0m\u001b[0;34m\u001b[0m\u001b[0m\n",
      "\u001b[0;32m~/kaggle/PortoDriver/fastai/model.py\u001b[0m in \u001b[0;36mfit\u001b[0;34m(model, data, epochs, opt, crit, metrics, callbacks, **kwargs)\u001b[0m\n\u001b[1;32m     82\u001b[0m         \u001b[0;32mfor\u001b[0m \u001b[0;34m(\u001b[0m\u001b[0;34m*\u001b[0m\u001b[0mx\u001b[0m\u001b[0;34m,\u001b[0m\u001b[0my\u001b[0m\u001b[0;34m)\u001b[0m \u001b[0;32min\u001b[0m \u001b[0mt\u001b[0m\u001b[0;34m:\u001b[0m\u001b[0;34m\u001b[0m\u001b[0m\n\u001b[1;32m     83\u001b[0m             \u001b[0mbatch_num\u001b[0m \u001b[0;34m+=\u001b[0m \u001b[0;36m1\u001b[0m\u001b[0;34m\u001b[0m\u001b[0m\n\u001b[0;32m---> 84\u001b[0;31m             \u001b[0mloss\u001b[0m \u001b[0;34m=\u001b[0m \u001b[0mstepper\u001b[0m\u001b[0;34m.\u001b[0m\u001b[0mstep\u001b[0m\u001b[0;34m(\u001b[0m\u001b[0mV\u001b[0m\u001b[0;34m(\u001b[0m\u001b[0mx\u001b[0m\u001b[0;34m)\u001b[0m\u001b[0;34m,\u001b[0m\u001b[0mV\u001b[0m\u001b[0;34m(\u001b[0m\u001b[0my\u001b[0m\u001b[0;34m)\u001b[0m\u001b[0;34m)\u001b[0m\u001b[0;34m\u001b[0m\u001b[0m\n\u001b[0m\u001b[1;32m     85\u001b[0m             \u001b[0mavg_loss\u001b[0m \u001b[0;34m=\u001b[0m \u001b[0mavg_loss\u001b[0m \u001b[0;34m*\u001b[0m \u001b[0mavg_mom\u001b[0m \u001b[0;34m+\u001b[0m \u001b[0mloss\u001b[0m \u001b[0;34m*\u001b[0m \u001b[0;34m(\u001b[0m\u001b[0;36m1\u001b[0m\u001b[0;34m-\u001b[0m\u001b[0mavg_mom\u001b[0m\u001b[0;34m)\u001b[0m\u001b[0;34m\u001b[0m\u001b[0m\n\u001b[1;32m     86\u001b[0m             \u001b[0mdebias_loss\u001b[0m \u001b[0;34m=\u001b[0m \u001b[0mavg_loss\u001b[0m \u001b[0;34m/\u001b[0m \u001b[0;34m(\u001b[0m\u001b[0;36m1\u001b[0m \u001b[0;34m-\u001b[0m \u001b[0mavg_mom\u001b[0m\u001b[0;34m**\u001b[0m\u001b[0mbatch_num\u001b[0m\u001b[0;34m)\u001b[0m\u001b[0;34m\u001b[0m\u001b[0m\n",
      "\u001b[0;32m~/kaggle/PortoDriver/fastai/model.py\u001b[0m in \u001b[0;36mstep\u001b[0;34m(self, xs, y)\u001b[0m\n\u001b[1;32m     38\u001b[0m     \u001b[0;32mdef\u001b[0m \u001b[0mstep\u001b[0m\u001b[0;34m(\u001b[0m\u001b[0mself\u001b[0m\u001b[0;34m,\u001b[0m \u001b[0mxs\u001b[0m\u001b[0;34m,\u001b[0m \u001b[0my\u001b[0m\u001b[0;34m)\u001b[0m\u001b[0;34m:\u001b[0m\u001b[0;34m\u001b[0m\u001b[0m\n\u001b[1;32m     39\u001b[0m         \u001b[0mxtra\u001b[0m \u001b[0;34m=\u001b[0m \u001b[0;34m[\u001b[0m\u001b[0;34m]\u001b[0m\u001b[0;34m\u001b[0m\u001b[0m\n\u001b[0;32m---> 40\u001b[0;31m         \u001b[0moutput\u001b[0m \u001b[0;34m=\u001b[0m \u001b[0mself\u001b[0m\u001b[0;34m.\u001b[0m\u001b[0mm\u001b[0m\u001b[0;34m(\u001b[0m\u001b[0;34m*\u001b[0m\u001b[0mxs\u001b[0m\u001b[0;34m)\u001b[0m\u001b[0;34m\u001b[0m\u001b[0m\n\u001b[0m\u001b[1;32m     41\u001b[0m         \u001b[0;32mif\u001b[0m \u001b[0misinstance\u001b[0m\u001b[0;34m(\u001b[0m\u001b[0moutput\u001b[0m\u001b[0;34m,\u001b[0m\u001b[0;34m(\u001b[0m\u001b[0mtuple\u001b[0m\u001b[0;34m,\u001b[0m\u001b[0mlist\u001b[0m\u001b[0;34m)\u001b[0m\u001b[0;34m)\u001b[0m\u001b[0;34m:\u001b[0m \u001b[0moutput\u001b[0m\u001b[0;34m,\u001b[0m\u001b[0;34m*\u001b[0m\u001b[0mxtra\u001b[0m \u001b[0;34m=\u001b[0m \u001b[0moutput\u001b[0m\u001b[0;34m\u001b[0m\u001b[0m\n\u001b[1;32m     42\u001b[0m         \u001b[0mself\u001b[0m\u001b[0;34m.\u001b[0m\u001b[0mopt\u001b[0m\u001b[0;34m.\u001b[0m\u001b[0mzero_grad\u001b[0m\u001b[0;34m(\u001b[0m\u001b[0;34m)\u001b[0m\u001b[0;34m\u001b[0m\u001b[0m\n",
      "\u001b[0;32m~/anaconda3/envs/fastai/lib/python3.6/site-packages/torch/nn/modules/module.py\u001b[0m in \u001b[0;36m__call__\u001b[0;34m(self, *input, **kwargs)\u001b[0m\n\u001b[1;32m    222\u001b[0m         \u001b[0;32mfor\u001b[0m \u001b[0mhook\u001b[0m \u001b[0;32min\u001b[0m \u001b[0mself\u001b[0m\u001b[0;34m.\u001b[0m\u001b[0m_forward_pre_hooks\u001b[0m\u001b[0;34m.\u001b[0m\u001b[0mvalues\u001b[0m\u001b[0;34m(\u001b[0m\u001b[0;34m)\u001b[0m\u001b[0;34m:\u001b[0m\u001b[0;34m\u001b[0m\u001b[0m\n\u001b[1;32m    223\u001b[0m             \u001b[0mhook\u001b[0m\u001b[0;34m(\u001b[0m\u001b[0mself\u001b[0m\u001b[0;34m,\u001b[0m \u001b[0minput\u001b[0m\u001b[0;34m)\u001b[0m\u001b[0;34m\u001b[0m\u001b[0m\n\u001b[0;32m--> 224\u001b[0;31m         \u001b[0mresult\u001b[0m \u001b[0;34m=\u001b[0m \u001b[0mself\u001b[0m\u001b[0;34m.\u001b[0m\u001b[0mforward\u001b[0m\u001b[0;34m(\u001b[0m\u001b[0;34m*\u001b[0m\u001b[0minput\u001b[0m\u001b[0;34m,\u001b[0m \u001b[0;34m**\u001b[0m\u001b[0mkwargs\u001b[0m\u001b[0;34m)\u001b[0m\u001b[0;34m\u001b[0m\u001b[0m\n\u001b[0m\u001b[1;32m    225\u001b[0m         \u001b[0;32mfor\u001b[0m \u001b[0mhook\u001b[0m \u001b[0;32min\u001b[0m \u001b[0mself\u001b[0m\u001b[0;34m.\u001b[0m\u001b[0m_forward_hooks\u001b[0m\u001b[0;34m.\u001b[0m\u001b[0mvalues\u001b[0m\u001b[0;34m(\u001b[0m\u001b[0;34m)\u001b[0m\u001b[0;34m:\u001b[0m\u001b[0;34m\u001b[0m\u001b[0m\n\u001b[1;32m    226\u001b[0m             \u001b[0mhook_result\u001b[0m \u001b[0;34m=\u001b[0m \u001b[0mhook\u001b[0m\u001b[0;34m(\u001b[0m\u001b[0mself\u001b[0m\u001b[0;34m,\u001b[0m \u001b[0minput\u001b[0m\u001b[0;34m,\u001b[0m \u001b[0mresult\u001b[0m\u001b[0;34m)\u001b[0m\u001b[0;34m\u001b[0m\u001b[0m\n",
      "\u001b[0;32m~/kaggle/PortoDriver/fastai/column_data.py\u001b[0m in \u001b[0;36mforward\u001b[0;34m(self, x_cat, x_cont)\u001b[0m\n\u001b[1;32m    101\u001b[0m \u001b[0;34m\u001b[0m\u001b[0m\n\u001b[1;32m    102\u001b[0m     \u001b[0;32mdef\u001b[0m \u001b[0mforward\u001b[0m\u001b[0;34m(\u001b[0m\u001b[0mself\u001b[0m\u001b[0;34m,\u001b[0m \u001b[0mx_cat\u001b[0m\u001b[0;34m,\u001b[0m \u001b[0mx_cont\u001b[0m\u001b[0;34m)\u001b[0m\u001b[0;34m:\u001b[0m\u001b[0;34m\u001b[0m\u001b[0m\n\u001b[0;32m--> 103\u001b[0;31m         \u001b[0mx\u001b[0m \u001b[0;34m=\u001b[0m \u001b[0;34m[\u001b[0m\u001b[0me\u001b[0m\u001b[0;34m(\u001b[0m\u001b[0mx_cat\u001b[0m\u001b[0;34m[\u001b[0m\u001b[0;34m:\u001b[0m\u001b[0;34m,\u001b[0m\u001b[0mi\u001b[0m\u001b[0;34m]\u001b[0m\u001b[0;34m)\u001b[0m \u001b[0;32mfor\u001b[0m \u001b[0mi\u001b[0m\u001b[0;34m,\u001b[0m\u001b[0me\u001b[0m \u001b[0;32min\u001b[0m \u001b[0menumerate\u001b[0m\u001b[0;34m(\u001b[0m\u001b[0mself\u001b[0m\u001b[0;34m.\u001b[0m\u001b[0membs\u001b[0m\u001b[0;34m)\u001b[0m\u001b[0;34m]\u001b[0m\u001b[0;34m\u001b[0m\u001b[0m\n\u001b[0m\u001b[1;32m    104\u001b[0m         \u001b[0mx\u001b[0m \u001b[0;34m=\u001b[0m \u001b[0mtorch\u001b[0m\u001b[0;34m.\u001b[0m\u001b[0mcat\u001b[0m\u001b[0;34m(\u001b[0m\u001b[0mx\u001b[0m\u001b[0;34m,\u001b[0m \u001b[0;36m1\u001b[0m\u001b[0;34m)\u001b[0m\u001b[0;34m\u001b[0m\u001b[0m\n\u001b[1;32m    105\u001b[0m         \u001b[0mx2\u001b[0m \u001b[0;34m=\u001b[0m \u001b[0mself\u001b[0m\u001b[0;34m.\u001b[0m\u001b[0mbn\u001b[0m\u001b[0;34m(\u001b[0m\u001b[0mx_cont\u001b[0m\u001b[0;34m)\u001b[0m\u001b[0;34m\u001b[0m\u001b[0m\n",
      "\u001b[0;32m~/kaggle/PortoDriver/fastai/column_data.py\u001b[0m in \u001b[0;36m<listcomp>\u001b[0;34m(.0)\u001b[0m\n\u001b[1;32m    101\u001b[0m \u001b[0;34m\u001b[0m\u001b[0m\n\u001b[1;32m    102\u001b[0m     \u001b[0;32mdef\u001b[0m \u001b[0mforward\u001b[0m\u001b[0;34m(\u001b[0m\u001b[0mself\u001b[0m\u001b[0;34m,\u001b[0m \u001b[0mx_cat\u001b[0m\u001b[0;34m,\u001b[0m \u001b[0mx_cont\u001b[0m\u001b[0;34m)\u001b[0m\u001b[0;34m:\u001b[0m\u001b[0;34m\u001b[0m\u001b[0m\n\u001b[0;32m--> 103\u001b[0;31m         \u001b[0mx\u001b[0m \u001b[0;34m=\u001b[0m \u001b[0;34m[\u001b[0m\u001b[0me\u001b[0m\u001b[0;34m(\u001b[0m\u001b[0mx_cat\u001b[0m\u001b[0;34m[\u001b[0m\u001b[0;34m:\u001b[0m\u001b[0;34m,\u001b[0m\u001b[0mi\u001b[0m\u001b[0;34m]\u001b[0m\u001b[0;34m)\u001b[0m \u001b[0;32mfor\u001b[0m \u001b[0mi\u001b[0m\u001b[0;34m,\u001b[0m\u001b[0me\u001b[0m \u001b[0;32min\u001b[0m \u001b[0menumerate\u001b[0m\u001b[0;34m(\u001b[0m\u001b[0mself\u001b[0m\u001b[0;34m.\u001b[0m\u001b[0membs\u001b[0m\u001b[0;34m)\u001b[0m\u001b[0;34m]\u001b[0m\u001b[0;34m\u001b[0m\u001b[0m\n\u001b[0m\u001b[1;32m    104\u001b[0m         \u001b[0mx\u001b[0m \u001b[0;34m=\u001b[0m \u001b[0mtorch\u001b[0m\u001b[0;34m.\u001b[0m\u001b[0mcat\u001b[0m\u001b[0;34m(\u001b[0m\u001b[0mx\u001b[0m\u001b[0;34m,\u001b[0m \u001b[0;36m1\u001b[0m\u001b[0;34m)\u001b[0m\u001b[0;34m\u001b[0m\u001b[0m\n\u001b[1;32m    105\u001b[0m         \u001b[0mx2\u001b[0m \u001b[0;34m=\u001b[0m \u001b[0mself\u001b[0m\u001b[0;34m.\u001b[0m\u001b[0mbn\u001b[0m\u001b[0;34m(\u001b[0m\u001b[0mx_cont\u001b[0m\u001b[0;34m)\u001b[0m\u001b[0;34m\u001b[0m\u001b[0m\n",
      "\u001b[0;32m~/anaconda3/envs/fastai/lib/python3.6/site-packages/torch/nn/modules/module.py\u001b[0m in \u001b[0;36m__call__\u001b[0;34m(self, *input, **kwargs)\u001b[0m\n\u001b[1;32m    222\u001b[0m         \u001b[0;32mfor\u001b[0m \u001b[0mhook\u001b[0m \u001b[0;32min\u001b[0m \u001b[0mself\u001b[0m\u001b[0;34m.\u001b[0m\u001b[0m_forward_pre_hooks\u001b[0m\u001b[0;34m.\u001b[0m\u001b[0mvalues\u001b[0m\u001b[0;34m(\u001b[0m\u001b[0;34m)\u001b[0m\u001b[0;34m:\u001b[0m\u001b[0;34m\u001b[0m\u001b[0m\n\u001b[1;32m    223\u001b[0m             \u001b[0mhook\u001b[0m\u001b[0;34m(\u001b[0m\u001b[0mself\u001b[0m\u001b[0;34m,\u001b[0m \u001b[0minput\u001b[0m\u001b[0;34m)\u001b[0m\u001b[0;34m\u001b[0m\u001b[0m\n\u001b[0;32m--> 224\u001b[0;31m         \u001b[0mresult\u001b[0m \u001b[0;34m=\u001b[0m \u001b[0mself\u001b[0m\u001b[0;34m.\u001b[0m\u001b[0mforward\u001b[0m\u001b[0;34m(\u001b[0m\u001b[0;34m*\u001b[0m\u001b[0minput\u001b[0m\u001b[0;34m,\u001b[0m \u001b[0;34m**\u001b[0m\u001b[0mkwargs\u001b[0m\u001b[0;34m)\u001b[0m\u001b[0;34m\u001b[0m\u001b[0m\n\u001b[0m\u001b[1;32m    225\u001b[0m         \u001b[0;32mfor\u001b[0m \u001b[0mhook\u001b[0m \u001b[0;32min\u001b[0m \u001b[0mself\u001b[0m\u001b[0;34m.\u001b[0m\u001b[0m_forward_hooks\u001b[0m\u001b[0;34m.\u001b[0m\u001b[0mvalues\u001b[0m\u001b[0;34m(\u001b[0m\u001b[0;34m)\u001b[0m\u001b[0;34m:\u001b[0m\u001b[0;34m\u001b[0m\u001b[0m\n\u001b[1;32m    226\u001b[0m             \u001b[0mhook_result\u001b[0m \u001b[0;34m=\u001b[0m \u001b[0mhook\u001b[0m\u001b[0;34m(\u001b[0m\u001b[0mself\u001b[0m\u001b[0;34m,\u001b[0m \u001b[0minput\u001b[0m\u001b[0;34m,\u001b[0m \u001b[0mresult\u001b[0m\u001b[0;34m)\u001b[0m\u001b[0;34m\u001b[0m\u001b[0m\n",
      "\u001b[0;32m~/anaconda3/envs/fastai/lib/python3.6/site-packages/torch/nn/modules/sparse.py\u001b[0m in \u001b[0;36mforward\u001b[0;34m(self, input)\u001b[0m\n\u001b[1;32m     92\u001b[0m             \u001b[0minput\u001b[0m\u001b[0;34m,\u001b[0m \u001b[0mself\u001b[0m\u001b[0;34m.\u001b[0m\u001b[0mweight\u001b[0m\u001b[0;34m,\u001b[0m\u001b[0;34m\u001b[0m\u001b[0m\n\u001b[1;32m     93\u001b[0m             \u001b[0mpadding_idx\u001b[0m\u001b[0;34m,\u001b[0m \u001b[0mself\u001b[0m\u001b[0;34m.\u001b[0m\u001b[0mmax_norm\u001b[0m\u001b[0;34m,\u001b[0m \u001b[0mself\u001b[0m\u001b[0;34m.\u001b[0m\u001b[0mnorm_type\u001b[0m\u001b[0;34m,\u001b[0m\u001b[0;34m\u001b[0m\u001b[0m\n\u001b[0;32m---> 94\u001b[0;31m             \u001b[0mself\u001b[0m\u001b[0;34m.\u001b[0m\u001b[0mscale_grad_by_freq\u001b[0m\u001b[0;34m,\u001b[0m \u001b[0mself\u001b[0m\u001b[0;34m.\u001b[0m\u001b[0msparse\u001b[0m\u001b[0;34m\u001b[0m\u001b[0m\n\u001b[0m\u001b[1;32m     95\u001b[0m         )\n\u001b[1;32m     96\u001b[0m \u001b[0;34m\u001b[0m\u001b[0m\n",
      "\u001b[0;32m~/anaconda3/envs/fastai/lib/python3.6/site-packages/torch/nn/_functions/thnn/sparse.py\u001b[0m in \u001b[0;36mforward\u001b[0;34m(cls, ctx, indices, weight, padding_idx, max_norm, norm_type, scale_grad_by_freq, sparse)\u001b[0m\n\u001b[1;32m     39\u001b[0m \u001b[0;34m\u001b[0m\u001b[0m\n\u001b[1;32m     40\u001b[0m         \u001b[0;32mif\u001b[0m \u001b[0;32mnot\u001b[0m \u001b[0mindices\u001b[0m\u001b[0;34m.\u001b[0m\u001b[0mis_contiguous\u001b[0m\u001b[0;34m(\u001b[0m\u001b[0;34m)\u001b[0m\u001b[0;34m:\u001b[0m\u001b[0;34m\u001b[0m\u001b[0m\n\u001b[0;32m---> 41\u001b[0;31m             \u001b[0mctx\u001b[0m\u001b[0;34m.\u001b[0m\u001b[0m_indices\u001b[0m \u001b[0;34m=\u001b[0m \u001b[0mindices\u001b[0m\u001b[0;34m.\u001b[0m\u001b[0mcontiguous\u001b[0m\u001b[0;34m(\u001b[0m\u001b[0;34m)\u001b[0m\u001b[0;34m\u001b[0m\u001b[0m\n\u001b[0m\u001b[1;32m     42\u001b[0m             \u001b[0mindices\u001b[0m \u001b[0;34m=\u001b[0m \u001b[0mctx\u001b[0m\u001b[0;34m.\u001b[0m\u001b[0m_indices\u001b[0m\u001b[0;34m\u001b[0m\u001b[0m\n\u001b[1;32m     43\u001b[0m         \u001b[0;32melse\u001b[0m\u001b[0;34m:\u001b[0m\u001b[0;34m\u001b[0m\u001b[0m\n",
      "\u001b[0;31mKeyboardInterrupt\u001b[0m: "
     ]
    }
   ],
   "source": [
    "m.fit(lrs=lr, n_cycle=5, metrics=[accuracy, gini_metric])"
   ]
  },
  {
   "cell_type": "code",
   "execution_count": null,
   "metadata": {
    "ExecuteTime": {
     "end_time": "2017-11-28T22:24:03.403903Z",
     "start_time": "2017-11-28T22:19:23.904Z"
    }
   },
   "outputs": [],
   "source": [
    "m.fit(lrs=lr, n_cycle=2, cycle_len=2, metrics=[accuracy, gini_metric], cycle_mult=2)"
   ]
  },
  {
   "cell_type": "code",
   "execution_count": 40,
   "metadata": {
    "ExecuteTime": {
     "end_time": "2017-11-28T22:24:14.435523Z",
     "start_time": "2017-11-28T22:24:14.366571Z"
    }
   },
   "outputs": [
    {
     "data": {
      "text/plain": [
       "array([[ 0.05726],\n",
       "       [ 0.0326 ],\n",
       "       [ 0.03019],\n",
       "       [ 0.0334 ],\n",
       "       [ 0.03027],\n",
       "       [ 0.01851],\n",
       "       [ 0.01438],\n",
       "       [ 0.02205],\n",
       "       [ 0.04991],\n",
       "       [ 0.03663],\n",
       "       [ 0.01339],\n",
       "       [ 0.02846],\n",
       "       [ 0.01517],\n",
       "       [ 0.01232],\n",
       "       [ 0.02084],\n",
       "       [ 0.04754],\n",
       "       [ 0.02688],\n",
       "       [ 0.02279],\n",
       "       [ 0.00885],\n",
       "       [ 0.01244],\n",
       "       ..., \n",
       "       [ 0.01634],\n",
       "       [ 0.01799],\n",
       "       [ 0.01943],\n",
       "       [ 0.04611],\n",
       "       [ 0.04447],\n",
       "       [ 0.028  ],\n",
       "       [ 0.01583],\n",
       "       [ 0.02186],\n",
       "       [ 0.00889],\n",
       "       [ 0.02185],\n",
       "       [ 0.01871],\n",
       "       [ 0.049  ],\n",
       "       [ 0.04213],\n",
       "       [ 0.02635],\n",
       "       [ 0.07306],\n",
       "       [ 0.0512 ],\n",
       "       [ 0.02695],\n",
       "       [ 0.0282 ],\n",
       "       [ 0.02244],\n",
       "       [ 0.0171 ]], dtype=float32)"
      ]
     },
     "execution_count": 40,
     "metadata": {},
     "output_type": "execute_result"
    }
   ],
   "source": [
    "# Predictions for the validation set\n",
    "m.predict()"
   ]
  },
  {
   "cell_type": "code",
   "execution_count": 41,
   "metadata": {
    "ExecuteTime": {
     "end_time": "2017-11-28T22:24:14.449151Z",
     "start_time": "2017-11-28T22:24:14.436566Z"
    }
   },
   "outputs": [
    {
     "data": {
      "text/plain": [
       "MixedInputModel (\n",
       "  (embs): ModuleList (\n",
       "    (0): Embedding(6, 3)\n",
       "    (1): Embedding(4, 2)\n",
       "    (2): Embedding(9, 5)\n",
       "    (3): Embedding(14, 7)\n",
       "    (4): Embedding(4, 2)\n",
       "    (5): Embedding(4, 2)\n",
       "    (6): Embedding(11, 6)\n",
       "    (7): Embedding(4, 2)\n",
       "    (8): Embedding(19, 10)\n",
       "    (9): Embedding(4, 2)\n",
       "    (10): Embedding(3, 2)\n",
       "    (11): Embedding(7, 4)\n",
       "    (12): Embedding(4, 2)\n",
       "    (13): Embedding(105, 53)\n",
       "    (14): Embedding(3, 2)\n",
       "    (15): Embedding(3, 2)\n",
       "    (16): Embedding(3, 2)\n",
       "    (17): Embedding(3, 2)\n",
       "    (18): Embedding(3, 2)\n",
       "    (19): Embedding(3, 2)\n",
       "    (20): Embedding(3, 2)\n",
       "    (21): Embedding(3, 2)\n",
       "    (22): Embedding(3, 2)\n",
       "    (23): Embedding(3, 2)\n",
       "    (24): Embedding(3, 2)\n",
       "    (25): Embedding(3, 2)\n",
       "    (26): Embedding(3, 2)\n",
       "    (27): Embedding(3, 2)\n",
       "    (28): Embedding(3, 2)\n",
       "    (29): Embedding(3, 2)\n",
       "    (30): Embedding(3, 2)\n",
       "  )\n",
       "  (lins): ModuleList (\n",
       "    (0): Linear (163 -> 1024)\n",
       "    (1): Linear (1024 -> 512)\n",
       "  )\n",
       "  (bns): ModuleList (\n",
       "    (0): BatchNorm1d(1024, eps=1e-05, momentum=0.1, affine=True)\n",
       "    (1): BatchNorm1d(512, eps=1e-05, momentum=0.1, affine=True)\n",
       "  )\n",
       "  (outp): Linear (512 -> 1)\n",
       "  (emb_drop): Dropout (p = 0.01)\n",
       "  (drops): ModuleList (\n",
       "    (0): Dropout (p = 0.15)\n",
       "    (1): Dropout (p = 0.15)\n",
       "  )\n",
       "  (bn): BatchNorm1d(27, eps=1e-05, momentum=0.1, affine=True)\n",
       ")"
      ]
     },
     "execution_count": 41,
     "metadata": {},
     "output_type": "execute_result"
    }
   ],
   "source": [
    "m"
   ]
  },
  {
   "cell_type": "markdown",
   "metadata": {},
   "source": [
    "## Prediction"
   ]
  },
  {
   "cell_type": "code",
   "execution_count": 42,
   "metadata": {
    "ExecuteTime": {
     "end_time": "2017-11-28T22:24:14.465703Z",
     "start_time": "2017-11-28T22:24:14.450144Z"
    }
   },
   "outputs": [],
   "source": [
    "m.save('val0')"
   ]
  },
  {
   "cell_type": "code",
   "execution_count": 43,
   "metadata": {
    "ExecuteTime": {
     "end_time": "2017-11-28T22:24:14.481863Z",
     "start_time": "2017-11-28T22:24:14.466807Z"
    }
   },
   "outputs": [],
   "source": [
    "m.load('val0')"
   ]
  },
  {
   "cell_type": "code",
   "execution_count": 44,
   "metadata": {
    "ExecuteTime": {
     "end_time": "2017-11-28T22:24:14.538281Z",
     "start_time": "2017-11-28T22:24:14.482976Z"
    }
   },
   "outputs": [],
   "source": [
    "x,y=m.predict_with_targs()"
   ]
  },
  {
   "cell_type": "code",
   "execution_count": 45,
   "metadata": {
    "ExecuteTime": {
     "end_time": "2017-11-28T22:24:14.553356Z",
     "start_time": "2017-11-28T22:24:14.539353Z"
    }
   },
   "outputs": [
    {
     "data": {
      "text/plain": [
       "0.22491474879416606"
      ]
     },
     "execution_count": 45,
     "metadata": {},
     "output_type": "execute_result"
    }
   ],
   "source": [
    "gini_metric(x,y)"
   ]
  },
  {
   "cell_type": "code",
   "execution_count": 46,
   "metadata": {
    "ExecuteTime": {
     "end_time": "2017-11-28T22:24:23.458532Z",
     "start_time": "2017-11-28T22:24:14.554375Z"
    }
   },
   "outputs": [
    {
     "name": "stdout",
     "output_type": "stream",
     "text": [
      "\r",
      " 30%|███       | 693/2302 [00:20<00:46, 34.62it/s, loss=0.0346]"
     ]
    }
   ],
   "source": [
    "pred_test=m.predict(True)"
   ]
  },
  {
   "cell_type": "code",
   "execution_count": 47,
   "metadata": {
    "ExecuteTime": {
     "end_time": "2017-11-28T22:24:23.472792Z",
     "start_time": "2017-11-28T22:24:23.459831Z"
    }
   },
   "outputs": [],
   "source": [
    "# add a predictions column to the test_df\n",
    "test_df['pred_target']=pred_test"
   ]
  },
  {
   "cell_type": "code",
   "execution_count": 48,
   "metadata": {
    "ExecuteTime": {
     "end_time": "2017-11-28T22:24:23.487438Z",
     "start_time": "2017-11-28T22:24:23.474045Z"
    }
   },
   "outputs": [
    {
     "data": {
      "text/plain": [
       "0    0.015805\n",
       "1    0.022001\n",
       "2    0.018904\n",
       "3    0.012918\n",
       "4    0.029688\n",
       "Name: pred_target, dtype: float32"
      ]
     },
     "execution_count": 48,
     "metadata": {},
     "output_type": "execute_result"
    }
   ],
   "source": [
    "test_df['pred_target'][:5]"
   ]
  },
  {
   "cell_type": "markdown",
   "metadata": {},
   "source": [
    "## Analyze"
   ]
  },
  {
   "cell_type": "code",
   "execution_count": 49,
   "metadata": {
    "ExecuteTime": {
     "end_time": "2017-11-28T22:24:23.506033Z",
     "start_time": "2017-11-28T22:24:23.488513Z"
    }
   },
   "outputs": [
    {
     "data": {
      "text/plain": [
       "(0.23114759, -0.045763865)"
      ]
     },
     "execution_count": 49,
     "metadata": {},
     "output_type": "execute_result"
    }
   ],
   "source": [
    "test_df.pred_target.max(), test_df.pred_target.min()"
   ]
  },
  {
   "cell_type": "code",
   "execution_count": 50,
   "metadata": {
    "ExecuteTime": {
     "end_time": "2017-11-28T22:24:23.614655Z",
     "start_time": "2017-11-28T22:24:23.507171Z"
    }
   },
   "outputs": [
    {
     "data": {
      "text/html": [
       "<div>\n",
       "<style scoped>\n",
       "    .dataframe tbody tr th:only-of-type {\n",
       "        vertical-align: middle;\n",
       "    }\n",
       "\n",
       "    .dataframe tbody tr th {\n",
       "        vertical-align: top;\n",
       "    }\n",
       "\n",
       "    .dataframe thead th {\n",
       "        text-align: right;\n",
       "    }\n",
       "</style>\n",
       "<table border=\"1\" class=\"dataframe\">\n",
       "  <thead>\n",
       "    <tr style=\"text-align: right;\">\n",
       "      <th></th>\n",
       "      <th>id</th>\n",
       "      <th>ps_ind_01</th>\n",
       "      <th>ps_ind_02_cat</th>\n",
       "      <th>ps_ind_03</th>\n",
       "      <th>ps_ind_04_cat</th>\n",
       "      <th>ps_ind_05_cat</th>\n",
       "      <th>ps_ind_06_bin</th>\n",
       "      <th>ps_ind_07_bin</th>\n",
       "      <th>ps_ind_08_bin</th>\n",
       "      <th>ps_ind_09_bin</th>\n",
       "      <th>...</th>\n",
       "      <th>ps_calc_12</th>\n",
       "      <th>ps_calc_13</th>\n",
       "      <th>ps_calc_14</th>\n",
       "      <th>ps_calc_15_bin</th>\n",
       "      <th>ps_calc_16_bin</th>\n",
       "      <th>ps_calc_17_bin</th>\n",
       "      <th>ps_calc_18_bin</th>\n",
       "      <th>ps_calc_19_bin</th>\n",
       "      <th>ps_calc_20_bin</th>\n",
       "      <th>pred_target</th>\n",
       "    </tr>\n",
       "  </thead>\n",
       "  <tbody>\n",
       "    <tr>\n",
       "      <th>273834</th>\n",
       "      <td>-0.669384</td>\n",
       "      <td>-0.453868</td>\n",
       "      <td>2</td>\n",
       "      <td>0.583978</td>\n",
       "      <td>2</td>\n",
       "      <td>8</td>\n",
       "      <td>1</td>\n",
       "      <td>2</td>\n",
       "      <td>1</td>\n",
       "      <td>1</td>\n",
       "      <td>...</td>\n",
       "      <td>-0.367359</td>\n",
       "      <td>1.255373</td>\n",
       "      <td>0.895991</td>\n",
       "      <td>2</td>\n",
       "      <td>1</td>\n",
       "      <td>2</td>\n",
       "      <td>1</td>\n",
       "      <td>1</td>\n",
       "      <td>1</td>\n",
       "      <td>0.231148</td>\n",
       "    </tr>\n",
       "    <tr>\n",
       "      <th>260327</th>\n",
       "      <td>-0.721633</td>\n",
       "      <td>0.554304</td>\n",
       "      <td>3</td>\n",
       "      <td>-1.638327</td>\n",
       "      <td>2</td>\n",
       "      <td>1</td>\n",
       "      <td>1</td>\n",
       "      <td>1</td>\n",
       "      <td>2</td>\n",
       "      <td>1</td>\n",
       "      <td>...</td>\n",
       "      <td>-1.198640</td>\n",
       "      <td>0.665362</td>\n",
       "      <td>-0.560329</td>\n",
       "      <td>1</td>\n",
       "      <td>2</td>\n",
       "      <td>1</td>\n",
       "      <td>2</td>\n",
       "      <td>1</td>\n",
       "      <td>1</td>\n",
       "      <td>0.220656</td>\n",
       "    </tr>\n",
       "    <tr>\n",
       "      <th>605236</th>\n",
       "      <td>0.617500</td>\n",
       "      <td>1.562477</td>\n",
       "      <td>2</td>\n",
       "      <td>0.213594</td>\n",
       "      <td>2</td>\n",
       "      <td>3</td>\n",
       "      <td>1</td>\n",
       "      <td>2</td>\n",
       "      <td>1</td>\n",
       "      <td>1</td>\n",
       "      <td>...</td>\n",
       "      <td>-0.367359</td>\n",
       "      <td>3.025403</td>\n",
       "      <td>0.167831</td>\n",
       "      <td>2</td>\n",
       "      <td>2</td>\n",
       "      <td>1</td>\n",
       "      <td>1</td>\n",
       "      <td>2</td>\n",
       "      <td>1</td>\n",
       "      <td>0.215952</td>\n",
       "    </tr>\n",
       "    <tr>\n",
       "      <th>153604</th>\n",
       "      <td>-1.136613</td>\n",
       "      <td>-0.453868</td>\n",
       "      <td>3</td>\n",
       "      <td>-1.638327</td>\n",
       "      <td>3</td>\n",
       "      <td>1</td>\n",
       "      <td>1</td>\n",
       "      <td>2</td>\n",
       "      <td>1</td>\n",
       "      <td>1</td>\n",
       "      <td>...</td>\n",
       "      <td>-1.198640</td>\n",
       "      <td>0.075352</td>\n",
       "      <td>0.531911</td>\n",
       "      <td>1</td>\n",
       "      <td>2</td>\n",
       "      <td>1</td>\n",
       "      <td>1</td>\n",
       "      <td>2</td>\n",
       "      <td>1</td>\n",
       "      <td>0.208758</td>\n",
       "    </tr>\n",
       "    <tr>\n",
       "      <th>363211</th>\n",
       "      <td>-0.321721</td>\n",
       "      <td>1.058390</td>\n",
       "      <td>2</td>\n",
       "      <td>0.213594</td>\n",
       "      <td>2</td>\n",
       "      <td>3</td>\n",
       "      <td>1</td>\n",
       "      <td>1</td>\n",
       "      <td>2</td>\n",
       "      <td>1</td>\n",
       "      <td>...</td>\n",
       "      <td>0.463923</td>\n",
       "      <td>-1.694679</td>\n",
       "      <td>0.895991</td>\n",
       "      <td>1</td>\n",
       "      <td>2</td>\n",
       "      <td>2</td>\n",
       "      <td>2</td>\n",
       "      <td>1</td>\n",
       "      <td>1</td>\n",
       "      <td>0.204727</td>\n",
       "    </tr>\n",
       "  </tbody>\n",
       "</table>\n",
       "<p>5 rows × 59 columns</p>\n",
       "</div>"
      ],
      "text/plain": [
       "              id  ps_ind_01 ps_ind_02_cat  ps_ind_03 ps_ind_04_cat  \\\n",
       "273834 -0.669384  -0.453868             2   0.583978             2   \n",
       "260327 -0.721633   0.554304             3  -1.638327             2   \n",
       "605236  0.617500   1.562477             2   0.213594             2   \n",
       "153604 -1.136613  -0.453868             3  -1.638327             3   \n",
       "363211 -0.321721   1.058390             2   0.213594             2   \n",
       "\n",
       "       ps_ind_05_cat ps_ind_06_bin ps_ind_07_bin ps_ind_08_bin ps_ind_09_bin  \\\n",
       "273834             8             1             2             1             1   \n",
       "260327             1             1             1             2             1   \n",
       "605236             3             1             2             1             1   \n",
       "153604             1             1             2             1             1   \n",
       "363211             3             1             1             2             1   \n",
       "\n",
       "           ...      ps_calc_12 ps_calc_13 ps_calc_14 ps_calc_15_bin  \\\n",
       "273834     ...       -0.367359   1.255373   0.895991              2   \n",
       "260327     ...       -1.198640   0.665362  -0.560329              1   \n",
       "605236     ...       -0.367359   3.025403   0.167831              2   \n",
       "153604     ...       -1.198640   0.075352   0.531911              1   \n",
       "363211     ...        0.463923  -1.694679   0.895991              1   \n",
       "\n",
       "        ps_calc_16_bin  ps_calc_17_bin ps_calc_18_bin ps_calc_19_bin  \\\n",
       "273834               1               2              1              1   \n",
       "260327               2               1              2              1   \n",
       "605236               2               1              1              2   \n",
       "153604               2               1              1              2   \n",
       "363211               2               2              2              1   \n",
       "\n",
       "       ps_calc_20_bin  pred_target  \n",
       "273834              1     0.231148  \n",
       "260327              1     0.220656  \n",
       "605236              1     0.215952  \n",
       "153604              1     0.208758  \n",
       "363211              1     0.204727  \n",
       "\n",
       "[5 rows x 59 columns]"
      ]
     },
     "execution_count": 50,
     "metadata": {},
     "output_type": "execute_result"
    }
   ],
   "source": [
    "test_df.nlargest(5, 'pred_target')"
   ]
  },
  {
   "cell_type": "code",
   "execution_count": 51,
   "metadata": {
    "ExecuteTime": {
     "end_time": "2017-11-28T22:24:23.687192Z",
     "start_time": "2017-11-28T22:24:23.615821Z"
    }
   },
   "outputs": [
    {
     "data": {
      "text/html": [
       "<div>\n",
       "<style scoped>\n",
       "    .dataframe tbody tr th:only-of-type {\n",
       "        vertical-align: middle;\n",
       "    }\n",
       "\n",
       "    .dataframe tbody tr th {\n",
       "        vertical-align: top;\n",
       "    }\n",
       "\n",
       "    .dataframe thead th {\n",
       "        text-align: right;\n",
       "    }\n",
       "</style>\n",
       "<table border=\"1\" class=\"dataframe\">\n",
       "  <thead>\n",
       "    <tr style=\"text-align: right;\">\n",
       "      <th></th>\n",
       "      <th>id</th>\n",
       "      <th>ps_ind_01</th>\n",
       "      <th>ps_ind_02_cat</th>\n",
       "      <th>ps_ind_03</th>\n",
       "      <th>ps_ind_04_cat</th>\n",
       "      <th>ps_ind_05_cat</th>\n",
       "      <th>ps_ind_06_bin</th>\n",
       "      <th>ps_ind_07_bin</th>\n",
       "      <th>ps_ind_08_bin</th>\n",
       "      <th>ps_ind_09_bin</th>\n",
       "      <th>...</th>\n",
       "      <th>ps_calc_12</th>\n",
       "      <th>ps_calc_13</th>\n",
       "      <th>ps_calc_14</th>\n",
       "      <th>ps_calc_15_bin</th>\n",
       "      <th>ps_calc_16_bin</th>\n",
       "      <th>ps_calc_17_bin</th>\n",
       "      <th>ps_calc_18_bin</th>\n",
       "      <th>ps_calc_19_bin</th>\n",
       "      <th>ps_calc_20_bin</th>\n",
       "      <th>pred_target</th>\n",
       "    </tr>\n",
       "  </thead>\n",
       "  <tbody>\n",
       "    <tr>\n",
       "      <th>889828</th>\n",
       "      <td>1.721888</td>\n",
       "      <td>-0.453868</td>\n",
       "      <td>2</td>\n",
       "      <td>1.324746</td>\n",
       "      <td>2</td>\n",
       "      <td>2</td>\n",
       "      <td>2</td>\n",
       "      <td>1</td>\n",
       "      <td>1</td>\n",
       "      <td>1</td>\n",
       "      <td>...</td>\n",
       "      <td>0.463923</td>\n",
       "      <td>0.075352</td>\n",
       "      <td>2.716391</td>\n",
       "      <td>1</td>\n",
       "      <td>1</td>\n",
       "      <td>2</td>\n",
       "      <td>2</td>\n",
       "      <td>1</td>\n",
       "      <td>1</td>\n",
       "      <td>-0.045764</td>\n",
       "    </tr>\n",
       "    <tr>\n",
       "      <th>813982</th>\n",
       "      <td>1.427967</td>\n",
       "      <td>-0.453868</td>\n",
       "      <td>2</td>\n",
       "      <td>0.583978</td>\n",
       "      <td>2</td>\n",
       "      <td>2</td>\n",
       "      <td>2</td>\n",
       "      <td>1</td>\n",
       "      <td>1</td>\n",
       "      <td>1</td>\n",
       "      <td>...</td>\n",
       "      <td>2.957769</td>\n",
       "      <td>1.255373</td>\n",
       "      <td>0.895991</td>\n",
       "      <td>1</td>\n",
       "      <td>2</td>\n",
       "      <td>1</td>\n",
       "      <td>1</td>\n",
       "      <td>1</td>\n",
       "      <td>1</td>\n",
       "      <td>-0.040055</td>\n",
       "    </tr>\n",
       "    <tr>\n",
       "      <th>682511</th>\n",
       "      <td>0.917502</td>\n",
       "      <td>1.562477</td>\n",
       "      <td>2</td>\n",
       "      <td>0.213594</td>\n",
       "      <td>2</td>\n",
       "      <td>3</td>\n",
       "      <td>2</td>\n",
       "      <td>1</td>\n",
       "      <td>1</td>\n",
       "      <td>1</td>\n",
       "      <td>...</td>\n",
       "      <td>-0.367359</td>\n",
       "      <td>0.075352</td>\n",
       "      <td>-0.924409</td>\n",
       "      <td>1</td>\n",
       "      <td>2</td>\n",
       "      <td>1</td>\n",
       "      <td>2</td>\n",
       "      <td>1</td>\n",
       "      <td>1</td>\n",
       "      <td>-0.037608</td>\n",
       "    </tr>\n",
       "    <tr>\n",
       "      <th>112522</th>\n",
       "      <td>-1.295712</td>\n",
       "      <td>1.058390</td>\n",
       "      <td>2</td>\n",
       "      <td>2.065515</td>\n",
       "      <td>2</td>\n",
       "      <td>2</td>\n",
       "      <td>2</td>\n",
       "      <td>1</td>\n",
       "      <td>1</td>\n",
       "      <td>1</td>\n",
       "      <td>...</td>\n",
       "      <td>0.463923</td>\n",
       "      <td>-0.514659</td>\n",
       "      <td>1.624151</td>\n",
       "      <td>1</td>\n",
       "      <td>2</td>\n",
       "      <td>1</td>\n",
       "      <td>2</td>\n",
       "      <td>1</td>\n",
       "      <td>1</td>\n",
       "      <td>-0.036175</td>\n",
       "    </tr>\n",
       "    <tr>\n",
       "      <th>890454</th>\n",
       "      <td>1.724261</td>\n",
       "      <td>0.050218</td>\n",
       "      <td>2</td>\n",
       "      <td>1.695130</td>\n",
       "      <td>3</td>\n",
       "      <td>2</td>\n",
       "      <td>2</td>\n",
       "      <td>1</td>\n",
       "      <td>1</td>\n",
       "      <td>1</td>\n",
       "      <td>...</td>\n",
       "      <td>-1.198640</td>\n",
       "      <td>0.075352</td>\n",
       "      <td>1.260071</td>\n",
       "      <td>1</td>\n",
       "      <td>2</td>\n",
       "      <td>1</td>\n",
       "      <td>2</td>\n",
       "      <td>1</td>\n",
       "      <td>1</td>\n",
       "      <td>-0.036003</td>\n",
       "    </tr>\n",
       "  </tbody>\n",
       "</table>\n",
       "<p>5 rows × 59 columns</p>\n",
       "</div>"
      ],
      "text/plain": [
       "              id  ps_ind_01 ps_ind_02_cat  ps_ind_03 ps_ind_04_cat  \\\n",
       "889828  1.721888  -0.453868             2   1.324746             2   \n",
       "813982  1.427967  -0.453868             2   0.583978             2   \n",
       "682511  0.917502   1.562477             2   0.213594             2   \n",
       "112522 -1.295712   1.058390             2   2.065515             2   \n",
       "890454  1.724261   0.050218             2   1.695130             3   \n",
       "\n",
       "       ps_ind_05_cat ps_ind_06_bin ps_ind_07_bin ps_ind_08_bin ps_ind_09_bin  \\\n",
       "889828             2             2             1             1             1   \n",
       "813982             2             2             1             1             1   \n",
       "682511             3             2             1             1             1   \n",
       "112522             2             2             1             1             1   \n",
       "890454             2             2             1             1             1   \n",
       "\n",
       "           ...      ps_calc_12 ps_calc_13 ps_calc_14 ps_calc_15_bin  \\\n",
       "889828     ...        0.463923   0.075352   2.716391              1   \n",
       "813982     ...        2.957769   1.255373   0.895991              1   \n",
       "682511     ...       -0.367359   0.075352  -0.924409              1   \n",
       "112522     ...        0.463923  -0.514659   1.624151              1   \n",
       "890454     ...       -1.198640   0.075352   1.260071              1   \n",
       "\n",
       "        ps_calc_16_bin  ps_calc_17_bin ps_calc_18_bin ps_calc_19_bin  \\\n",
       "889828               1               2              2              1   \n",
       "813982               2               1              1              1   \n",
       "682511               2               1              2              1   \n",
       "112522               2               1              2              1   \n",
       "890454               2               1              2              1   \n",
       "\n",
       "       ps_calc_20_bin  pred_target  \n",
       "889828              1    -0.045764  \n",
       "813982              1    -0.040055  \n",
       "682511              1    -0.037608  \n",
       "112522              1    -0.036175  \n",
       "890454              1    -0.036003  \n",
       "\n",
       "[5 rows x 59 columns]"
      ]
     },
     "execution_count": 51,
     "metadata": {},
     "output_type": "execute_result"
    }
   ],
   "source": [
    "test_df.nsmallest(5, 'pred_target')"
   ]
  },
  {
   "cell_type": "markdown",
   "metadata": {},
   "source": [
    "## Submission"
   ]
  },
  {
   "cell_type": "code",
   "execution_count": 52,
   "metadata": {
    "ExecuteTime": {
     "end_time": "2017-11-28T22:24:23.710380Z",
     "start_time": "2017-11-28T22:24:23.688423Z"
    }
   },
   "outputs": [
    {
     "data": {
      "text/html": [
       "<div>\n",
       "<style scoped>\n",
       "    .dataframe tbody tr th:only-of-type {\n",
       "        vertical-align: middle;\n",
       "    }\n",
       "\n",
       "    .dataframe tbody tr th {\n",
       "        vertical-align: top;\n",
       "    }\n",
       "\n",
       "    .dataframe thead th {\n",
       "        text-align: right;\n",
       "    }\n",
       "</style>\n",
       "<table border=\"1\" class=\"dataframe\">\n",
       "  <thead>\n",
       "    <tr style=\"text-align: right;\">\n",
       "      <th></th>\n",
       "      <th>id</th>\n",
       "      <th>target</th>\n",
       "    </tr>\n",
       "  </thead>\n",
       "  <tbody>\n",
       "    <tr>\n",
       "      <th>0</th>\n",
       "      <td>0</td>\n",
       "      <td>0.015805</td>\n",
       "    </tr>\n",
       "    <tr>\n",
       "      <th>1</th>\n",
       "      <td>1</td>\n",
       "      <td>0.022001</td>\n",
       "    </tr>\n",
       "    <tr>\n",
       "      <th>2</th>\n",
       "      <td>2</td>\n",
       "      <td>0.018904</td>\n",
       "    </tr>\n",
       "    <tr>\n",
       "      <th>3</th>\n",
       "      <td>3</td>\n",
       "      <td>0.012918</td>\n",
       "    </tr>\n",
       "    <tr>\n",
       "      <th>4</th>\n",
       "      <td>4</td>\n",
       "      <td>0.029688</td>\n",
       "    </tr>\n",
       "    <tr>\n",
       "      <th>5</th>\n",
       "      <td>5</td>\n",
       "      <td>0.041468</td>\n",
       "    </tr>\n",
       "    <tr>\n",
       "      <th>6</th>\n",
       "      <td>6</td>\n",
       "      <td>0.025827</td>\n",
       "    </tr>\n",
       "    <tr>\n",
       "      <th>7</th>\n",
       "      <td>8</td>\n",
       "      <td>0.021399</td>\n",
       "    </tr>\n",
       "    <tr>\n",
       "      <th>8</th>\n",
       "      <td>10</td>\n",
       "      <td>0.074200</td>\n",
       "    </tr>\n",
       "    <tr>\n",
       "      <th>9</th>\n",
       "      <td>11</td>\n",
       "      <td>0.043967</td>\n",
       "    </tr>\n",
       "  </tbody>\n",
       "</table>\n",
       "</div>"
      ],
      "text/plain": [
       "   id    target\n",
       "0   0  0.015805\n",
       "1   1  0.022001\n",
       "2   2  0.018904\n",
       "3   3  0.012918\n",
       "4   4  0.029688\n",
       "5   5  0.041468\n",
       "6   6  0.025827\n",
       "7   8  0.021399\n",
       "8  10  0.074200\n",
       "9  11  0.043967"
      ]
     },
     "execution_count": 52,
     "metadata": {},
     "output_type": "execute_result"
    }
   ],
   "source": [
    "## Sets up the test use\n",
    "submission = pd.DataFrame({'id': test_data_df.id, 'target': test_df.pred_target})\n",
    "submission.id = submission.id.astype(int)\n",
    "# Shows 5 to ensure formatting is correct\n",
    "submission[:10]"
   ]
  },
  {
   "cell_type": "code",
   "execution_count": 53,
   "metadata": {
    "ExecuteTime": {
     "end_time": "2017-11-28T22:24:23.723836Z",
     "start_time": "2017-11-28T22:24:23.711546Z"
    }
   },
   "outputs": [],
   "source": [
    "# Makes the submission name out of folders\n",
    "path3 = PATH +'submits/'\n",
    "## labels submissions in order\n",
    "numFiles=len(os.listdir(path3))\n",
    "subm_name = 'submission'+str(numFiles)+'.csv.gz'"
   ]
  },
  {
   "cell_type": "code",
   "execution_count": 54,
   "metadata": {
    "ExecuteTime": {
     "end_time": "2017-11-28T22:24:30.677300Z",
     "start_time": "2017-11-28T22:24:23.724990Z"
    }
   },
   "outputs": [
    {
     "name": "stdout",
     "output_type": "stream",
     "text": [
      "http://localhost:8888/view/data/PortoDriver/submits/submission24.csv.gz\n"
     ]
    }
   ],
   "source": [
    "## prints it out to downloaded\n",
    "submission.to_csv((path3+subm_name), index=False, compression='gzip')\n",
    "print ('http://localhost:8888/view/data/PortoDriver/submits/'+subm_name)"
   ]
  },
  {
   "cell_type": "code",
   "execution_count": null,
   "metadata": {},
   "outputs": [],
   "source": []
  }
 ],
 "metadata": {
  "kernelspec": {
   "display_name": "Python 3",
   "language": "python",
   "name": "python3"
  },
  "language_info": {
   "codemirror_mode": {
    "name": "ipython",
    "version": 3
   },
   "file_extension": ".py",
   "mimetype": "text/x-python",
   "name": "python",
   "nbconvert_exporter": "python",
   "pygments_lexer": "ipython3",
   "version": "3.6.3"
  },
  "latex_envs": {
   "LaTeX_envs_menu_present": true,
   "autocomplete": true,
   "bibliofile": "biblio.bib",
   "cite_by": "apalike",
   "current_citInitial": 1,
   "eqLabelWithNumbers": true,
   "eqNumInitial": 1,
   "hotkeys": {
    "equation": "Ctrl-E",
    "itemize": "Ctrl-I"
   },
   "labels_anchors": false,
   "latex_user_defs": false,
   "report_style_numbering": false,
   "user_envs_cfg": false
  },
  "notify_time": "10"
 },
 "nbformat": 4,
 "nbformat_minor": 2
}
